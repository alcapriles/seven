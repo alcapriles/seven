{
 "cells": [
  {
   "cell_type": "markdown",
   "metadata": {},
   "source": [
    "### Exercícios do capítulo 24"
   ]
  },
  {
   "cell_type": "code",
   "execution_count": 1,
   "metadata": {},
   "outputs": [],
   "source": [
    "import math\n",
    "import matplotlib.pyplot as plt\n",
    "import numpy as np\n",
    "import pandas as pd\n",
    "%matplotlib inline"
   ]
  },
  {
   "cell_type": "code",
   "execution_count": 2,
   "metadata": {},
   "outputs": [],
   "source": [
    "def trap(f,a,b):\n",
    "    return (b-a)*(f[0]+f[1])/2\n",
    "\n",
    "\n",
    "\n",
    "def simpson13(f,a,b):\n",
    "    \n",
    "    s = f[0] + 4*f[1] + f[2]  \n",
    "    s *= (b-a)/6\n",
    "    \n",
    "    \n",
    "    #print(\"pontos usados:\")\n",
    "    #print(\"a\")\n",
    "    #print(a)\n",
    "    #print(\"ponto médio\")\n",
    "    #print(((b-a)/2))\n",
    "    #print(\"b\")\n",
    "    #print(b)\n",
    "    \n",
    "    \n",
    "    return s\n",
    "\n",
    "\n",
    "\n",
    "\n",
    "\n",
    "def simpson38(f,a,b):\n",
    "    \n",
    "    s = f[0] + 3*f[1] + 3*f[2] + f[3]\n",
    "    s *= (b-a)/8\n",
    "    \n",
    "    #print(\"pontos usados:\")\n",
    "    #print(\"a\")\n",
    "    #print(a)\n",
    "    #print(\"ponto médio 1\")\n",
    "    #print(a +  (b-a)/3 )\n",
    "    #print(\"ponto médio 2\")\n",
    "    #print(a  +  (2*(b-a)/3))\n",
    "    #print(\"b\")\n",
    "    #print(b)\n",
    "\n",
    "    return s"
   ]
  },
  {
   "cell_type": "markdown",
   "metadata": {},
   "source": [
    "<img src='241.JPG'>"
   ]
  },
  {
   "cell_type": "markdown",
   "metadata": {},
   "source": [
    "<img src='242.JPG'>"
   ]
  },
  {
   "cell_type": "markdown",
   "metadata": {},
   "source": [
    "Alterando para escala de 24h apenas para plotar o gráfico, para o gráfico fazer mais sentido:"
   ]
  },
  {
   "cell_type": "code",
   "execution_count": 3,
   "metadata": {},
   "outputs": [],
   "source": [
    "h = [0,2,4,5,6,7,8,9,10.5,11.5,12.5,14,16,17,18,19,20,21,22,23,24]\n",
    "f = [2,2,0,2,6,7,23,11,4,11,12,8,7,26,20,10,8,10,8,7,3]"
   ]
  },
  {
   "cell_type": "code",
   "execution_count": 4,
   "metadata": {},
   "outputs": [
    {
     "data": {
      "image/png": "[encoded data removed]",
      "text/plain": [
       "<matplotlib.figure.Figure at 0x2913ee82d68>"
      ]
     },
     "metadata": {},
     "output_type": "display_data"
    }
   ],
   "source": [
    "plt.figure(figsize=(7,7))\n",
    "plt.plot(h,f, color='blue')\n",
    "plt.grid()\n",
    "plt.show()"
   ]
  },
  {
   "cell_type": "markdown",
   "metadata": {},
   "source": [
    "Retornando à escala original:"
   ]
  },
  {
   "cell_type": "markdown",
   "metadata": {},
   "source": [
    "h = [0,2,4,5,6,7,8,9,10.5,11.5,12.5,2,4,5,6,7,8,9,10,11,12]\n",
    "\n",
    "\n",
    "\n",
    "\n",
    "\n",
    "\n",
    "f = [2,2,0,2,6,7,23,11,4,11,12,8,7,26,20,10,8,10,8,7,3]"
   ]
  },
  {
   "cell_type": "code",
   "execution_count": 5,
   "metadata": {},
   "outputs": [],
   "source": [
    "taxas = []"
   ]
  },
  {
   "cell_type": "code",
   "execution_count": 6,
   "metadata": {},
   "outputs": [
    {
     "name": "stdout",
     "output_type": "stream",
     "text": [
      "6.666666666666666\n"
     ]
    }
   ],
   "source": [
    "f = [2,2,0]\n",
    "\n",
    "res = simpson13(f, 0, 4)\n",
    "print(res)\n",
    "taxas.append(res)"
   ]
  },
  {
   "cell_type": "code",
   "execution_count": 7,
   "metadata": {},
   "outputs": [
    {
     "name": "stdout",
     "output_type": "stream",
     "text": [
      "4.666666666666666\n"
     ]
    }
   ],
   "source": [
    "f = [0,2,6]\n",
    "\n",
    "res = simpson13(f, 4, 6)\n",
    "print(res)\n",
    "taxas.append(res)"
   ]
  },
  {
   "cell_type": "code",
   "execution_count": 8,
   "metadata": {},
   "outputs": [
    {
     "name": "stdout",
     "output_type": "stream",
     "text": [
      "40.125\n"
     ]
    }
   ],
   "source": [
    "f = [6,7,23,11]\n",
    "\n",
    "res = simpson38(f, 6, 9)\n",
    "print(res)\n",
    "taxas.append(res)"
   ]
  },
  {
   "cell_type": "code",
   "execution_count": 9,
   "metadata": {},
   "outputs": [
    {
     "name": "stdout",
     "output_type": "stream",
     "text": [
      "11.25\n"
     ]
    }
   ],
   "source": [
    "f = [11,4]\n",
    "\n",
    "res = trap(f, 9, 10.5)\n",
    "print(res)\n",
    "taxas.append(res)"
   ]
  },
  {
   "cell_type": "code",
   "execution_count": 10,
   "metadata": {},
   "outputs": [
    {
     "name": "stdout",
     "output_type": "stream",
     "text": [
      "20.0\n"
     ]
    }
   ],
   "source": [
    "f = [4,11,12]\n",
    "\n",
    "res = simpson13(f, 10.5, 12.5)\n",
    "print(res)\n",
    "taxas.append(res)"
   ]
  },
  {
   "cell_type": "code",
   "execution_count": 11,
   "metadata": {},
   "outputs": [
    {
     "name": "stdout",
     "output_type": "stream",
     "text": [
      "15.0\n"
     ]
    }
   ],
   "source": [
    "f = [12,8]\n",
    "\n",
    "res = trap(f, 12.5, 14)\n",
    "print(res)\n",
    "taxas.append(res)"
   ]
  },
  {
   "cell_type": "code",
   "execution_count": 12,
   "metadata": {},
   "outputs": [
    {
     "name": "stdout",
     "output_type": "stream",
     "text": [
      "15.0\n"
     ]
    }
   ],
   "source": [
    "f = [8,7]\n",
    "\n",
    "res = trap(f, 14, 16)\n",
    "print(res)\n",
    "taxas.append(res)"
   ]
  },
  {
   "cell_type": "code",
   "execution_count": 13,
   "metadata": {},
   "outputs": [
    {
     "name": "stdout",
     "output_type": "stream",
     "text": [
      "43.666666666666664\n"
     ]
    }
   ],
   "source": [
    "f = [7,26,20]\n",
    "\n",
    "res = simpson13(f, 16, 18)\n",
    "print(res)\n",
    "taxas.append(res)"
   ]
  },
  {
   "cell_type": "code",
   "execution_count": 14,
   "metadata": {},
   "outputs": [
    {
     "name": "stdout",
     "output_type": "stream",
     "text": [
      "22.666666666666664\n"
     ]
    }
   ],
   "source": [
    "f = [20,10,8]\n",
    "\n",
    "res = simpson13(f, 18, 20)\n",
    "print(res)\n",
    "taxas.append(res)"
   ]
  },
  {
   "cell_type": "code",
   "execution_count": 15,
   "metadata": {},
   "outputs": [
    {
     "name": "stdout",
     "output_type": "stream",
     "text": [
      "18.666666666666664\n"
     ]
    }
   ],
   "source": [
    "f = [8,10,8]\n",
    "\n",
    "res = simpson13(f, 20, 22)\n",
    "print(res)\n",
    "taxas.append(res)"
   ]
  },
  {
   "cell_type": "code",
   "execution_count": 16,
   "metadata": {},
   "outputs": [
    {
     "name": "stdout",
     "output_type": "stream",
     "text": [
      "13.0\n"
     ]
    }
   ],
   "source": [
    "f = [8,7,3]\n",
    "\n",
    "res = simpson13(f, 22, 24)\n",
    "print(res)\n",
    "taxas.append(res)"
   ]
  },
  {
   "cell_type": "code",
   "execution_count": 17,
   "metadata": {},
   "outputs": [
    {
     "name": "stdout",
     "output_type": "stream",
     "text": [
      "210.70833333333331\n"
     ]
    }
   ],
   "source": [
    "print(sum(taxas))"
   ]
  },
  {
   "cell_type": "markdown",
   "metadata": {},
   "source": [
    "### Portanto, o resultado da área da curva fica igual a 210.7083. (Unidade: horas*carros/(minuto))"
   ]
  },
  {
   "cell_type": "code",
   "execution_count": 18,
   "metadata": {},
   "outputs": [
    {
     "name": "stdout",
     "output_type": "stream",
     "text": [
      "8.779513888888888\n"
     ]
    }
   ],
   "source": [
    "print(sum(taxas)/24)"
   ]
  },
  {
   "cell_type": "markdown",
   "metadata": {},
   "source": [
    "## Portanto, dividindo o valor encontrado por 24 horas, o resultado da taxa fica igual a 8.77951 carros/minuto."
   ]
  },
  {
   "cell_type": "markdown",
   "metadata": {},
   "source": [
    "### Uma vez que o dia tem 24*60 minutos, o total de carros que passa na intersecção por dia é de:"
   ]
  },
  {
   "cell_type": "code",
   "execution_count": 20,
   "metadata": {},
   "outputs": [
    {
     "name": "stdout",
     "output_type": "stream",
     "text": [
      "12642.4944\n"
     ]
    }
   ],
   "source": [
    "print(8.77951*24*60)"
   ]
  },
  {
   "cell_type": "markdown",
   "metadata": {},
   "source": [
    "### 12642.4944\n",
    "### Uma vez que não existe 0,49 carro, aproxima-se para 12643 carros"
   ]
  },
  {
   "cell_type": "markdown",
   "metadata": {},
   "source": [
    "<img src='243.JPG'>"
   ]
  },
  {
   "cell_type": "markdown",
   "metadata": {},
   "source": [
    "<img src='244.JPG'>"
   ]
  },
  {
   "cell_type": "markdown",
   "metadata": {},
   "source": [
    "1481"
   ]
  },
  {
   "cell_type": "markdown",
   "metadata": {},
   "source": [
    "<img src='245.JPG'>"
   ]
  },
  {
   "cell_type": "markdown",
   "metadata": {},
   "source": [
    "### n = 5"
   ]
  },
  {
   "cell_type": "code",
   "execution_count": null,
   "metadata": {},
   "outputs": [],
   "source": []
  },
  {
   "cell_type": "code",
   "execution_count": null,
   "metadata": {},
   "outputs": [],
   "source": []
  },
  {
   "cell_type": "code",
   "execution_count": null,
   "metadata": {},
   "outputs": [],
   "source": []
  },
  {
   "cell_type": "code",
   "execution_count": null,
   "metadata": {},
   "outputs": [],
   "source": []
  }
 ],
 "metadata": {
  "kernelspec": {
   "display_name": "Python 3",
   "language": "python",
   "name": "python3"
  },
  "language_info": {
   "codemirror_mode": {
    "name": "ipython",
    "version": 3
   },
   "file_extension": ".py",
   "mimetype": "text/x-python",
   "name": "python",
   "nbconvert_exporter": "python",
   "pygments_lexer": "ipython3",
   "version": "3.6.4"
  }
 },
 "nbformat": 4,
 "nbformat_minor": 2
}
