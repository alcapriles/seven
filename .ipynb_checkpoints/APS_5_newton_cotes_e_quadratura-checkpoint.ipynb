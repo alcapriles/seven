{
 "cells": [
  {
   "cell_type": "code",
   "execution_count": 1,
   "metadata": {},
   "outputs": [],
   "source": [
    "import math\n",
    "import numpy as np\n",
    "import matplotlib.pyplot as plt\n",
    "\n",
    "%matplotlib inline"
   ]
  },
  {
   "cell_type": "markdown",
   "metadata": {},
   "source": [
    "### 24.7"
   ]
  },
  {
   "cell_type": "markdown",
   "metadata": {},
   "source": [
    "<img src='aps5_1.JPG'>"
   ]
  },
  {
   "cell_type": "code",
   "execution_count": 2,
   "metadata": {},
   "outputs": [],
   "source": [
    "t = [0,  10, 20,  30,  45,  60,  75]\n",
    "V = [0.4,0.7,0.77,0.88,1.05,1.17,1.35]"
   ]
  },
  {
   "cell_type": "markdown",
   "metadata": {},
   "source": [
    "### diferença progressiva:"
   ]
  },
  {
   "cell_type": "code",
   "execution_count": 3,
   "metadata": {},
   "outputs": [
    {
     "name": "stdout",
     "output_type": "stream",
     "text": [
      "Q em t = 0:\n",
      "0.04149999999999998\n",
      "Q em t = 10:\n",
      "0.005000000000000027\n"
     ]
    }
   ],
   "source": [
    "print('Q em t = 0:')\n",
    "print((-0.77+(4*0.7)-(3*0.4))/(2*10))\n",
    "\n",
    "print('Q em t = 10:')\n",
    "print((-0.88+(4*0.77)-(3*0.7))/(2*10))"
   ]
  },
  {
   "cell_type": "markdown",
   "metadata": {},
   "source": [
    "### diferença regressiva:"
   ]
  },
  {
   "cell_type": "code",
   "execution_count": 4,
   "metadata": {},
   "outputs": [
    {
     "name": "stdout",
     "output_type": "stream",
     "text": [
      "Q em t = 75:\n",
      "0.014000000000000028\n",
      "Q em t = 60:\n",
      "0.006333333333333317\n"
     ]
    }
   ],
   "source": [
    "print('Q em t = 75:')\n",
    "print((1.05-(4*1.17)+(3*1.35))/(2*15))\n",
    "\n",
    "print('Q em t = 60:')\n",
    "print((0.88-(4*1.05)+(3*1.17))/(2*15))"
   ]
  },
  {
   "cell_type": "markdown",
   "metadata": {},
   "source": [
    "### diferença centrada:"
   ]
  },
  {
   "cell_type": "code",
   "execution_count": 5,
   "metadata": {},
   "outputs": [
    {
     "name": "stdout",
     "output_type": "stream",
     "text": [
      "Q em t = 45:\n",
      "0.0058\n",
      "Q em t = 30:\n",
      "0.005900000000000002\n",
      "Q em t = 20:\n",
      "0.0026333333333333356\n"
     ]
    }
   ],
   "source": [
    "print('Q em t = 45:')\n",
    "print((0.77-(8*0.88)+(8*1.17)-1.35)/(12*25))\n",
    "\n",
    "print('Q em t = 30:')\n",
    "print((0.7-(8*0.77)+(8*1.05)-1.17)/(12*25))\n",
    "\n",
    "print('Q em t = 20:')\n",
    "print((0.4-(8*0.7)+(8*0.88)-1.05)/(12*25))"
   ]
  },
  {
   "cell_type": "markdown",
   "metadata": {},
   "source": [
    "### 24.28"
   ]
  },
  {
   "cell_type": "markdown",
   "metadata": {},
   "source": [
    "<img src='aps5_6.JPG'>"
   ]
  },
  {
   "cell_type": "code",
   "execution_count": 6,
   "metadata": {},
   "outputs": [],
   "source": [
    "def f(t):\n",
    "    \n",
    "    return     (    5 * math.sin(2*t*(math.pi)) * math.e**(-1.25*t)     )**2"
   ]
  },
  {
   "cell_type": "markdown",
   "metadata": {},
   "source": [
    "### regra do trapézio"
   ]
  },
  {
   "cell_type": "code",
   "execution_count": 7,
   "metadata": {},
   "outputs": [],
   "source": [
    "def multiTrap(n,f,a,b):\n",
    "    s = 0\n",
    "    x = np.linspace(a,b,n+1).tolist()\n",
    "    for i in range(1,n):\n",
    "        s += f(x[i])\n",
    "    s *= 2\n",
    "    s += (f(x[0]) + f(x[n]))\n",
    "    s *= (b-a)/(2*n)\n",
    "    return s"
   ]
  },
  {
   "cell_type": "code",
   "execution_count": 8,
   "metadata": {},
   "outputs": [
    {
     "name": "stdout",
     "output_type": "stream",
     "text": [
      "3.431655563506216\n"
     ]
    }
   ],
   "source": [
    "res = multiTrap(40,f,0,0.5)\n",
    "print(res/1)"
   ]
  },
  {
   "cell_type": "markdown",
   "metadata": {},
   "source": [
    "### Simpson 1/3"
   ]
  },
  {
   "cell_type": "code",
   "execution_count": 9,
   "metadata": {},
   "outputs": [],
   "source": [
    "def multiSimpson13(n,f,a,b):\n",
    "    s = 0\n",
    "    x = np.linspace(a,b,n+1).tolist()\n",
    "    for i in range(1,n):\n",
    "        if i % 2 == 0:\n",
    "            s += 2*f(x[i])\n",
    "        if i % 2 == 1:\n",
    "            s += 4*f(x[i])\n",
    "    s += (f(x[0]) + f(x[n]))\n",
    "    s *= (b-a)/(3*n)\n",
    "    return s"
   ]
  },
  {
   "cell_type": "code",
   "execution_count": 10,
   "metadata": {},
   "outputs": [
    {
     "name": "stdout",
     "output_type": "stream",
     "text": [
      "3.4316573611603554\n"
     ]
    }
   ],
   "source": [
    "res = multiSimpson13(40,f,0,0.5)\n",
    "print(res/1)"
   ]
  },
  {
   "cell_type": "markdown",
   "metadata": {},
   "source": [
    "### 24.31"
   ]
  },
  {
   "cell_type": "markdown",
   "metadata": {},
   "source": [
    "<img src='aps5_5.JPG'>"
   ]
  },
  {
   "cell_type": "code",
   "execution_count": 29,
   "metadata": {},
   "outputs": [],
   "source": [
    "t = [0,0.1, 0.2, 0.3, 0.5, 0.7]\n",
    "i = [0,0.16,0.32,0.56,0.84,2]"
   ]
  },
  {
   "cell_type": "markdown",
   "metadata": {},
   "source": [
    "### Cálculo das derivadas:\n",
    "Diferença progressiva"
   ]
  },
  {
   "cell_type": "code",
   "execution_count": 12,
   "metadata": {},
   "outputs": [
    {
     "name": "stdout",
     "output_type": "stream",
     "text": [
      "Q em t = 0:\n",
      "1.5999999999999999\n",
      "Q em t = 0.1:\n",
      "1.2\n"
     ]
    }
   ],
   "source": [
    "print('Q em t = 0:')\n",
    "print((-0.32+(4*0.16)-(3*0))/(2*0.1))\n",
    "\n",
    "print('Q em t = 0.1:')\n",
    "print((-0.56+(4*0.32)-(3*0.16))/(2*0.1))"
   ]
  },
  {
   "cell_type": "markdown",
   "metadata": {},
   "source": [
    "Diferença regressiva:"
   ]
  },
  {
   "cell_type": "code",
   "execution_count": 13,
   "metadata": {},
   "outputs": [
    {
     "name": "stdout",
     "output_type": "stream",
     "text": [
      "Q em t = 0.7:\n",
      "8.0\n",
      "Q em t = 0.5:\n",
      "2.999999999999999\n"
     ]
    }
   ],
   "source": [
    "print('Q em t = 0.7:')\n",
    "print((0.56-(4*0.84)+(3*2))/(2*0.2))\n",
    "\n",
    "print('Q em t = 0.5:')\n",
    "print((0.32-(4*0.56)+(3*0.84))/(2*0.1))"
   ]
  },
  {
   "cell_type": "markdown",
   "metadata": {},
   "source": [
    "Diferença centrada:"
   ]
  },
  {
   "cell_type": "code",
   "execution_count": 30,
   "metadata": {},
   "outputs": [],
   "source": [
    "t = [0,0.1, 0.2, 0.3, 0.5, 0.7]\n",
    "i = [0,0.16,0.32,0.56,0.84,2]"
   ]
  },
  {
   "cell_type": "code",
   "execution_count": 31,
   "metadata": {},
   "outputs": [
    {
     "name": "stdout",
     "output_type": "stream",
     "text": [
      "Q em t = 0.2:\n",
      "1.9666666666666666\n",
      "Q em t = 0.3:\n",
      "1.9333333333333333\n"
     ]
    }
   ],
   "source": [
    "print('Q em t = 0.2:')\n",
    "print((0-(8*0.16)+(8*0.56)-0.84)/(12*0.1))\n",
    "\n",
    "print('Q em t = 0.3:')\n",
    "print((0.16-(8*0.32)+(8*0.84)-2)/(12*0.1))"
   ]
  },
  {
   "cell_type": "markdown",
   "metadata": {},
   "source": [
    "# VL (volts) vs. t (segundos):"
   ]
  },
  {
   "cell_type": "code",
   "execution_count": 35,
   "metadata": {},
   "outputs": [
    {
     "data": {
      "text/plain": [
       "[<matplotlib.lines.Line2D at 0x16df7f56898>]"
      ]
     },
     "execution_count": 35,
     "metadata": {},
     "output_type": "execute_result"
    },
    {
     "data": {
      "image/png": "[encoded data removed]",
      "text/plain": [
       "<matplotlib.figure.Figure at 0x16df7ef05c0>"
      ]
     },
     "metadata": {},
     "output_type": "display_data"
    }
   ],
   "source": [
    "plt.figure(figsize=(7,7))\n",
    "t = [0,0.1, 0.2, 0.3, 0.5, 0.7]\n",
    "didt = [4*1.5999,4*1.2,4*1.9666,4*1.93333,4*2.99999,4*8.0]\n",
    "plt.grid()\n",
    "plt.plot(t, didt)"
   ]
  },
  {
   "cell_type": "markdown",
   "metadata": {},
   "source": [
    "### 24.33"
   ]
  },
  {
   "cell_type": "markdown",
   "metadata": {},
   "source": [
    "<img src='aps5_2.JPG'>"
   ]
  },
  {
   "cell_type": "markdown",
   "metadata": {},
   "source": [
    "<img src='aps5_3.JPG'>"
   ]
  },
  {
   "cell_type": "markdown",
   "metadata": {},
   "source": [
    "### A fim de aplicar a regra de Simpson 1/3 múltipla, deve-se obter um número par de intervalos."
   ]
  },
  {
   "cell_type": "code",
   "execution_count": 16,
   "metadata": {},
   "outputs": [],
   "source": [
    "def f (t):\n",
    "    \n",
    "    i = (60-t)**2 + (60-t)*math.sin(math.sqrt(t))\n",
    "    r = 10*i +2*((i)**(2/3))\n",
    "    \n",
    "    return r*i"
   ]
  },
  {
   "cell_type": "code",
   "execution_count": 17,
   "metadata": {},
   "outputs": [],
   "source": [
    "# a função abaixo foi escrita para f sendo uma função\n",
    "# (o tipo da variável de entrada é function)\n",
    "def multiSimpson13(n,f,a,b):\n",
    "    s = 0\n",
    "    x = np.linspace(a,b,n+1).tolist()\n",
    "    for i in range(1,n):\n",
    "        if i % 2 == 0:\n",
    "            s += 2*f(x[i])\n",
    "        if i % 2 == 1:\n",
    "            s += 4*f(x[i])\n",
    "    s += (f(x[0]) + f(x[n]))\n",
    "    s *= (b-a)/(3*n)\n",
    "    return s"
   ]
  },
  {
   "cell_type": "code",
   "execution_count": 18,
   "metadata": {},
   "outputs": [],
   "source": [
    "# a função abaixo foi escrita para f sendo uma lista\n",
    "# (o tipo da variável da entrada é list)\n",
    "def simpson13(f,a,b):\n",
    "    \n",
    "    s = f[0] + 4*f[1] + f[2]  \n",
    "    s *= (b-a)/6\n",
    "    \n",
    "    \n",
    "    #print(\"pontos usados:\")\n",
    "    #print(\"a\")\n",
    "    #print(a)\n",
    "    #print(\"ponto médio\")\n",
    "    #print(((b-a)/2))\n",
    "    #print(\"b\")\n",
    "    #print(b)\n",
    "    \n",
    "    \n",
    "    return s"
   ]
  },
  {
   "cell_type": "code",
   "execution_count": 19,
   "metadata": {},
   "outputs": [],
   "source": [
    "resposta_2433 = multiSimpson13(120,f,0,60)"
   ]
  },
  {
   "cell_type": "code",
   "execution_count": 20,
   "metadata": {},
   "outputs": [
    {
     "name": "stdout",
     "output_type": "stream",
     "text": [
      "26359084.618700393\n"
     ]
    }
   ],
   "source": [
    "print(resposta_2433/60)"
   ]
  },
  {
   "cell_type": "markdown",
   "metadata": {},
   "source": [
    "## Sendo assim, a tensão média é igual a 26359084.6187."
   ]
  },
  {
   "cell_type": "markdown",
   "metadata": {},
   "source": [
    "### 24.34"
   ]
  },
  {
   "cell_type": "markdown",
   "metadata": {},
   "source": [
    "<img src='aps5_4.JPG'>"
   ]
  },
  {
   "cell_type": "code",
   "execution_count": 21,
   "metadata": {},
   "outputs": [],
   "source": [
    "t = [0,0.2,0.4,0.6,0.8,1,1.2]\n",
    "i = [0.2,0.3683,0.3819,0.2282,0.0486,0.0082,0.1441]"
   ]
  },
  {
   "cell_type": "code",
   "execution_count": 22,
   "metadata": {},
   "outputs": [],
   "source": [
    "taxas = []"
   ]
  },
  {
   "cell_type": "code",
   "execution_count": 23,
   "metadata": {},
   "outputs": [
    {
     "name": "stdout",
     "output_type": "stream",
     "text": [
      "0.13700666666666667\n"
     ]
    }
   ],
   "source": [
    "f = [0.2,0.3683,0.3819]\n",
    "\n",
    "res = simpson13(f, 0, 0.4)\n",
    "print(res)\n",
    "taxas.append(res)"
   ]
  },
  {
   "cell_type": "code",
   "execution_count": 24,
   "metadata": {},
   "outputs": [
    {
     "name": "stdout",
     "output_type": "stream",
     "text": [
      "0.08955333333333333\n"
     ]
    }
   ],
   "source": [
    "f = [0.3819,0.2282,0.0486]\n",
    "\n",
    "res = simpson13(f, 0.4, 0.8)\n",
    "print(res)\n",
    "taxas.append(res)"
   ]
  },
  {
   "cell_type": "code",
   "execution_count": 25,
   "metadata": {},
   "outputs": [
    {
     "name": "stdout",
     "output_type": "stream",
     "text": [
      "0.01503333333333333\n"
     ]
    }
   ],
   "source": [
    "f = [0.0486,0.0082,0.1441]\n",
    "\n",
    "res = simpson13(f, 0.8, 1.2)\n",
    "print(res)\n",
    "taxas.append(res)"
   ]
  },
  {
   "cell_type": "code",
   "execution_count": 26,
   "metadata": {},
   "outputs": [
    {
     "name": "stdout",
     "output_type": "stream",
     "text": [
      "[13700.666666666666, 8955.333333333334, 1503.333333333333]\n"
     ]
    },
    {
     "data": {
      "text/plain": [
       "[<matplotlib.lines.Line2D at 0x16df7ba6320>]"
      ]
     },
     "execution_count": 26,
     "metadata": {},
     "output_type": "execute_result"
    },
    {
     "data": {
      "image/png": "[encoded data removed]",
      "text/plain": [
       "<matplotlib.figure.Figure at 0x16df788e8d0>"
      ]
     },
     "metadata": {},
     "output_type": "display_data"
    }
   ],
   "source": [
    "voltage = [i*(10**5) for i in taxas]\n",
    "print(voltage)\n",
    "x = [0.4,0.8,1.2]\n",
    "\n",
    "plt.figure(figsize=(6,6))\n",
    "plt.grid()\n",
    "plt.xlabel('t(s)')\n",
    "plt.ylabel('V (V)')\n",
    "plt.title('Gráfico de tensão (V) vs. tempo (s)')\n",
    "plt.plot(x,voltage, color='black')"
   ]
  }
 ],
 "metadata": {
  "kernelspec": {
   "display_name": "Python 3",
   "language": "python",
   "name": "python3"
  },
  "language_info": {
   "codemirror_mode": {
    "name": "ipython",
    "version": 3
   },
   "file_extension": ".py",
   "mimetype": "text/x-python",
   "name": "python",
   "nbconvert_exporter": "python",
   "pygments_lexer": "ipython3",
   "version": "3.6.4"
  }
 },
 "nbformat": 4,
 "nbformat_minor": 2
}
