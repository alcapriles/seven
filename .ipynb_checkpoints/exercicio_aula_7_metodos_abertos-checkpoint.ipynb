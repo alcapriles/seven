{
 "cells": [
  {
   "cell_type": "markdown",
   "metadata": {
    "collapsed": true
   },
   "source": [
    "## Exercício da Aula 7: Métodos Abertos"
   ]
  },
  {
   "cell_type": "code",
   "execution_count": 1,
   "metadata": {},
   "outputs": [],
   "source": [
    "import math\n",
    "import matplotlib.pyplot as plt\n",
    "import numpy as np\n",
    "import pandas as pd\n",
    "%matplotlib inline"
   ]
  },
  {
   "cell_type": "markdown",
   "metadata": {},
   "source": [
    "Determinar a raiz:\n",
    "     - graficamente\n",
    "     - iteração de ponto fixo (x0 = 0.3)\n",
    "     - método de newton-raphson (xi = 0.3)\n",
    "     - método da secante (xi = 0.4 xi-1 = 0.5)\n",
    "     - método da secante modificado (xi = 0.3 e delta = 0.01)\n",
    "        \n",
    "Calcular os erros relativos percentuais.\n",
    "\n",
    "Critério de parada:\n",
    "    es = 10**(-4)\n",
    "\n",
    "Comente os resultados."
   ]
  },
  {
   "cell_type": "markdown",
   "metadata": {},
   "source": [
    "## Método Gráfico"
   ]
  },
  {
   "cell_type": "code",
   "execution_count": null,
   "metadata": {},
   "outputs": [],
   "source": [
    "def f(x):\n",
    "    return 7*((math.sin(x))*(math.e**(-x))) - 1"
   ]
  },
  {
   "cell_type": "code",
   "execution_count": 2,
   "metadata": {},
   "outputs": [
    {
     "ename": "NameError",
     "evalue": "name 'f' is not defined",
     "output_type": "error",
     "traceback": [
      "\u001b[1;31m---------------------------------------------------------------------------\u001b[0m",
      "\u001b[1;31mNameError\u001b[0m                                 Traceback (most recent call last)",
      "\u001b[1;32m<ipython-input-2-0ad85180a028>\u001b[0m in \u001b[0;36m<module>\u001b[1;34m()\u001b[0m\n\u001b[0;32m      1\u001b[0m \u001b[0mplt\u001b[0m\u001b[1;33m.\u001b[0m\u001b[0mfigure\u001b[0m\u001b[1;33m(\u001b[0m\u001b[0mfigsize\u001b[0m\u001b[1;33m=\u001b[0m\u001b[1;33m(\u001b[0m\u001b[1;36m13\u001b[0m\u001b[1;33m,\u001b[0m\u001b[1;36m13\u001b[0m\u001b[1;33m)\u001b[0m\u001b[1;33m)\u001b[0m\u001b[1;33m\u001b[0m\u001b[0m\n\u001b[0;32m      2\u001b[0m \u001b[0mx\u001b[0m \u001b[1;33m=\u001b[0m \u001b[0mnp\u001b[0m\u001b[1;33m.\u001b[0m\u001b[0mlinspace\u001b[0m\u001b[1;33m(\u001b[0m\u001b[1;36m0\u001b[0m\u001b[1;33m,\u001b[0m\u001b[1;36m10\u001b[0m\u001b[1;33m,\u001b[0m\u001b[1;36m1000\u001b[0m\u001b[1;33m)\u001b[0m\u001b[1;33m.\u001b[0m\u001b[0mtolist\u001b[0m\u001b[1;33m(\u001b[0m\u001b[1;33m)\u001b[0m\u001b[1;33m\u001b[0m\u001b[0m\n\u001b[1;32m----> 3\u001b[1;33m \u001b[0my\u001b[0m \u001b[1;33m=\u001b[0m \u001b[1;33m[\u001b[0m\u001b[1;36m7\u001b[0m\u001b[1;33m*\u001b[0m\u001b[1;33m(\u001b[0m\u001b[1;33m(\u001b[0m\u001b[0mmath\u001b[0m\u001b[1;33m.\u001b[0m\u001b[0msin\u001b[0m\u001b[1;33m(\u001b[0m\u001b[0mi\u001b[0m\u001b[1;33m)\u001b[0m\u001b[1;33m)\u001b[0m\u001b[1;33m*\u001b[0m\u001b[1;33m(\u001b[0m\u001b[0mmath\u001b[0m\u001b[1;33m.\u001b[0m\u001b[0me\u001b[0m\u001b[1;33m**\u001b[0m\u001b[1;33m(\u001b[0m\u001b[1;33m-\u001b[0m\u001b[0mi\u001b[0m\u001b[1;33m)\u001b[0m\u001b[1;33m)\u001b[0m\u001b[1;33m)\u001b[0m \u001b[1;33m-\u001b[0m \u001b[1;36m1\u001b[0m \u001b[1;32mfor\u001b[0m \u001b[0mi\u001b[0m \u001b[1;32min\u001b[0m \u001b[0mf\u001b[0m\u001b[1;33m]\u001b[0m\u001b[1;33m\u001b[0m\u001b[0m\n\u001b[0m\u001b[0;32m      4\u001b[0m \u001b[0mplt\u001b[0m\u001b[1;33m.\u001b[0m\u001b[0mplot\u001b[0m\u001b[1;33m(\u001b[0m\u001b[0mx\u001b[0m\u001b[1;33m,\u001b[0m\u001b[0my\u001b[0m\u001b[1;33m,\u001b[0m \u001b[0mcolor\u001b[0m\u001b[1;33m=\u001b[0m\u001b[1;34m'magenta'\u001b[0m\u001b[1;33m)\u001b[0m\u001b[1;33m\u001b[0m\u001b[0m\n\u001b[0;32m      5\u001b[0m \u001b[0mplt\u001b[0m\u001b[1;33m.\u001b[0m\u001b[0mgrid\u001b[0m\u001b[1;33m(\u001b[0m\u001b[1;33m)\u001b[0m\u001b[1;33m\u001b[0m\u001b[0m\n",
      "\u001b[1;31mNameError\u001b[0m: name 'f' is not defined"
     ]
    },
    {
     "data": {
      "text/plain": [
       "<matplotlib.figure.Figure at 0x28752863a58>"
      ]
     },
     "metadata": {},
     "output_type": "display_data"
    }
   ],
   "source": [
    "plt.figure(figsize=(13,13))\n",
    "x = np.linspace(0,10,1000).tolist()\n",
    "y = [7*((math.sin(i))*(math.e**(-i))) - 1 for i in f]\n",
    "plt.plot(x,y, color='magenta')\n",
    "plt.grid()"
   ]
  },
  {
   "cell_type": "markdown",
   "metadata": {},
   "source": [
    "### Zooming in:"
   ]
  },
  {
   "cell_type": "code",
   "execution_count": null,
   "metadata": {},
   "outputs": [],
   "source": [
    "plt.figure(figsize=(13,13))\n",
    "x = np.linspace(0,10,1000).tolist()\n",
    "y = [7*((math.sin(i))*(math.e**(-i))) - 1 for i in f]\n",
    "plt.plot(x,y, color='magenta')\n",
    "plt.axis([0,2,-0.5,0.5])\n",
    "plt.grid()"
   ]
  },
  {
   "cell_type": "markdown",
   "metadata": {},
   "source": [
    "## Iteração de ponto fixo"
   ]
  },
  {
   "cell_type": "code",
   "execution_count": null,
   "metadata": {},
   "outputs": [],
   "source": [
    "es = 1\n",
    "x = 0.3\n",
    "i = 0\n",
    "\n",
    "while es > 10**(-4):\n",
    "    xvelho = x\n",
    "    x = 7*((math.sin(x))*(math.e**(-x))) - 1 + x\n",
    "    es = math.fabs(100*((x-xvelho)/x))\n",
    "    i+=1\n",
    "\n",
    "print(\"Desta forma, a raiz é igual a\", x, \"e o número de iterações é igual a\", i)"
   ]
  },
  {
   "cell_type": "markdown",
   "metadata": {},
   "source": [
    "## Método de Newton-Raphson"
   ]
  },
  {
   "cell_type": "markdown",
   "metadata": {},
   "source": [
    "<img src=\"derivada.JPG\">"
   ]
  },
  {
   "cell_type": "code",
   "execution_count": null,
   "metadata": {},
   "outputs": [],
   "source": [
    "es = 1\n",
    "x = 0.3\n",
    "i = 0\n",
    "\n",
    "while es > 10**(-4):\n",
    "    xvelho = x\n",
    "    x = x -           ( 7*((math.sin(x))*(math.e**(-x))) - 1 )  /    (7*(math.e**(-x))*(math.cos(x)-math.sin(x)))\n",
    "    es = math.fabs(100*((x-xvelho)/x))\n",
    "    i+=1\n",
    "    \n",
    "print(\"Desta forma, a raiz é igual a\", x, \"e o número de iterações é igual a\", i)"
   ]
  },
  {
   "cell_type": "markdown",
   "metadata": {},
   "source": [
    "## Método da Secante"
   ]
  },
  {
   "cell_type": "code",
   "execution_count": null,
   "metadata": {},
   "outputs": [],
   "source": [
    "xi = 0.4\n",
    "ximenos1 = 0.5\n",
    "es = 1\n",
    "i = 0\n",
    "\n",
    "while es > 10**(-4):\n",
    "    xvelho = xi\n",
    "    xi = xi - ( ( ( 7*((math.sin(xi))*(math.e**(-xi))) - 1 )*(ximenos1 - xi) )  / ( ( 7*((math.sin(ximenos1))*(math.e**(-ximenos1))) - 1 ) - ( 7*((math.sin(xi))*(math.e**(-xi))) - 1 ) ) )\n",
    "    ximenos1 = xvelho\n",
    "    es = math.fabs(100*((xi-xvelho)/xi))\n",
    "    i+=1\n",
    "    \n",
    "print(\"Desta forma, a raiz é igual a\", x, \"e o número de iterações é igual a\", i)"
   ]
  },
  {
   "cell_type": "markdown",
   "metadata": {},
   "source": [
    "## Método da Secante Modificada"
   ]
  },
  {
   "cell_type": "code",
   "execution_count": null,
   "metadata": {},
   "outputs": [],
   "source": [
    "es = 1\n",
    "x = 0.3\n",
    "delta = 0.01 #em que o delta é a perturbação\n",
    "i = 0\n",
    "\n",
    "while es > 10**(-4):\n",
    "    xvelho = x\n",
    "    x = x - ( ( ( 7*((math.sin(x))*(math.e**(-x))) - 1 )*delta )  / ( ( 7*((math.sin(x + delta))*(math.e**(-(x+delta)))) - 1 ) - ( 7*((math.sin(x))*(math.e**(-x))) - 1 ) ) )\n",
    "    es = math.fabs(100*((x-xvelho)/x))\n",
    "    i+=1\n",
    "    \n",
    "print(\"Desta forma, a raiz é igual a\", x, \"e o número de iterações é igual a\", i)"
   ]
  },
  {
   "cell_type": "markdown",
   "metadata": {},
   "source": [
    "## Comentário"
   ]
  },
  {
   "cell_type": "code",
   "execution_count": null,
   "metadata": {},
   "outputs": [],
   "source": [
    "## Os métodos que convergem mais rapidamente são o de Newton-Raphson e o da secante modificada, cada um com 5 iterações. Conforme o esperado, a secante modificada convergiu de forma mais rápida e eficiente ao erro desejado do que a secante simples.\n",
    "## O método da iteração de ponto fixo se apresentou o método mais lento."
   ]
  }
 ],
 "metadata": {
  "kernelspec": {
   "display_name": "Python 3",
   "language": "python",
   "name": "python3"
  },
  "language_info": {
   "codemirror_mode": {
    "name": "ipython",
    "version": 3
   },
   "file_extension": ".py",
   "mimetype": "text/x-python",
   "name": "python",
   "nbconvert_exporter": "python",
   "pygments_lexer": "ipython3",
   "version": "3.6.4"
  }
 },
 "nbformat": 4,
 "nbformat_minor": 1
}
