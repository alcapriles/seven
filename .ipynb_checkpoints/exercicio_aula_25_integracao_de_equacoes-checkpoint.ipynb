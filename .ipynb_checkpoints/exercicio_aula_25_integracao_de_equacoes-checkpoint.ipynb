{
 "cells": [
  {
   "cell_type": "markdown",
   "metadata": {},
   "source": [
    "# Exercício - Integração de dados tabelados igualmente espaçados"
   ]
  },
  {
   "cell_type": "markdown",
   "metadata": {},
   "source": [
    "### Será determinada a área da seção transversal de um rio.\n",
    "### Está área será obtida a partir das medições de profundidade em vários pontos.\n",
    "### Fazendo a integral destas medidas, chega-se ao valor da área."
   ]
  },
  {
   "cell_type": "code",
   "execution_count": 36,
   "metadata": {},
   "outputs": [],
   "source": [
    "import matplotlib.pyplot as plt\n",
    "import math\n",
    "\n",
    "%matplotlib inline"
   ]
  },
  {
   "cell_type": "code",
   "execution_count": 37,
   "metadata": {},
   "outputs": [],
   "source": [
    "x = [0,2,4,6,8,10,12,14,16]\n",
    "H = [-0,-1.9,-2,-2,-2.4,-2.6,-2.25,-1.12,0]"
   ]
  },
  {
   "cell_type": "markdown",
   "metadata": {},
   "source": [
    "## a) Integração usando a regra de Romberg com critério de parada de 0,01%."
   ]
  },
  {
   "cell_type": "code",
   "execution_count": null,
   "metadata": {},
   "outputs": [],
   "source": []
  },
  {
   "cell_type": "markdown",
   "metadata": {},
   "source": [
    "## b.1) Integração usando múltiplas aplicações da regra 1/3 de Simpson (observação:serão 8 segmentos)."
   ]
  },
  {
   "cell_type": "code",
   "execution_count": 55,
   "metadata": {},
   "outputs": [],
   "source": [
    "def multiSimpson13(n,a,b):\n",
    "    \n",
    "    s = 0\n",
    "    H = [0,1.9,2,2,2.4,2.6,2.25,1.12,0]\n",
    "    \n",
    "    \n",
    "    for i in range(1,n):\n",
    "        \n",
    "        \n",
    "        if i % 2 == 0:\n",
    "            \n",
    "            s += 2*H[i]\n",
    "            \n",
    "        if i % 2 == 1:\n",
    "            \n",
    "            s += 4*H[i]\n",
    "             \n",
    "                \n",
    "    s += (  H[0] + H[n-1]  )\n",
    "    \n",
    "    s *= (b-a)/(3*8)\n",
    "    \n",
    "    \n",
    "    \n",
    "    return math.fabs(s)"
   ]
  },
  {
   "cell_type": "code",
   "execution_count": 56,
   "metadata": {},
   "outputs": [
    {
     "name": "stdout",
     "output_type": "stream",
     "text": [
      "29.186666666666667\n"
     ]
    }
   ],
   "source": [
    "b = multiSimpson13(9,0,16)\n",
    "print(b)"
   ]
  },
  {
   "cell_type": "markdown",
   "metadata": {},
   "source": [
    "## Sendo assim, a integração por Simpson 1/3 múltipla resultou no valor de 29.186666."
   ]
  },
  {
   "cell_type": "markdown",
   "metadata": {},
   "source": [
    "## b.2) Difereça percentual de 1/3 de Simpson múltipla, com relação a Romberg (item a)."
   ]
  },
  {
   "cell_type": "code",
   "execution_count": null,
   "metadata": {},
   "outputs": [],
   "source": []
  },
  {
   "cell_type": "markdown",
   "metadata": {},
   "source": [
    "## c.1) Gráfico com os dados."
   ]
  },
  {
   "cell_type": "code",
   "execution_count": 14,
   "metadata": {},
   "outputs": [
    {
     "data": {
      "image/png": "[encoded data removed]",
      "text/plain": [
       "<matplotlib.figure.Figure at 0x1fb32cfe208>"
      ]
     },
     "metadata": {},
     "output_type": "display_data"
    }
   ],
   "source": [
    "plt.figure(figsize=(7,7))\n",
    "\n",
    "plt.plot(x,H, color='black', linewidth=0.8)\n",
    "\n",
    "plt.grid()\n",
    "plt.show()"
   ]
  },
  {
   "cell_type": "markdown",
   "metadata": {},
   "source": [
    "## c.2) Ajuste de curva para os dados. (buscando maximizar o valor de r quadrado)"
   ]
  },
  {
   "cell_type": "code",
   "execution_count": null,
   "metadata": {},
   "outputs": [],
   "source": []
  },
  {
   "cell_type": "markdown",
   "metadata": {},
   "source": [
    "## c.3) Área utilizando a curva ajustada."
   ]
  },
  {
   "cell_type": "code",
   "execution_count": null,
   "metadata": {},
   "outputs": [],
   "source": []
  },
  {
   "cell_type": "markdown",
   "metadata": {},
   "source": [
    "## c.4) Diferença percentual da área usando a curva ajustada, com relação a Romberg."
   ]
  },
  {
   "cell_type": "code",
   "execution_count": null,
   "metadata": {},
   "outputs": [],
   "source": []
  },
  {
   "cell_type": "markdown",
   "metadata": {},
   "source": [
    "# Análise Geral"
   ]
  },
  {
   "cell_type": "code",
   "execution_count": null,
   "metadata": {},
   "outputs": [],
   "source": []
  }
 ],
 "metadata": {
  "kernelspec": {
   "display_name": "Python 3",
   "language": "python",
   "name": "python3"
  },
  "language_info": {
   "codemirror_mode": {
    "name": "ipython",
    "version": 3
   },
   "file_extension": ".py",
   "mimetype": "text/x-python",
   "name": "python",
   "nbconvert_exporter": "python",
   "pygments_lexer": "ipython3",
   "version": "3.6.4"
  }
 },
 "nbformat": 4,
 "nbformat_minor": 1
}
