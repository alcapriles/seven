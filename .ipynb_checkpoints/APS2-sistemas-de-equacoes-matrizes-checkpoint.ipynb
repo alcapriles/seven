{
 "cells": [
  {
   "cell_type": "markdown",
   "metadata": {},
   "source": [
    "## APS 2 - Sistemas de equações (matrizes)."
   ]
  },
  {
   "cell_type": "markdown",
   "metadata": {},
   "source": [
    "Considerar epsilon_s = 0,0001%."
   ]
  },
  {
   "cell_type": "markdown",
   "metadata": {},
   "source": [
    "Explicar como funcionam os comandos de inversão de matriz e multiplicação de matrizes usados pela linguagem de programação Python."
   ]
  },
  {
   "cell_type": "code",
   "execution_count": 1,
   "metadata": {},
   "outputs": [],
   "source": [
    "import numpy as np\n",
    "import math\n",
    "import matplotlib.pyplot as plt\n",
    "np.set_printoptions(formatter={'float': lambda x: \"{0:0.3f}\".format(x)})\n",
    "\n",
    "%matplotlib inline"
   ]
  },
  {
   "cell_type": "markdown",
   "metadata": {},
   "source": [
    "### Exercício 12.23 "
   ]
  },
  {
   "cell_type": "code",
   "execution_count": null,
   "metadata": {},
   "outputs": [],
   "source": [
    "matrix = np.array([    [1,-1,-1,0],\n",
    "                       [-35,0,-5,200],\n",
    "                       [0,-27,5,0]\n",
    "                       ])\n",
    "\n",
    "matrix = matrix.astype('float64')"
   ]
  },
  {
   "cell_type": "markdown",
   "metadata": {},
   "source": [
    "### Utilizando a eliminação de Gauss ingênua:"
   ]
  },
  {
   "cell_type": "code",
   "execution_count": null,
   "metadata": {},
   "outputs": [],
   "source": [
    "for i in range(1,3):\n",
    "    for j in range(4):\n",
    "        if i > j:\n",
    "            if matrix[i][j] != 0:\n",
    "                temp = matrix[i][j]/matrix[j][j]\n",
    "                for k in range(4):\n",
    "                    matrix[i][k] -= temp*matrix[j][k]\n",
    "print(matrix)    "
   ]
  },
  {
   "cell_type": "code",
   "execution_count": null,
   "metadata": {},
   "outputs": [],
   "source": [
    "i3 = -154.286/35.857\n",
    "print(i3)"
   ]
  },
  {
   "cell_type": "code",
   "execution_count": null,
   "metadata": {},
   "outputs": [],
   "source": [
    "i2 = (200 + 40*i3)/-35\n",
    "print(i2)"
   ]
  },
  {
   "cell_type": "code",
   "execution_count": null,
   "metadata": {},
   "outputs": [],
   "source": [
    "i1 = i3 + i2 \n",
    "print(i1)"
   ]
  },
  {
   "cell_type": "markdown",
   "metadata": {},
   "source": [
    "### Exercício 12.25\n",
    "utilizar eliminação de Gauss com pivotamento."
   ]
  },
  {
   "cell_type": "markdown",
   "metadata": {},
   "source": [
    "### Exercício 12.27"
   ]
  },
  {
   "cell_type": "markdown",
   "metadata": {},
   "source": [
    "### Utilizando eliminação de Gauss com pivotamento (mesmo código usado acima), vem:"
   ]
  },
  {
   "cell_type": "code",
   "execution_count": 11,
   "metadata": {},
   "outputs": [],
   "source": [
    "matrix = np.array([   \n",
    "    [1,-1,0,0,0,1,0],\n",
    "    [0,1,-1,1,0,0,0],\n",
    "    [-20,-10,-5,0,0,0,30],\n",
    "    [0,0,1,-1,-1,0,0],\n",
    "    [1,0,0,0,-1,1,0],\n",
    "    [-20,0,0,0,0,25,-50]                   \n",
    "                       ])\n",
    "\n",
    "matrix = matrix.astype('float64')"
   ]
  },
  {
   "cell_type": "code",
   "execution_count": 10,
   "metadata": {},
   "outputs": [
    {
     "name": "stdout",
     "output_type": "stream",
     "text": [
      "[[1.000 -1.000 0.000 0.000 0.000 1.000 0.000]\n",
      " [0.000 1.000 -1.000 1.000 0.000 0.000 0.000]\n",
      " [0.000 0.000 -35.000 30.000 0.000 20.000 30.000]\n",
      " [0.000 0.000 0.000 -0.143 -1.000 0.571 0.857]\n",
      " [0.000 0.000 0.000 0.000 0.000 0.000 0.000]\n",
      " [nan nan nan nan nan nan nan]]\n"
     ]
    },
    {
     "name": "stderr",
     "output_type": "stream",
     "text": [
      "C:\\Users\\User\\AppData\\Local\\Continuum\\anaconda3\\lib\\site-packages\\ipykernel_launcher.py:5: RuntimeWarning: divide by zero encountered in double_scalars\n",
      "  \"\"\"\n",
      "C:\\Users\\User\\AppData\\Local\\Continuum\\anaconda3\\lib\\site-packages\\ipykernel_launcher.py:7: RuntimeWarning: invalid value encountered in double_scalars\n",
      "  import sys\n"
     ]
    }
   ],
   "source": [
    "for i in range(1,6):\n",
    "    for j in range(7):\n",
    "        if i > j:\n",
    "            if matrix[i][j] != 0:\n",
    "                temp = matrix[i][j]/matrix[j][j]\n",
    "                for k in range(7):\n",
    "                    matrix[i][k] -= temp*matrix[j][k]\n",
    "print(matrix)   "
   ]
  },
  {
   "cell_type": "markdown",
   "metadata": {},
   "source": [
    "### Como o código não rodou, executando o pivotamento manualmente para cada coeficiente, vem:"
   ]
  },
  {
   "cell_type": "markdown",
   "metadata": {},
   "source": [
    "Primeiro coeficiente:"
   ]
  },
  {
   "cell_type": "code",
   "execution_count": 12,
   "metadata": {},
   "outputs": [],
   "source": [
    "temp = matrix[2][0]/matrix[0][0]\n",
    "for i in range(7): \n",
    "    matrix[2][i] -= temp*matrix[0][i]"
   ]
  },
  {
   "cell_type": "code",
   "execution_count": 13,
   "metadata": {},
   "outputs": [],
   "source": [
    "temp = matrix[4][0]/matrix[0][0]\n",
    "for i in range(7): \n",
    "    matrix[4][i] -= temp*matrix[0][i]"
   ]
  },
  {
   "cell_type": "code",
   "execution_count": 14,
   "metadata": {},
   "outputs": [],
   "source": [
    "temp = matrix[5][0]/matrix[0][0]\n",
    "for i in range(7): \n",
    "    matrix[5][i] -= temp*matrix[0][i]"
   ]
  },
  {
   "cell_type": "code",
   "execution_count": null,
   "metadata": {},
   "outputs": [],
   "source": [
    "matrix = np.array([   \n",
    "    [1,-1,0,0,0,1,0],\n",
    "    [0,1,-1,1,0,0,0],\n",
    "    [-20,-10,-5,0,0,0,30],\n",
    "    [0,0,1,-1,-1,0,0],\n",
    "    [1,0,0,0,-1,1,0],\n",
    "    [-20,0,0,0,0,25,-50]                   \n",
    "                       ])\n",
    "\n",
    "matrix = matrix.astype('float64')"
   ]
  },
  {
   "cell_type": "markdown",
   "metadata": {},
   "source": [
    "Segundo coeficiente:"
   ]
  },
  {
   "cell_type": "code",
   "execution_count": 16,
   "metadata": {},
   "outputs": [],
   "source": [
    "temp = matrix[1][1]/matrix[0][1]\n",
    "for i in range(7): \n",
    "    matrix[1][i] -= temp*matrix[1][i]"
   ]
  },
  {
   "cell_type": "code",
   "execution_count": null,
   "metadata": {},
   "outputs": [],
   "source": [
    "temp = matrix[2][0]/matrix[0][0]\n",
    "for i in range(7): \n",
    "    matrix[2][i] -= temp*matrix[0][i]"
   ]
  },
  {
   "cell_type": "code",
   "execution_count": null,
   "metadata": {},
   "outputs": [],
   "source": [
    "temp = matrix[2][0]/matrix[0][0]\n",
    "for i in range(7): \n",
    "    matrix[2][i] -= temp*matrix[0][i]"
   ]
  },
  {
   "cell_type": "code",
   "execution_count": null,
   "metadata": {},
   "outputs": [],
   "source": []
  },
  {
   "cell_type": "code",
   "execution_count": 17,
   "metadata": {},
   "outputs": [
    {
     "name": "stdout",
     "output_type": "stream",
     "text": [
      "[[1.000 -1.000 0.000 0.000 0.000 1.000 0.000]\n",
      " [0.000 2.000 -2.000 2.000 0.000 0.000 0.000]\n",
      " [0.000 -30.000 -5.000 0.000 0.000 20.000 30.000]\n",
      " [0.000 0.000 1.000 -1.000 -1.000 0.000 0.000]\n",
      " [0.000 1.000 0.000 0.000 -1.000 0.000 0.000]\n",
      " [0.000 -20.000 0.000 0.000 0.000 45.000 -50.000]]\n"
     ]
    }
   ],
   "source": [
    "print(matrix)"
   ]
  },
  {
   "cell_type": "code",
   "execution_count": null,
   "metadata": {},
   "outputs": [],
   "source": []
  },
  {
   "cell_type": "code",
   "execution_count": null,
   "metadata": {},
   "outputs": [],
   "source": []
  },
  {
   "cell_type": "code",
   "execution_count": null,
   "metadata": {},
   "outputs": [],
   "source": []
  },
  {
   "cell_type": "code",
   "execution_count": null,
   "metadata": {},
   "outputs": [],
   "source": []
  },
  {
   "cell_type": "markdown",
   "metadata": {},
   "source": [
    "### Exercício 12.28"
   ]
  },
  {
   "cell_type": "code",
   "execution_count": null,
   "metadata": {},
   "outputs": [],
   "source": [
    "matrix = np.array([   \n",
    "    [1,0,0,0,1,-1,0],\n",
    "    \n",
    "    [1,-1,0,1,0,0,0],\n",
    "    \n",
    "    [0,0,1,-1,1,0,0],\n",
    "    \n",
    "    [0,-1,1,0,0,1,0],\n",
    "    \n",
    "    [0,0,2,0,-4,0,-20],\n",
    "    \n",
    "    [-6,0,0,8,4,0,0]                   \n",
    "                       ])\n",
    "\n",
    "matrix = matrix.astype('float64')"
   ]
  },
  {
   "cell_type": "code",
   "execution_count": null,
   "metadata": {},
   "outputs": [],
   "source": []
  },
  {
   "cell_type": "code",
   "execution_count": null,
   "metadata": {},
   "outputs": [],
   "source": []
  },
  {
   "cell_type": "code",
   "execution_count": null,
   "metadata": {},
   "outputs": [],
   "source": []
  },
  {
   "cell_type": "code",
   "execution_count": null,
   "metadata": {},
   "outputs": [],
   "source": []
  },
  {
   "cell_type": "code",
   "execution_count": null,
   "metadata": {},
   "outputs": [],
   "source": []
  },
  {
   "cell_type": "code",
   "execution_count": null,
   "metadata": {},
   "outputs": [],
   "source": []
  }
 ],
 "metadata": {
  "kernelspec": {
   "display_name": "Python 3",
   "language": "python",
   "name": "python3"
  },
  "language_info": {
   "codemirror_mode": {
    "name": "ipython",
    "version": 3
   },
   "file_extension": ".py",
   "mimetype": "text/x-python",
   "name": "python",
   "nbconvert_exporter": "python",
   "pygments_lexer": "ipython3",
   "version": "3.6.4"
  }
 },
 "nbformat": 4,
 "nbformat_minor": 2
}
