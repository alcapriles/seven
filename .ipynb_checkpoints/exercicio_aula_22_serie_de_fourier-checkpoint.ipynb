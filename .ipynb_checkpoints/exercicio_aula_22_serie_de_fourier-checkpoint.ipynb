{
 "cells": [
  {
   "cell_type": "code",
   "execution_count": null,
   "metadata": {},
   "outputs": [],
   "source": [
    "import math\n",
    "import matplotlib.pyplot as plt\n",
    "import numpy as np\n",
    "import pandas as pd\n",
    "from scipy.integrate import simps\n",
    "from numpy import trapz\n",
    "\n",
    "%matplotlib inline"
   ]
  },
  {
   "cell_type": "code",
   "execution_count": null,
   "metadata": {},
   "outputs": [],
   "source": [
    "t = [2,6,9,12,15,18,20,24]\n",
    "c = [0,1.5,3.2,4.1,3.4,2,1,0]"
   ]
  },
  {
   "cell_type": "code",
   "execution_count": null,
   "metadata": {
    "scrolled": false
   },
   "outputs": [],
   "source": [
    "plt.figure(figsize=(20,20))\n",
    "plt.scatter(t,c, color='blue',linewidth=4.0)\n",
    "\n",
    "# GRAU 2\n",
    "deg = np.polyfit(t,c,2)\n",
    "f = np.linspace(0,24,100).tolist()\n",
    "re = [deg[0]*(i**2) + deg[1]*i + deg[2] for i in f]\n",
    "plt.plot(f,re, color='purple',linewidth=1.5,label='grau 2')\n",
    "\n",
    "\n",
    "# GRAU 3\n",
    "deg = np.polyfit(t,c,3)\n",
    "f = np.linspace(0,24,100).tolist()\n",
    "re = [deg[0]*(i**3) + deg[1]*(i**2) + deg[2]*i + deg[3] for i in f]\n",
    "plt.plot(f,re, color='red',linewidth=1.5,label='grau 3')\n",
    "\n",
    "\n",
    "# GRAU 4\n",
    "deg = np.polyfit(t,c,4)\n",
    "f = np.linspace(0,24,100).tolist()\n",
    "re = [deg[0]*(i**4) + deg[1]*(i**3) + deg[2]*(i**2) + deg[3]*i + deg[4] for i in f]\n",
    "plt.plot(f,re, color='green',linewidth=1.5,label='grau 4')\n",
    "\n",
    "\n",
    "plt.title('Pontos da tabela e graus 2, 3 e 4')\n",
    "plt.ylabel('c (mg/L)')\n",
    "plt.xlabel('t (s)')\n",
    "plt.legend()\n",
    "plt.grid()\n",
    "plt.legend()\n",
    "plt.grid()"
   ]
  },
  {
   "cell_type": "code",
   "execution_count": null,
   "metadata": {},
   "outputs": [],
   "source": [
    "plt.figure(figsize=(20,20))\n",
    "plt.scatter(t,c, color='blue',linewidth=4.0)\n",
    "\n",
    "\n",
    "# GRAU 5\n",
    "deg = np.polyfit(t,c,5)\n",
    "f = np.linspace(0,24,100).tolist()\n",
    "re = [deg[0]*(i**5) + deg[1]*(i**4) + deg[2]*(i**3) + deg[3]*(i**2) + deg[4]*i + deg[5] for i in f]\n",
    "plt.plot(f,re, color='magenta',linewidth=2.0 ,label='grau 5')\n",
    "\n",
    "# GRAU 6\n",
    "deg = np.polyfit(t,c,6)\n",
    "f = np.linspace(0,24,100).tolist()\n",
    "re = [deg[0]*(i**6) + deg[1]*(i**5) + deg[2]*(i**4) + deg[3]*(i**3) + deg[4]*(i**2) + deg[5]*i + deg[6] for i in f]\n",
    "plt.plot(f,re, color='black',linewidth=1.5 ,label='grau 6')\n",
    "\n",
    "plt.title('Pontos da tabela e Graus 5 e 6')\n",
    "plt.ylabel('c (mg/L)')\n",
    "plt.xlabel('t (s)')\n",
    "plt.legend()\n",
    "plt.grid()"
   ]
  },
  {
   "cell_type": "markdown",
   "metadata": {},
   "source": [
    "## Gráfico geral - pontos experimentais da tabela e graus 2, 3, 4, 5 e 6"
   ]
  },
  {
   "cell_type": "code",
   "execution_count": null,
   "metadata": {},
   "outputs": [],
   "source": [
    "#lista para armazenar os coeficientes das equações de ajuste:\n",
    "\n",
    "# A área será computada usando a regra de Simpson. dx indica o espaçamento entre os dados no eixo x (tempos)\n",
    "\n",
    "coeffs = []\n",
    "areas = []\n",
    "\n",
    "plt.figure(figsize=(20,20))\n",
    "plt.scatter(t,c, color='blue',linewidth=4.0)\n",
    "\n",
    "# GRAU 2\n",
    "deg = np.polyfit(t,c,2)\n",
    "f = np.linspace(0,24,100).tolist()\n",
    "re = [deg[0]*(i**2) + deg[1]*i + deg[2] for i in f]\n",
    "plt.plot(f,re, color='purple',linewidth=1.5,label='grau 2')\n",
    "coeffs.append(deg)\n",
    "area = simps(re, dx=0.24)\n",
    "areas.append(area)\n",
    "\n",
    "\n",
    "# GRAU 3\n",
    "deg = np.polyfit(t,c,3)\n",
    "f = np.linspace(0,24,100).tolist()\n",
    "re = [deg[0]*(i**3) + deg[1]*(i**2) + deg[2]*i + deg[3] for i in f]\n",
    "plt.plot(f,re, color='red',linewidth=1.5,label='grau 3')\n",
    "coeffs.append(deg)\n",
    "area = simps(re, dx=0.24)\n",
    "areas.append(area)\n",
    "\n",
    "\n",
    "# GRAU 4\n",
    "deg = np.polyfit(t,c,4)\n",
    "f = np.linspace(0,24,100).tolist()\n",
    "re = [deg[0]*(i**4) + deg[1]*(i**3) + deg[2]*(i**2) + deg[3]*i + deg[4] for i in f]\n",
    "plt.plot(f,re, color='green',linewidth=1.5,label='grau 4')\n",
    "coeffs.append(deg)\n",
    "area = simps(re, dx=0.24)\n",
    "areas.append(area)\n",
    "\n",
    "# GRAU 5\n",
    "deg = np.polyfit(t,c,5)\n",
    "f = np.linspace(0,24,100).tolist()\n",
    "re = [deg[0]*(i**5) + deg[1]*(i**4) + deg[2]*(i**3) + deg[3]*(i**2) + deg[4]*i + deg[5] for i in f]\n",
    "plt.plot(f,re, color='magenta',linewidth=2.0 ,label='grau 5')\n",
    "coeffs.append(deg)\n",
    "area = simps(re, dx=0.24)\n",
    "areas.append(area)\n",
    "\n",
    "# GRAU 6\n",
    "deg = np.polyfit(t,c,6)\n",
    "f = np.linspace(0,24,100).tolist()\n",
    "re = [deg[0]*(i**6) + deg[1]*(i**5) + deg[2]*(i**4) + deg[3]*(i**3) + deg[4]*(i**2) + deg[5]*i + deg[6] for i in f]\n",
    "plt.plot(f,re, color='black',linewidth=1.5 ,label='grau 6')\n",
    "coeffs.append(deg)\n",
    "area = simps(re, dx=0.24)\n",
    "areas.append(area)\n",
    "\n",
    "plt.title('Gráficos Geral')\n",
    "plt.ylabel('c (mg/L)')\n",
    "plt.xlabel('t (s)')\n",
    "plt.legend()\n",
    "plt.grid()\n",
    "plt.legend()\n",
    "plt.grid()"
   ]
  },
  {
   "cell_type": "markdown",
   "metadata": {},
   "source": [
    "## Áreas"
   ]
  },
  {
   "cell_type": "code",
   "execution_count": null,
   "metadata": {},
   "outputs": [],
   "source": [
    "print(areas)"
   ]
  },
  {
   "cell_type": "markdown",
   "metadata": {},
   "source": [
    "## Coeficientes das Equações de Ajuste"
   ]
  },
  {
   "cell_type": "code",
   "execution_count": null,
   "metadata": {},
   "outputs": [],
   "source": [
    "print(coeffs)"
   ]
  },
  {
   "cell_type": "markdown",
   "metadata": {},
   "source": [
    "## Os coeficientes estão na ordem das equações de cada grau. Exemplo: no grau 2, tem 3 números, então está no tipo a*t^2 + b*t + c, na ordem. E analogamente para os gras superiores."
   ]
  },
  {
   "cell_type": "markdown",
   "metadata": {},
   "source": [
    "## Grau 2"
   ]
  },
  {
   "cell_type": "code",
   "execution_count": null,
   "metadata": {},
   "outputs": [],
   "source": [
    "print(coeffs[0])"
   ]
  },
  {
   "cell_type": "markdown",
   "metadata": {},
   "source": [
    "## Grau 3"
   ]
  },
  {
   "cell_type": "code",
   "execution_count": null,
   "metadata": {},
   "outputs": [],
   "source": [
    "print(coeffs[1])"
   ]
  },
  {
   "cell_type": "markdown",
   "metadata": {},
   "source": [
    "## Grau 4"
   ]
  },
  {
   "cell_type": "code",
   "execution_count": null,
   "metadata": {},
   "outputs": [],
   "source": [
    "print(coeffs[2])"
   ]
  },
  {
   "cell_type": "markdown",
   "metadata": {},
   "source": [
    "## Grau 5 "
   ]
  },
  {
   "cell_type": "code",
   "execution_count": null,
   "metadata": {},
   "outputs": [],
   "source": [
    "print(coeffs[3])"
   ]
  },
  {
   "cell_type": "markdown",
   "metadata": {},
   "source": [
    "## Grau 6"
   ]
  },
  {
   "cell_type": "code",
   "execution_count": null,
   "metadata": {},
   "outputs": [],
   "source": [
    "print(coeffs[4])"
   ]
  },
  {
   "cell_type": "markdown",
   "metadata": {},
   "source": [
    "## Saídas Cardíacas\n"
   ]
  },
  {
   "cell_type": "markdown",
   "metadata": {},
   "source": [
    "## Grau 4"
   ]
  },
  {
   "cell_type": "code",
   "execution_count": null,
   "metadata": {},
   "outputs": [],
   "source": [
    "output = 60*5/areas[2]\n",
    "print(output)"
   ]
  },
  {
   "cell_type": "markdown",
   "metadata": {},
   "source": [
    "## Grau 5"
   ]
  },
  {
   "cell_type": "code",
   "execution_count": null,
   "metadata": {},
   "outputs": [],
   "source": [
    "output = 60*5/areas[3]\n",
    "print(output)"
   ]
  },
  {
   "cell_type": "markdown",
   "metadata": {},
   "source": [
    "## Grau 6"
   ]
  },
  {
   "cell_type": "code",
   "execution_count": null,
   "metadata": {},
   "outputs": [],
   "source": [
    "output = 60*5/areas[4]\n",
    "print(output)"
   ]
  },
  {
   "cell_type": "markdown",
   "metadata": {},
   "source": [
    "## Os valores para a saída cardíaca são bem próximos entre si, o que ocorre porque nesses graus maiores as curvas já estão bem próximas entre si."
   ]
  },
  {
   "cell_type": "markdown",
   "metadata": {},
   "source": [
    "## Observação sobre o número de algarismos significativos:\n",
    "## Foi conversado com o Professor Paulo, que como no Python você teria que ajustar a cada número a quantidade de algarismos significativos, foi feito tudo no padrão do Python mesmo, que já possui bastantes algarismos significativos."
   ]
  }
 ],
 "metadata": {
  "kernelspec": {
   "display_name": "Python 3",
   "language": "python",
   "name": "python3"
  },
  "language_info": {
   "codemirror_mode": {
    "name": "ipython",
    "version": 3
   },
   "file_extension": ".py",
   "mimetype": "text/x-python",
   "name": "python",
   "nbconvert_exporter": "python",
   "pygments_lexer": "ipython3",
   "version": "3.6.4"
  }
 },
 "nbformat": 4,
 "nbformat_minor": 1
}
