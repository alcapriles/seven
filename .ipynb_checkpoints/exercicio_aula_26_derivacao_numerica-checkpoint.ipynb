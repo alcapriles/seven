{
 "cells": [
  {
   "cell_type": "markdown",
   "metadata": {},
   "source": [
    "## Derivação numérica - fórmulas de alta acurácia"
   ]
  },
  {
   "cell_type": "code",
   "execution_count": 2,
   "metadata": {},
   "outputs": [],
   "source": [
    "t = [0,25,50,75,100,125]\n",
    "y = [0,32,58,78,92,100]"
   ]
  },
  {
   "cell_type": "markdown",
   "metadata": {},
   "source": [
    "## Obter estimativas da velocidade e da aceleração para cada instante."
   ]
  },
  {
   "cell_type": "markdown",
   "metadata": {},
   "source": [
    "## Caso 1: usar fórmulas de O(h)"
   ]
  },
  {
   "cell_type": "markdown",
   "metadata": {},
   "source": [
    "### velocidade (primeira derivada):"
   ]
  },
  {
   "cell_type": "markdown",
   "metadata": {},
   "source": [
    "Diferença progressiva:"
   ]
  },
  {
   "cell_type": "code",
   "execution_count": 1,
   "metadata": {
    "scrolled": false
   },
   "outputs": [
    {
     "name": "stdout",
     "output_type": "stream",
     "text": [
      "Velocidade em t = 0:\n",
      "1.28\n"
     ]
    }
   ],
   "source": [
    "print('Velocidade em t = 0:')\n",
    "print((32-0)/(25))"
   ]
  },
  {
   "cell_type": "markdown",
   "metadata": {},
   "source": [
    "Diferença regressiva:"
   ]
  },
  {
   "cell_type": "code",
   "execution_count": 3,
   "metadata": {},
   "outputs": [
    {
     "name": "stdout",
     "output_type": "stream",
     "text": [
      "Velocidade em t = 125:\n",
      "0.32\n"
     ]
    }
   ],
   "source": [
    "print('Velocidade em t = 125:')\n",
    "print((100-92)/(25))"
   ]
  },
  {
   "cell_type": "markdown",
   "metadata": {},
   "source": [
    "Diferença centrada:"
   ]
  },
  {
   "cell_type": "code",
   "execution_count": 4,
   "metadata": {},
   "outputs": [
    {
     "name": "stdout",
     "output_type": "stream",
     "text": [
      "Velocidade em t = 25:\n",
      "1.16\n",
      "Velocidade em t = 50:\n",
      "0.92\n",
      "Velocidade em t = 75:\n",
      "0.68\n",
      "Velocidade em t = 100:\n",
      "0.44\n"
     ]
    }
   ],
   "source": [
    "print('Velocidade em t = 25:')\n",
    "print((58-0)/(50))\n",
    "\n",
    "print('Velocidade em t = 50:')\n",
    "print((78-32)/(50))\n",
    "\n",
    "print('Velocidade em t = 75:')\n",
    "print((92-58)/(50))\n",
    "\n",
    "print('Velocidade em t = 100:')\n",
    "print((100-78)/(50))"
   ]
  },
  {
   "cell_type": "markdown",
   "metadata": {},
   "source": [
    "### aceleração (segunda derivada):"
   ]
  },
  {
   "cell_type": "markdown",
   "metadata": {},
   "source": [
    "Diferença progressiva:"
   ]
  },
  {
   "cell_type": "code",
   "execution_count": 7,
   "metadata": {},
   "outputs": [
    {
     "name": "stdout",
     "output_type": "stream",
     "text": [
      "Aceleração em t = 0:\n",
      "-0.0096\n"
     ]
    }
   ],
   "source": [
    "print('Aceleração em t = 0:')\n",
    "print((58-(2*32)+0)/(25**2))"
   ]
  },
  {
   "cell_type": "markdown",
   "metadata": {},
   "source": [
    "Diferença regressiva:"
   ]
  },
  {
   "cell_type": "code",
   "execution_count": 8,
   "metadata": {},
   "outputs": [
    {
     "name": "stdout",
     "output_type": "stream",
     "text": [
      "Aceleração em t = 125:\n",
      "-0.0096\n"
     ]
    }
   ],
   "source": [
    "print('Aceleração em t = 125:')\n",
    "print((100-(2*92)+78)/(25**2))"
   ]
  },
  {
   "cell_type": "markdown",
   "metadata": {},
   "source": [
    "Diferença centrada:"
   ]
  },
  {
   "cell_type": "code",
   "execution_count": 9,
   "metadata": {},
   "outputs": [
    {
     "name": "stdout",
     "output_type": "stream",
     "text": [
      "Aceleração em t = 25:\n",
      "-0.0096\n",
      "Aceleração em t = 50:\n",
      "-0.0096\n",
      "Aceleração em t = 75:\n",
      "-0.0096\n",
      "Aceleração em t = 100:\n",
      "-0.0096\n"
     ]
    }
   ],
   "source": [
    "print('Aceleração em t = 25:')\n",
    "print((58-(2*32)+0)/(25**2))\n",
    "\n",
    "print('Aceleração em t = 50:')\n",
    "print((78-(2*58)+32)/(25**2))\n",
    "\n",
    "print('Aceleração em t = 75:')\n",
    "print((92-(2*78)+58)/(25**2))\n",
    "\n",
    "print('Aceleração em t = 100:')\n",
    "print((100-(2*92)+78)/(25**2))"
   ]
  },
  {
   "cell_type": "markdown",
   "metadata": {},
   "source": [
    "## Caso 2: usar fórmulas de O(h^2)"
   ]
  },
  {
   "cell_type": "markdown",
   "metadata": {},
   "source": [
    "### velocidade (primeira derivada):"
   ]
  },
  {
   "cell_type": "markdown",
   "metadata": {},
   "source": [
    "Diferença progressiva:"
   ]
  },
  {
   "cell_type": "code",
   "execution_count": 13,
   "metadata": {},
   "outputs": [
    {
     "name": "stdout",
     "output_type": "stream",
     "text": [
      "Velocidade em t = 0:\n",
      "1.4\n",
      "Velocidade em t = 25:\n",
      "1.16\n"
     ]
    }
   ],
   "source": [
    "print('Velocidade em t = 0:')\n",
    "print((-58+(4*32)-(3*0))/(2*25))\n",
    "\n",
    "print('Velocidade em t = 25:')\n",
    "print((-78+(4*58)-(3*32))/(2*25))"
   ]
  },
  {
   "cell_type": "markdown",
   "metadata": {},
   "source": [
    "Diferença regressiva:"
   ]
  },
  {
   "cell_type": "code",
   "execution_count": 14,
   "metadata": {},
   "outputs": [
    {
     "name": "stdout",
     "output_type": "stream",
     "text": [
      "Velocidade em t = 125:\n",
      "0.2\n",
      "Velocidade em t = 100:\n",
      "0.44\n"
     ]
    }
   ],
   "source": [
    "print('Velocidade em t = 125:')\n",
    "print((78-(4*92)+(3*100))/(2*25))\n",
    "\n",
    "print('Velocidade em t = 100:')\n",
    "print((58-(4*78)+(3*92))/(2*25))"
   ]
  },
  {
   "cell_type": "markdown",
   "metadata": {},
   "source": [
    "Diferença centrada:"
   ]
  },
  {
   "cell_type": "code",
   "execution_count": 15,
   "metadata": {},
   "outputs": [
    {
     "name": "stdout",
     "output_type": "stream",
     "text": [
      "Velocidade em t = 50:\n",
      "-0.92\n",
      "Velocidade em t = 75:\n",
      "-0.68\n"
     ]
    }
   ],
   "source": [
    "print('Velocidade em t = 50:')\n",
    "print((-0+(8*32)-(8*78)+92)/(12*25))\n",
    "\n",
    "print('Velocidade em t = 75:')\n",
    "print((-32+(8*58)-(8*92)+100)/(12*25))"
   ]
  },
  {
   "cell_type": "markdown",
   "metadata": {},
   "source": [
    "### aceleração (segunda derivada):"
   ]
  },
  {
   "cell_type": "markdown",
   "metadata": {},
   "source": [
    "Diferença progressiva:"
   ]
  },
  {
   "cell_type": "code",
   "execution_count": 18,
   "metadata": {},
   "outputs": [
    {
     "name": "stdout",
     "output_type": "stream",
     "text": [
      "Aceleração em t = 0:\n",
      "-0.0096\n",
      "Aceleração em t = 25:\n",
      "-69.8976\n",
      "Aceleração em t = 50:\n",
      "-121.8144\n"
     ]
    }
   ],
   "source": [
    "print('Aceleração em t = 0:')\n",
    "print((-78+(4*58)-(5*32)+(2*0))/(25**2))\n",
    "\n",
    "print('Aceleração em t = 25:')\n",
    "print((-92+(4*78)-(5*58)+(2*32)/(25**2)))\n",
    "\n",
    "print('Aceleração em t = 50:')\n",
    "print((-100+(4*92)-(5*78)+(2*58)/(25**2)))"
   ]
  },
  {
   "cell_type": "markdown",
   "metadata": {},
   "source": [
    "Diferença regressiva:"
   ]
  },
  {
   "cell_type": "code",
   "execution_count": 19,
   "metadata": {},
   "outputs": [
    {
     "name": "stdout",
     "output_type": "stream",
     "text": [
      "Aceleração em t = 75:\n",
      "-161.7504\n",
      "Aceleração em t = 100:\n",
      "-189.7056\n",
      "Aceleração em t = 125:\n",
      "-205.68\n"
     ]
    }
   ],
   "source": [
    "print('Aceleração em t = 75:')\n",
    "print((-0+(4*32)-(5*58)+(2*78)/(25**2)))\n",
    "\n",
    "print('Aceleração em t = 100:')\n",
    "print((-32+(4*58)-(5*78)+(2*92)/(25**2)))\n",
    "\n",
    "print('Aceleração em t = 125:')\n",
    "print((-58+(4*78)-(5*92)+(2*100)/(25**2)))"
   ]
  },
  {
   "cell_type": "markdown",
   "metadata": {},
   "source": [
    "### Erros"
   ]
  },
  {
   "cell_type": "markdown",
   "metadata": {},
   "source": [
    "## Comentário"
   ]
  },
  {
   "cell_type": "markdown",
   "metadata": {},
   "source": [
    "## Na segunda derivada (valores de aceleração), o erro é zero devido à curva ser uma curva de segundo grau perfeita. Isto é, a curva utilizada para gerar os dados do exerícios tem grau 2 exatamente. Por isso, a derivada dá uma reta."
   ]
  },
  {
   "cell_type": "code",
   "execution_count": null,
   "metadata": {},
   "outputs": [],
   "source": []
  },
  {
   "cell_type": "code",
   "execution_count": null,
   "metadata": {},
   "outputs": [],
   "source": []
  },
  {
   "cell_type": "code",
   "execution_count": null,
   "metadata": {},
   "outputs": [],
   "source": []
  }
 ],
 "metadata": {
  "kernelspec": {
   "display_name": "Python 3",
   "language": "python",
   "name": "python3"
  },
  "language_info": {
   "codemirror_mode": {
    "name": "ipython",
    "version": 3
   },
   "file_extension": ".py",
   "mimetype": "text/x-python",
   "name": "python",
   "nbconvert_exporter": "python",
   "pygments_lexer": "ipython3",
   "version": "3.6.4"
  }
 },
 "nbformat": 4,
 "nbformat_minor": 1
}
