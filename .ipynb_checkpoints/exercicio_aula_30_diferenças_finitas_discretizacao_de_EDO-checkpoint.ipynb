{
 "cells": [
  {
   "cell_type": "code",
   "execution_count": 5,
   "metadata": {},
   "outputs": [],
   "source": [
    "import numpy as np\n",
    "import math\n",
    "import matplotlib.pyplot as plt\n",
    "np.set_printoptions(formatter={'float': lambda x: \"{0:0.3f}\".format(x)})\n",
    "\n",
    "%matplotlib inline"
   ]
  },
  {
   "cell_type": "code",
   "execution_count": 6,
   "metadata": {},
   "outputs": [],
   "source": [
    "#matrix declaration:\n",
    "\n",
    "m = np.array([    [2.15,-1,0,0,0,0,0,0,0,240],\n",
    "                  [-1,2.15,-1,0,0,0,0,0,0,0],\n",
    "                  [0,-1,2.15,-1,0,0,0,0,0,0],\n",
    "                  [0,0,-1,2.15,-1,0,0,0,0,0],\n",
    "                  [0,0,0,-1,2.15,-1,0,0,0,0],\n",
    "                  [0,0,0,0,-1,2.15,-1,0,0,0],\n",
    "                  [0,0,0,0,0,-1,2.15,-1,0,0],\n",
    "                  [0,0,0,0,0,0,-1,2.15,-1,0],\n",
    "                  [0,0,0,0,0,0,0,-1,2.15,150]\n",
    "              \n",
    "                       ])\n",
    "\n",
    "m = m.astype('float64')"
   ]
  },
  {
   "cell_type": "code",
   "execution_count": 11,
   "metadata": {},
   "outputs": [
    {
     "name": "stdout",
     "output_type": "stream",
     "text": [
      "165.75678113618136\n",
      "116.3773232144297\n",
      "84.45476061338059\n",
      "65.20072082598453\n",
      "55.72707634554891\n",
      "54.61273495379186\n",
      "61.690485654737586\n",
      "78.02192609228335\n",
      "106.05670981036437\n",
      "47\n",
      "8.7393152722802e-05\n"
     ]
    }
   ],
   "source": [
    "x1 = 0\n",
    "x2 = 0\n",
    "x3 = 0\n",
    "x4 = 0\n",
    "x5 = 0\n",
    "x6 = 0\n",
    "x7 = 0\n",
    "x8 = 0\n",
    "x9 = 0\n",
    "\n",
    "i = 0\n",
    "\n",
    "respostas1 = [0]\n",
    "\n",
    "error = 5\n",
    "\n",
    "while error > 0.0001:\n",
    "    \n",
    "    i += 1\n",
    "    \n",
    "    x1 = (m[0][9] - m[0][1]*x2 - m[0][2]*x3 - m[0][3]*x4 - m[0][4]*x5 - m[0][5]*x6 - m[0][6]*x7\n",
    "         - m[0][7]*x8 - m[0][8]*x9) / m[0][0]\n",
    "    \n",
    "    respostas1.append(x1)\n",
    "    \n",
    "    x2 = (m[1][9] - m[1][0]*x1 - m[1][2]*x3 - m[1][3]*x4 - m[1][4]*x5 - m[1][5]*x6 - m[1][6]*x7\n",
    "         - m[1][7]*x8 - m[1][8]*x9) / m[1][1]\n",
    "    \n",
    "    x3 = (m[2][9] - m[2][0]*x1 - m[2][1]*x2 - m[2][3]*x4 - m[2][4]*x5 - m[2][5]*x6 - m[2][6]*x7\n",
    "         - m[2][7]*x8 - m[2][8]*x9) / m[2][2]\n",
    "    \n",
    "    x4 = (m[3][9] - m[3][0]*x1 - m[3][1]*x2 - m[3][2]*x3 - m[3][4]*x5 - m[3][5]*x6 - m[3][6]*x7\n",
    "         - m[3][7]*x8 - m[3][8]*x9) / m[3][3]\n",
    "    \n",
    "    x5 = (m[4][9] - m[4][0]*x1 - m[4][1]*x2 - m[4][2]*x3 - m[4][3]*x4 - m[4][5]*x6 - m[4][6]*x7\n",
    "         - m[4][7]*x8 - m[4][8]*x9) / m[4][4]\n",
    "    \n",
    "    x6 = (m[5][9] - m[5][0]*x1 - m[5][1]*x2 - m[5][2]*x3 - m[5][3]*x4 - m[5][4]*x5 - m[5][6]*x7\n",
    "         - m[5][7]*x8 - m[5][8]*x9) / m[5][5]\n",
    "    \n",
    "    x7 = (m[6][9] - m[6][0]*x1 - m[6][1]*x2 - m[6][2]*x3 - m[6][3]*x4 - m[6][4]*x5 - m[6][5]*x6\n",
    "         - m[6][7]*x8 - m[6][8]*x9) / m[6][6]\n",
    "    \n",
    "    x8 = (m[7][9] - m[7][0]*x1 - m[7][1]*x2 - m[7][2]*x3 - m[7][3]*x4 - m[7][4]*x5 - m[7][5]*x6 \n",
    "          - m[7][6]*x7 - m[7][8]*x9) / m[7][7]\n",
    "    \n",
    "    x9 = (m[8][9] - m[8][0]*x1 - m[8][1]*x2 - m[8][2]*x3 - m[8][3]*x4 - m[8][4]*x5 - m[8][5]*x6 \n",
    "          - m[8][6]*x7 - m[8][7]*x8) / m[8][8]\n",
    "    \n",
    "    error = math.fabs(100*(x1 - respostas1[i-1])/x1)\n",
    "\n",
    "\n",
    "print(x1)\n",
    "print(x2)\n",
    "print(x3)\n",
    "print(x4)\n",
    "print(x5)\n",
    "print(x6)\n",
    "print(x7)\n",
    "print(x8)\n",
    "print(x9)\n",
    "\n",
    "print(i)\n",
    "print(error)"
   ]
  },
  {
   "cell_type": "markdown",
   "metadata": {},
   "source": [
    "# Respostas:\n",
    "\n",
    "# T0 = 240\n",
    "# T1 = 165.75678113618136\n",
    "# T2 = 116.3773232144297\n",
    "# T3 = 84.45476061338059\n",
    "# T4 = 65.20072082598453\n",
    "# T5 = 55.72707634554891\n",
    "# T6 = 54.61273495379186\n",
    "# T7 = 61.690485654737586\n",
    "# T8 = 78.02192609228335\n",
    "# T9 = 106.05670981036437\n",
    "# T10 = 150"
   ]
  }
 ],
 "metadata": {
  "kernelspec": {
   "display_name": "Python 3",
   "language": "python",
   "name": "python3"
  },
  "language_info": {
   "codemirror_mode": {
    "name": "ipython",
    "version": 3
   },
   "file_extension": ".py",
   "mimetype": "text/x-python",
   "name": "python",
   "nbconvert_exporter": "python",
   "pygments_lexer": "ipython3",
   "version": "3.6.4"
  }
 },
 "nbformat": 4,
 "nbformat_minor": 2
}
