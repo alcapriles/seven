{
 "cells": [
  {
   "cell_type": "code",
   "execution_count": 1,
   "metadata": {},
   "outputs": [],
   "source": [
    "import numpy as np\n",
    "import math\n",
    "import matplotlib.pyplot as plt\n",
    "np.set_printoptions(formatter={'float': lambda x: \"{0:0.3f}\".format(x)})\n",
    "\n",
    "%matplotlib inline"
   ]
  },
  {
   "cell_type": "code",
   "execution_count": 2,
   "metadata": {},
   "outputs": [],
   "source": [
    "#matrix declaration:\n",
    "\n",
    "m = np.array([    [-42.5,15,0,0,0,0,0,-1.5],\n",
    "                  [15,-42.5,15,0,0,0,0,0],\n",
    "                  [0,15,-42.5,15,0,0,0,0],\n",
    "                  [0,0,15,-42.5,15,0,0,0],\n",
    "                  [0,0,0,15,-42.5,15,0,0],\n",
    "                  [0,0,0,0,15,-42.5,15,0],\n",
    "                  [0,0,0,0,0,15,-42.5,0]\n",
    "\n",
    "                       ])\n",
    "\n",
    "m = m.astype('float64')"
   ]
  },
  {
   "cell_type": "code",
   "execution_count": 3,
   "metadata": {},
   "outputs": [
    {
     "name": "stdout",
     "output_type": "stream",
     "text": [
      "0.0413199284481483\n",
      "0.017073084733124654\n",
      "0.0070537724969631415\n",
      "0.002912576361965815\n",
      "0.0011985105297937647\n",
      "0.0004831951524123138\n",
      "0.0001705394655572872\n",
      "16\n",
      "9.198975013737038e-05\n"
     ]
    }
   ],
   "source": [
    "x1 = 0.01\n",
    "x2 = 0.01\n",
    "x3 = 0.01\n",
    "x4 = 0.01\n",
    "x5 = 0.01\n",
    "x6 = 0.01\n",
    "x7 = 0.01\n",
    "\n",
    "i = 0\n",
    "\n",
    "respostas1 = [0]\n",
    "\n",
    "error = 5\n",
    "\n",
    "while error > 0.0001:\n",
    "    \n",
    "    i += 1\n",
    "    \n",
    "    x1 = (m[0][7] - m[0][1]*x2 - m[0][2]*x3 - m[0][3]*x4 - m[0][4]*x5 - m[0][5]*x6 - m[0][6]*x7) / m[0][0]\n",
    "    \n",
    "    respostas1.append(x1)\n",
    "    \n",
    "    x2 = (m[1][7] - m[1][0]*x1 - m[1][2]*x3 - m[1][3]*x4 - m[1][4]*x5 - m[1][5]*x6 - m[1][6]*x7) / m[1][1]\n",
    "    \n",
    "    x3 = (m[2][7] - m[2][0]*x1 - m[2][1]*x2 - m[2][3]*x4 - m[2][4]*x5 - m[2][5]*x6 - m[2][6]*x7) / m[2][2]\n",
    "    \n",
    "    x4 = (m[3][7] - m[3][0]*x1 - m[3][1]*x2 - m[3][2]*x3 - m[3][4]*x5 - m[3][5]*x6 - m[3][6]*x7) / m[3][3]\n",
    "    \n",
    "    x5 = (m[4][7] - m[4][0]*x1 - m[4][1]*x2 - m[4][2]*x3 - m[4][3]*x4 - m[4][5]*x6 - m[4][6]*x7) / m[4][4]\n",
    "    \n",
    "    x6 = (m[5][7] - m[5][0]*x1 - m[5][1]*x2 - m[5][2]*x3 - m[5][3]*x4 - m[5][4]*x5 - m[5][6]*x7) / m[5][5]\n",
    "    \n",
    "    x7 = (m[6][7] - m[6][0]*x1 - m[6][1]*x2 - m[6][2]*x3 - m[6][3]*x4 - m[6][4]*x5 - m[6][5]*x6) / m[6][6]\n",
    "    \n",
    "    error = math.fabs(100*(x1 - respostas1[i-1])/x1)\n",
    "\n",
    "\n",
    "print(x1)\n",
    "print(x2)\n",
    "print(x3)\n",
    "print(x4)\n",
    "print(x5)\n",
    "print(x6)\n",
    "print(x7)\n",
    "\n",
    "print(i)\n",
    "print(error)"
   ]
  },
  {
   "cell_type": "code",
   "execution_count": 4,
   "metadata": {},
   "outputs": [
    {
     "ename": "ValueError",
     "evalue": "setting an array element with a sequence.",
     "output_type": "error",
     "traceback": [
      "\u001b[1;31m---------------------------------------------------------------------------\u001b[0m",
      "\u001b[1;31mValueError\u001b[0m                                Traceback (most recent call last)",
      "\u001b[1;32m<ipython-input-4-36657a3c2e62>\u001b[0m in \u001b[0;36m<module>\u001b[1;34m()\u001b[0m\n\u001b[0;32m     13\u001b[0m                        ])\n\u001b[0;32m     14\u001b[0m \u001b[1;33m\u001b[0m\u001b[0m\n\u001b[1;32m---> 15\u001b[1;33m \u001b[0mm\u001b[0m \u001b[1;33m=\u001b[0m \u001b[0mm\u001b[0m\u001b[1;33m.\u001b[0m\u001b[0mastype\u001b[0m\u001b[1;33m(\u001b[0m\u001b[1;34m'float64'\u001b[0m\u001b[1;33m)\u001b[0m\u001b[1;33m\u001b[0m\u001b[0m\n\u001b[0m",
      "\u001b[1;31mValueError\u001b[0m: setting an array element with a sequence."
     ]
    }
   ],
   "source": [
    "#matrix declaration:\n",
    "\n",
    "\n",
    "m = np.array([    [-42.5,30,0,0,0,0,-1.5],\n",
    "                  [0,-42.5,15,0,0,0,0,0,-1.5],\n",
    "                  [0,15,-42.5,15,0,0,0,0,0],\n",
    "                  [0,0,15,-42.5,15,0,0,0,0],\n",
    "                  [0,0,0,15,-42.5,15,0,0,0],\n",
    "                  [0,0,0,0,15,-42.5,15,0,0],\n",
    "                  [0,0,0,0,0,15,-42.5,15,0],\n",
    "                  [0,0,0,0,0,0,15,-42.5,0]\n",
    "\n",
    "                       ])\n",
    "\n",
    "m = m.astype('float64')\n"
   ]
  },
  {
   "cell_type": "code",
   "execution_count": null,
   "metadata": {},
   "outputs": [],
   "source": [
    "x1 = 0.1\n",
    "x2 = 0.1\n",
    "x3 = 0.1\n",
    "x4 = 0.1\n",
    "x5 = 0.1\n",
    "x6 = 0.1\n",
    "x7 = 0.1\n",
    "x8 = 0.1\n",
    "\n",
    "i = 0\n",
    "\n",
    "respostas1 = [0]\n",
    "\n",
    "error = 5\n",
    "\n",
    "while error > 0.0001:\n",
    "    \n",
    "    i += 1\n",
    "    \n",
    "    \n",
    "    x1 = (m[0][7] - m[0][1]*x2 - m[0][2]*x3 - m[0][3]*x4 - m[0][4]*x5 - m[0][5]*x6 - m[0][6]*x7\n",
    "         - m[0][7]*x8) / m[0][0]\n",
    "    \n",
    "    respostas1.append(x1)\n",
    "    \n",
    "    x2 = (m[1][7] - m[1][0]*x1 - m[1][2]*x3 - m[1][3]*x4 - m[1][4]*x5 - m[1][5]*x6 - m[1][6]*x7\n",
    "         - m[1][7]*x8) / m[1][1]\n",
    "    \n",
    "    x3 = (m[2][7] - m[2][0]*x1 - m[2][1]*x2 - m[2][3]*x4 - m[2][4]*x5 - m[2][5]*x6 - m[2][6]*x7\n",
    "         - m[2][7]*x8) / m[2][2]\n",
    "    \n",
    "    x4 = (m[3][7] - m[3][0]*x1 - m[3][1]*x2 - m[3][2]*x3 - m[3][4]*x5 - m[3][5]*x6 - m[3][6]*x7\n",
    "         - m[3][7]*x8) / m[3][3]\n",
    "    \n",
    "    x5 = (m[4][7] - m[4][0]*x1 - m[4][1]*x2 - m[4][2]*x3 - m[4][3]*x4 - m[4][5]*x6 - m[4][6]*x7\n",
    "         - m[4][7]*x8) / m[4][4]\n",
    "    \n",
    "    x6 = (m[5][7] - m[5][0]*x1 - m[5][1]*x2 - m[5][2]*x3 - m[5][3]*x4 - m[5][4]*x5 - m[5][6]*x7\n",
    "         - m[5][7]*x8) / m[5][5]\n",
    "    \n",
    "    x7 = (m[6][7] - m[6][0]*x1 - m[6][1]*x2 - m[6][2]*x3 - m[6][3]*x4 - m[6][4]*x5 - m[6][5]*x6\n",
    "         - m[6][7]*x8) / m[6][6]\n",
    "    \n",
    "    x8 = (m[7][7] - m[7][0]*x1 - m[7][1]*x2 - m[7][2]*x3 - m[7][3]*x4 - m[7][4]*x5 - m[7][5]*x6 \n",
    "          - m[7][6]*x7) / m[7][7]\n",
    "    \n",
    "    error = math.fabs(100*(x1 - respostas1[i-1])/x1)\n",
    "\n",
    "\n",
    "print(x1)\n",
    "print(x2)\n",
    "print(x3)\n",
    "print(x4)\n",
    "print(x5)\n",
    "print(x6)\n",
    "print(x7)\n",
    "print(x8)\n",
    "\n",
    "print(i)\n",
    "print(error)"
   ]
  },
  {
   "cell_type": "code",
   "execution_count": null,
   "metadata": {},
   "outputs": [],
   "source": []
  },
  {
   "cell_type": "code",
   "execution_count": null,
   "metadata": {},
   "outputs": [],
   "source": []
  },
  {
   "cell_type": "code",
   "execution_count": null,
   "metadata": {},
   "outputs": [],
   "source": []
  },
  {
   "cell_type": "code",
   "execution_count": null,
   "metadata": {},
   "outputs": [],
   "source": []
  },
  {
   "cell_type": "code",
   "execution_count": null,
   "metadata": {},
   "outputs": [],
   "source": []
  }
 ],
 "metadata": {
  "kernelspec": {
   "display_name": "Python 3",
   "language": "python",
   "name": "python3"
  },
  "language_info": {
   "codemirror_mode": {
    "name": "ipython",
    "version": 3
   },
   "file_extension": ".py",
   "mimetype": "text/x-python",
   "name": "python",
   "nbconvert_exporter": "python",
   "pygments_lexer": "ipython3",
   "version": "3.6.4"
  }
 },
 "nbformat": 4,
 "nbformat_minor": 2
}
