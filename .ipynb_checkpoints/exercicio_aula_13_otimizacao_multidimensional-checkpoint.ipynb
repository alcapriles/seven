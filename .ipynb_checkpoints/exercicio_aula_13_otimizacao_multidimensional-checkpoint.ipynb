{
 "cells": [
  {
   "cell_type": "markdown",
   "metadata": {
    "collapsed": true
   },
   "source": [
    "## Exercício Referente à Aula 13 - Otimização multidimensional sem restrições"
   ]
  },
  {
   "cell_type": "markdown",
   "metadata": {},
   "source": [
    "## O exercício será uma junção do 14.3 com o 14.7"
   ]
  },
  {
   "cell_type": "code",
   "execution_count": 38,
   "metadata": {},
   "outputs": [],
   "source": [
    "import math\n",
    "import matplotlib.pyplot as plt\n",
    "%matplotlib inline"
   ]
  },
  {
   "cell_type": "markdown",
   "metadata": {},
   "source": [
    "Executar uma iteração do método do aclive máximo para localizar o máximo de uma função de 2 variáveis.\n",
    "\n",
    "Usar aproximações iniciais x = 0 e y = 0.\n",
    "\n",
    "Utilizar a bissecção e a falsa posição para encontrar o tamanho do passo ótimo na direção de busca do gradiente.\n",
    "\n",
    "Considerar primeiro \n",
    "\n",
    "- xl = 0 e xu = 1\n",
    "\n",
    "Depois          \n",
    "\n",
    "- xl = 0 e xu = 0.5\n",
    "\n",
    "E por último        \n",
    "\n",
    "- xl = 0 e xu = 0.25\n",
    "\n",
    "- Utilizar epsilon_s = 10**-4"
   ]
  },
  {
   "cell_type": "markdown",
   "metadata": {},
   "source": [
    "Passos: calcular o gradiente, depois igualar a derivada de G(hlinha) a zero e encontrar uma função para h, depois determinar x e y."
   ]
  },
  {
   "cell_type": "markdown",
   "metadata": {},
   "source": [
    "Derivada parcial em x, para o ponto x = 0 -> 4 + 2*x - 8*(x**3) + 2*y -> 4\n",
    "\n",
    "Derivada parcial em y, para o ponto y = 0 -> 2 + 2*x - 6*y -> 2"
   ]
  },
  {
   "cell_type": "markdown",
   "metadata": {},
   "source": [
    "### Assim, o vetor gradiente é dado por:"
   ]
  },
  {
   "cell_type": "markdown",
   "metadata": {},
   "source": [
    "grad(f) = 4i + 2j"
   ]
  },
  {
   "cell_type": "markdown",
   "metadata": {},
   "source": [
    "### Assim, a equação estará na direção f(4h, 2h). Calculando em f(x,y), dará igual a:\n",
    "### G(h)  = 20*(h**2) -512*(h**4) + 20*h\n",
    "### G'(h) = -2048*(h**3) + 40*h + 20"
   ]
  },
  {
   "cell_type": "markdown",
   "metadata": {},
   "source": [
    "# Método da Bissecção"
   ]
  },
  {
   "cell_type": "markdown",
   "metadata": {},
   "source": [
    "### Primeiro caso"
   ]
  },
  {
   "cell_type": "code",
   "execution_count": 1,
   "metadata": {},
   "outputs": [],
   "source": [
    "def glinha(h):\n",
    "    return  -2048*(h**3) + 40*h + 20"
   ]
  },
  {
   "cell_type": "markdown",
   "metadata": {},
   "source": [
    "### Plotando o gráfico desta função estudada:"
   ]
  },
  {
   "cell_type": "code",
   "execution_count": 61,
   "metadata": {},
   "outputs": [],
   "source": [
    "x = [0.001*i for i in range(0,1000)]\n",
    "glinha = [-2048*(h**3) + 40*h + 20 for h in x]"
   ]
  },
  {
   "cell_type": "code",
   "execution_count": 63,
   "metadata": {},
   "outputs": [
    {
     "data": {
      "image/png": "[encoded data removed]",
      "text/plain": [
       "<matplotlib.figure.Figure at 0x23edee1d438>"
      ]
     },
     "metadata": {},
     "output_type": "display_data"
    }
   ],
   "source": [
    "plt.figure(figsize=(10,10))\n",
    "plt.plot(x,glinha, color=\"black\", linewidth=0.8)\n",
    "plt.title('G linha')\n",
    "plt.grid()"
   ]
  },
  {
   "cell_type": "code",
   "execution_count": 20,
   "metadata": {},
   "outputs": [],
   "source": [
    "def bis(x_lower, x_upper, f):\n",
    "\n",
    "    error = 1\n",
    "    \n",
    "    dummy_list = [2,50]\n",
    "    \n",
    "    i = 1\n",
    "    \n",
    "    while error > 0.0001:\n",
    "        \n",
    "        i +=1\n",
    "        \n",
    "        x_root = (x_lower+x_upper)/2\n",
    "        \n",
    "        product =  f(x_lower)* f(x_root)\n",
    "        if product < 0:\n",
    "            #the root lies in the lower subinterval\n",
    "            x_upper = x_root\n",
    "        if product > 0:\n",
    "            #the root lies in the upper subinterval\n",
    "            x_lower = x_root\n",
    "        if product == 0:\n",
    "            return x_root\n",
    "            \n",
    "        dummy_list.append(x_root)\n",
    "        \n",
    "        error = math.fabs(((x_root - dummy_list[i-1])/(x_root))*100)\n",
    "        \n",
    "        # observação: na linha abaixo, descontei 1 do cálculo de iterações porque já comecei a contar a partir do 2, conforme\n",
    "        # código acima. fiz isso por conta da lista que usei para calcular os erros.\n",
    "\n",
    "    return x_root, error,i-1\n"
   ]
  },
  {
   "cell_type": "code",
   "execution_count": 21,
   "metadata": {},
   "outputs": [
    {
     "name": "stdout",
     "output_type": "stream",
     "text": [
      "(0.24402785301208496, 9.770137964118191e-05, 22)\n"
     ]
    }
   ],
   "source": [
    "print(bis(0,1,glinha))"
   ]
  },
  {
   "cell_type": "markdown",
   "metadata": {},
   "source": [
    "### Segundo caso"
   ]
  },
  {
   "cell_type": "code",
   "execution_count": 22,
   "metadata": {},
   "outputs": [
    {
     "name": "stdout",
     "output_type": "stream",
     "text": [
      "(0.24402785301208496, 9.770137964118191e-05, 21)\n"
     ]
    }
   ],
   "source": [
    "print(bis(0,0.5,glinha))"
   ]
  },
  {
   "cell_type": "markdown",
   "metadata": {},
   "source": [
    "### Terceiro caso"
   ]
  },
  {
   "cell_type": "code",
   "execution_count": 23,
   "metadata": {},
   "outputs": [
    {
     "name": "stdout",
     "output_type": "stream",
     "text": [
      "(0.24402785301208496, 9.770137964118191e-05, 20)\n"
     ]
    }
   ],
   "source": [
    "print(bis(0,0.25,glinha))"
   ]
  },
  {
   "cell_type": "markdown",
   "metadata": {},
   "source": [
    "# Método da Falsa posição"
   ]
  },
  {
   "cell_type": "markdown",
   "metadata": {},
   "source": [
    "### Primeiro caso"
   ]
  },
  {
   "cell_type": "code",
   "execution_count": 32,
   "metadata": {},
   "outputs": [],
   "source": [
    "def falpos(x_lower, x_upper, f):   \n",
    "    \n",
    "    error = 50\n",
    "    dummy_list = [2,50]\n",
    "    i = 1\n",
    "    \n",
    "    while error > 0.0001:\n",
    "        \n",
    "        i+=1\n",
    "        \n",
    "        #x_root = (x_lower+x_upper)/2\n",
    "        x_root = x_upper - (f(x_upper)*(x_lower - x_upper))/(f(x_lower) - f(x_upper))\n",
    "        product =  f(x_lower)* f(x_root)\n",
    "        if product < 0:\n",
    "            #the root lies in the lower subinterval\n",
    "            x_upper = x_root\n",
    "        if product > 0:\n",
    "            #the root lies in the upper subinterval\n",
    "            x_lower = x_root\n",
    "        if product == 0:\n",
    "            return x_root\n",
    "        \n",
    "        dummy_list.append(x_root)\n",
    "        error = math.fabs(((x_root - dummy_list[i-1])/(x_root))*100)\n",
    "        \n",
    "        # observação: na linha abaixo, descontei 1 do cálculo de iterações porque já comecei a contar a partir do 2, conforme\n",
    "        # código acima. fiz isso por conta da lista que usei para calcular os erros.\n",
    "\n",
    "\n",
    "    return x_root, error, i-1"
   ]
  },
  {
   "cell_type": "code",
   "execution_count": 33,
   "metadata": {},
   "outputs": [
    {
     "name": "stdout",
     "output_type": "stream",
     "text": [
      "(0.24402635497772673, 9.945909639980923e-05, 101)\n"
     ]
    }
   ],
   "source": [
    "print(falpos(0,1,glinha))"
   ]
  },
  {
   "cell_type": "markdown",
   "metadata": {},
   "source": [
    "### Segundo caso"
   ]
  },
  {
   "cell_type": "code",
   "execution_count": 34,
   "metadata": {},
   "outputs": [
    {
     "name": "stdout",
     "output_type": "stream",
     "text": [
      "(0.2440276836137819, 9.984036381019224e-05, 30)\n"
     ]
    }
   ],
   "source": [
    "print(falpos(0,0.5,glinha))"
   ]
  },
  {
   "cell_type": "markdown",
   "metadata": {},
   "source": [
    "### Terceiro caso"
   ]
  },
  {
   "cell_type": "code",
   "execution_count": 35,
   "metadata": {
    "scrolled": true
   },
   "outputs": [
    {
     "name": "stdout",
     "output_type": "stream",
     "text": [
      "(0.2440280706206517, 3.727057783245858e-06, 6)\n"
     ]
    }
   ],
   "source": [
    "print(falpos(0,0.25,glinha))"
   ]
  },
  {
   "cell_type": "markdown",
   "metadata": {},
   "source": [
    "# Resposta"
   ]
  },
  {
   "cell_type": "code",
   "execution_count": 64,
   "metadata": {},
   "outputs": [
    {
     "name": "stdout",
     "output_type": "stream",
     "text": [
      "0.9761122824826068\n",
      "0.4880561412413034\n"
     ]
    }
   ],
   "source": [
    "print(4*0.2440280706206517)\n",
    "print(2*0.2440280706206517)"
   ]
  },
  {
   "cell_type": "code",
   "execution_count": null,
   "metadata": {},
   "outputs": [],
   "source": [
    "## O ponto (4h, 2h) no qual ocorre a altura máxima será o ponto (0.976112, 0.488056)."
   ]
  },
  {
   "cell_type": "markdown",
   "metadata": {},
   "source": [
    "# Comentário"
   ]
  },
  {
   "cell_type": "code",
   "execution_count": null,
   "metadata": {},
   "outputs": [],
   "source": [
    "### Na bissecção, cada vez que se reduz o intervalo à metade"
   ]
  },
  {
   "cell_type": "code",
   "execution_count": null,
   "metadata": {},
   "outputs": [],
   "source": []
  },
  {
   "cell_type": "code",
   "execution_count": null,
   "metadata": {},
   "outputs": [],
   "source": []
  },
  {
   "cell_type": "code",
   "execution_count": null,
   "metadata": {},
   "outputs": [],
   "source": []
  },
  {
   "cell_type": "code",
   "execution_count": null,
   "metadata": {},
   "outputs": [],
   "source": []
  },
  {
   "cell_type": "code",
   "execution_count": null,
   "metadata": {},
   "outputs": [],
   "source": []
  }
 ],
 "metadata": {
  "kernelspec": {
   "display_name": "Python 3",
   "language": "python",
   "name": "python3"
  },
  "language_info": {
   "codemirror_mode": {
    "name": "ipython",
    "version": 3
   },
   "file_extension": ".py",
   "mimetype": "text/x-python",
   "name": "python",
   "nbconvert_exporter": "python",
   "pygments_lexer": "ipython3",
   "version": "3.6.4"
  }
 },
 "nbformat": 4,
 "nbformat_minor": 1
}
