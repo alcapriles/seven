{
 "cells": [
  {
   "cell_type": "markdown",
   "metadata": {},
   "source": [
    "# Exercício 21.21 - Integração Numérica - Newton Cotes"
   ]
  },
  {
   "cell_type": "code",
   "execution_count": 1,
   "metadata": {
    "collapsed": true
   },
   "outputs": [],
   "source": [
    "import math\n",
    "import matplotlib.pyplot as plt\n",
    "import numpy as np\n",
    "import pandas as pd\n",
    "%matplotlib inline"
   ]
  },
  {
   "cell_type": "markdown",
   "metadata": {},
   "source": [
    "Regra do Trapézio"
   ]
  },
  {
   "cell_type": "code",
   "execution_count": 2,
   "metadata": {
    "collapsed": true
   },
   "outputs": [],
   "source": [
    "def trap(f,a,b):\n",
    "    return (b-a)*(f(a)+f(b))/2"
   ]
  },
  {
   "cell_type": "markdown",
   "metadata": {},
   "source": [
    "Regra do Trapézio - Multiplas Aplicações"
   ]
  },
  {
   "cell_type": "code",
   "execution_count": 3,
   "metadata": {
    "collapsed": true
   },
   "outputs": [],
   "source": [
    "def multiTrap(n,f,a,b):\n",
    "    s = 0\n",
    "    x = np.linspace(a,b,n+1).tolist()\n",
    "    for i in range(1,n):\n",
    "        s += f(x[i])\n",
    "    s *= 2\n",
    "    s += (f(x[0]) + f(x[n]))\n",
    "    s *= (b-a)/(2*n)\n",
    "    return s"
   ]
  },
  {
   "cell_type": "code",
   "execution_count": 4,
   "metadata": {
    "collapsed": true
   },
   "outputs": [],
   "source": [
    "def f(x):\n",
    "    return 3*math.cos(x) + 6"
   ]
  },
  {
   "cell_type": "markdown",
   "metadata": {},
   "source": [
    "Regra 1/3 de Simpson"
   ]
  },
  {
   "cell_type": "code",
   "execution_count": 5,
   "metadata": {
    "collapsed": true
   },
   "outputs": [],
   "source": [
    "def simpson(f,a,b):\n",
    "    s = f(a) + 4*f((a+b)/2) + f(b)\n",
    "    s *= (b-a)/6\n",
    "    return s"
   ]
  },
  {
   "cell_type": "markdown",
   "metadata": {},
   "source": [
    "Regra 1/3 de Simpson - Múltiplas Aplicações"
   ]
  },
  {
   "cell_type": "code",
   "execution_count": 6,
   "metadata": {
    "collapsed": true
   },
   "outputs": [],
   "source": [
    "def multiSimpson(n,f,a,b):\n",
    "    s = 0\n",
    "    x = np.linspace(a,b,n+1).tolist()\n",
    "    for i in range(1,n):\n",
    "        if i % 2 == 0:\n",
    "            s += 2*f(x[i])\n",
    "        if i % 2 == 1:\n",
    "            s += 4*f(x[i])\n",
    "    s += (f(x[0]) + f(x[n]))\n",
    "    s *= (b-a)/(3*n)\n",
    "    return s"
   ]
  },
  {
   "cell_type": "markdown",
   "metadata": {},
   "source": [
    "Regra 3/8 de Simpson"
   ]
  },
  {
   "cell_type": "code",
   "execution_count": 7,
   "metadata": {
    "collapsed": true
   },
   "outputs": [],
   "source": [
    "def simpson38(f,a,b):\n",
    "    s = f(a) + 3*f(a+(a+b)/3) + 3*f(a+2*(a+b)/3) + f(b)\n",
    "    s *= (b-a)/8\n",
    "    return s"
   ]
  },
  {
   "cell_type": "markdown",
   "metadata": {},
   "source": [
    "# Gráfico da função"
   ]
  },
  {
   "cell_type": "code",
   "execution_count": 8,
   "metadata": {},
   "outputs": [
    {
     "data": {
      "image/png": "[encoded data removed]",
      "text/plain": [
       "<matplotlib.figure.Figure at 0x29237fc9d30>"
      ]
     },
     "metadata": {},
     "output_type": "display_data"
    }
   ],
   "source": [
    "plt.figure(figsize=(13,13))\n",
    "x = np.linspace(0,math.pi/2,100).tolist()\n",
    "y = [3*math.cos(i) + 6 for i in x]\n",
    "plt.plot(x,y, color='magenta')\n",
    "plt.axis([0,math.pi/2,-1,10])\n",
    "plt.grid()"
   ]
  },
  {
   "cell_type": "markdown",
   "metadata": {},
   "source": [
    "# (a) solução analítica"
   ]
  },
  {
   "cell_type": "markdown",
   "metadata": {},
   "source": [
    "<img src=\"cotes.PNG\">"
   ]
  },
  {
   "cell_type": "markdown",
   "metadata": {},
   "source": [
    "# Resultado analítico:"
   ]
  },
  {
   "cell_type": "code",
   "execution_count": 9,
   "metadata": {},
   "outputs": [
    {
     "name": "stdout",
     "output_type": "stream",
     "text": [
      "12.42477796076938\n"
     ]
    }
   ],
   "source": [
    "resultado = 3*math.pi + 3\n",
    "print(resultado)"
   ]
  },
  {
   "cell_type": "markdown",
   "metadata": {},
   "source": [
    "# (b) uma única aplicação da regra do trapézio"
   ]
  },
  {
   "cell_type": "code",
   "execution_count": 10,
   "metadata": {},
   "outputs": [
    {
     "name": "stdout",
     "output_type": "stream",
     "text": [
      "11.780972450961723\n"
     ]
    }
   ],
   "source": [
    "res = trap(f,0,math.pi/2)\n",
    "print(res)"
   ]
  },
  {
   "cell_type": "markdown",
   "metadata": {},
   "source": [
    "## Erro relativo porcentual:"
   ]
  },
  {
   "cell_type": "code",
   "execution_count": 11,
   "metadata": {},
   "outputs": [
    {
     "name": "stdout",
     "output_type": "stream",
     "text": [
      "5.18162587565299\n"
     ]
    }
   ],
   "source": [
    "erro = math.fabs( (resultado - res)/resultado )*100\n",
    "print(erro)"
   ]
  },
  {
   "cell_type": "markdown",
   "metadata": {},
   "source": [
    "# (c) aplicação múltipla da regra do trapézio com n = 2"
   ]
  },
  {
   "cell_type": "code",
   "execution_count": 12,
   "metadata": {},
   "outputs": [
    {
     "name": "stdout",
     "output_type": "stream",
     "text": [
      "12.268956307674939\n"
     ]
    }
   ],
   "source": [
    "res = multiTrap(2,f,0,math.pi/2)\n",
    "print(res)"
   ]
  },
  {
   "cell_type": "markdown",
   "metadata": {},
   "source": [
    "## Erro relativo porcentual:"
   ]
  },
  {
   "cell_type": "code",
   "execution_count": 13,
   "metadata": {},
   "outputs": [
    {
     "name": "stdout",
     "output_type": "stream",
     "text": [
      "1.254120223205915\n"
     ]
    }
   ],
   "source": [
    "erro = math.fabs( (resultado - res)/resultado )*100\n",
    "print(erro)"
   ]
  },
  {
   "cell_type": "markdown",
   "metadata": {},
   "source": [
    "# aplicação múltipla da regra do trapézio com n = 4"
   ]
  },
  {
   "cell_type": "code",
   "execution_count": 14,
   "metadata": {},
   "outputs": [
    {
     "name": "stdout",
     "output_type": "stream",
     "text": [
      "12.386125363687706\n"
     ]
    }
   ],
   "source": [
    "res = multiTrap(4,f,0,math.pi/2)\n",
    "print(res)"
   ]
  },
  {
   "cell_type": "markdown",
   "metadata": {},
   "source": [
    "## Erro relativo porcentual:"
   ]
  },
  {
   "cell_type": "code",
   "execution_count": 15,
   "metadata": {},
   "outputs": [
    {
     "name": "stdout",
     "output_type": "stream",
     "text": [
      "0.3110928597977159\n"
     ]
    }
   ],
   "source": [
    "erro = math.fabs( (resultado - res)/resultado )*100\n",
    "print(erro)"
   ]
  },
  {
   "cell_type": "markdown",
   "metadata": {},
   "source": [
    "# (d) Uma aplicação da regra de Simpson 1/3"
   ]
  },
  {
   "cell_type": "code",
   "execution_count": 16,
   "metadata": {},
   "outputs": [
    {
     "name": "stdout",
     "output_type": "stream",
     "text": [
      "12.43161759324601\n"
     ]
    }
   ],
   "source": [
    "res = simpson(f,0,math.pi/2)\n",
    "print(res)"
   ]
  },
  {
   "cell_type": "markdown",
   "metadata": {},
   "source": [
    "## Erro relativo porcentual:"
   ]
  },
  {
   "cell_type": "code",
   "execution_count": 17,
   "metadata": {},
   "outputs": [
    {
     "name": "stdout",
     "output_type": "stream",
     "text": [
      "0.055048327609766884\n"
     ]
    }
   ],
   "source": [
    "erro = math.fabs( (resultado - res)/resultado )*100\n",
    "print(erro)"
   ]
  },
  {
   "cell_type": "markdown",
   "metadata": {},
   "source": [
    "# (e) Aplicação múltipla da regra de Simpson 1/3, com n = 4"
   ]
  },
  {
   "cell_type": "code",
   "execution_count": 18,
   "metadata": {},
   "outputs": [
    {
     "name": "stdout",
     "output_type": "stream",
     "text": [
      "12.425181715691961\n"
     ]
    }
   ],
   "source": [
    "res = multiSimpson(4,f,0,math.pi/2)\n",
    "print(res)"
   ]
  },
  {
   "cell_type": "markdown",
   "metadata": {},
   "source": [
    "## Erro relativo porcentual:"
   ]
  },
  {
   "cell_type": "code",
   "execution_count": 19,
   "metadata": {},
   "outputs": [
    {
     "name": "stdout",
     "output_type": "stream",
     "text": [
      "0.003249594671683854\n"
     ]
    }
   ],
   "source": [
    "erro = math.fabs( (resultado - res)/resultado )*100\n",
    "print(erro)"
   ]
  },
  {
   "cell_type": "markdown",
   "metadata": {},
   "source": [
    "# (f) Uma aplicação da regra 3/8 de Simpson "
   ]
  },
  {
   "cell_type": "code",
   "execution_count": 20,
   "metadata": {},
   "outputs": [
    {
     "name": "stdout",
     "output_type": "stream",
     "text": [
      "12.427792730712216\n"
     ]
    }
   ],
   "source": [
    "res = simpson38(f,0,math.pi/2)\n",
    "print(res)"
   ]
  },
  {
   "cell_type": "markdown",
   "metadata": {},
   "source": [
    "## Erro relativo porcentual:"
   ]
  },
  {
   "cell_type": "code",
   "execution_count": 21,
   "metadata": {},
   "outputs": [
    {
     "name": "stdout",
     "output_type": "stream",
     "text": [
      "0.02426417560423115\n"
     ]
    }
   ],
   "source": [
    "erro = math.fabs( (resultado - res)/resultado )*100\n",
    "print(erro)"
   ]
  },
  {
   "cell_type": "markdown",
   "metadata": {},
   "source": [
    "# (g) Aplicação múltipla da regra de Simpson, com n = 5 (Uma aplicação de Simpson 1/3 e uma aplicação de Simpson 3/8)"
   ]
  },
  {
   "cell_type": "markdown",
   "metadata": {},
   "source": [
    "## Serão necessários 6 pontos (para 5 intervalos), a e b e mais 4 pontos interiores."
   ]
  },
  {
   "cell_type": "code",
   "execution_count": 27,
   "metadata": {},
   "outputs": [
    {
     "name": "stdout",
     "output_type": "stream",
     "text": [
      "8.08222038459913\n",
      "12.42511195970102\n"
     ]
    }
   ],
   "source": [
    "res = simpson38(f,0,3*math.pi/10) \n",
    "print(res)\n",
    "res += simpson(f,3*math.pi/10,math.pi/2)\n",
    "print(res)"
   ]
  },
  {
   "cell_type": "markdown",
   "metadata": {},
   "source": [
    "## Erro relativo porcentual:"
   ]
  },
  {
   "cell_type": "code",
   "execution_count": 25,
   "metadata": {},
   "outputs": [
    {
     "name": "stdout",
     "output_type": "stream",
     "text": [
      "0.0026881682127074032\n"
     ]
    }
   ],
   "source": [
    "erro = math.fabs( (resultado - res)/resultado )*100\n",
    "print(erro)"
   ]
  },
  {
   "cell_type": "markdown",
   "metadata": {},
   "source": [
    "## Dessa maneira, é possível concluir que é melhor colocar Simpson 1/3 no primeiro intervalo e Simpson 3/8 no segundo intervalo, pois assim o erro relativo porcentual fica menor."
   ]
  },
  {
   "cell_type": "markdown",
   "metadata": {},
   "source": [
    "## Analisando todos os métodos, o método com o menor erro foi obtido pela aplicação múltipla da regra de Simpson 1/3 com a regra de Simpson 3/8."
   ]
  }
 ],
 "metadata": {
  "kernelspec": {
   "display_name": "Python 3",
   "language": "python",
   "name": "python3"
  },
  "language_info": {
   "codemirror_mode": {
    "name": "ipython",
    "version": 3
   },
   "file_extension": ".py",
   "mimetype": "text/x-python",
   "name": "python",
   "nbconvert_exporter": "python",
   "pygments_lexer": "ipython3",
   "version": "3.6.4"
  }
 },
 "nbformat": 4,
 "nbformat_minor": 1
}
