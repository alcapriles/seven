{
 "cells": [
  {
   "cell_type": "markdown",
   "metadata": {
    "collapsed": true
   },
   "source": [
    "# Exercício 11.18: Gauss-Seidel"
   ]
  },
  {
   "cell_type": "markdown",
   "metadata": {},
   "source": [
    "### Utilizar Gauss-Seidel (a) sem relaxamento e (b) com relaxamento, utilizando lambda = 1.2\n",
    "epsilon-s = 10^-4 %"
   ]
  },
  {
   "cell_type": "markdown",
   "metadata": {},
   "source": [
    "zinco, vidro, cobre\n",
    "\n",
    "\n",
    "t    1,   2,    4   \n",
    "\n",
    "r    3,   1,    3\n",
    "\n",
    "c    1,   3,    2\n",
    "\n",
    "510,  610, 960  \n",
    "(supplies)"
   ]
  },
  {
   "cell_type": "code",
   "execution_count": 1,
   "metadata": {},
   "outputs": [],
   "source": [
    "import numpy as np\n",
    "import math\n",
    "import matplotlib.pyplot as plt\n",
    "np.set_printoptions(formatter={'float': lambda x: \"{0:0.3f}\".format(x)})\n",
    "\n",
    "%matplotlib inline"
   ]
  },
  {
   "cell_type": "markdown",
   "metadata": {},
   "source": [
    "# (a) Sem relaxamento"
   ]
  },
  {
   "cell_type": "code",
   "execution_count": 2,
   "metadata": {},
   "outputs": [],
   "source": [
    "#matrix declaration:\n",
    "# transistor     /    resistor    /     chip de computador \n",
    "m = np.array([    [4,3,2,960],\n",
    "                  [1,3,1,510],\n",
    "                  [2,1,3,610],\n",
    "                  \n",
    "                       ])\n",
    "\n",
    "m = m.astype('float64')"
   ]
  },
  {
   "cell_type": "code",
   "execution_count": 3,
   "metadata": {},
   "outputs": [
    {
     "name": "stdout",
     "output_type": "stream",
     "text": [
      "120.0000056766003\n",
      "99.9999872818397\n",
      "90.00000045498656\n",
      "18\n",
      "3.3152549192654695e-05\n"
     ]
    }
   ],
   "source": [
    "x1 = 0\n",
    "x2 = 0\n",
    "x3 = 0\n",
    "i = 0\n",
    "\n",
    "respostas1 = [0]\n",
    "\n",
    "error = 5\n",
    "\n",
    "while error > 0.0001:\n",
    "    \n",
    "    i += 1\n",
    "    \n",
    "    x1 = (m[0][3] - m[0][1]*x2 - m[0][2]*x3) / m[0][0]\n",
    "    \n",
    "    respostas1.append(x1)\n",
    "    \n",
    "    x2 = (m[1][3] - m[1][0]*x1 - m[1][2]*x3) / m[1][1]\n",
    "    \n",
    "    x3 = (m[2][3] - m[2][0]*x1 - m[2][1]*x2) / m[2][2]\n",
    "    \n",
    "    error = math.fabs(100*(x1 - respostas1[i-1])/x1)\n",
    "\n",
    "\n",
    "print(x1)\n",
    "print(x2)\n",
    "print(x3)\n",
    "print(i)\n",
    "print(error)"
   ]
  },
  {
   "cell_type": "markdown",
   "metadata": {},
   "source": [
    "# O erro target foi setado para um valor extremamente baixo. Com 18 iterações se chegou aos valores para x1, x2 e x3, os quais correspondem aos valores reais."
   ]
  },
  {
   "cell_type": "markdown",
   "metadata": {},
   "source": [
    "# Os valores são de 120.0000, 99.9999 e 90.0000 para T, R e C, respectivamente."
   ]
  },
  {
   "cell_type": "markdown",
   "metadata": {},
   "source": [
    "# (b) Com relaxamento (lambda = 1.2)"
   ]
  },
  {
   "cell_type": "code",
   "execution_count": 5,
   "metadata": {},
   "outputs": [],
   "source": [
    "def gauss_seidel_relax(Lambda, m):\n",
    "    x1 = 0\n",
    "    x2 = 0\n",
    "    x3 = 0\n",
    "    i = 0\n",
    "    dummy1 = [0]\n",
    "    dummy2 = [0]\n",
    "    dummy3 = [0]\n",
    "    error = 5\n",
    "\n",
    "    while error > 0.0001:\n",
    "\n",
    "        i += 1\n",
    "        x1 = (m[0][3] - m[0][1]*x2 - m[0][2]*x3) / m[0][0]\n",
    "        x1 *= Lambda\n",
    "        x1 += (1-Lambda)*dummy1[i-1]\n",
    "\n",
    "        dummy1.append(x1)\n",
    "\n",
    "        x2 = (m[1][3] - m[1][0]*x1 - m[1][2]*x3) / m[1][1]\n",
    "        x2 *= Lambda\n",
    "        x2 += (1-Lambda)*dummy2[i-1]\n",
    "\n",
    "        dummy2.append(x2)\n",
    "\n",
    "        x3 = (m[2][3] - m[2][0]*x1 - m[2][1]*x2) / m[2][2]\n",
    "        x3 *= Lambda\n",
    "        x3 += (1-Lambda)*dummy3[i-1]\n",
    "\n",
    "        dummy3.append(x3)\n",
    "\n",
    "        error = math.fabs(100*(x1 - dummy1[i-1])/x1)\n",
    "        \n",
    "    return i, x1, x2, x3, error"
   ]
  },
  {
   "cell_type": "code",
   "execution_count": 6,
   "metadata": {},
   "outputs": [
    {
     "name": "stdout",
     "output_type": "stream",
     "text": [
      "(17, 120.0009161795576, 100.00008557803079, 89.99938816506584, 1.153877743461685e-05)\n"
     ]
    }
   ],
   "source": [
    "print(gauss_seidel_relax(1.2, m))\n",
    "# i, x1, x2, x3, error"
   ]
  },
  {
   "cell_type": "markdown",
   "metadata": {},
   "source": [
    "# Os valores são de 120.0009, 100.0000 e 89.9993 para T, R e C, respectivamente."
   ]
  },
  {
   "cell_type": "markdown",
   "metadata": {},
   "source": [
    "### Abaixo serão testados alguns valores de lambda e será feito um gráfico comparativo que apresente o número de iterações frente \n",
    "### ao valor de lambda."
   ]
  },
  {
   "cell_type": "code",
   "execution_count": 7,
   "metadata": {},
   "outputs": [],
   "source": [
    "def evaluate(range_for_evaluation, function):\n",
    "    ordinate = []\n",
    "    for i in range_for_evaluation:\n",
    "        ordinate.append(function(i, m)[0])\n",
    "    return ordinate"
   ]
  },
  {
   "cell_type": "code",
   "execution_count": 73,
   "metadata": {},
   "outputs": [],
   "source": [
    "lambdas1 = np.linspace(0.5,1.5,200)\n",
    "lambdas2 = np.linspace(0.9,1.1,200)\n",
    "lambdas3 = np.linspace(0.5,30,500)"
   ]
  },
  {
   "cell_type": "code",
   "execution_count": 74,
   "metadata": {},
   "outputs": [],
   "source": [
    "iters1 = evaluate(lambdas1, gauss_seidel_relax)"
   ]
  },
  {
   "cell_type": "code",
   "execution_count": 75,
   "metadata": {},
   "outputs": [],
   "source": [
    "iters2 = evaluate(lambdas2, gauss_seidel_relax)"
   ]
  },
  {
   "cell_type": "code",
   "execution_count": 71,
   "metadata": {},
   "outputs": [
    {
     "name": "stderr",
     "output_type": "stream",
     "text": [
      "C:\\Users\\User\\AppData\\Local\\Continuum\\anaconda3\\lib\\site-packages\\ipykernel_launcher.py:32: RuntimeWarning: overflow encountered in double_scalars\n",
      "C:\\Users\\User\\AppData\\Local\\Continuum\\anaconda3\\lib\\site-packages\\ipykernel_launcher.py:14: RuntimeWarning: overflow encountered in double_scalars\n",
      "  \n",
      "C:\\Users\\User\\AppData\\Local\\Continuum\\anaconda3\\lib\\site-packages\\ipykernel_launcher.py:26: RuntimeWarning: invalid value encountered in double_scalars\n",
      "C:\\Users\\User\\AppData\\Local\\Continuum\\anaconda3\\lib\\site-packages\\ipykernel_launcher.py:32: RuntimeWarning: invalid value encountered in double_scalars\n",
      "C:\\Users\\User\\AppData\\Local\\Continuum\\anaconda3\\lib\\site-packages\\ipykernel_launcher.py:26: RuntimeWarning: overflow encountered in double_scalars\n",
      "C:\\Users\\User\\AppData\\Local\\Continuum\\anaconda3\\lib\\site-packages\\ipykernel_launcher.py:20: RuntimeWarning: invalid value encountered in double_scalars\n",
      "C:\\Users\\User\\AppData\\Local\\Continuum\\anaconda3\\lib\\site-packages\\ipykernel_launcher.py:16: RuntimeWarning: overflow encountered in double_scalars\n",
      "  app.launch_new_instance()\n",
      "C:\\Users\\User\\AppData\\Local\\Continuum\\anaconda3\\lib\\site-packages\\ipykernel_launcher.py:16: RuntimeWarning: invalid value encountered in double_scalars\n",
      "  app.launch_new_instance()\n",
      "C:\\Users\\User\\AppData\\Local\\Continuum\\anaconda3\\lib\\site-packages\\ipykernel_launcher.py:28: RuntimeWarning: overflow encountered in double_scalars\n",
      "C:\\Users\\User\\AppData\\Local\\Continuum\\anaconda3\\lib\\site-packages\\ipykernel_launcher.py:22: RuntimeWarning: overflow encountered in double_scalars\n",
      "C:\\Users\\User\\AppData\\Local\\Continuum\\anaconda3\\lib\\site-packages\\ipykernel_launcher.py:20: RuntimeWarning: overflow encountered in double_scalars\n",
      "C:\\Users\\User\\AppData\\Local\\Continuum\\anaconda3\\lib\\site-packages\\ipykernel_launcher.py:22: RuntimeWarning: invalid value encountered in double_scalars\n",
      "C:\\Users\\User\\AppData\\Local\\Continuum\\anaconda3\\lib\\site-packages\\ipykernel_launcher.py:27: RuntimeWarning: overflow encountered in double_scalars\n",
      "C:\\Users\\User\\AppData\\Local\\Continuum\\anaconda3\\lib\\site-packages\\ipykernel_launcher.py:14: RuntimeWarning: invalid value encountered in double_scalars\n",
      "  \n",
      "C:\\Users\\User\\AppData\\Local\\Continuum\\anaconda3\\lib\\site-packages\\ipykernel_launcher.py:21: RuntimeWarning: overflow encountered in double_scalars\n",
      "C:\\Users\\User\\AppData\\Local\\Continuum\\anaconda3\\lib\\site-packages\\ipykernel_launcher.py:15: RuntimeWarning: overflow encountered in double_scalars\n",
      "  from ipykernel import kernelapp as app\n"
     ]
    }
   ],
   "source": [
    "iters3 = evaluate(lambdas3, gauss_seidel_relax)"
   ]
  },
  {
   "cell_type": "code",
   "execution_count": 77,
   "metadata": {},
   "outputs": [
    {
     "data": {
      "image/png": "[encoded data removed]",
      "text/plain": [
       "<matplotlib.figure.Figure at 0x17100c1c518>"
      ]
     },
     "metadata": {},
     "output_type": "display_data"
    }
   ],
   "source": [
    "plt.figure(figsize=(10,10))\n",
    "\n",
    "plt.subplot(221)\n",
    "plt.scatter(lambdas1, iters1, color='lightblue')\n",
    "plt.grid()\n",
    "plt.title('Gráfico 1')\n",
    "plt.xlabel('Lambda')\n",
    "plt.ylabel('Iterações')\n",
    "\n",
    "plt.subplot(222)\n",
    "plt.scatter(lambdas2, iters2, color='grey')\n",
    "plt.grid()\n",
    "plt.title('Gráfico 2')\n",
    "plt.xlabel('Lambda')\n",
    "plt.ylabel('Iterações')\n",
    "\n",
    "plt.subplot(223)\n",
    "plt.scatter(lambdas3, iters3, color='turquoise')\n",
    "plt.grid()\n",
    "plt.title('Gráfico 3')\n",
    "plt.xlabel('Lambda')\n",
    "plt.ylabel('Iterações')\n",
    "\n",
    "\n",
    "plt.tight_layout()\n",
    "plt.show()"
   ]
  },
  {
   "cell_type": "markdown",
   "metadata": {},
   "source": [
    "## Comentário\n",
    "\n",
    "O relaxamento cumpre o propósito de tornar a convergência mais rápida, ou seja, fazer com que o resultado seja atingido\n",
    "em um menor número de iterações.\n",
    "No valor de lambda estudado (1.2), porém, demorou apenas uma iteração a menos para chegar à resposta com o erro solicitado."
   ]
  },
  {
   "cell_type": "markdown",
   "metadata": {},
   "source": [
    "É essencial que se utilize a diagonal dominante na matriz, a fim de garantir a convergência do método de Gauss-Seidel."
   ]
  },
  {
   "cell_type": "markdown",
   "metadata": {},
   "source": [
    "## Comentário sobre os gráficos plotados para lambda."
   ]
  },
  {
   "cell_type": "markdown",
   "metadata": {},
   "source": [
    "# A partir do gráfico 2, é possível concluir que o valor ótimo para lambda é em torno de 1,07, o que fornece algo em torno de 8 iterações, que é um ganho bastante substancial em relação às 17 iterações obtidas."
   ]
  },
  {
   "cell_type": "markdown",
   "metadata": {},
   "source": [
    "# A partir do gráfico 3, é possível estabelecer o comportamento geral das iterações frente ao valor de lambda, e concluir também que aumentar muito o valor não faz diferença, uma vez que se chega a um platô (estabilização)."
   ]
  }
 ],
 "metadata": {
  "kernelspec": {
   "display_name": "Python 3",
   "language": "python",
   "name": "python3"
  },
  "language_info": {
   "codemirror_mode": {
    "name": "ipython",
    "version": 3
   },
   "file_extension": ".py",
   "mimetype": "text/x-python",
   "name": "python",
   "nbconvert_exporter": "python",
   "pygments_lexer": "ipython3",
   "version": "3.6.4"
  }
 },
 "nbformat": 4,
 "nbformat_minor": 1
}
