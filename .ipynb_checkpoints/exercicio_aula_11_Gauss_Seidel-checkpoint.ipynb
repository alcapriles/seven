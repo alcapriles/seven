{
 "cells": [
  {
   "cell_type": "markdown",
   "metadata": {},
   "source": [
    "# Exercício da aula 11 - Gauss Seidel."
   ]
  },
  {
   "cell_type": "markdown",
   "metadata": {},
   "source": [
    "Exercício 11.8"
   ]
  },
  {
   "cell_type": "code",
   "execution_count": 1,
   "metadata": {},
   "outputs": [],
   "source": [
    "import numpy as np\n",
    "np.set_printoptions(formatter={'float': lambda x: \"{0:0.9f}\".format(x)})"
   ]
  },
  {
   "cell_type": "markdown",
   "metadata": {},
   "source": [
    "Definição da matriz que descreve matematicamente o problema:"
   ]
  },
  {
   "cell_type": "code",
   "execution_count": 2,
   "metadata": {},
   "outputs": [],
   "source": [
    "matrix = np.array([[15,-3,-1],[-3,18,-6],[-4,-1,12]])\n",
    "matrix = matrix.astype('float64')"
   ]
  },
  {
   "cell_type": "markdown",
   "metadata": {},
   "source": [
    "Matriz dos coeficientes:"
   ]
  },
  {
   "cell_type": "code",
   "execution_count": 3,
   "metadata": {},
   "outputs": [],
   "source": [
    "B = np.array([[3800], [1200], [2350]])\n",
    "B = B.astype('float64')"
   ]
  },
  {
   "cell_type": "markdown",
   "metadata": {},
   "source": [
    "# a) Determinação da matriz inversa. "
   ]
  },
  {
   "cell_type": "markdown",
   "metadata": {},
   "source": [
    "Eliminação progressiva:"
   ]
  },
  {
   "cell_type": "markdown",
   "metadata": {},
   "source": [
    "No loop abaixo foram \"printados\" os fatores utilizados na eliminação, que serão empregados na montagem da matriz L."
   ]
  },
  {
   "cell_type": "code",
   "execution_count": 4,
   "metadata": {},
   "outputs": [],
   "source": [
    "U = np.array([[15,-3,-1],[-3,18,-6],[-4,-1,12]])\n",
    "U = U.astype('float64')"
   ]
  },
  {
   "cell_type": "code",
   "execution_count": 5,
   "metadata": {},
   "outputs": [
    {
     "name": "stdout",
     "output_type": "stream",
     "text": [
      "-0.2\n",
      "-0.26666666666666666\n",
      "-0.10344827586206898\n",
      "[[15.000000000 -3.000000000 -1.000000000]\n",
      " [0.000000000 17.400000000 -6.200000000]\n",
      " [0.000000000 0.000000000 11.091954023]]\n"
     ]
    }
   ],
   "source": [
    "for i in range(1,3):\n",
    "    for j in range(3):\n",
    "        if i > j:\n",
    "            if U[i][j] != 0:\n",
    "                temp = U[i][j]/U[j][j]\n",
    "                print(temp)\n",
    "                for k in range(3):\n",
    "                    U[i][k] -= temp*U[j][k]\n",
    "print(U)    "
   ]
  },
  {
   "cell_type": "markdown",
   "metadata": {},
   "source": [
    "Assim, é possível montar a matriz L:"
   ]
  },
  {
   "cell_type": "code",
   "execution_count": 6,
   "metadata": {},
   "outputs": [
    {
     "name": "stdout",
     "output_type": "stream",
     "text": [
      "[[1.000000000 0.000000000 0.000000000]\n",
      " [-0.200000000 1.000000000 0.000000000]\n",
      " [-0.266666667 -0.103448276 1.000000000]]\n"
     ]
    }
   ],
   "source": [
    "L = np.array([[1,          0,0],\n",
    "              [-0.2,       1,0],\n",
    "              [-0.26666666666666666,-0.10344827586206898,1]])\n",
    "L = L.astype('float64')\n",
    "print(L)"
   ]
  },
  {
   "cell_type": "markdown",
   "metadata": {},
   "source": [
    "### Uma maneira fácil de conferir se as matrizes estão corretas é verificar o resultado da multiplicação entre L e U\n",
    "(A qual, espera-se, seja igual à matriz A do problema, ou matriz dos coeficientes)"
   ]
  },
  {
   "cell_type": "code",
   "execution_count": 7,
   "metadata": {},
   "outputs": [
    {
     "name": "stdout",
     "output_type": "stream",
     "text": [
      "[[15.000000000 -3.000000000 -1.000000000]\n",
      " [-3.000000000 18.000000000 -6.000000000]\n",
      " [-4.000000000 -1.000000000 12.000000000]]\n"
     ]
    }
   ],
   "source": [
    "A = np.matmul(L, U)\n",
    "print(A)"
   ]
  },
  {
   "cell_type": "markdown",
   "metadata": {},
   "source": [
    "## Verifica-se que o resultado está correto."
   ]
  },
  {
   "cell_type": "markdown",
   "metadata": {},
   "source": [
    "# Cálculo da matriz D, primeira coluna:"
   ]
  },
  {
   "cell_type": "markdown",
   "metadata": {},
   "source": [
    "### Primeira coluna:"
   ]
  },
  {
   "cell_type": "code",
   "execution_count": 8,
   "metadata": {},
   "outputs": [
    {
     "name": "stdout",
     "output_type": "stream",
     "text": [
      "1\n",
      "0.2\n",
      "0.2873563222\n"
     ]
    }
   ],
   "source": [
    "d1 = 1\n",
    "print(d1)\n",
    "d2 = d1*0.2\n",
    "print(d2)\n",
    "d3 = 0.266666667*d1 + 0.103448276*d2\n",
    "print(d3)"
   ]
  },
  {
   "cell_type": "markdown",
   "metadata": {},
   "source": [
    "# Cálculo da matriz X, primeira coluna:"
   ]
  },
  {
   "cell_type": "code",
   "execution_count": 9,
   "metadata": {},
   "outputs": [],
   "source": [
    "x31 = d3/11.0919540            #x3\n",
    "x21 = (d2 + 6.2*x31)/17.4      #x2\n",
    "x11 = (3*x21 + x31 + d1)/15    #x1"
   ]
  },
  {
   "cell_type": "markdown",
   "metadata": {},
   "source": [
    "# Cálculo da matriz D, segunda coluna:"
   ]
  },
  {
   "cell_type": "code",
   "execution_count": 10,
   "metadata": {},
   "outputs": [
    {
     "name": "stdout",
     "output_type": "stream",
     "text": [
      "0\n",
      "1.0\n",
      "0.103448276\n"
     ]
    }
   ],
   "source": [
    "d1 = 0\n",
    "print(d1)\n",
    "d2 = 1+ d1*0.2\n",
    "print(d2)\n",
    "d3 = 0.266666667*d1 + 0.103448276*d2\n",
    "print(d3)"
   ]
  },
  {
   "cell_type": "markdown",
   "metadata": {},
   "source": [
    "# Cálculo da matriz X, segunda coluna:"
   ]
  },
  {
   "cell_type": "code",
   "execution_count": 11,
   "metadata": {},
   "outputs": [],
   "source": [
    "x32 = d3/11.0919540            #x3\n",
    "x22 = (d2 + 6.2*x32)/17.4      #x2\n",
    "x12 = (3*x22 + x32 + d1)/15    #x1"
   ]
  },
  {
   "cell_type": "markdown",
   "metadata": {},
   "source": [
    "# Cálculo da matriz D, terceira coluna:"
   ]
  },
  {
   "cell_type": "code",
   "execution_count": 12,
   "metadata": {},
   "outputs": [
    {
     "name": "stdout",
     "output_type": "stream",
     "text": [
      "0\n",
      "0.0\n",
      "1.0\n"
     ]
    }
   ],
   "source": [
    "d1 = 0\n",
    "print(d1)\n",
    "d2 = d1*0.2\n",
    "print(d2)\n",
    "d3 = 0.266666667*d1 + 0.103448276*d2 + 1\n",
    "print(d3)"
   ]
  },
  {
   "cell_type": "markdown",
   "metadata": {},
   "source": [
    "# Cálculo da matriz X, terceira coluna:"
   ]
  },
  {
   "cell_type": "code",
   "execution_count": 13,
   "metadata": {},
   "outputs": [],
   "source": [
    "x33 = d3/11.0919540            #x3\n",
    "x23 = (d2 + 6.2*x33)/17.4      #x2\n",
    "x13 = (3*x23 + x33 + d1)/15    #x1"
   ]
  },
  {
   "cell_type": "code",
   "execution_count": 14,
   "metadata": {},
   "outputs": [
    {
     "name": "stdout",
     "output_type": "stream",
     "text": [
      "[[0.072538860 0.012780656 0.012435233]\n",
      " [0.020725389 0.060794473 0.032124352]\n",
      " [0.025906736 0.009326425 0.090155441]]\n"
     ]
    }
   ],
   "source": [
    "INV = np.array([[x11, x12, x13],\n",
    "                [x21, x22, x23],\n",
    "                [x31, x32, x33]])\n",
    "INV = INV.astype('float64')\n",
    "print(INV)"
   ]
  },
  {
   "cell_type": "markdown",
   "metadata": {},
   "source": [
    "## É possível checar se o resultado faz sentido multiplicando-se a matriz inversa de A por A, o que deve resultar na matriz identidade:"
   ]
  },
  {
   "cell_type": "code",
   "execution_count": 15,
   "metadata": {},
   "outputs": [
    {
     "name": "stdout",
     "output_type": "stream",
     "text": [
      "[[1.000000000 0.000000000 0.000000000]\n",
      " [0.000000000 1.000000000 0.000000001]\n",
      " [0.000000000 0.000000000 1.000000002]]\n"
     ]
    }
   ],
   "source": [
    "identidade = np.matmul(INV, A)\n",
    "print(identidade)"
   ]
  },
  {
   "cell_type": "markdown",
   "metadata": {},
   "source": [
    "## Verifica-se que o resultado está correto."
   ]
  },
  {
   "cell_type": "markdown",
   "metadata": {},
   "source": [
    "# b) Utilizar a inversa para obter a solução."
   ]
  },
  {
   "cell_type": "markdown",
   "metadata": {},
   "source": [
    "Multiplicando-se a inversa de A pela matriz dos coeficientes, B, obtém-se a solução:"
   ]
  },
  {
   "cell_type": "code",
   "execution_count": 16,
   "metadata": {},
   "outputs": [
    {
     "name": "stdout",
     "output_type": "stream",
     "text": [
      "[[320.207253997]\n",
      " [227.202072826]\n",
      " [321.502591478]]\n"
     ]
    }
   ],
   "source": [
    "sol = np.matmul(INV, B)\n",
    "print(sol)"
   ]
  },
  {
   "cell_type": "markdown",
   "metadata": {},
   "source": [
    "# c) Determinar quanto aumentar a taxa de massa no reator 3 para induzir a um aumento DE 10 na concentração do reator 1. "
   ]
  },
  {
   "cell_type": "markdown",
   "metadata": {},
   "source": [
    "A variação será determinada pelo elemento da matriz inversa na linha 1, coluna 3."
   ]
  },
  {
   "cell_type": "code",
   "execution_count": 17,
   "metadata": {},
   "outputs": [
    {
     "name": "stdout",
     "output_type": "stream",
     "text": [
      "804.166665\n"
     ]
    }
   ],
   "source": [
    "print(10/x13)"
   ]
  },
  {
   "cell_type": "markdown",
   "metadata": {},
   "source": [
    "## Resposta: 804.166665"
   ]
  },
  {
   "cell_type": "markdown",
   "metadata": {},
   "source": [
    "# d) Determinar de quanto diminuirá a concentração no reator 3 se a entrada de massa nos reatores 1 e 2 for reduzida DE 500 (no reator 1)\n",
    "# e de 250 (no reator 2)."
   ]
  },
  {
   "cell_type": "markdown",
   "metadata": {},
   "source": [
    "Os coeficientes determinantes serão INV(3,1) e INV(3,2)."
   ]
  },
  {
   "cell_type": "code",
   "execution_count": 18,
   "metadata": {},
   "outputs": [
    {
     "name": "stdout",
     "output_type": "stream",
     "text": [
      "-15.284974144321192\n"
     ]
    }
   ],
   "source": [
    "delta = -500*x31 - 250*x32\n",
    "print(delta)"
   ]
  },
  {
   "cell_type": "markdown",
   "metadata": {},
   "source": [
    "### Resposta: -15.2849741. (diminuirá de 15.2849741)"
   ]
  }
 ],
 "metadata": {
  "kernelspec": {
   "display_name": "Python 3",
   "language": "python",
   "name": "python3"
  },
  "language_info": {
   "codemirror_mode": {
    "name": "ipython",
    "version": 3
   },
   "file_extension": ".py",
   "mimetype": "text/x-python",
   "name": "python",
   "nbconvert_exporter": "python",
   "pygments_lexer": "ipython3",
   "version": "3.6.4"
  }
 },
 "nbformat": 4,
 "nbformat_minor": 2
}
