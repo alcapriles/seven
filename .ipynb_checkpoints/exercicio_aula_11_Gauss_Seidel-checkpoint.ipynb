{
 "cells": [
  {
   "cell_type": "markdown",
   "metadata": {
    "collapsed": true
   },
   "source": [
    "# Exercício 11.18: Gauss-Seidel"
   ]
  },
  {
   "cell_type": "markdown",
   "metadata": {},
   "source": [
    "### Utilizar Gauss-Seidel (a) sem relaxamento e (b) com relaxamento, utilizando lambda = 1.2\n",
    "epsilon-s = 10^-4 %"
   ]
  },
  {
   "cell_type": "code",
   "execution_count": null,
   "metadata": {},
   "outputs": [],
   "source": [
    "                       zinco, vidro, cobre\n",
    "\n",
    "\n",
    "transistor                1,   2,    4         \n",
    "resistor                  3,   1,    3\n",
    "chip de computador        1,   3,    2\n",
    "\n",
    "\n",
    "                         510,  610, 960     material supply\n",
    "\n",
    "\n",
    "    \n",
    "    \n",
    "    \n",
    "A matriz B é a mesma."
   ]
  },
  {
   "cell_type": "code",
   "execution_count": 1,
   "metadata": {},
   "outputs": [],
   "source": [
    "import numpy as np\n",
    "np.set_printoptions(formatter={'float': lambda x: \"{0:0.3f}\".format(x)})"
   ]
  },
  {
   "cell_type": "markdown",
   "metadata": {},
   "source": [
    "# (a) Sem relaxamento"
   ]
  },
  {
   "cell_type": "code",
   "execution_count": 6,
   "metadata": {},
   "outputs": [],
   "source": [
    "#matrix declaration:\n",
    "# transistor     /    resistor    /     chip de computador \n",
    "m = np.array([    [4,3,2,960],\n",
    "                  [1,3,1,510],\n",
    "                  [2,1,3,610],\n",
    "                  \n",
    "                       ])\n",
    "\n",
    "m = m.astype('float64')"
   ]
  },
  {
   "cell_type": "code",
   "execution_count": 7,
   "metadata": {},
   "outputs": [
    {
     "name": "stdout",
     "output_type": "stream",
     "text": [
      "120.0000056766003\n",
      "99.9999872818397\n",
      "90.00000045498656\n",
      "18\n",
      "3.3152549192654695e-05\n"
     ]
    }
   ],
   "source": [
    "x1 = 0\n",
    "x2 = 0\n",
    "x3 = 0\n",
    "i = 0\n",
    "\n",
    "respostas1 = [0]\n",
    "\n",
    "error = 5\n",
    "\n",
    "while error > 0.0001:\n",
    "    \n",
    "    i += 1\n",
    "    \n",
    "    x1 = (m[0][3] - m[0][1]*x2 - m[0][2]*x3) / m[0][0]\n",
    "    \n",
    "    respostas1.append(x1)\n",
    "    \n",
    "    x2 = (m[1][3] - m[1][0]*x1 - m[1][2]*x3) / m[1][1]\n",
    "    \n",
    "    x3 = (m[2][3] - m[2][0]*x1 - m[2][1]*x2) / m[2][2]\n",
    "    \n",
    "    error = math.fabs(100*(x1 - respostas1[i-1])/x1)\n",
    "\n",
    "\n",
    "print(x1)\n",
    "print(x2)\n",
    "print(x3)\n",
    "print(i)\n",
    "print(error)"
   ]
  },
  {
   "cell_type": "markdown",
   "metadata": {},
   "source": [
    "# O erro foi setado no código para um valor extremamente baixo. Com apenas 7 iterações se chegou aos valores de 3, 2,5 e 7 para x1, x2 e x3, os quais correspondem aos valores reais."
   ]
  },
  {
   "cell_type": "markdown",
   "metadata": {},
   "source": [
    "# (b) Com relaxamento (lambda = 1.2)"
   ]
  },
  {
   "cell_type": "code",
   "execution_count": 8,
   "metadata": {},
   "outputs": [
    {
     "name": "stdout",
     "output_type": "stream",
     "text": [
      "17\n",
      "119.99992810107442\n",
      "100.00004680990583\n",
      "90.0000279931947\n",
      "5.012878580660625e-05\n"
     ]
    }
   ],
   "source": [
    "#a matriz do exercício já foi definida na célula imediatamente acima, assim não é necessário defini-la novamente\n",
    "\n",
    "x1 = 0\n",
    "x2 = 0\n",
    "x3 = 0\n",
    "i = 0\n",
    "dummy1 = [0]\n",
    "dummy2 = [0]\n",
    "dummy3 = [0]\n",
    "error = 5\n",
    "\n",
    "Lambda = 0.95\n",
    "\n",
    "while error > 0.0001:\n",
    "    \n",
    "    i += 1\n",
    "    x1 = (m[0][3] - m[0][1]*x2 - m[0][2]*x3) / m[0][0]\n",
    "    x1 *= Lambda\n",
    "    x1 += (1-Lambda)*dummy1[i-1]\n",
    "    \n",
    "    dummy1.append(x1)\n",
    "    \n",
    "    x2 = (m[1][3] - m[1][0]*x1 - m[1][2]*x3) / m[1][1]\n",
    "    x2 *= Lambda\n",
    "    x2 += (1-Lambda)*dummy2[i-1]\n",
    "    \n",
    "    dummy2.append(x2)\n",
    "    \n",
    "    x3 = (m[2][3] - m[2][0]*x1 - m[2][1]*x2) / m[2][2]\n",
    "    x3 *= Lambda\n",
    "    x3 += (1-Lambda)*dummy3[i-1]\n",
    "    \n",
    "    dummy3.append(x3)\n",
    "    \n",
    "    error = math.fabs(100*(x1 - dummy1[i-1])/x1)\n",
    "\n",
    "print(i)\n",
    "print(x1)\n",
    "print(x2)\n",
    "print(x3)\n",
    "print(error)"
   ]
  },
  {
   "cell_type": "markdown",
   "metadata": {},
   "source": [
    "## Comentário\n",
    "\n",
    "A relaxação serve para \"andar mais rápido\", bem como garantir a convergência. Nesse caso, porém, demorou uma iteração a mais para chegar à resposta."
   ]
  }
 ],
 "metadata": {
  "kernelspec": {
   "display_name": "Python 3",
   "language": "python",
   "name": "python3"
  },
  "language_info": {
   "codemirror_mode": {
    "name": "ipython",
    "version": 3
   },
   "file_extension": ".py",
   "mimetype": "text/x-python",
   "name": "python",
   "nbconvert_exporter": "python",
   "pygments_lexer": "ipython3",
   "version": "3.6.4"
  }
 },
 "nbformat": 4,
 "nbformat_minor": 1
}
