{
 "cells": [
  {
   "cell_type": "code",
   "execution_count": 1,
   "metadata": {},
   "outputs": [],
   "source": [
    "import math\n",
    "import numpy as np\n",
    "import matplotlib.pyplot as plt\n",
    "%matplotlib inline"
   ]
  },
  {
   "cell_type": "markdown",
   "metadata": {},
   "source": [
    "### Exercício 8.29"
   ]
  },
  {
   "cell_type": "code",
   "execution_count": null,
   "metadata": {},
   "outputs": [],
   "source": []
  },
  {
   "cell_type": "markdown",
   "metadata": {},
   "source": [
    "### Exercício 8.31"
   ]
  },
  {
   "cell_type": "markdown",
   "metadata": {},
   "source": [
    "### A partir da equação para a resistividade, subtraindo-se este parâmetro de ambos os lados da equação e substituindo-se todos os parâmetros fornecidos, tem-se uma função f(N), cuja raiz representa a solução procurada."
   ]
  },
  {
   "cell_type": "markdown",
   "metadata": {},
   "source": [
    "### Traçando o gráfico para determinar o intervalo no qual deve ser procurada a solução:"
   ]
  },
  {
   "cell_type": "code",
   "execution_count": null,
   "metadata": {},
   "outputs": [],
   "source": [
    "# parâmetros do problema:\n",
    "T0 = 300\n",
    "T = 1000\n",
    "u0 = 1.3\n",
    "q = 1.6*(10**-19)\n",
    "ni = 6.21*(10**9)\n",
    "p = 6*(10**6)\n",
    "\n",
    "u = u0*((T/T0)**-2.42)"
   ]
  },
  {
   "cell_type": "code",
   "execution_count": null,
   "metadata": {},
   "outputs": [],
   "source": [
    "def f(N):\n",
    "    return  (1/(q * u *   0.5*(N+(((N**2)+(4*(ni**2)))**0.5))        )) - p"
   ]
  },
  {
   "cell_type": "code",
   "execution_count": null,
   "metadata": {},
   "outputs": [],
   "source": [
    "x = [i for i in range(430,450)]\n",
    "y = [(1/(q * u *   0.5*(N+(((N**2)+(4*(ni**2)))**0.5))        )) - p for N in x]\n",
    "\n",
    "plt.figure(figsize=(7,7))\n",
    "plt.plot(x,y, color=\"black\")\n",
    "plt.grid()"
   ]
  },
  {
   "cell_type": "markdown",
   "metadata": {},
   "source": [
    "### (a) Método da bissecção:"
   ]
  },
  {
   "cell_type": "code",
   "execution_count": null,
   "metadata": {},
   "outputs": [],
   "source": [
    "x_lower = 420\n",
    "x_upper = 450\n",
    "error = 50\n",
    "dummy_list = [2,50]\n",
    "i = 1\n",
    "\n",
    "while error > 0.0001:\n",
    "    i+=1\n",
    "    x_root = (x_lower+x_upper)/2\n",
    "    product =  f(x_lower)* f(x_root)\n",
    "    if product < 0:\n",
    "        #the root lies in the lower subinterval\n",
    "        x_upper = x_root\n",
    "    if product > 0:\n",
    "        #the root lies in the upper subinterval\n",
    "        x_lower = x_root\n",
    "    if product == 0:\n",
    "        print(x_root)\n",
    "    dummy_list.append(x_root)\n",
    "    error = math.fabs(((x_root - dummy_list[i-1])/(x_root))*100)\n",
    "\n",
    "\n",
    "print(x_lower, x_upper, x_root, error,i)"
   ]
  },
  {
   "cell_type": "markdown",
   "metadata": {},
   "source": [
    "### Para conferir, é calculado o valor da densidade eletrônica, n, e, em seguida, da resistividade:"
   ]
  },
  {
   "cell_type": "code",
   "execution_count": null,
   "metadata": {},
   "outputs": [],
   "source": [
    "n = 0.5*(N+(((N**2)+(4*(ni**2)))**0.5))"
   ]
  },
  {
   "cell_type": "code",
   "execution_count": null,
   "metadata": {
    "scrolled": true
   },
   "outputs": [],
   "source": [
    "print(n)"
   ]
  },
  {
   "cell_type": "code",
   "execution_count": null,
   "metadata": {},
   "outputs": [],
   "source": []
  },
  {
   "cell_type": "markdown",
   "metadata": {},
   "source": [
    "### (b) Método da secante modificado:"
   ]
  },
  {
   "cell_type": "markdown",
   "metadata": {},
   "source": [
    "<img src=\"derivada.JPG\">"
   ]
  },
  {
   "cell_type": "code",
   "execution_count": null,
   "metadata": {},
   "outputs": [],
   "source": [
    "es = 1\n",
    "x = 0.3\n",
    "delta = 0.01 #em que o delta é a perturbação\n",
    "i = 0\n",
    "\n",
    "while es > 10**(-4):\n",
    "    xvelho = x\n",
    "    x = x - ( ( ( 7*((math.sin(x))*(math.e**(-x))) - 1 )*delta )  / ( ( 7*((math.sin(x + delta))*(math.e**(-(x+delta)))) - 1 ) - ( 7*((math.sin(x))*(math.e**(-x))) - 1 ) ) )\n",
    "    es = math.fabs(100*((x-xvelho)/x))\n",
    "    i+=1\n",
    "    \n",
    "print(\"Desta forma, a raiz é igual a\", x, \"e o número de iterações é igual a\", i)"
   ]
  },
  {
   "cell_type": "code",
   "execution_count": null,
   "metadata": {},
   "outputs": [],
   "source": []
  },
  {
   "cell_type": "code",
   "execution_count": null,
   "metadata": {},
   "outputs": [],
   "source": []
  },
  {
   "cell_type": "code",
   "execution_count": null,
   "metadata": {},
   "outputs": [],
   "source": []
  },
  {
   "cell_type": "markdown",
   "metadata": {},
   "source": [
    "### Exercício 8.32"
   ]
  },
  {
   "cell_type": "markdown",
   "metadata": {},
   "source": [
    "### Subtraindo o parâmetro F (força, em N) de ambos os lados da equação, obtém-se uma função f(x), da qual a raiz representa a solução do sistema."
   ]
  },
  {
   "cell_type": "markdown",
   "metadata": {},
   "source": [
    "### Traçando o gráfico para determinar o intervalo no qual deve ser procurada a solução:"
   ]
  },
  {
   "cell_type": "code",
   "execution_count": 2,
   "metadata": {},
   "outputs": [],
   "source": [
    "# parâmetros do problema:\n",
    "e0 = 8.85*(10**-12)\n",
    "q = 2*(10**-5)\n",
    "Q = 2*(10**-5)\n",
    "a = 0.9\n",
    "F = 1"
   ]
  },
  {
   "cell_type": "code",
   "execution_count": 3,
   "metadata": {},
   "outputs": [],
   "source": [
    "def f(x):\n",
    "    return  (     ((1/(4*math.pi*e0))*(q*Q*x)) / ((x**2 + a**2)**1.5)         ) - F"
   ]
  },
  {
   "cell_type": "code",
   "execution_count": 6,
   "metadata": {},
   "outputs": [
    {
     "data": {
      "image/png": "[encoded data removed]",
      "text/plain": [
       "<matplotlib.figure.Figure at 0x1604cd815c0>"
      ]
     },
     "metadata": {},
     "output_type": "display_data"
    }
   ],
   "source": [
    "x2 = [0.001*i for i in range(2000)]\n",
    "y = [ (  ((1/(4*math.pi*e0))*(q*Q*x)) / ((x**2 + a**2)**1.5)          - F   ) for x in x2]\n",
    "\n",
    "plt.figure(figsize=(7,7))\n",
    "plt.plot(x2,y, color=\"black\")\n",
    "plt.grid()"
   ]
  },
  {
   "cell_type": "markdown",
   "metadata": {},
   "source": [
    "### Estas raízes será obtida aplicando-se o método da bissecção."
   ]
  },
  {
   "cell_type": "code",
   "execution_count": 7,
   "metadata": {},
   "outputs": [
    {
     "name": "stdout",
     "output_type": "stream",
     "text": [
      "0.2213500738143921 0.22135019302368164 0.2213500738143921 5.385554542472906e-05 24 4.999999828060086\n"
     ]
    }
   ],
   "source": [
    "x_lower = 0\n",
    "x_upper = 1\n",
    "error = 50\n",
    "dummy_list = [2,50]\n",
    "i = 1\n",
    "\n",
    "while error > 0.0001:\n",
    "    i+=1\n",
    "    x_root = (x_lower+x_upper)/2\n",
    "    product =  f(x_lower)* f(x_root)\n",
    "    if product < 0:\n",
    "        #the root lies in the lower subinterval\n",
    "        x_upper = x_root\n",
    "    if product > 0:\n",
    "        #the root lies in the upper subinterval\n",
    "        x_lower = x_root\n",
    "    if product == 0:\n",
    "        print(x_root)\n",
    "    dummy_list.append(x_root)\n",
    "    error = math.fabs(((x_root - dummy_list[i-1])/(x_root))*100)\n",
    "velocidade = f(x_root) + 5\n",
    "\n",
    "print(x_lower, x_upper, x_root, error,i,velocidade)"
   ]
  },
  {
   "cell_type": "code",
   "execution_count": 8,
   "metadata": {},
   "outputs": [
    {
     "name": "stdout",
     "output_type": "stream",
     "text": [
      "1.5097846984863281 1.5097856521606445 1.5097856521606445 6.316620607974733e-05 21 4.9999995889255\n"
     ]
    }
   ],
   "source": [
    "x_lower = 1\n",
    "x_upper = 2\n",
    "error = 50\n",
    "dummy_list = [2,50]\n",
    "i = 1\n",
    "\n",
    "while error > 0.0001:\n",
    "    i+=1\n",
    "    x_root = (x_lower+x_upper)/2\n",
    "    product =  f(x_lower)* f(x_root)\n",
    "    if product < 0:\n",
    "        #the root lies in the lower subinterval\n",
    "        x_upper = x_root\n",
    "    if product > 0:\n",
    "        #the root lies in the upper subinterval\n",
    "        x_lower = x_root\n",
    "    if product == 0:\n",
    "        print(x_root)\n",
    "    dummy_list.append(x_root)\n",
    "    error = math.fabs(((x_root - dummy_list[i-1])/(x_root))*100)\n",
    "velocidade = f(x_root) + 5\n",
    "\n",
    "print(x_lower, x_upper, x_root, error,i,velocidade)"
   ]
  },
  {
   "cell_type": "markdown",
   "metadata": {},
   "source": [
    "### Para conferir, é calculado o valor da força nas duas raízes, obtendo-se a força procurada, de 1N:"
   ]
  },
  {
   "cell_type": "code",
   "execution_count": 9,
   "metadata": {},
   "outputs": [],
   "source": [
    "x = 0.2213500738143921"
   ]
  },
  {
   "cell_type": "code",
   "execution_count": 10,
   "metadata": {},
   "outputs": [
    {
     "name": "stdout",
     "output_type": "stream",
     "text": [
      "0.9999998280600861\n"
     ]
    }
   ],
   "source": [
    "print( ((1/(4*math.pi*e0))*(q*Q*x)) / ((x**2 + a**2)**1.5)     )"
   ]
  },
  {
   "cell_type": "code",
   "execution_count": 11,
   "metadata": {},
   "outputs": [],
   "source": [
    "x = 1.5097846984863281"
   ]
  },
  {
   "cell_type": "code",
   "execution_count": 12,
   "metadata": {},
   "outputs": [
    {
     "name": "stdout",
     "output_type": "stream",
     "text": [
      "1.0000003554176637\n"
     ]
    }
   ],
   "source": [
    "print( ((1/(4*math.pi*e0))*(q*Q*x)) / ((x**2 + a**2)**1.5)     )"
   ]
  }
 ],
 "metadata": {
  "kernelspec": {
   "display_name": "Python 3",
   "language": "python",
   "name": "python3"
  },
  "language_info": {
   "codemirror_mode": {
    "name": "ipython",
    "version": 3
   },
   "file_extension": ".py",
   "mimetype": "text/x-python",
   "name": "python",
   "nbconvert_exporter": "python",
   "pygments_lexer": "ipython3",
   "version": "3.6.4"
  }
 },
 "nbformat": 4,
 "nbformat_minor": 2
}
