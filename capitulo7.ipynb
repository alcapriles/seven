{
 "cells": [
  {
   "cell_type": "code",
   "execution_count": 1,
   "metadata": {},
   "outputs": [],
   "source": [
    "import math\n",
    "import matplotlib.pyplot as plt\n",
    "import pandas as pd\n",
    "import numpy as np\n",
    "%matplotlib inline"
   ]
  },
  {
   "cell_type": "code",
   "execution_count": null,
   "metadata": {},
   "outputs": [],
   "source": [
    "def f(h):\n",
    "    return math.pi*(h**3) - 9*math.pi*(h**2) + 90\n",
    "\n",
    "def flinha(h):\n",
    "    return 3*math.pi*(h**2) - 18*math.pi*h"
   ]
  },
  {
   "cell_type": "code",
   "execution_count": 19,
   "metadata": {},
   "outputs": [
    {
     "name": "stdout",
     "output_type": "stream",
     "text": [
      "2.0269057283100134\n",
      "3\n"
     ]
    }
   ],
   "source": [
    "e_aps = 5\n",
    "h = 2\n",
    "i = 0\n",
    "\n",
    "while e_aps > 0.001:\n",
    "    \n",
    "    h_antigo = h\n",
    "    \n",
    "    h -= (math.pi*(h_antigo**3) - 9*math.pi*(h_antigo**2) + 90)/ (3*math.pi*(h_antigo**2) - 18*math.pi*h_antigo)\n",
    "    \n",
    "    e_aps = math.fabs(100*(h - h_antigo)/h)\n",
    "    \n",
    "    i += 1\n",
    "\n",
    "    \n",
    "print(h)\n",
    "print(i)"
   ]
  },
  {
   "cell_type": "markdown",
   "metadata": {},
   "source": [
    "## Comentário"
   ]
  },
  {
   "cell_type": "markdown",
   "metadata": {},
   "source": [
    "## A altura varia de 0 até 6, já que o raio da calota é igual a 3. Para valores iniciais de h próximos dos extremos, o valor para o qual o método converge é errado. Os valores dão certo para h variando aproximadamente de 0.5 até 4,5. Os métodos abertos têm um intervalo de convergência."
   ]
  },
  {
   "cell_type": "markdown",
   "metadata": {},
   "source": [
    "## É possível notar que são necessárias poucas iterações, por conta do uso da derivada que torna a convergência rápida."
   ]
  },
  {
   "cell_type": "code",
   "execution_count": null,
   "metadata": {},
   "outputs": [],
   "source": []
  },
  {
   "cell_type": "code",
   "execution_count": null,
   "metadata": {},
   "outputs": [],
   "source": []
  },
  {
   "cell_type": "code",
   "execution_count": null,
   "metadata": {},
   "outputs": [],
   "source": []
  },
  {
   "cell_type": "code",
   "execution_count": null,
   "metadata": {},
   "outputs": [],
   "source": []
  },
  {
   "cell_type": "code",
   "execution_count": null,
   "metadata": {},
   "outputs": [],
   "source": []
  },
  {
   "cell_type": "code",
   "execution_count": null,
   "metadata": {},
   "outputs": [],
   "source": []
  },
  {
   "cell_type": "code",
   "execution_count": null,
   "metadata": {},
   "outputs": [],
   "source": []
  }
 ],
 "metadata": {
  "kernelspec": {
   "display_name": "Python 3",
   "language": "python",
   "name": "python3"
  },
  "language_info": {
   "codemirror_mode": {
    "name": "ipython",
    "version": 3
   },
   "file_extension": ".py",
   "mimetype": "text/x-python",
   "name": "python",
   "nbconvert_exporter": "python",
   "pygments_lexer": "ipython3",
   "version": "3.6.4"
  }
 },
 "nbformat": 4,
 "nbformat_minor": 2
}
