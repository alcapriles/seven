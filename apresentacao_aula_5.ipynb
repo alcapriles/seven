{
 "cells": [
  {
   "cell_type": "code",
   "execution_count": 1,
   "metadata": {},
   "outputs": [],
   "source": [
    "import math\n",
    "import matplotlib.pyplot as plt\n",
    "import pandas as pd\n",
    "%matplotlib inline"
   ]
  },
  {
   "cell_type": "markdown",
   "metadata": {},
   "source": [
    "### Erro de truncamento: resulta de uma operação matemática que não foi realizada na sua totalidade"
   ]
  },
  {
   "cell_type": "markdown",
   "metadata": {},
   "source": [
    "# Fórmula de Leibniz"
   ]
  },
  {
   "cell_type": "markdown",
   "metadata": {},
   "source": [
    "<img src=\"apresentacao_aula_5.JPG\">"
   ]
  },
  {
   "cell_type": "markdown",
   "metadata": {},
   "source": [
    "## Valor real:"
   ]
  },
  {
   "cell_type": "code",
   "execution_count": 2,
   "metadata": {},
   "outputs": [
    {
     "name": "stdout",
     "output_type": "stream",
     "text": [
      "3.141592653589793\n"
     ]
    }
   ],
   "source": [
    "print(math.pi)"
   ]
  },
  {
   "cell_type": "markdown",
   "metadata": {},
   "source": [
    "## Cálculo da série utilizando vários termos diferentes. \n",
    "(10,100,1000,10000,100000,100000000)"
   ]
  },
  {
   "cell_type": "markdown",
   "metadata": {},
   "source": [
    "No seguinte for loop será calculado este somatório. Serão calculados 15000 termos."
   ]
  },
  {
   "cell_type": "code",
   "execution_count": 3,
   "metadata": {},
   "outputs": [],
   "source": [
    "pi = 0\n",
    "valores_pi = []\n",
    "erros = []"
   ]
  },
  {
   "cell_type": "code",
   "execution_count": 4,
   "metadata": {},
   "outputs": [],
   "source": [
    "pi = 0\n",
    "for n in range(10):\n",
    "    pi += 4*((-1)**n)/((2*n)+1)\n",
    "erros.append(math.fabs((100)*(pi-math.pi)/math.pi))\n",
    "valores_pi.append(pi)"
   ]
  },
  {
   "cell_type": "code",
   "execution_count": 5,
   "metadata": {},
   "outputs": [],
   "source": [
    "pi = 0\n",
    "for n in range(100):\n",
    "    pi += 4*((-1)**n)/((2*n)+1)\n",
    "erros.append(math.fabs((100)*(pi-math.pi)/math.pi))\n",
    "valores_pi.append(pi)"
   ]
  },
  {
   "cell_type": "code",
   "execution_count": 6,
   "metadata": {},
   "outputs": [],
   "source": [
    "pi = 0\n",
    "for n in range(1000):\n",
    "    pi += 4*((-1)**n)/((2*n)+1)\n",
    "erros.append(math.fabs((100)*(pi-math.pi)/math.pi))\n",
    "valores_pi.append(pi)"
   ]
  },
  {
   "cell_type": "code",
   "execution_count": 7,
   "metadata": {},
   "outputs": [],
   "source": [
    "pi = 0\n",
    "for n in range(10000):\n",
    "    pi += 4*((-1)**n)/((2*n)+1)\n",
    "erros.append(math.fabs((100)*(pi-math.pi)/math.pi))\n",
    "valores_pi.append(pi)"
   ]
  },
  {
   "cell_type": "code",
   "execution_count": 8,
   "metadata": {},
   "outputs": [],
   "source": [
    "pi = 0\n",
    "for n in range(100000):\n",
    "    pi += 4*((-1)**n)/((2*n)+1)\n",
    "erros.append(math.fabs((100)*(pi-math.pi)/math.pi))\n",
    "valores_pi.append(pi)"
   ]
  },
  {
   "cell_type": "code",
   "execution_count": 9,
   "metadata": {},
   "outputs": [],
   "source": [
    "pi = 0\n",
    "for n in range(999999):\n",
    "    pi += 4*((-1)**n)/((2*n)+1)\n",
    "erros.append(math.fabs((100)*(pi-math.pi)/math.pi))\n",
    "valores_pi.append(pi)"
   ]
  },
  {
   "cell_type": "code",
   "execution_count": 10,
   "metadata": {},
   "outputs": [
    {
     "name": "stdout",
     "output_type": "stream",
     "text": [
      "3.1415936535907742\n",
      "[3.0418396189294032, 3.1315929035585537, 3.140592653839794, 3.1414926535900345, 3.1415826535897198, 3.1415936535907742]\n",
      "[3.1752377109236427, 0.31830192943101804, 0.03183098066059948, 0.0031830988541547496, 0.0003183098885182828, 3.183101984880741e-05]\n"
     ]
    }
   ],
   "source": [
    "print(pi)\n",
    "print(valores_pi)\n",
    "print(erros)"
   ]
  },
  {
   "cell_type": "markdown",
   "metadata": {},
   "source": [
    "Cálculo do erro de truncamento:"
   ]
  },
  {
   "cell_type": "code",
   "execution_count": 11,
   "metadata": {},
   "outputs": [],
   "source": [
    "lpi = [math.pi for i in range(6)]\n",
    "itr = [0,1,2,3,4,5]"
   ]
  },
  {
   "cell_type": "code",
   "execution_count": 12,
   "metadata": {
    "scrolled": false
   },
   "outputs": [
    {
     "data": {
      "image/png": "[encoded data removed]",
      "text/plain": [
       "<matplotlib.figure.Figure at 0x204ffcdfc18>"
      ]
     },
     "metadata": {},
     "output_type": "display_data"
    }
   ],
   "source": [
    "plt.figure(figsize=(10,10))\n",
    "\n",
    "\n",
    "plt.scatter(itr,erros, color=\"blue\", linewidth=2)\n",
    "plt.plot(erros, color=\"blue\", linewidth=0.5)\n",
    "\n",
    "plt.scatter(itr,valores_pi, color=\"magenta\", linewidth=2)\n",
    "plt.plot(valores_pi, color=\"magenta\", linewidth=1)\n",
    "\n",
    "plt.plot(lpi, color=\"black\", linewidth=1)\n",
    "\n",
    "\n",
    "plt.grid()\n",
    "plt.show()"
   ]
  },
  {
   "cell_type": "code",
   "execution_count": 13,
   "metadata": {},
   "outputs": [
    {
     "data": {
      "text/html": [
       "<div>\n",
       "<style scoped>\n",
       "    .dataframe tbody tr th:only-of-type {\n",
       "        vertical-align: middle;\n",
       "    }\n",
       "\n",
       "    .dataframe tbody tr th {\n",
       "        vertical-align: top;\n",
       "    }\n",
       "\n",
       "    .dataframe thead th {\n",
       "        text-align: right;\n",
       "    }\n",
       "</style>\n",
       "<table border=\"1\" class=\"dataframe\">\n",
       "  <thead>\n",
       "    <tr style=\"text-align: right;\">\n",
       "      <th></th>\n",
       "      <th>Erro a cada iteração</th>\n",
       "    </tr>\n",
       "  </thead>\n",
       "  <tbody>\n",
       "    <tr>\n",
       "      <th>0</th>\n",
       "      <td>3.175238</td>\n",
       "    </tr>\n",
       "    <tr>\n",
       "      <th>1</th>\n",
       "      <td>0.318302</td>\n",
       "    </tr>\n",
       "    <tr>\n",
       "      <th>2</th>\n",
       "      <td>0.031831</td>\n",
       "    </tr>\n",
       "    <tr>\n",
       "      <th>3</th>\n",
       "      <td>0.003183</td>\n",
       "    </tr>\n",
       "    <tr>\n",
       "      <th>4</th>\n",
       "      <td>0.000318</td>\n",
       "    </tr>\n",
       "    <tr>\n",
       "      <th>5</th>\n",
       "      <td>0.000032</td>\n",
       "    </tr>\n",
       "  </tbody>\n",
       "</table>\n",
       "</div>"
      ],
      "text/plain": [
       "   Erro a cada iteração\n",
       "0              3.175238\n",
       "1              0.318302\n",
       "2              0.031831\n",
       "3              0.003183\n",
       "4              0.000318\n",
       "5              0.000032"
      ]
     },
     "execution_count": 13,
     "metadata": {},
     "output_type": "execute_result"
    }
   ],
   "source": [
    "tabela = pd.DataFrame(erros)\n",
    "tabela.index = [i for i in range(6)]\n",
    "tabela.columns = ['Erro a cada iteração']\n",
    "tabela"
   ]
  },
  {
   "cell_type": "code",
   "execution_count": null,
   "metadata": {},
   "outputs": [],
   "source": []
  },
  {
   "cell_type": "code",
   "execution_count": null,
   "metadata": {},
   "outputs": [],
   "source": []
  },
  {
   "cell_type": "markdown",
   "metadata": {},
   "source": [
    "## Cálculo da série utilizando 100 000 termos."
   ]
  },
  {
   "cell_type": "code",
   "execution_count": 14,
   "metadata": {},
   "outputs": [
    {
     "name": "stdout",
     "output_type": "stream",
     "text": [
      "3.1415826535897198\n"
     ]
    }
   ],
   "source": [
    "pi = 0\n",
    "\n",
    "for n in range(100000):\n",
    "    pi += 4*((-1)**n)/((2*n)+1)\n",
    "    \n",
    "print(pi)"
   ]
  },
  {
   "cell_type": "markdown",
   "metadata": {},
   "source": [
    "Cálculo do erro de truncamento:"
   ]
  },
  {
   "cell_type": "code",
   "execution_count": 15,
   "metadata": {},
   "outputs": [
    {
     "name": "stdout",
     "output_type": "stream",
     "text": [
      "0.0003183098885182828\n"
     ]
    }
   ],
   "source": [
    "print(math.fabs((100)*(pi-math.pi)/math.pi))"
   ]
  },
  {
   "cell_type": "code",
   "execution_count": 16,
   "metadata": {},
   "outputs": [
    {
     "name": "stdout",
     "output_type": "stream",
     "text": [
      "6.666666611066698\n"
     ]
    }
   ],
   "source": [
    "print(0.0021220659057571986/0.0003183098885182828)"
   ]
  },
  {
   "cell_type": "markdown",
   "metadata": {},
   "source": [
    "## O erro de truncamento para o segundo caso é 6.66 vezes menor."
   ]
  },
  {
   "cell_type": "markdown",
   "metadata": {},
   "source": [
    "### Erro de arredondamento: resulta de usar um número de algarismos significativos menor do que o que representa o número exatamente"
   ]
  },
  {
   "cell_type": "markdown",
   "metadata": {},
   "source": [
    "# Cálculo da área de um círculo"
   ]
  },
  {
   "cell_type": "markdown",
   "metadata": {},
   "source": [
    "O software fornece pi com o seguinte número de algarismos significativos:"
   ]
  },
  {
   "cell_type": "code",
   "execution_count": 17,
   "metadata": {},
   "outputs": [
    {
     "name": "stdout",
     "output_type": "stream",
     "text": [
      "3.141592653589793\n"
     ]
    }
   ],
   "source": [
    "print(math.pi)"
   ]
  },
  {
   "cell_type": "markdown",
   "metadata": {},
   "source": [
    "O círculo tem raio de 75m."
   ]
  },
  {
   "cell_type": "markdown",
   "metadata": {},
   "source": [
    "### Cálculo da área com 16 algarismos significativos:"
   ]
  },
  {
   "cell_type": "code",
   "execution_count": 18,
   "metadata": {},
   "outputs": [
    {
     "name": "stdout",
     "output_type": "stream",
     "text": [
      "17671.458676442588\n"
     ]
    }
   ],
   "source": [
    "a16 = 3.141592653589793*(75**2)\n",
    "print(a16)"
   ]
  },
  {
   "cell_type": "markdown",
   "metadata": {},
   "source": [
    "### Cálculo da área com 4 algarismos significativos:"
   ]
  },
  {
   "cell_type": "code",
   "execution_count": 19,
   "metadata": {},
   "outputs": [
    {
     "name": "stdout",
     "output_type": "stream",
     "text": [
      "17668.125\n"
     ]
    }
   ],
   "source": [
    "a4 = 3.141*(75**2)\n",
    "print(a4)"
   ]
  },
  {
   "cell_type": "markdown",
   "metadata": {},
   "source": [
    "## Erro de arredondamento:"
   ]
  },
  {
   "cell_type": "code",
   "execution_count": 20,
   "metadata": {},
   "outputs": [
    {
     "name": "stdout",
     "output_type": "stream",
     "text": [
      "0.018864749671353667\n"
     ]
    }
   ],
   "source": [
    "e1 = 100*math.fabs((a16-a4)/a16)\n",
    "print(e1)"
   ]
  },
  {
   "cell_type": "markdown",
   "metadata": {},
   "source": [
    "## Números de arredondamento maiores acarreta erros maiores."
   ]
  },
  {
   "cell_type": "code",
   "execution_count": 21,
   "metadata": {
    "scrolled": true
   },
   "outputs": [
    {
     "name": "stdout",
     "output_type": "stream",
     "text": [
      "127516117977447.06\n"
     ]
    }
   ],
   "source": [
    "a162 = 3.141592653589793*(6371000**2)\n",
    "print(a162)"
   ]
  },
  {
   "cell_type": "code",
   "execution_count": 22,
   "metadata": {},
   "outputs": [
    {
     "name": "stdout",
     "output_type": "stream",
     "text": [
      "127492062381000.0\n"
     ]
    }
   ],
   "source": [
    "a42 = 3.141*(6371000**2)\n",
    "print(a42)"
   ]
  },
  {
   "cell_type": "code",
   "execution_count": 23,
   "metadata": {
    "scrolled": true
   },
   "outputs": [
    {
     "name": "stdout",
     "output_type": "stream",
     "text": [
      "0.01886474967134512\n"
     ]
    }
   ],
   "source": [
    "e2 = 100*math.fabs((a162-a42)/a162)\n",
    "print(e2)"
   ]
  },
  {
   "cell_type": "code",
   "execution_count": 24,
   "metadata": {},
   "outputs": [
    {
     "name": "stdout",
     "output_type": "stream",
     "text": [
      "0.9999999999995468\n"
     ]
    }
   ],
   "source": [
    "print(e2/e1)"
   ]
  },
  {
   "cell_type": "code",
   "execution_count": null,
   "metadata": {},
   "outputs": [],
   "source": []
  }
 ],
 "metadata": {
  "kernelspec": {
   "display_name": "Python 3",
   "language": "python",
   "name": "python3"
  },
  "language_info": {
   "codemirror_mode": {
    "name": "ipython",
    "version": 3
   },
   "file_extension": ".py",
   "mimetype": "text/x-python",
   "name": "python",
   "nbconvert_exporter": "python",
   "pygments_lexer": "ipython3",
   "version": "3.6.4"
  }
 },
 "nbformat": 4,
 "nbformat_minor": 2
}
