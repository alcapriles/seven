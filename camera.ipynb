{
 "cells": [
  {
   "cell_type": "code",
   "execution_count": null,
   "metadata": {},
   "outputs": [],
   "source": [
    "#!/usr/bin/env python3\n",
    "\n",
    "\n",
    "import math\n",
    "import cv2 as cv\n",
    "import numpy as np\n",
    "import tkinter as tk\n",
    "\n",
    "\n",
    "# Verificação da resolução da tela\n",
    "root = tk.Tk()\n",
    "screen_width = root.winfo_screenwidth()\n",
    "screen_height = root.winfo_screenheight()\n",
    "\n",
    "\n",
    "cap_receive = cv.VideoCapture('v4l2src io-mode=4 ! video/x-raw,framerate=30/1 ! videoconvert ! appsink', cv2.CAP_GSTREAMER)\n",
    "\n",
    "\n",
    "while True:\n",
    "\n",
    "\tret, frame = cap_receive.read()\n",
    "\n",
    "\t# ajuste da imagem da câmera ao tamanho da tela - com a proporção mantida\n",
    "\t# opção 1: mantendo a altura final igual à altura da tela\n",
    "\tr = screen_height/frame.shape[1]                                        # razão de conversão = (altura/largura)\n",
    "\tdim = (int(frame.shape[1]*r), screen_height)                            # a ALTURA final é fixa. \n",
    "\tresized = cv.resize(frame, dim, interpolation = cv.INTER_AREA)          # aqui, é definida a imagem em seu novo tamanho.\n",
    "\n",
    "\t# opção 2: mantendo a largura final igual à largura da tela\n",
    "\t#r = screen_width/frame.shape[0]                                        # razão de conversão = (altura/largura)\n",
    "\t#larg = 0.75                                                            # proporção da largura que você quer usar\n",
    "\t#dim = (int(screen_width*larg), int(frame.shape[0]*r*larg))             # a LARGURA final é fixa. \n",
    "\t#resized = cv.resize(frame, dim, interpolation = cv.INTER_AREA)         # aqui, é definida a imagem em seu novo tamanho.\n",
    "\n",
    "    # Círculo\n",
    "\tcanvas = np.zeros((resized.shape[0], resized.shape[1], 50), dtype = \"uint8\")\n",
    "\t(centerX, centerY) = (canvas.shape[1] // 2, canvas.shape[0] // 2)\n",
    "\tblack = (0, 0, 0)\n",
    "\n",
    "\tespessura_da_borda = canvas.shape[1]*math.sqrt(2)/2 - resized.shape[1]/2\n",
    "\tnovo_raio = (canvas.shape[1] // 2) + espessura_da_borda/2               # novo raio = raio antigo + (espessura da borda)/2\n",
    "\tcv.circle(resized, (centerX, centerY), math.ceil(novo_raio), black, math.ceil(espessura_da_borda))\n",
    "\n",
    "\t# Zoom Digital\n",
    "\t#cropping = image[start y: end y, start x: end x]    (sintaxe)\n",
    "\n",
    "\tzoom = 1\n",
    "\n",
    "\tif zoom != 0:\n",
    "\t\tresized = resized[int((math.fabs(zoom-1))*resized.shape[1]/(2*zoom)):int((zoom+1)*resized.shape[1]/(2*zoom)), int((math.fabs(zoom-1))*resized.shape[0]/(2*zoom)):int((zoom+1)*resized.shape[0]/(2*zoom))] #cropping\n",
    "\t\t\n",
    "\t# observação: mapear os valores em mV da saída do potenciômetro de zoom pra eles começarem em 1. // (e pegar os valores positivos dele)\n",
    "\t# a imagem deve ser ajustada novamente ao tamanho da tela após o cropping:\n",
    "\tr = screen_height/resized.shape[1]                                        # razão de conversão = (altura/largura)\n",
    "\tdim = (int(resized.shape[1]*r), screen_height)                            # a ALTURA final é fixa. \n",
    "\tresized = cv.resize(resized, dim, interpolation = cv.INTER_AREA)          # aqui, é definida a imagem em seu novo tamanho.\n",
    "\n",
    "\n",
    "\tcv.imshow(\"Frame\", resized)\n",
    "\n",
    "\n",
    "\tif cv.waitKey(1) & 0xFF == ord('q'):\n",
    "\t\tbreak\n"
   ]
  },
  {
   "cell_type": "markdown",
   "metadata": {},
   "source": [
    "Gravar:"
   ]
  },
  {
   "cell_type": "code",
   "execution_count": null,
   "metadata": {},
   "outputs": [],
   "source": [
    "\n",
    "\n",
    "\n",
    "\n",
    "cap = cv2.VideoCapture(0)\n",
    "out = cv2.VideoWriter(filename, 25)\n",
    "\n",
    "while True:\n",
    "    ret, frame = cap.read()\n",
    "    out.write(frame)\n",
    "    cv2.imshow('frame',frame)\n",
    "    if cv2.waitKey(1) & 0xFF == ord('q'):\n",
    "        break\n",
    "        \n",
    "        \n",
    "        \n",
    "cap.release()\n",
    "out.release()\n",
    "cv2.destroyAllWindows()"
   ]
  },
  {
   "cell_type": "code",
   "execution_count": null,
   "metadata": {},
   "outputs": [],
   "source": []
  },
  {
   "cell_type": "code",
   "execution_count": null,
   "metadata": {},
   "outputs": [],
   "source": []
  },
  {
   "cell_type": "code",
   "execution_count": null,
   "metadata": {},
   "outputs": [],
   "source": []
  }
 ],
 "metadata": {
  "kernelspec": {
   "display_name": "Python 3",
   "language": "python",
   "name": "python3"
  },
  "language_info": {
   "codemirror_mode": {
    "name": "ipython",
    "version": 3
   },
   "file_extension": ".py",
   "mimetype": "text/x-python",
   "name": "python",
   "nbconvert_exporter": "python",
   "pygments_lexer": "ipython3",
   "version": "3.6.4"
  }
 },
 "nbformat": 4,
 "nbformat_minor": 2
}
