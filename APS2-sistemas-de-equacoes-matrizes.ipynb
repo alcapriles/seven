{
 "cells": [
  {
   "cell_type": "markdown",
   "metadata": {},
   "source": [
    "## APS 2 - Sistemas de equações (matrizes)."
   ]
  },
  {
   "cell_type": "markdown",
   "metadata": {},
   "source": [
    "Considerar epsilon_s = 0,0001%."
   ]
  },
  {
   "cell_type": "markdown",
   "metadata": {},
   "source": [
    "Explicar como funcionam os comandos de inversão de matriz e multiplicação de matrizes usados pela linguagem de programação Python."
   ]
  },
  {
   "cell_type": "code",
   "execution_count": 1,
   "metadata": {},
   "outputs": [],
   "source": [
    "import numpy as np\n",
    "import math\n",
    "import matplotlib.pyplot as plt\n",
    "np.set_printoptions(formatter={'float': lambda x: \"{0:0.3f}\".format(x)})\n",
    "\n",
    "%matplotlib inline"
   ]
  },
  {
   "cell_type": "markdown",
   "metadata": {},
   "source": [
    "### Dedução dos sistemas de equações:"
   ]
  },
  {
   "cell_type": "markdown",
   "metadata": {},
   "source": [
    "<img src='scan1.JPG'>"
   ]
  },
  {
   "cell_type": "markdown",
   "metadata": {},
   "source": [
    "<img src='scan2.JPG'>"
   ]
  },
  {
   "cell_type": "markdown",
   "metadata": {},
   "source": [
    "### Exercício 12.23 "
   ]
  },
  {
   "cell_type": "code",
   "execution_count": null,
   "metadata": {},
   "outputs": [],
   "source": [
    "matrix = np.array([    [1,-1,-1,0],\n",
    "                       [-35,0,-5,200],\n",
    "                       [0,-27,5,0]\n",
    "                       ])\n",
    "\n",
    "matrix = matrix.astype('float64')"
   ]
  },
  {
   "cell_type": "markdown",
   "metadata": {},
   "source": [
    "### Utilizando a eliminação de Gauss ingênua:"
   ]
  },
  {
   "cell_type": "code",
   "execution_count": null,
   "metadata": {},
   "outputs": [],
   "source": [
    "temp = matrix[1][0]/matrix[0][0]\n",
    "for i in range(4): \n",
    "    matrix[1][i] -= temp*matrix[0][i]"
   ]
  },
  {
   "cell_type": "code",
   "execution_count": null,
   "metadata": {},
   "outputs": [],
   "source": [
    "temp = matrix[2][1]/matrix[1][1]\n",
    "for i in range(4): \n",
    "    matrix[2][i] -= temp*matrix[1][i]"
   ]
  },
  {
   "cell_type": "code",
   "execution_count": null,
   "metadata": {},
   "outputs": [],
   "source": [
    "print(matrix)"
   ]
  },
  {
   "cell_type": "markdown",
   "metadata": {},
   "source": [
    "### i3:"
   ]
  },
  {
   "cell_type": "code",
   "execution_count": null,
   "metadata": {},
   "outputs": [],
   "source": [
    "i3 = -154.286/35.857\n",
    "print(i3)"
   ]
  },
  {
   "cell_type": "markdown",
   "metadata": {},
   "source": [
    "### i2:"
   ]
  },
  {
   "cell_type": "code",
   "execution_count": null,
   "metadata": {},
   "outputs": [],
   "source": [
    "i2 = (40*i3+200)/-35\n",
    "print(i2)"
   ]
  },
  {
   "cell_type": "markdown",
   "metadata": {},
   "source": [
    "### i1:"
   ]
  },
  {
   "cell_type": "code",
   "execution_count": null,
   "metadata": {},
   "outputs": [],
   "source": [
    "i1 = i2+i3\n",
    "print(i1)"
   ]
  },
  {
   "cell_type": "markdown",
   "metadata": {},
   "source": [
    "### O sinal negativo da corrente indica que ela tem sinal contrário ao que está no desenho acima."
   ]
  },
  {
   "cell_type": "markdown",
   "metadata": {},
   "source": [
    "### Exercício 12.25\n",
    "utilizar eliminação de Gauss com pivotamento."
   ]
  },
  {
   "cell_type": "markdown",
   "metadata": {},
   "source": [
    "### Exercício 12.27"
   ]
  },
  {
   "cell_type": "markdown",
   "metadata": {},
   "source": [
    "### Utilizando eliminação de Gauss com pivotamento (pivotamento executado manualmente), vem:"
   ]
  },
  {
   "cell_type": "markdown",
   "metadata": {},
   "source": [
    "O pivotamento cumpre o propósito de evitar a divisão por zero na eliminação de Gauss, e consiste em reordenar as linhas de forma que o elemento pivô (geralmente o da diagonal principal), não seja zero."
   ]
  },
  {
   "cell_type": "markdown",
   "metadata": {},
   "source": [
    "### Matriz obtida a partir das leis de Kirchoff aplicadas ao circuito elétrico:"
   ]
  },
  {
   "cell_type": "code",
   "execution_count": null,
   "metadata": {},
   "outputs": [],
   "source": [
    "matrix = np.array([  \n",
    "    \n",
    "    \n",
    "    [0 ,0  ,1  ,1  ,-1,  0],\n",
    "    [-1,0  ,1  ,0  ,1 ,  0],  \n",
    "    [-1,1  ,1  ,0  ,0 ,  0], \n",
    "    [-5,0  ,-15,0  ,0 ,-80], \n",
    "    [0 ,0  ,-20,25 ,0 , 50]              \n",
    "                       ])\n",
    "\n",
    "matrix = matrix.astype('float64')"
   ]
  },
  {
   "cell_type": "markdown",
   "metadata": {},
   "source": [
    "### Matriz pivotada:"
   ]
  },
  {
   "cell_type": "code",
   "execution_count": null,
   "metadata": {},
   "outputs": [],
   "source": [
    "matrix = np.array([  \n",
    "    \n",
    "    [-5,0  ,-15,0  ,0 ,-80],\n",
    "    [-1,1  ,1  ,0  ,0 ,  0],\n",
    "    [-1,0  ,1  ,0  ,1 ,  0], \n",
    "    [0 ,0  ,1  ,1  ,-1,  0],\n",
    "    [0 ,0  ,-20,25 ,0 , 50]              \n",
    "                       ])\n",
    "\n",
    "matrix = matrix.astype('float64')"
   ]
  },
  {
   "cell_type": "markdown",
   "metadata": {},
   "source": [
    "Primeiro coeficiente:"
   ]
  },
  {
   "cell_type": "code",
   "execution_count": null,
   "metadata": {},
   "outputs": [],
   "source": [
    "temp = matrix[1][0]/matrix[0][0]\n",
    "for i in range(6): \n",
    "    matrix[1][i] -= temp*matrix[0][i]\n",
    "\n",
    "temp = matrix[2][0]/matrix[0][0]\n",
    "for i in range(6): \n",
    "    matrix[2][i] -= temp*matrix[0][i]"
   ]
  },
  {
   "cell_type": "code",
   "execution_count": null,
   "metadata": {},
   "outputs": [],
   "source": [
    "print(matrix)"
   ]
  },
  {
   "cell_type": "markdown",
   "metadata": {},
   "source": [
    "Terceiro coeficiente:"
   ]
  },
  {
   "cell_type": "code",
   "execution_count": null,
   "metadata": {},
   "outputs": [],
   "source": [
    "temp = matrix[3][2]/matrix[2][2]\n",
    "for i in range(6): \n",
    "    matrix[3][i] -= temp*matrix[2][i]\n",
    "\n",
    "temp = matrix[4][2]/matrix[2][2]\n",
    "for i in range(6): \n",
    "    matrix[4][i] -= temp*matrix[2][i]"
   ]
  },
  {
   "cell_type": "code",
   "execution_count": null,
   "metadata": {},
   "outputs": [],
   "source": [
    "print(matrix)"
   ]
  },
  {
   "cell_type": "markdown",
   "metadata": {},
   "source": [
    "Quarto coeficiente:"
   ]
  },
  {
   "cell_type": "code",
   "execution_count": null,
   "metadata": {},
   "outputs": [],
   "source": [
    "temp = matrix[4][3]/matrix[3][3]\n",
    "for i in range(6): \n",
    "    matrix[4][i] -= temp*matrix[3][i]"
   ]
  },
  {
   "cell_type": "code",
   "execution_count": null,
   "metadata": {},
   "outputs": [],
   "source": [
    "print(matrix)"
   ]
  },
  {
   "cell_type": "markdown",
   "metadata": {},
   "source": [
    "### Substituição regressiva:"
   ]
  },
  {
   "cell_type": "markdown",
   "metadata": {},
   "source": [
    "### i5:"
   ]
  },
  {
   "cell_type": "code",
   "execution_count": null,
   "metadata": {},
   "outputs": [],
   "source": [
    "i5 = 230.000/36.250\n",
    "print(i5)"
   ]
  },
  {
   "cell_type": "markdown",
   "metadata": {},
   "source": [
    "### i4:"
   ]
  },
  {
   "cell_type": "code",
   "execution_count": null,
   "metadata": {},
   "outputs": [],
   "source": [
    "i4 = -4 + 1.25*i5\n",
    "print(i4)"
   ]
  },
  {
   "cell_type": "markdown",
   "metadata": {},
   "source": [
    "### i3:"
   ]
  },
  {
   "cell_type": "code",
   "execution_count": null,
   "metadata": {},
   "outputs": [],
   "source": [
    "i3 = (16) -i5 /4\n",
    "print(i3)"
   ]
  },
  {
   "cell_type": "markdown",
   "metadata": {},
   "source": [
    "### i2:"
   ]
  },
  {
   "cell_type": "code",
   "execution_count": null,
   "metadata": {},
   "outputs": [],
   "source": [
    "i2 = 16 - 4*i3\n",
    "print(i2)"
   ]
  },
  {
   "cell_type": "markdown",
   "metadata": {},
   "source": [
    "### i1:"
   ]
  },
  {
   "cell_type": "code",
   "execution_count": null,
   "metadata": {},
   "outputs": [],
   "source": [
    "i1 = (-80 + 15*i3) / 5\n",
    "print(i1)"
   ]
  },
  {
   "cell_type": "markdown",
   "metadata": {},
   "source": [
    "### Exercício 12.28"
   ]
  },
  {
   "cell_type": "markdown",
   "metadata": {},
   "source": [
    "### Matriz obtida a partir das leis de Kirchoff aplicadas ao circuito elétrico:"
   ]
  },
  {
   "cell_type": "code",
   "execution_count": 2,
   "metadata": {},
   "outputs": [],
   "source": [
    "matrix = np.array([  \n",
    "    \n",
    "    [1,-1 ,-1, 0, 0, 0,  0],    \n",
    "    [0, 1 , 0, 0, 1,-1,  0],     \n",
    "    [0, 0 ,-4,-2, 0, 0,-20],     \n",
    "    [0 ,-6, 4, 0, 8, 0,  0],    \n",
    "    [0 ,-6, 0, 0, 0,-5,-20],    \n",
    "    [0 ,0 , 0,-2, 8, 5,  0]    \n",
    "                       ])\n",
    "\n",
    "matrix = matrix.astype('float64')"
   ]
  },
  {
   "cell_type": "markdown",
   "metadata": {},
   "source": [
    "### Matriz pivotada manualmente:"
   ]
  },
  {
   "cell_type": "code",
   "execution_count": null,
   "metadata": {},
   "outputs": [],
   "source": [
    "matrix = np.array([  \n",
    "    \n",
    "    [1,-1 ,-1, 0, 0, 0,  0],    \n",
    "    [0, 1 , 0, 0, 1,-1,  0], \n",
    "    [0, 0 ,-4,-2, 0, 0,-20], \n",
    "    [0 ,0 , 0,-2, 8, 5,  0]\n",
    "    [0 ,-6, 4, 0, 8, 0,  0],\n",
    "    [0 ,-6, 0, 0, 0,-5,-20],   \n",
    "    \n",
    "        \n",
    "                       ])\n",
    "\n",
    "matrix = matrix.astype('float64')"
   ]
  },
  {
   "cell_type": "code",
   "execution_count": null,
   "metadata": {},
   "outputs": [],
   "source": []
  },
  {
   "cell_type": "code",
   "execution_count": null,
   "metadata": {},
   "outputs": [],
   "source": []
  },
  {
   "cell_type": "code",
   "execution_count": null,
   "metadata": {},
   "outputs": [],
   "source": []
  },
  {
   "cell_type": "markdown",
   "metadata": {},
   "source": [
    "Primeiro coeficiente:"
   ]
  },
  {
   "cell_type": "code",
   "execution_count": null,
   "metadata": {},
   "outputs": [],
   "source": [
    "temp = matrix[1][0]/matrix[0][0]\n",
    "for i in range(6): \n",
    "    matrix[1][i] -= temp*matrix[0][i]\n",
    "\n",
    "temp = matrix[5][0]/matrix[0][0]\n",
    "for i in range(6): \n",
    "    matrix[5][i] -= temp*matrix[0][i]"
   ]
  },
  {
   "cell_type": "code",
   "execution_count": null,
   "metadata": {},
   "outputs": [],
   "source": [
    "print(matrix)"
   ]
  },
  {
   "cell_type": "markdown",
   "metadata": {},
   "source": [
    "Segundo coeficiente:"
   ]
  },
  {
   "cell_type": "code",
   "execution_count": null,
   "metadata": {},
   "outputs": [],
   "source": [
    "temp = matrix[3][1]/matrix[1][1]\n",
    "for i in range(6): \n",
    "    matrix[3][i] -= temp*matrix[1][i]"
   ]
  },
  {
   "cell_type": "code",
   "execution_count": null,
   "metadata": {},
   "outputs": [],
   "source": [
    "print(matrix)"
   ]
  },
  {
   "cell_type": "markdown",
   "metadata": {},
   "source": [
    "Terceiro coeficiente:"
   ]
  },
  {
   "cell_type": "code",
   "execution_count": null,
   "metadata": {},
   "outputs": [],
   "source": [
    "temp = matrix[3][2]/matrix[2][2]\n",
    "for i in range(6): \n",
    "    matrix[3][i] -= temp*matrix[2][i]\n",
    "    \n",
    "temp = matrix[4][2]/matrix[2][2]\n",
    "for i in range(6): \n",
    "    matrix[4][i] -= temp*matrix[2][i]"
   ]
  },
  {
   "cell_type": "code",
   "execution_count": null,
   "metadata": {},
   "outputs": [],
   "source": [
    "print(matrix)"
   ]
  }
 ],
 "metadata": {
  "kernelspec": {
   "display_name": "Python 3",
   "language": "python",
   "name": "python3"
  },
  "language_info": {
   "codemirror_mode": {
    "name": "ipython",
    "version": 3
   },
   "file_extension": ".py",
   "mimetype": "text/x-python",
   "name": "python",
   "nbconvert_exporter": "python",
   "pygments_lexer": "ipython3",
   "version": "3.6.4"
  }
 },
 "nbformat": 4,
 "nbformat_minor": 2
}
