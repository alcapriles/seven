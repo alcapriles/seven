{
 "cells": [
  {
   "cell_type": "markdown",
   "metadata": {},
   "source": [
    "## APS 2 - Sistemas de equações (matrizes)."
   ]
  },
  {
   "cell_type": "markdown",
   "metadata": {},
   "source": [
    "Considerar epsilon_s = 0,0001%."
   ]
  },
  {
   "cell_type": "markdown",
   "metadata": {},
   "source": [
    "Explicar como funcionam os comandos de inversão de matriz e multiplicação de matrizes usados pela linguagem de programação Python."
   ]
  },
  {
   "cell_type": "code",
   "execution_count": 1,
   "metadata": {},
   "outputs": [],
   "source": [
    "import numpy as np\n",
    "import math\n",
    "import matplotlib.pyplot as plt\n",
    "np.set_printoptions(formatter={'float': lambda x: \"{0:0.3f}\".format(x)})\n",
    "\n",
    "%matplotlib inline"
   ]
  },
  {
   "cell_type": "markdown",
   "metadata": {},
   "source": [
    "### Exercício 12.23 "
   ]
  },
  {
   "cell_type": "code",
   "execution_count": 57,
   "metadata": {},
   "outputs": [],
   "source": [
    "matrix = np.array([    [1,-1,-1,0],\n",
    "                       [-35,0,-5,200],\n",
    "                       [0,-27,5,0]\n",
    "                       ])\n",
    "\n",
    "matrix = matrix.astype('float64')"
   ]
  },
  {
   "cell_type": "markdown",
   "metadata": {},
   "source": [
    "### Utilizando a eliminação de Gauss ingênua:"
   ]
  },
  {
   "cell_type": "code",
   "execution_count": 58,
   "metadata": {},
   "outputs": [],
   "source": [
    "temp = matrix[1][0]/matrix[0][0]\n",
    "for i in range(4): \n",
    "    matrix[1][i] -= temp*matrix[0][i]"
   ]
  },
  {
   "cell_type": "code",
   "execution_count": 60,
   "metadata": {},
   "outputs": [],
   "source": [
    "temp = matrix[2][1]/matrix[1][1]\n",
    "for i in range(4): \n",
    "    matrix[2][i] -= temp*matrix[1][i]"
   ]
  },
  {
   "cell_type": "code",
   "execution_count": 61,
   "metadata": {},
   "outputs": [
    {
     "name": "stdout",
     "output_type": "stream",
     "text": [
      "[[1.000 -1.000 -1.000 0.000]\n",
      " [0.000 -35.000 -40.000 200.000]\n",
      " [0.000 0.000 35.857 -154.286]]\n"
     ]
    }
   ],
   "source": [
    "print(matrix)"
   ]
  },
  {
   "cell_type": "code",
   "execution_count": null,
   "metadata": {},
   "outputs": [],
   "source": []
  },
  {
   "cell_type": "code",
   "execution_count": null,
   "metadata": {},
   "outputs": [],
   "source": []
  },
  {
   "cell_type": "markdown",
   "metadata": {},
   "source": [
    "### Exercício 12.25\n",
    "utilizar eliminação de Gauss com pivotamento."
   ]
  },
  {
   "cell_type": "markdown",
   "metadata": {},
   "source": [
    "### Exercício 12.27"
   ]
  },
  {
   "cell_type": "markdown",
   "metadata": {},
   "source": [
    "### Utilizando eliminação de Gauss com pivotamento (mesmo código usado acima, com pivotamento executado manualmente), vem:"
   ]
  },
  {
   "cell_type": "code",
   "execution_count": 40,
   "metadata": {},
   "outputs": [],
   "source": [
    "matrix = np.array([   \n",
    "    [1,-1,0,0,0,1,0],\n",
    "    [0,1,-1,1,0,0,0],\n",
    "    [-20,-10,-5,0,0,0,30],\n",
    "    [0,0,1,-1,-1,0,0],\n",
    "    [1,0,0,0,-1,1,0],\n",
    "    [-20,0,0,0,0,25,-50]                   \n",
    "                       ])\n",
    "\n",
    "matrix = matrix.astype('float64')"
   ]
  },
  {
   "cell_type": "markdown",
   "metadata": {},
   "source": [
    "Primeiro coeficiente:"
   ]
  },
  {
   "cell_type": "code",
   "execution_count": 26,
   "metadata": {},
   "outputs": [],
   "source": [
    "temp = matrix[2][0]/matrix[0][0]\n",
    "for i in range(7): \n",
    "    matrix[2][i] -= temp*matrix[0][i]"
   ]
  },
  {
   "cell_type": "code",
   "execution_count": 27,
   "metadata": {},
   "outputs": [
    {
     "name": "stdout",
     "output_type": "stream",
     "text": [
      "[[1.000 -1.000 0.000 0.000 0.000 1.000 0.000]\n",
      " [0.000 1.000 -1.000 1.000 0.000 0.000 0.000]\n",
      " [0.000 -30.000 -5.000 0.000 0.000 20.000 30.000]\n",
      " [0.000 0.000 1.000 -1.000 -1.000 0.000 0.000]\n",
      " [0.000 1.000 0.000 0.000 -1.000 0.000 0.000]\n",
      " [0.000 -20.000 0.000 0.000 0.000 45.000 -50.000]]\n"
     ]
    }
   ],
   "source": [
    "print(matrix)"
   ]
  },
  {
   "cell_type": "markdown",
   "metadata": {},
   "source": [
    "Segundo coeficiente:"
   ]
  },
  {
   "cell_type": "code",
   "execution_count": 28,
   "metadata": {},
   "outputs": [],
   "source": [
    "temp = matrix[2][1]/matrix[1][1]\n",
    "for i in range(7): \n",
    "    matrix[2][i] -= temp*matrix[1][i]"
   ]
  },
  {
   "cell_type": "code",
   "execution_count": null,
   "metadata": {},
   "outputs": [],
   "source": [
    "temp = matrix[2][0]/matrix[0][0]\n",
    "for i in range(7): \n",
    "    matrix[2][i] -= temp*matrix[0][i]"
   ]
  },
  {
   "cell_type": "code",
   "execution_count": null,
   "metadata": {},
   "outputs": [],
   "source": [
    "temp = matrix[2][0]/matrix[0][0]\n",
    "for i in range(7): \n",
    "    matrix[2][i] -= temp*matrix[0][i]"
   ]
  },
  {
   "cell_type": "code",
   "execution_count": null,
   "metadata": {},
   "outputs": [],
   "source": []
  },
  {
   "cell_type": "code",
   "execution_count": 29,
   "metadata": {},
   "outputs": [
    {
     "name": "stdout",
     "output_type": "stream",
     "text": [
      "[[1.000 -1.000 0.000 0.000 0.000 1.000 0.000]\n",
      " [0.000 1.000 -1.000 1.000 0.000 0.000 0.000]\n",
      " [0.000 0.000 -35.000 30.000 0.000 20.000 30.000]\n",
      " [0.000 0.000 1.000 -1.000 -1.000 0.000 0.000]\n",
      " [0.000 1.000 0.000 0.000 -1.000 0.000 0.000]\n",
      " [0.000 -20.000 0.000 0.000 0.000 45.000 -50.000]]\n"
     ]
    }
   ],
   "source": [
    "print(matrix)"
   ]
  },
  {
   "cell_type": "code",
   "execution_count": null,
   "metadata": {},
   "outputs": [],
   "source": []
  },
  {
   "cell_type": "code",
   "execution_count": null,
   "metadata": {},
   "outputs": [],
   "source": []
  },
  {
   "cell_type": "code",
   "execution_count": null,
   "metadata": {},
   "outputs": [],
   "source": []
  },
  {
   "cell_type": "code",
   "execution_count": null,
   "metadata": {},
   "outputs": [],
   "source": []
  },
  {
   "cell_type": "markdown",
   "metadata": {},
   "source": [
    "### Exercício 12.28"
   ]
  },
  {
   "cell_type": "code",
   "execution_count": null,
   "metadata": {},
   "outputs": [],
   "source": [
    "matrix = np.array([   \n",
    "    [1,0,0,0,1,-1,0],\n",
    "    [1,-1,0,1,0,0,0],\n",
    "    [0,0,1,-1,1,0,0],\n",
    "    [0,-1,1,0,0,1,0],\n",
    "    [0,0,2,0,-4,0,-20],\n",
    "    [-6,0,0,8,4,0,0]                   \n",
    "                       ])\n",
    "\n",
    "matrix = matrix.astype('float64')"
   ]
  },
  {
   "cell_type": "code",
   "execution_count": null,
   "metadata": {},
   "outputs": [],
   "source": []
  },
  {
   "cell_type": "code",
   "execution_count": null,
   "metadata": {},
   "outputs": [],
   "source": []
  },
  {
   "cell_type": "code",
   "execution_count": null,
   "metadata": {},
   "outputs": [],
   "source": []
  },
  {
   "cell_type": "code",
   "execution_count": null,
   "metadata": {},
   "outputs": [],
   "source": []
  },
  {
   "cell_type": "code",
   "execution_count": null,
   "metadata": {},
   "outputs": [],
   "source": []
  },
  {
   "cell_type": "code",
   "execution_count": null,
   "metadata": {},
   "outputs": [],
   "source": []
  }
 ],
 "metadata": {
  "kernelspec": {
   "display_name": "Python 3",
   "language": "python",
   "name": "python3"
  },
  "language_info": {
   "codemirror_mode": {
    "name": "ipython",
    "version": 3
   },
   "file_extension": ".py",
   "mimetype": "text/x-python",
   "name": "python",
   "nbconvert_exporter": "python",
   "pygments_lexer": "ipython3",
   "version": "3.6.4"
  }
 },
 "nbformat": 4,
 "nbformat_minor": 2
}
