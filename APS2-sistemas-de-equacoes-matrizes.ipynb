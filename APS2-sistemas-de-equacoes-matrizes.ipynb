{
 "cells": [
  {
   "cell_type": "markdown",
   "metadata": {},
   "source": [
    "## APS 2 - Sistemas de equações (matrizes)."
   ]
  },
  {
   "cell_type": "markdown",
   "metadata": {},
   "source": [
    "Considerar epsilon_s = 0,0001%."
   ]
  },
  {
   "cell_type": "markdown",
   "metadata": {},
   "source": [
    "Explicar como funcionam os comandos de inversão de matriz e multiplicação de matrizes usados pela linguagem de programação Python."
   ]
  },
  {
   "cell_type": "code",
   "execution_count": 1,
   "metadata": {},
   "outputs": [],
   "source": [
    "import numpy as np\n",
    "import math\n",
    "import matplotlib.pyplot as plt\n",
    "np.set_printoptions(formatter={'float': lambda x: \"{0:0.3f}\".format(x)})\n",
    "\n",
    "%matplotlib inline"
   ]
  },
  {
   "cell_type": "markdown",
   "metadata": {},
   "source": [
    "### Exercício 12.23 "
   ]
  },
  {
   "cell_type": "markdown",
   "metadata": {},
   "source": [
    "<img src=\"scan2.JPG\">"
   ]
  },
  {
   "cell_type": "code",
   "execution_count": 2,
   "metadata": {},
   "outputs": [],
   "source": [
    "matrix = np.array([    [1,-1,-1,0],\n",
    "                       [-35,0,-5,200],\n",
    "                       [0,-27,5,0]\n",
    "                       ])\n",
    "\n",
    "matrix = matrix.astype('float64')"
   ]
  },
  {
   "cell_type": "markdown",
   "metadata": {},
   "source": [
    "### Utilizando a eliminação de Gauss ingênua:"
   ]
  },
  {
   "cell_type": "code",
   "execution_count": 3,
   "metadata": {},
   "outputs": [],
   "source": [
    "temp = matrix[1][0]/matrix[0][0]\n",
    "for i in range(4): \n",
    "    matrix[1][i] -= temp*matrix[0][i]"
   ]
  },
  {
   "cell_type": "code",
   "execution_count": 4,
   "metadata": {},
   "outputs": [],
   "source": [
    "temp = matrix[2][1]/matrix[1][1]\n",
    "for i in range(4): \n",
    "    matrix[2][i] -= temp*matrix[1][i]"
   ]
  },
  {
   "cell_type": "code",
   "execution_count": 5,
   "metadata": {},
   "outputs": [
    {
     "name": "stdout",
     "output_type": "stream",
     "text": [
      "[[1.000 -1.000 -1.000 0.000]\n",
      " [0.000 -35.000 -40.000 200.000]\n",
      " [0.000 0.000 35.857 -154.286]]\n"
     ]
    }
   ],
   "source": [
    "print(matrix)"
   ]
  },
  {
   "cell_type": "markdown",
   "metadata": {},
   "source": [
    "### i3:"
   ]
  },
  {
   "cell_type": "code",
   "execution_count": 6,
   "metadata": {},
   "outputs": [
    {
     "name": "stdout",
     "output_type": "stream",
     "text": [
      "-4.302813955434085\n"
     ]
    }
   ],
   "source": [
    "i3 = -154.286/35.857\n",
    "print(i3)"
   ]
  },
  {
   "cell_type": "markdown",
   "metadata": {},
   "source": [
    "### i2:"
   ]
  },
  {
   "cell_type": "code",
   "execution_count": 7,
   "metadata": {},
   "outputs": [
    {
     "name": "stdout",
     "output_type": "stream",
     "text": [
      "-0.7967840509324738\n"
     ]
    }
   ],
   "source": [
    "i2 = (40*i3+200)/-35\n",
    "print(i2)"
   ]
  },
  {
   "cell_type": "markdown",
   "metadata": {},
   "source": [
    "### i1:"
   ]
  },
  {
   "cell_type": "code",
   "execution_count": 8,
   "metadata": {},
   "outputs": [
    {
     "name": "stdout",
     "output_type": "stream",
     "text": [
      "-5.099598006366559\n"
     ]
    }
   ],
   "source": [
    "i1 = i2+i3\n",
    "print(i1)"
   ]
  },
  {
   "cell_type": "markdown",
   "metadata": {},
   "source": [
    "### O sinal negativo da corrente indica que ela tem sinal contrário ao que está no desenho acima."
   ]
  },
  {
   "cell_type": "markdown",
   "metadata": {},
   "source": [
    "### Exercício 12.25\n",
    "utilizar eliminação de Gauss com pivotamento."
   ]
  },
  {
   "cell_type": "markdown",
   "metadata": {},
   "source": [
    "<img src=\"exercicio25.JPG\">"
   ]
  },
  {
   "cell_type": "markdown",
   "metadata": {},
   "source": [
    "### Matriz obtida a partir das leis de Kirchoff aplicadas ao circuito elétrico:"
   ]
  },
  {
   "cell_type": "code",
   "execution_count": 38,
   "metadata": {},
   "outputs": [],
   "source": [
    "matrix = np.array([  \n",
    "    \n",
    "    [-75,-25, 0,  0,-20, 0,-70],    \n",
    "    [0  ,-25,-5,  0,  0, 0,  0],     \n",
    "    [0  ,  0,-5,-10, 25, 0,  0],     \n",
    "    [1  , -1, 0,  0,  0,-1,  0],    \n",
    "    [1  ,  0, 0, -1, -1, 0,  0],    \n",
    "    [0  ,  1, -1, 0, -1, 0,  0]    \n",
    "                       ])\n",
    "\n",
    "matrix = matrix.astype('float64')"
   ]
  },
  {
   "cell_type": "markdown",
   "metadata": {},
   "source": [
    "### Matriz pivotada manualmente:"
   ]
  },
  {
   "cell_type": "code",
   "execution_count": 39,
   "metadata": {},
   "outputs": [],
   "source": [
    "matrix = np.array([  \n",
    "    \n",
    "    [-75,-25, 0,  0,-20, 0,-70], \n",
    "    [0  ,-25,-5,  0,  0, 0,  0],\n",
    "    [0  ,  0,-5,-10, 25, 0,  0], \n",
    "    [1  ,  0, 0, -1, -1, 0,  0], \n",
    "    [0  ,  1, -1, 0, -1, 0,  0],\n",
    "    [1  , -1, 0,  0,  0,-1,  0]       \n",
    "                       ])\n",
    "\n",
    "matrix = matrix.astype('float64')"
   ]
  },
  {
   "cell_type": "markdown",
   "metadata": {},
   "source": [
    "Primeiro coeficiente:"
   ]
  },
  {
   "cell_type": "code",
   "execution_count": 40,
   "metadata": {},
   "outputs": [],
   "source": [
    "temp = matrix[3][0]/matrix[0][0]\n",
    "for i in range(7): \n",
    "    matrix[3][i] -= temp*matrix[0][i]\n",
    "\n",
    "temp = matrix[5][0]/matrix[0][0]\n",
    "for i in range(7): \n",
    "    matrix[5][i] -= temp*matrix[0][i]"
   ]
  },
  {
   "cell_type": "code",
   "execution_count": 41,
   "metadata": {},
   "outputs": [
    {
     "name": "stdout",
     "output_type": "stream",
     "text": [
      "[[-75.000 -25.000 0.000 0.000 -20.000 0.000 -70.000]\n",
      " [0.000 -25.000 -5.000 0.000 0.000 0.000 0.000]\n",
      " [0.000 0.000 -5.000 -10.000 25.000 0.000 0.000]\n",
      " [0.000 -0.333 0.000 -1.000 -1.267 0.000 -0.933]\n",
      " [0.000 1.000 -1.000 0.000 -1.000 0.000 0.000]\n",
      " [0.000 -1.333 0.000 0.000 -0.267 -1.000 -0.933]]\n"
     ]
    }
   ],
   "source": [
    "print(matrix)"
   ]
  },
  {
   "cell_type": "markdown",
   "metadata": {},
   "source": [
    "Segundo coeficiente:"
   ]
  },
  {
   "cell_type": "code",
   "execution_count": 42,
   "metadata": {},
   "outputs": [],
   "source": [
    "temp = matrix[3][1]/matrix[1][1]\n",
    "for i in range(7): \n",
    "    matrix[3][i] -= temp*matrix[1][i]\n",
    "\n",
    "temp = matrix[4][1]/matrix[1][1]\n",
    "for i in range(7): \n",
    "    matrix[4][i] -= temp*matrix[1][i]\n",
    "\n",
    "temp = matrix[5][1]/matrix[1][1]\n",
    "for i in range(7): \n",
    "    matrix[5][i] -= temp*matrix[1][i]"
   ]
  },
  {
   "cell_type": "code",
   "execution_count": 43,
   "metadata": {},
   "outputs": [
    {
     "name": "stdout",
     "output_type": "stream",
     "text": [
      "[[-75.000 -25.000 0.000 0.000 -20.000 0.000 -70.000]\n",
      " [0.000 -25.000 -5.000 0.000 0.000 0.000 0.000]\n",
      " [0.000 0.000 -5.000 -10.000 25.000 0.000 0.000]\n",
      " [0.000 0.000 0.067 -1.000 -1.267 0.000 -0.933]\n",
      " [0.000 0.000 -1.200 0.000 -1.000 0.000 0.000]\n",
      " [0.000 0.000 0.267 0.000 -0.267 -1.000 -0.933]]\n"
     ]
    }
   ],
   "source": [
    "print(matrix)"
   ]
  },
  {
   "cell_type": "markdown",
   "metadata": {},
   "source": [
    "Terceiro coeficiente:"
   ]
  },
  {
   "cell_type": "code",
   "execution_count": 44,
   "metadata": {},
   "outputs": [],
   "source": [
    "temp = matrix[3][2]/matrix[2][2]\n",
    "for i in range(6): \n",
    "    matrix[3][i] -= temp*matrix[2][i]\n",
    "\n",
    "temp = matrix[4][2]/matrix[2][2]\n",
    "for i in range(6): \n",
    "    matrix[4][i] -= temp*matrix[2][i]\n",
    "\n",
    "temp = matrix[5][2]/matrix[2][2]\n",
    "for i in range(6): \n",
    "    matrix[5][i] -= temp*matrix[2][i]"
   ]
  },
  {
   "cell_type": "code",
   "execution_count": 45,
   "metadata": {},
   "outputs": [
    {
     "name": "stdout",
     "output_type": "stream",
     "text": [
      "[[-75.000 -25.000 0.000 0.000 -20.000 0.000 -70.000]\n",
      " [0.000 -25.000 -5.000 0.000 0.000 0.000 0.000]\n",
      " [0.000 0.000 -5.000 -10.000 25.000 0.000 0.000]\n",
      " [0.000 0.000 0.000 -1.133 -0.933 0.000 -0.933]\n",
      " [0.000 0.000 0.000 2.400 -7.000 0.000 0.000]\n",
      " [0.000 0.000 0.000 -0.533 1.067 -1.000 -0.933]]\n"
     ]
    }
   ],
   "source": [
    "print(matrix)"
   ]
  },
  {
   "cell_type": "markdown",
   "metadata": {},
   "source": [
    "Quarto coeficiente:"
   ]
  },
  {
   "cell_type": "code",
   "execution_count": 46,
   "metadata": {},
   "outputs": [],
   "source": [
    "temp = matrix[4][3]/matrix[3][3]\n",
    "for i in range(7): \n",
    "    matrix[4][i] -= temp*matrix[3][i]\n",
    "    \n",
    "temp = matrix[5][3]/matrix[3][3]\n",
    "for i in range(7): \n",
    "    matrix[5][i] -= temp*matrix[3][i]"
   ]
  },
  {
   "cell_type": "code",
   "execution_count": 47,
   "metadata": {},
   "outputs": [
    {
     "name": "stdout",
     "output_type": "stream",
     "text": [
      "[[-75.000 -25.000 0.000 0.000 -20.000 0.000 -70.000]\n",
      " [0.000 -25.000 -5.000 0.000 0.000 0.000 0.000]\n",
      " [0.000 0.000 -5.000 -10.000 25.000 0.000 0.000]\n",
      " [0.000 0.000 0.000 -1.133 -0.933 0.000 -0.933]\n",
      " [0.000 0.000 0.000 0.000 -8.976 0.000 -1.976]\n",
      " [0.000 0.000 0.000 0.000 1.506 -1.000 -0.494]]\n"
     ]
    }
   ],
   "source": [
    "print(matrix)"
   ]
  },
  {
   "cell_type": "markdown",
   "metadata": {},
   "source": [
    "Quinto coeficiente:"
   ]
  },
  {
   "cell_type": "code",
   "execution_count": 48,
   "metadata": {},
   "outputs": [],
   "source": [
    "temp = matrix[5][4]/matrix[4][4]\n",
    "for i in range(7): \n",
    "    matrix[5][i] -= temp*matrix[4][i]"
   ]
  },
  {
   "cell_type": "code",
   "execution_count": 49,
   "metadata": {},
   "outputs": [
    {
     "name": "stdout",
     "output_type": "stream",
     "text": [
      "[[-75.000 -25.000 0.000 0.000 -20.000 0.000 -70.000]\n",
      " [0.000 -25.000 -5.000 0.000 0.000 0.000 0.000]\n",
      " [0.000 0.000 -5.000 -10.000 25.000 0.000 0.000]\n",
      " [0.000 0.000 0.000 -1.133 -0.933 0.000 -0.933]\n",
      " [0.000 0.000 0.000 0.000 -8.976 0.000 -1.976]\n",
      " [0.000 0.000 0.000 0.000 0.000 -1.000 -0.826]]\n"
     ]
    }
   ],
   "source": [
    "print(matrix)"
   ]
  },
  {
   "cell_type": "markdown",
   "metadata": {},
   "source": [
    "### i6:"
   ]
  },
  {
   "cell_type": "code",
   "execution_count": 50,
   "metadata": {},
   "outputs": [
    {
     "name": "stdout",
     "output_type": "stream",
     "text": [
      "0.826\n"
     ]
    }
   ],
   "source": [
    "i6 = -0.826/-1\n",
    "print(i6)"
   ]
  },
  {
   "cell_type": "markdown",
   "metadata": {},
   "source": [
    "### i5:"
   ]
  },
  {
   "cell_type": "code",
   "execution_count": 51,
   "metadata": {},
   "outputs": [
    {
     "name": "stdout",
     "output_type": "stream",
     "text": [
      "0.22014260249554365\n"
     ]
    }
   ],
   "source": [
    "i5 = -1.976/-8.976\n",
    "print(i5)"
   ]
  },
  {
   "cell_type": "markdown",
   "metadata": {},
   "source": [
    "### i4:"
   ]
  },
  {
   "cell_type": "code",
   "execution_count": 54,
   "metadata": {},
   "outputs": [
    {
     "name": "stdout",
     "output_type": "stream",
     "text": [
      "0.6421950148911366\n"
     ]
    }
   ],
   "source": [
    "i4 = (-0.933 + 0.933*i5)/-1.133\n",
    "print(i4)"
   ]
  },
  {
   "cell_type": "markdown",
   "metadata": {},
   "source": [
    "### i3:"
   ]
  },
  {
   "cell_type": "code",
   "execution_count": 55,
   "metadata": {},
   "outputs": [
    {
     "name": "stdout",
     "output_type": "stream",
     "text": [
      "-0.1836770173045549\n"
     ]
    }
   ],
   "source": [
    "i3 = (-25*i5 + 10*i4)/-5\n",
    "print(i3)"
   ]
  },
  {
   "cell_type": "markdown",
   "metadata": {},
   "source": [
    "### i2:"
   ]
  },
  {
   "cell_type": "code",
   "execution_count": 56,
   "metadata": {},
   "outputs": [
    {
     "name": "stdout",
     "output_type": "stream",
     "text": [
      "0.03673540346091098\n"
     ]
    }
   ],
   "source": [
    "i2 = 5*i3/-25\n",
    "print(i2)"
   ]
  },
  {
   "cell_type": "markdown",
   "metadata": {},
   "source": [
    "### i1:"
   ]
  },
  {
   "cell_type": "code",
   "execution_count": 57,
   "metadata": {},
   "outputs": [
    {
     "name": "stdout",
     "output_type": "stream",
     "text": [
      "0.8623835048475513\n"
     ]
    }
   ],
   "source": [
    "i1 = (-70+20*i5+25*i2)/-75\n",
    "print(i1)"
   ]
  },
  {
   "cell_type": "markdown",
   "metadata": {},
   "source": [
    "### Exercício 12.27"
   ]
  },
  {
   "cell_type": "markdown",
   "metadata": {},
   "source": [
    "<img src=\"exercicio27.JPG\">"
   ]
  },
  {
   "cell_type": "markdown",
   "metadata": {},
   "source": [
    "### Utilizando eliminação de Gauss com pivotamento (pivotamento executado manualmente), vem:"
   ]
  },
  {
   "cell_type": "markdown",
   "metadata": {},
   "source": [
    "O pivotamento cumpre o propósito de evitar a divisão por zero na eliminação de Gauss, e consiste em reordenar as linhas de forma que o elemento pivô (geralmente o da diagonal principal), não seja zero."
   ]
  },
  {
   "cell_type": "markdown",
   "metadata": {},
   "source": [
    "### Matriz obtida a partir das leis de Kirchoff aplicadas ao circuito elétrico:"
   ]
  },
  {
   "cell_type": "code",
   "execution_count": 9,
   "metadata": {},
   "outputs": [],
   "source": [
    "matrix = np.array([  \n",
    "    \n",
    "    \n",
    "    [0 ,0  ,1  ,1  ,-1,  0],\n",
    "    [-1,0  ,1  ,0  ,1 ,  0],  \n",
    "    [-1,1  ,1  ,0  ,0 ,  0], \n",
    "    [-5,0  ,-15,0  ,0 ,-80], \n",
    "    [0 ,0  ,-20,25 ,0 , 50]              \n",
    "                       ])\n",
    "\n",
    "matrix = matrix.astype('float64')"
   ]
  },
  {
   "cell_type": "markdown",
   "metadata": {},
   "source": [
    "### Matriz pivotada:"
   ]
  },
  {
   "cell_type": "code",
   "execution_count": 10,
   "metadata": {},
   "outputs": [],
   "source": [
    "matrix = np.array([  \n",
    "    \n",
    "    [-5,0  ,-15,0  ,0 ,-80],\n",
    "    [-1,1  ,1  ,0  ,0 ,  0],\n",
    "    [-1,0  ,1  ,0  ,1 ,  0], \n",
    "    [0 ,0  ,1  ,1  ,-1,  0],\n",
    "    [0 ,0  ,-20,25 ,0 , 50]              \n",
    "                       ])\n",
    "\n",
    "matrix = matrix.astype('float64')"
   ]
  },
  {
   "cell_type": "markdown",
   "metadata": {},
   "source": [
    "Primeiro coeficiente:"
   ]
  },
  {
   "cell_type": "code",
   "execution_count": 11,
   "metadata": {},
   "outputs": [],
   "source": [
    "temp = matrix[1][0]/matrix[0][0]\n",
    "for i in range(6): \n",
    "    matrix[1][i] -= temp*matrix[0][i]\n",
    "\n",
    "temp = matrix[2][0]/matrix[0][0]\n",
    "for i in range(6): \n",
    "    matrix[2][i] -= temp*matrix[0][i]"
   ]
  },
  {
   "cell_type": "code",
   "execution_count": 12,
   "metadata": {},
   "outputs": [
    {
     "name": "stdout",
     "output_type": "stream",
     "text": [
      "[[-5.000 0.000 -15.000 0.000 0.000 -80.000]\n",
      " [0.000 1.000 4.000 0.000 0.000 16.000]\n",
      " [0.000 0.000 4.000 0.000 1.000 16.000]\n",
      " [0.000 0.000 1.000 1.000 -1.000 0.000]\n",
      " [0.000 0.000 -20.000 25.000 0.000 50.000]]\n"
     ]
    }
   ],
   "source": [
    "print(matrix)"
   ]
  },
  {
   "cell_type": "markdown",
   "metadata": {},
   "source": [
    "Terceiro coeficiente:"
   ]
  },
  {
   "cell_type": "code",
   "execution_count": 13,
   "metadata": {},
   "outputs": [],
   "source": [
    "temp = matrix[3][2]/matrix[2][2]\n",
    "for i in range(6): \n",
    "    matrix[3][i] -= temp*matrix[2][i]\n",
    "\n",
    "temp = matrix[4][2]/matrix[2][2]\n",
    "for i in range(6): \n",
    "    matrix[4][i] -= temp*matrix[2][i]"
   ]
  },
  {
   "cell_type": "code",
   "execution_count": 14,
   "metadata": {},
   "outputs": [
    {
     "name": "stdout",
     "output_type": "stream",
     "text": [
      "[[-5.000 0.000 -15.000 0.000 0.000 -80.000]\n",
      " [0.000 1.000 4.000 0.000 0.000 16.000]\n",
      " [0.000 0.000 4.000 0.000 1.000 16.000]\n",
      " [0.000 0.000 0.000 1.000 -1.250 -4.000]\n",
      " [0.000 0.000 0.000 25.000 5.000 130.000]]\n"
     ]
    }
   ],
   "source": [
    "print(matrix)"
   ]
  },
  {
   "cell_type": "markdown",
   "metadata": {},
   "source": [
    "Quarto coeficiente:"
   ]
  },
  {
   "cell_type": "code",
   "execution_count": 15,
   "metadata": {},
   "outputs": [],
   "source": [
    "temp = matrix[4][3]/matrix[3][3]\n",
    "for i in range(6): \n",
    "    matrix[4][i] -= temp*matrix[3][i]"
   ]
  },
  {
   "cell_type": "code",
   "execution_count": 16,
   "metadata": {},
   "outputs": [
    {
     "name": "stdout",
     "output_type": "stream",
     "text": [
      "[[-5.000 0.000 -15.000 0.000 0.000 -80.000]\n",
      " [0.000 1.000 4.000 0.000 0.000 16.000]\n",
      " [0.000 0.000 4.000 0.000 1.000 16.000]\n",
      " [0.000 0.000 0.000 1.000 -1.250 -4.000]\n",
      " [0.000 0.000 0.000 0.000 36.250 230.000]]\n"
     ]
    }
   ],
   "source": [
    "print(matrix)"
   ]
  },
  {
   "cell_type": "markdown",
   "metadata": {},
   "source": [
    "### Substituição regressiva:"
   ]
  },
  {
   "cell_type": "markdown",
   "metadata": {},
   "source": [
    "### i5:"
   ]
  },
  {
   "cell_type": "code",
   "execution_count": 17,
   "metadata": {},
   "outputs": [
    {
     "name": "stdout",
     "output_type": "stream",
     "text": [
      "6.344827586206897\n"
     ]
    }
   ],
   "source": [
    "i5 = 230.000/36.250\n",
    "print(i5)"
   ]
  },
  {
   "cell_type": "markdown",
   "metadata": {},
   "source": [
    "### i4:"
   ]
  },
  {
   "cell_type": "code",
   "execution_count": 18,
   "metadata": {},
   "outputs": [
    {
     "name": "stdout",
     "output_type": "stream",
     "text": [
      "3.931034482758621\n"
     ]
    }
   ],
   "source": [
    "i4 = -4 + 1.25*i5\n",
    "print(i4)"
   ]
  },
  {
   "cell_type": "markdown",
   "metadata": {},
   "source": [
    "### i3:"
   ]
  },
  {
   "cell_type": "code",
   "execution_count": 19,
   "metadata": {},
   "outputs": [
    {
     "name": "stdout",
     "output_type": "stream",
     "text": [
      "14.413793103448276\n"
     ]
    }
   ],
   "source": [
    "i3 = (16) -i5 /4\n",
    "print(i3)"
   ]
  },
  {
   "cell_type": "markdown",
   "metadata": {},
   "source": [
    "### i2:"
   ]
  },
  {
   "cell_type": "code",
   "execution_count": 20,
   "metadata": {},
   "outputs": [
    {
     "name": "stdout",
     "output_type": "stream",
     "text": [
      "-41.6551724137931\n"
     ]
    }
   ],
   "source": [
    "i2 = 16 - 4*i3\n",
    "print(i2)"
   ]
  },
  {
   "cell_type": "markdown",
   "metadata": {},
   "source": [
    "### i1:"
   ]
  },
  {
   "cell_type": "code",
   "execution_count": 21,
   "metadata": {},
   "outputs": [
    {
     "name": "stdout",
     "output_type": "stream",
     "text": [
      "27.241379310344826\n"
     ]
    }
   ],
   "source": [
    "i1 = (-80 + 15*i3) / 5\n",
    "print(i1)"
   ]
  },
  {
   "cell_type": "markdown",
   "metadata": {},
   "source": [
    "### Exercício 12.28"
   ]
  },
  {
   "cell_type": "markdown",
   "metadata": {},
   "source": [
    "<img src=\"exercicio28.JPG\">"
   ]
  },
  {
   "cell_type": "markdown",
   "metadata": {},
   "source": [
    "### Matriz obtida a partir das leis de Kirchoff aplicadas ao circuito elétrico:"
   ]
  },
  {
   "cell_type": "code",
   "execution_count": 22,
   "metadata": {},
   "outputs": [],
   "source": [
    "matrix = np.array([  \n",
    "    \n",
    "    [1,-1 ,-1, 0, 0, 0,  0],    \n",
    "    [0, 1 , 0, 0, 1,-1,  0],     \n",
    "    [0, 0 ,-4,-2, 0, 0,-20],     \n",
    "    [0 ,-6, 4, 0, 8, 0,  0],    \n",
    "    [0 ,0 ,-1, 1, 1, 0,  0],    \n",
    "    [0 ,0 , 0,-2, 8, 5,  0]    \n",
    "                       ])\n",
    "\n",
    "matrix = matrix.astype('float64')"
   ]
  },
  {
   "cell_type": "markdown",
   "metadata": {},
   "source": [
    "### Matriz pivotada manualmente:"
   ]
  },
  {
   "cell_type": "code",
   "execution_count": 23,
   "metadata": {},
   "outputs": [],
   "source": [
    "matrix = np.array([  \n",
    "    \n",
    "    [1,-1 ,-1, 0, 0, 0,  0],    \n",
    "    [0, 1 , 0, 0, 1,-1,  0],     \n",
    "    [0, 0 ,-4,-2, 0, 0,-20], \n",
    "    [0 ,0 ,-1, 1, 1, 0,  0], \n",
    "    [0 ,-6, 4, 0, 8, 0,  0],    \n",
    "    [0 ,0 , 0,-2, 8, 5,  0]    \n",
    "                       ])\n",
    "\n",
    "matrix = matrix.astype('float64')"
   ]
  },
  {
   "cell_type": "markdown",
   "metadata": {},
   "source": [
    "Segundo coeficiente:"
   ]
  },
  {
   "cell_type": "code",
   "execution_count": 24,
   "metadata": {},
   "outputs": [],
   "source": [
    "temp = matrix[4][1]/matrix[1][1]\n",
    "for i in range(7): \n",
    "    matrix[4][i] -= temp*matrix[1][i]"
   ]
  },
  {
   "cell_type": "code",
   "execution_count": 25,
   "metadata": {},
   "outputs": [
    {
     "name": "stdout",
     "output_type": "stream",
     "text": [
      "[[1.000 -1.000 -1.000 0.000 0.000 0.000 0.000]\n",
      " [0.000 1.000 0.000 0.000 1.000 -1.000 0.000]\n",
      " [0.000 0.000 -4.000 -2.000 0.000 0.000 -20.000]\n",
      " [0.000 0.000 -1.000 1.000 1.000 0.000 0.000]\n",
      " [0.000 0.000 4.000 0.000 14.000 -6.000 0.000]\n",
      " [0.000 0.000 0.000 -2.000 8.000 5.000 0.000]]\n"
     ]
    }
   ],
   "source": [
    "print(matrix)"
   ]
  },
  {
   "cell_type": "markdown",
   "metadata": {},
   "source": [
    "Terceiro coeficiente:"
   ]
  },
  {
   "cell_type": "code",
   "execution_count": 26,
   "metadata": {},
   "outputs": [],
   "source": [
    "temp = matrix[3][2]/matrix[2][2]\n",
    "for i in range(7): \n",
    "    matrix[3][i] -= temp*matrix[2][i]\n",
    "\n",
    "temp = matrix[4][2]/matrix[2][2]\n",
    "for i in range(7): \n",
    "    matrix[4][i] -= temp*matrix[2][i]"
   ]
  },
  {
   "cell_type": "code",
   "execution_count": 27,
   "metadata": {},
   "outputs": [
    {
     "name": "stdout",
     "output_type": "stream",
     "text": [
      "[[1.000 -1.000 -1.000 0.000 0.000 0.000 0.000]\n",
      " [0.000 1.000 0.000 0.000 1.000 -1.000 0.000]\n",
      " [0.000 0.000 -4.000 -2.000 0.000 0.000 -20.000]\n",
      " [0.000 0.000 0.000 1.500 1.000 0.000 5.000]\n",
      " [0.000 0.000 0.000 -2.000 14.000 -6.000 -20.000]\n",
      " [0.000 0.000 0.000 -2.000 8.000 5.000 0.000]]\n"
     ]
    }
   ],
   "source": [
    "print(matrix)"
   ]
  },
  {
   "cell_type": "markdown",
   "metadata": {},
   "source": [
    "Quarto coeficiente:"
   ]
  },
  {
   "cell_type": "code",
   "execution_count": 28,
   "metadata": {},
   "outputs": [],
   "source": [
    "temp = matrix[4][3]/matrix[3][3]\n",
    "for i in range(7): \n",
    "    matrix[4][i] -= temp*matrix[3][i]\n",
    "    \n",
    "temp = matrix[5][3]/matrix[3][3]\n",
    "for i in range(7): \n",
    "    matrix[5][i] -= temp*matrix[3][i]"
   ]
  },
  {
   "cell_type": "code",
   "execution_count": 29,
   "metadata": {},
   "outputs": [
    {
     "name": "stdout",
     "output_type": "stream",
     "text": [
      "[[1.000 -1.000 -1.000 0.000 0.000 0.000 0.000]\n",
      " [0.000 1.000 0.000 0.000 1.000 -1.000 0.000]\n",
      " [0.000 0.000 -4.000 -2.000 0.000 0.000 -20.000]\n",
      " [0.000 0.000 0.000 1.500 1.000 0.000 5.000]\n",
      " [0.000 0.000 0.000 0.000 15.333 -6.000 -13.333]\n",
      " [0.000 0.000 0.000 0.000 9.333 5.000 6.667]]\n"
     ]
    }
   ],
   "source": [
    "print(matrix)"
   ]
  },
  {
   "cell_type": "markdown",
   "metadata": {},
   "source": [
    "Quinto coeficiente:"
   ]
  },
  {
   "cell_type": "code",
   "execution_count": 30,
   "metadata": {},
   "outputs": [],
   "source": [
    "temp = matrix[5][4]/matrix[4][4]\n",
    "for i in range(7): \n",
    "    matrix[5][i] -= temp*matrix[4][i]"
   ]
  },
  {
   "cell_type": "code",
   "execution_count": 31,
   "metadata": {},
   "outputs": [
    {
     "name": "stdout",
     "output_type": "stream",
     "text": [
      "[[1.000 -1.000 -1.000 0.000 0.000 0.000 0.000]\n",
      " [0.000 1.000 0.000 0.000 1.000 -1.000 0.000]\n",
      " [0.000 0.000 -4.000 -2.000 0.000 0.000 -20.000]\n",
      " [0.000 0.000 0.000 1.500 1.000 0.000 5.000]\n",
      " [0.000 0.000 0.000 0.000 15.333 -6.000 -13.333]\n",
      " [0.000 0.000 0.000 0.000 0.000 8.652 14.783]]\n"
     ]
    }
   ],
   "source": [
    "print(matrix)"
   ]
  },
  {
   "cell_type": "markdown",
   "metadata": {},
   "source": [
    "### i6:"
   ]
  },
  {
   "cell_type": "code",
   "execution_count": 32,
   "metadata": {},
   "outputs": [
    {
     "name": "stdout",
     "output_type": "stream",
     "text": [
      "1.7086222838650025\n"
     ]
    }
   ],
   "source": [
    "i6 = 14.783/8.652\n",
    "print(i6)"
   ]
  },
  {
   "cell_type": "markdown",
   "metadata": {},
   "source": [
    "### i5:"
   ]
  },
  {
   "cell_type": "code",
   "execution_count": 33,
   "metadata": {},
   "outputs": [
    {
     "name": "stdout",
     "output_type": "stream",
     "text": [
      "-0.20095651841192105\n"
     ]
    }
   ],
   "source": [
    "i5 = (6.000*i6 - 13.333)/15.333\n",
    "print(i5)"
   ]
  },
  {
   "cell_type": "markdown",
   "metadata": {},
   "source": [
    "### i4:"
   ]
  },
  {
   "cell_type": "code",
   "execution_count": 34,
   "metadata": {},
   "outputs": [
    {
     "name": "stdout",
     "output_type": "stream",
     "text": [
      "3.4673043456079475\n"
     ]
    }
   ],
   "source": [
    "i4 = (5-i5)/1.5\n",
    "print(i4)"
   ]
  },
  {
   "cell_type": "markdown",
   "metadata": {},
   "source": [
    "### i3:"
   ]
  },
  {
   "cell_type": "code",
   "execution_count": 35,
   "metadata": {},
   "outputs": [
    {
     "name": "stdout",
     "output_type": "stream",
     "text": [
      "3.266347827196026\n"
     ]
    }
   ],
   "source": [
    "i3 = (-20 + 2*i4)/-4\n",
    "print(i3)"
   ]
  },
  {
   "cell_type": "markdown",
   "metadata": {},
   "source": [
    "### i2:"
   ]
  },
  {
   "cell_type": "code",
   "execution_count": 36,
   "metadata": {},
   "outputs": [
    {
     "name": "stdout",
     "output_type": "stream",
     "text": [
      "1.9095788022769236\n"
     ]
    }
   ],
   "source": [
    "i2 = i6-i5\n",
    "print(i2)"
   ]
  },
  {
   "cell_type": "markdown",
   "metadata": {},
   "source": [
    "### i1:"
   ]
  },
  {
   "cell_type": "code",
   "execution_count": 37,
   "metadata": {},
   "outputs": [
    {
     "name": "stdout",
     "output_type": "stream",
     "text": [
      "5.17592662947295\n"
     ]
    }
   ],
   "source": [
    "i1 = i2+i3\n",
    "print(i1)"
   ]
  }
 ],
 "metadata": {
  "kernelspec": {
   "display_name": "Python 3",
   "language": "python",
   "name": "python3"
  },
  "language_info": {
   "codemirror_mode": {
    "name": "ipython",
    "version": 3
   },
   "file_extension": ".py",
   "mimetype": "text/x-python",
   "name": "python",
   "nbconvert_exporter": "python",
   "pygments_lexer": "ipython3",
   "version": "3.6.4"
  }
 },
 "nbformat": 4,
 "nbformat_minor": 2
}
