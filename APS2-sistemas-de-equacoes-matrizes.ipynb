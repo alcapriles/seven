{
 "cells": [
  {
   "cell_type": "markdown",
   "metadata": {},
   "source": [
    "## APS 2 - Sistemas de equações (matrizes)."
   ]
  },
  {
   "cell_type": "markdown",
   "metadata": {},
   "source": [
    "Considerar epsilon_s = 0,0001%."
   ]
  },
  {
   "cell_type": "markdown",
   "metadata": {},
   "source": [
    "Explicar como funcionam os comandos de inversão de matriz e multiplicação de matrizes usados pela linguagem de programação Python."
   ]
  },
  {
   "cell_type": "code",
   "execution_count": 1,
   "metadata": {},
   "outputs": [],
   "source": [
    "import numpy as np\n",
    "import math\n",
    "import matplotlib.pyplot as plt\n",
    "np.set_printoptions(formatter={'float': lambda x: \"{0:0.3f}\".format(x)})\n",
    "\n",
    "%matplotlib inline"
   ]
  },
  {
   "cell_type": "markdown",
   "metadata": {},
   "source": [
    "### Exercício 12.23 "
   ]
  },
  {
   "cell_type": "code",
   "execution_count": 2,
   "metadata": {},
   "outputs": [],
   "source": [
    "#matrix declaration:\n",
    "\n",
    "m = np.array([    [1,-1,-1,0],\n",
    "                  [-35,0,-5,200],\n",
    "                  [0,-27,5,0],\n",
    "                  \n",
    "                       ])\n",
    "\n",
    "m = m.astype('float64')"
   ]
  },
  {
   "cell_type": "code",
   "execution_count": 10,
   "metadata": {},
   "outputs": [
    {
     "name": "stdout",
     "output_type": "stream",
     "text": [
      "0.01\n",
      "200.4\n",
      "901.8000000000001\n",
      "1\n",
      "0.0\n"
     ]
    }
   ],
   "source": [
    "x1 = 0.01\n",
    "x2 = 0.01\n",
    "x3 = 0.01\n",
    "i = 0\n",
    "\n",
    "respostas1 = [0.01]\n",
    "\n",
    "error = 5\n",
    "\n",
    "while error > 0.0001:\n",
    "    \n",
    "    i += 1\n",
    "    \n",
    "    x1 = (m[0][3] - m[0][1]*x2 - m[0][2]*x3) / (m[0][0]+1)\n",
    "    \n",
    "    respostas1.append(x1)\n",
    "    \n",
    "    x2 = (m[1][3] - m[1][0]*x1 - m[1][2]*x3) / (m[1][1]+1)\n",
    "    \n",
    "    x3 = (m[2][3] - m[2][0]*x1 - m[2][1]*x2) / (m[2][2]+1)\n",
    "    \n",
    "    error = math.fabs(100*(x1 - respostas1[i-1])/x1)\n",
    "\n",
    "\n",
    "print(x1)\n",
    "print(x2)\n",
    "print(x3)\n",
    "print(i)\n",
    "print(error)"
   ]
  },
  {
   "cell_type": "markdown",
   "metadata": {},
   "source": [
    "### Exercício 12.25\n",
    "utilizar eliminação de Gauss com pivotamento."
   ]
  },
  {
   "cell_type": "markdown",
   "metadata": {},
   "source": [
    "### Exercício 12.27"
   ]
  },
  {
   "cell_type": "code",
   "execution_count": null,
   "metadata": {},
   "outputs": [],
   "source": []
  },
  {
   "cell_type": "code",
   "execution_count": null,
   "metadata": {},
   "outputs": [],
   "source": []
  },
  {
   "cell_type": "markdown",
   "metadata": {},
   "source": [
    "### Exercício 12.28"
   ]
  },
  {
   "cell_type": "code",
   "execution_count": null,
   "metadata": {},
   "outputs": [],
   "source": []
  },
  {
   "cell_type": "code",
   "execution_count": null,
   "metadata": {},
   "outputs": [],
   "source": []
  }
 ],
 "metadata": {
  "kernelspec": {
   "display_name": "Python 3",
   "language": "python",
   "name": "python3"
  },
  "language_info": {
   "codemirror_mode": {
    "name": "ipython",
    "version": 3
   },
   "file_extension": ".py",
   "mimetype": "text/x-python",
   "name": "python",
   "nbconvert_exporter": "python",
   "pygments_lexer": "ipython3",
   "version": "3.6.4"
  }
 },
 "nbformat": 4,
 "nbformat_minor": 2
}
