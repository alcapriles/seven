{
 "cells": [
  {
   "cell_type": "markdown",
   "metadata": {},
   "source": [
    "## APS 2 - Sistemas de equações (matrizes)."
   ]
  },
  {
   "cell_type": "markdown",
   "metadata": {},
   "source": [
    "Considerar epsilon_s = 0,0001%."
   ]
  },
  {
   "cell_type": "markdown",
   "metadata": {},
   "source": [
    "Explicar como funcionam os comandos de inversão de matriz e multiplicação de matrizes usados pela linguagem de programação Python."
   ]
  },
  {
   "cell_type": "code",
   "execution_count": 1,
   "metadata": {},
   "outputs": [],
   "source": [
    "import numpy as np\n",
    "import math\n",
    "import matplotlib.pyplot as plt\n",
    "np.set_printoptions(formatter={'float': lambda x: \"{0:0.3f}\".format(x)})\n",
    "\n",
    "%matplotlib inline"
   ]
  },
  {
   "cell_type": "markdown",
   "metadata": {},
   "source": [
    "### Dedução dos sistemas de equações:"
   ]
  },
  {
   "cell_type": "markdown",
   "metadata": {},
   "source": [
    "<img src='scan1.JPG'>"
   ]
  },
  {
   "cell_type": "markdown",
   "metadata": {},
   "source": [
    "<img src='scan2.JPG'>"
   ]
  },
  {
   "cell_type": "markdown",
   "metadata": {},
   "source": [
    "### Exercício 12.23 "
   ]
  },
  {
   "cell_type": "code",
   "execution_count": 57,
   "metadata": {},
   "outputs": [],
   "source": [
    "matrix = np.array([    [1,-1,-1,0],\n",
    "                       [-35,0,-5,200],\n",
    "                       [0,-27,5,0]\n",
    "                       ])\n",
    "\n",
    "matrix = matrix.astype('float64')"
   ]
  },
  {
   "cell_type": "markdown",
   "metadata": {},
   "source": [
    "### Utilizando a eliminação de Gauss ingênua:"
   ]
  },
  {
   "cell_type": "code",
   "execution_count": 58,
   "metadata": {},
   "outputs": [],
   "source": [
    "temp = matrix[1][0]/matrix[0][0]\n",
    "for i in range(4): \n",
    "    matrix[1][i] -= temp*matrix[0][i]"
   ]
  },
  {
   "cell_type": "code",
   "execution_count": 60,
   "metadata": {},
   "outputs": [],
   "source": [
    "temp = matrix[2][1]/matrix[1][1]\n",
    "for i in range(4): \n",
    "    matrix[2][i] -= temp*matrix[1][i]"
   ]
  },
  {
   "cell_type": "code",
   "execution_count": 61,
   "metadata": {},
   "outputs": [
    {
     "name": "stdout",
     "output_type": "stream",
     "text": [
      "[[1.000 -1.000 -1.000 0.000]\n",
      " [0.000 -35.000 -40.000 200.000]\n",
      " [0.000 0.000 35.857 -154.286]]\n"
     ]
    }
   ],
   "source": [
    "print(matrix)"
   ]
  },
  {
   "cell_type": "markdown",
   "metadata": {},
   "source": [
    "### i3:"
   ]
  },
  {
   "cell_type": "code",
   "execution_count": 62,
   "metadata": {},
   "outputs": [
    {
     "name": "stdout",
     "output_type": "stream",
     "text": [
      "-4.302813955434085\n"
     ]
    }
   ],
   "source": [
    "i3 = -154.286/35.857\n",
    "print(i3)"
   ]
  },
  {
   "cell_type": "markdown",
   "metadata": {},
   "source": [
    "### i2:"
   ]
  },
  {
   "cell_type": "code",
   "execution_count": 63,
   "metadata": {},
   "outputs": [
    {
     "name": "stdout",
     "output_type": "stream",
     "text": [
      "-0.7967840509324738\n"
     ]
    }
   ],
   "source": [
    "i2 = (40*i3+200)/-35\n",
    "print(i2)"
   ]
  },
  {
   "cell_type": "markdown",
   "metadata": {},
   "source": [
    "### i1:"
   ]
  },
  {
   "cell_type": "code",
   "execution_count": 64,
   "metadata": {},
   "outputs": [
    {
     "name": "stdout",
     "output_type": "stream",
     "text": [
      "-5.099598006366559\n"
     ]
    }
   ],
   "source": [
    "i1 = i2+i3\n",
    "print(i1)"
   ]
  },
  {
   "cell_type": "markdown",
   "metadata": {},
   "source": [
    "### O sinal negativo da corrente indica que ela tem sinal contrário ao que está no desenho acima."
   ]
  },
  {
   "cell_type": "markdown",
   "metadata": {},
   "source": [
    "### Exercício 12.25\n",
    "utilizar eliminação de Gauss com pivotamento."
   ]
  },
  {
   "cell_type": "markdown",
   "metadata": {},
   "source": [
    "### Exercício 12.27"
   ]
  },
  {
   "cell_type": "markdown",
   "metadata": {},
   "source": [
    "### Utilizando eliminação de Gauss com pivotamento (mesmo código usado acima, com pivotamento executado manualmente), vem:"
   ]
  },
  {
   "cell_type": "code",
   "execution_count": 87,
   "metadata": {},
   "outputs": [],
   "source": [
    "matrix = np.array([   \n",
    "    [1,-1,0,0,0,1,0],\n",
    "    [0,1,-1,1,0,0,0],\n",
    "    [-20,-10,-5,0,0,0,30],\n",
    "    [0,0,1,-1,-1,0,0],\n",
    "    [1,0,0,0,-1,1,0],\n",
    "    [-20,0,0,0,0,25,-50]                   \n",
    "                       ])\n",
    "\n",
    "matrix = matrix.astype('float64')"
   ]
  },
  {
   "cell_type": "markdown",
   "metadata": {},
   "source": [
    "Primeiro coeficiente:"
   ]
  },
  {
   "cell_type": "code",
   "execution_count": 88,
   "metadata": {},
   "outputs": [],
   "source": [
    "temp = matrix[2][0]/matrix[0][0]\n",
    "for i in range(7): \n",
    "    matrix[2][i] -= temp*matrix[0][i]\n",
    "\n",
    "temp = matrix[4][0]/matrix[0][0]\n",
    "for i in range(7): \n",
    "    matrix[4][i] -= temp*matrix[0][i]\n",
    "\n",
    "temp = matrix[5][0]/matrix[0][0]\n",
    "for i in range(7): \n",
    "    matrix[5][i] -= temp*matrix[0][i]"
   ]
  },
  {
   "cell_type": "code",
   "execution_count": null,
   "metadata": {},
   "outputs": [],
   "source": [
    "print(matrix)"
   ]
  },
  {
   "cell_type": "markdown",
   "metadata": {},
   "source": [
    "Segundo coeficiente:"
   ]
  },
  {
   "cell_type": "code",
   "execution_count": 89,
   "metadata": {},
   "outputs": [],
   "source": [
    "temp = matrix[2][1]/matrix[1][1]\n",
    "for i in range(7): \n",
    "    matrix[2][i] -= temp*matrix[1][i]\n",
    "\n",
    "temp = matrix[4][1]/matrix[1][1]\n",
    "for i in range(7): \n",
    "    matrix[4][i] -= temp*matrix[1][i]\n",
    "\n",
    "temp = matrix[5][1]/matrix[1][1]\n",
    "for i in range(7): \n",
    "    matrix[5][i] -= temp*matrix[1][i]"
   ]
  },
  {
   "cell_type": "code",
   "execution_count": null,
   "metadata": {},
   "outputs": [],
   "source": [
    "print(matrix)"
   ]
  },
  {
   "cell_type": "markdown",
   "metadata": {},
   "source": [
    "Terceiro coeficiente:"
   ]
  },
  {
   "cell_type": "code",
   "execution_count": 90,
   "metadata": {},
   "outputs": [],
   "source": [
    "temp = matrix[3][2]/matrix[2][2]\n",
    "for i in range(7): \n",
    "    matrix[3][i] -= temp*matrix[2][i]\n",
    "\n",
    "temp = matrix[4][2]/matrix[2][2]\n",
    "for i in range(7): \n",
    "    matrix[4][i] -= temp*matrix[2][i]\n",
    "\n",
    "temp = matrix[5][2]/matrix[2][2]\n",
    "for i in range(7): \n",
    "    matrix[5][i] -= temp*matrix[2][i]"
   ]
  },
  {
   "cell_type": "code",
   "execution_count": null,
   "metadata": {},
   "outputs": [],
   "source": [
    "print(matrix)"
   ]
  },
  {
   "cell_type": "markdown",
   "metadata": {},
   "source": [
    "Quarto coeficiente:"
   ]
  },
  {
   "cell_type": "code",
   "execution_count": null,
   "metadata": {},
   "outputs": [],
   "source": [
    "temp = matrix[3][2]/matrix[3][2]\n",
    "for i in range(7): \n",
    "    matrix[3][i] -= temp*matrix[2][i]\n",
    "\n",
    "temp = matrix[4][2]/matrix[3][2]\n",
    "for i in range(7): \n",
    "    matrix[4][i] -= temp*matrix[2][i]\n",
    "\n",
    "temp = matrix[5][2]/matrix[3][2]\n",
    "for i in range(7): \n",
    "    matrix[5][i] -= temp*matrix[2][i]"
   ]
  },
  {
   "cell_type": "code",
   "execution_count": null,
   "metadata": {},
   "outputs": [],
   "source": []
  },
  {
   "cell_type": "code",
   "execution_count": null,
   "metadata": {},
   "outputs": [],
   "source": []
  },
  {
   "cell_type": "code",
   "execution_count": 92,
   "metadata": {},
   "outputs": [
    {
     "name": "stdout",
     "output_type": "stream",
     "text": [
      "[[1.000 -1.000 0.000 0.000 0.000 1.000 0.000]\n",
      " [0.000 1.000 -1.000 1.000 0.000 0.000 0.000]\n",
      " [0.000 0.000 -35.000 30.000 0.000 20.000 30.000]\n",
      " [0.000 0.000 0.000 -0.143 -1.000 0.571 0.857]\n",
      " [0.000 0.000 0.000 -0.143 -1.000 0.571 0.857]\n",
      " [0.000 0.000 0.000 2.857 0.000 33.571 -67.143]]\n"
     ]
    }
   ],
   "source": [
    "print(matrix)"
   ]
  },
  {
   "cell_type": "code",
   "execution_count": null,
   "metadata": {},
   "outputs": [],
   "source": []
  },
  {
   "cell_type": "code",
   "execution_count": null,
   "metadata": {},
   "outputs": [],
   "source": []
  },
  {
   "cell_type": "markdown",
   "metadata": {},
   "source": [
    "### Exercício 12.28"
   ]
  },
  {
   "cell_type": "code",
   "execution_count": null,
   "metadata": {},
   "outputs": [],
   "source": [
    "matrix = np.array([   \n",
    "    [1,0,0,0,1,-1,0],\n",
    "    [1,-1,0,1,0,0,0],\n",
    "    [0,0,1,-1,1,0,0],\n",
    "    [0,-1,1,0,0,1,0],\n",
    "    [0,0,2,0,-4,0,-20],\n",
    "    [-6,0,0,8,4,0,0]                   \n",
    "                       ])\n",
    "\n",
    "matrix = matrix.astype('float64')"
   ]
  },
  {
   "cell_type": "code",
   "execution_count": null,
   "metadata": {},
   "outputs": [],
   "source": []
  },
  {
   "cell_type": "code",
   "execution_count": null,
   "metadata": {},
   "outputs": [],
   "source": []
  },
  {
   "cell_type": "code",
   "execution_count": null,
   "metadata": {},
   "outputs": [],
   "source": []
  },
  {
   "cell_type": "code",
   "execution_count": null,
   "metadata": {},
   "outputs": [],
   "source": []
  },
  {
   "cell_type": "code",
   "execution_count": null,
   "metadata": {},
   "outputs": [],
   "source": []
  },
  {
   "cell_type": "code",
   "execution_count": null,
   "metadata": {},
   "outputs": [],
   "source": []
  }
 ],
 "metadata": {
  "kernelspec": {
   "display_name": "Python 3",
   "language": "python",
   "name": "python3"
  },
  "language_info": {
   "codemirror_mode": {
    "name": "ipython",
    "version": 3
   },
   "file_extension": ".py",
   "mimetype": "text/x-python",
   "name": "python",
   "nbconvert_exporter": "python",
   "pygments_lexer": "ipython3",
   "version": "3.6.4"
  }
 },
 "nbformat": 4,
 "nbformat_minor": 2
}
