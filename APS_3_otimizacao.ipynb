{
 "cells": [
  {
   "cell_type": "markdown",
   "metadata": {},
   "source": [
    "## APS 3 - Otimização"
   ]
  },
  {
   "cell_type": "markdown",
   "metadata": {},
   "source": [
    "## 16.23"
   ]
  },
  {
   "cell_type": "markdown",
   "metadata": {},
   "source": [
    "### Determinar a distância x para a qual a força elétrica é máxima."
   ]
  },
  {
   "cell_type": "code",
   "execution_count": 1,
   "metadata": {},
   "outputs": [],
   "source": [
    "import math\n",
    "import matplotlib.pyplot as plt\n",
    "%matplotlib inline"
   ]
  },
  {
   "cell_type": "code",
   "execution_count": null,
   "metadata": {},
   "outputs": [],
   "source": [
    "q = 2*(10**-5)\n",
    "Q = 2*(10**-5)\n",
    "e0 = 8.85*(10**-12)\n",
    "a = 0.9"
   ]
  },
  {
   "cell_type": "markdown",
   "metadata": {},
   "source": [
    "### Método gráfico. É plotado o gráfico de força elétrica versus distância, a fim de fazer uma estimativa inicial do ponto procurado:"
   ]
  },
  {
   "cell_type": "code",
   "execution_count": null,
   "metadata": {},
   "outputs": [],
   "source": [
    "plt.figure(figsize=(8,8))\n",
    "x = [0.01*i for i in range(20,100)]\n",
    "force = [i *   q*Q*    1/((4*(math.pi)*e0)*((i**2+a**2)**1.5)) for i in x]\n",
    "plt.plot(x, force, color = \"black\")\n",
    "plt.xlabel(\"Distância: x(m)\")\n",
    "plt.ylabel(\"Força Elétrica (N)\")\n",
    "plt.grid()"
   ]
  },
  {
   "cell_type": "markdown",
   "metadata": {},
   "source": [
    "## O método empregado será o (...), cuja ideia é determinar o ponto em que a derivada é zero, ou seja, determinar as raízes da função da derivada da expressão."
   ]
  },
  {
   "cell_type": "markdown",
   "metadata": {},
   "source": [
    "### É possível inferir que a máxima força se dá para uma distância de em torno de 0,6 m. Calculando-se a derivada a partir do Wolfram Alpha:"
   ]
  },
  {
   "cell_type": "markdown",
   "metadata": {},
   "source": [
    "<img src=\"derivada_p_23.JPG\">"
   ]
  },
  {
   "cell_type": "code",
   "execution_count": null,
   "metadata": {},
   "outputs": [],
   "source": [
    "def function(x):\n",
    "    q = 2*(10**-5)\n",
    "    Q = 2*(10**-5)\n",
    "    e0 = 8.85*(10**-12)\n",
    "    a = 0.9\n",
    "    return x *   q*Q*    1/((4*(math.pi)*e0)*((x**2+a**2)**1.5))"
   ]
  },
  {
   "cell_type": "code",
   "execution_count": null,
   "metadata": {},
   "outputs": [],
   "source": [
    "x_lower = 0\n",
    "x_upper = 10\n",
    "i = 0\n",
    "error = 2\n",
    "\n",
    "while error > 10**(-4):\n",
    "    \n",
    "    i+=1\n",
    "    d = 0.6180339887498949*(x_upper - x_lower)\n",
    "    r = 1 - 0.5*(math.sqrt(5)-1)\n",
    "\n",
    "    x1 = x_lower + d\n",
    "    x2 = x_upper - d\n",
    "\n",
    "    fx1 = function(x1)\n",
    "    fx2 = function(x2)\n",
    "    \n",
    "    #print(\"i = \", i, \" x1 = \", x1, \" x2 = \", x2, \" fx1 = \", fx1, \" fx2 = \", fx2)\n",
    "\n",
    "    if fx1 > fx2:\n",
    "        #the OPTIMA lie in the lower subinterval\n",
    "        x_lower = x2\n",
    "        d2 = 0.6180339887498949*(x_upper - x_lower)\n",
    "        x1 = x_lower + d2 \n",
    "        x_opt = x1\n",
    "        \n",
    "    if fx1 < fx2:\n",
    "        #the OPTIMA lie in the upper subinterval\n",
    "        x_upper = x1\n",
    "        d1 = 0.6180339887498949*(x_upper - x_lower)\n",
    "        x2 = x_upper - d1\n",
    "        x_opt = x2\n",
    "        \n",
    "    error = 100 * math.fabs((1 - r) * ((x_upper - x_lower)/(x_opt)))"
   ]
  },
  {
   "cell_type": "code",
   "execution_count": null,
   "metadata": {},
   "outputs": [],
   "source": [
    "print(x1)"
   ]
  },
  {
   "cell_type": "code",
   "execution_count": null,
   "metadata": {},
   "outputs": [],
   "source": [
    "print(i)"
   ]
  },
  {
   "cell_type": "code",
   "execution_count": null,
   "metadata": {},
   "outputs": [],
   "source": [
    "print(function(x1))"
   ]
  },
  {
   "cell_type": "code",
   "execution_count": null,
   "metadata": {},
   "outputs": [],
   "source": [
    "print(error)"
   ]
  },
  {
   "cell_type": "markdown",
   "metadata": {},
   "source": [
    "# Assim, a distância procurada é 0.63639 m. Nesta distância, ocorre a força máxima de 1.709109."
   ]
  },
  {
   "cell_type": "markdown",
   "metadata": {},
   "source": [
    "## 16.24"
   ]
  },
  {
   "cell_type": "markdown",
   "metadata": {},
   "source": [
    "### Formulação do problema de programação linear:"
   ]
  },
  {
   "cell_type": "markdown",
   "metadata": {},
   "source": [
    "<img src=\"pl_1624.JPG\">"
   ]
  },
  {
   "cell_type": "markdown",
   "metadata": {},
   "source": [
    "<img src=\"pp_1624.JPG\">"
   ]
  },
  {
   "cell_type": "markdown",
   "metadata": {},
   "source": [
    "## A resolução do problema pelo solver do excel forneceu que a produção ótima a fim de minimizar os custos e satisfazer a demanda mínima (considerando-se também as perdas), é de 42 do produto 1 e 12 do produto 2, fornecendo o custo mínimo total de 206."
   ]
  },
  {
   "cell_type": "markdown",
   "metadata": {},
   "source": [
    "## 16.25"
   ]
  },
  {
   "cell_type": "code",
   "execution_count": null,
   "metadata": {},
   "outputs": [],
   "source": []
  },
  {
   "cell_type": "markdown",
   "metadata": {},
   "source": [
    "## 16.26"
   ]
  },
  {
   "cell_type": "code",
   "execution_count": null,
   "metadata": {},
   "outputs": [],
   "source": []
  },
  {
   "cell_type": "markdown",
   "metadata": {},
   "source": [
    "## 16.27"
   ]
  }
 ],
 "metadata": {
  "kernelspec": {
   "display_name": "Python 3",
   "language": "python",
   "name": "python3"
  },
  "language_info": {
   "codemirror_mode": {
    "name": "ipython",
    "version": 3
   },
   "file_extension": ".py",
   "mimetype": "text/x-python",
   "name": "python",
   "nbconvert_exporter": "python",
   "pygments_lexer": "ipython3",
   "version": "3.6.4"
  }
 },
 "nbformat": 4,
 "nbformat_minor": 2
}
