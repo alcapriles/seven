{
 "cells": [
  {
   "cell_type": "code",
   "execution_count": 14,
   "metadata": {},
   "outputs": [],
   "source": [
    "import math\n",
    "import numpy as np\n",
    "import matplotlib.pyplot as plt\n",
    "\n",
    "%matplotlib inline"
   ]
  },
  {
   "cell_type": "markdown",
   "metadata": {},
   "source": [
    "### 24.7"
   ]
  },
  {
   "cell_type": "markdown",
   "metadata": {},
   "source": [
    "<img src='aps5_1.JPG'>"
   ]
  },
  {
   "cell_type": "code",
   "execution_count": null,
   "metadata": {},
   "outputs": [],
   "source": []
  },
  {
   "cell_type": "markdown",
   "metadata": {},
   "source": [
    "### 24.28"
   ]
  },
  {
   "cell_type": "markdown",
   "metadata": {},
   "source": [
    "<img src='aps5_6.JPG'>"
   ]
  },
  {
   "cell_type": "code",
   "execution_count": null,
   "metadata": {},
   "outputs": [],
   "source": []
  },
  {
   "cell_type": "markdown",
   "metadata": {},
   "source": [
    "### 24.31"
   ]
  },
  {
   "cell_type": "markdown",
   "metadata": {},
   "source": [
    "<img src='aps5_5.JPG'>"
   ]
  },
  {
   "cell_type": "code",
   "execution_count": null,
   "metadata": {},
   "outputs": [],
   "source": []
  },
  {
   "cell_type": "markdown",
   "metadata": {},
   "source": [
    "### 24.33"
   ]
  },
  {
   "cell_type": "markdown",
   "metadata": {},
   "source": [
    "<img src='aps5_2.JPG'>"
   ]
  },
  {
   "cell_type": "markdown",
   "metadata": {},
   "source": [
    "<img src='aps5_3.JPG'>"
   ]
  },
  {
   "cell_type": "markdown",
   "metadata": {},
   "source": [
    "### A fim de aplicar a regra de Simpson 1/3 múltipla, deve-se obter um número par de intervalos."
   ]
  },
  {
   "cell_type": "code",
   "execution_count": 19,
   "metadata": {},
   "outputs": [],
   "source": [
    "def f (t):\n",
    "    \n",
    "    i = (60-t)**2 + (60-t)*math.sin(math.sqrt(t))\n",
    "    r = 10*i +2*((i)**(2/3))\n",
    "    \n",
    "    return r*i"
   ]
  },
  {
   "cell_type": "code",
   "execution_count": 20,
   "metadata": {},
   "outputs": [],
   "source": [
    "# a função abaixo foi escrita para f sendo uma função\n",
    "# (o tipo da variável de entrada é function)\n",
    "def multiSimpson13(n,f,a,b):\n",
    "    s = 0\n",
    "    x = np.linspace(a,b,n+1).tolist()\n",
    "    for i in range(1,n):\n",
    "        if i % 2 == 0:\n",
    "            s += 2*f(x[i])\n",
    "        if i % 2 == 1:\n",
    "            s += 4*f(x[i])\n",
    "    s += (f(x[0]) + f(x[n]))\n",
    "    s *= (b-a)/(3*n)\n",
    "    return s"
   ]
  },
  {
   "cell_type": "code",
   "execution_count": 21,
   "metadata": {},
   "outputs": [],
   "source": [
    "# a função abaixo foi escrita para f sendo uma lista\n",
    "# (o tipo da variável da entrada é list)\n",
    "def simpson13(f,a,b):\n",
    "    \n",
    "    s = f[0] + 4*f[1] + f[2]  \n",
    "    s *= (b-a)/6\n",
    "    \n",
    "    \n",
    "    #print(\"pontos usados:\")\n",
    "    #print(\"a\")\n",
    "    #print(a)\n",
    "    #print(\"ponto médio\")\n",
    "    #print(((b-a)/2))\n",
    "    #print(\"b\")\n",
    "    #print(b)\n",
    "    \n",
    "    \n",
    "    return s"
   ]
  },
  {
   "cell_type": "code",
   "execution_count": 22,
   "metadata": {},
   "outputs": [],
   "source": [
    "resposta_2433 = multiSimpson13(120,f,0,60)"
   ]
  },
  {
   "cell_type": "code",
   "execution_count": 23,
   "metadata": {},
   "outputs": [
    {
     "name": "stdout",
     "output_type": "stream",
     "text": [
      "26359084.618700393\n"
     ]
    }
   ],
   "source": [
    "print(resposta_2433/60)"
   ]
  },
  {
   "cell_type": "markdown",
   "metadata": {},
   "source": [
    "## Sendo assim, a tensão média é igual a 26359084.6187."
   ]
  },
  {
   "cell_type": "markdown",
   "metadata": {},
   "source": [
    "### 24.34"
   ]
  },
  {
   "cell_type": "markdown",
   "metadata": {},
   "source": [
    "<img src='aps5_4.JPG'>"
   ]
  },
  {
   "cell_type": "code",
   "execution_count": 24,
   "metadata": {},
   "outputs": [],
   "source": [
    "t = [0,0.2,0.4,0.6,0.8,1,1.2]\n",
    "i = [0.2,0.3683,0.3819,0.2282,0.0486,0.0082,0.1441]"
   ]
  },
  {
   "cell_type": "code",
   "execution_count": 25,
   "metadata": {},
   "outputs": [],
   "source": [
    "taxas = []"
   ]
  },
  {
   "cell_type": "code",
   "execution_count": 26,
   "metadata": {},
   "outputs": [
    {
     "name": "stdout",
     "output_type": "stream",
     "text": [
      "0.13700666666666667\n"
     ]
    }
   ],
   "source": [
    "f = [0.2,0.3683,0.3819]\n",
    "\n",
    "res = simpson13(f, 0, 0.4)\n",
    "print(res)\n",
    "taxas.append(res)"
   ]
  },
  {
   "cell_type": "code",
   "execution_count": 27,
   "metadata": {},
   "outputs": [
    {
     "name": "stdout",
     "output_type": "stream",
     "text": [
      "0.08955333333333333\n"
     ]
    }
   ],
   "source": [
    "f = [0.3819,0.2282,0.0486]\n",
    "\n",
    "res = simpson13(f, 0.4, 0.8)\n",
    "print(res)\n",
    "taxas.append(res)"
   ]
  },
  {
   "cell_type": "code",
   "execution_count": 28,
   "metadata": {},
   "outputs": [
    {
     "name": "stdout",
     "output_type": "stream",
     "text": [
      "0.01503333333333333\n"
     ]
    }
   ],
   "source": [
    "f = [0.0486,0.0082,0.1441]\n",
    "\n",
    "res = simpson13(f, 0.8, 1.2)\n",
    "print(res)\n",
    "taxas.append(res)"
   ]
  },
  {
   "cell_type": "code",
   "execution_count": 39,
   "metadata": {},
   "outputs": [
    {
     "name": "stdout",
     "output_type": "stream",
     "text": [
      "[13700.666666666666, 8955.333333333334, 1503.333333333333]\n"
     ]
    },
    {
     "data": {
      "text/plain": [
       "[<matplotlib.lines.Line2D at 0x1cb88ca45f8>]"
      ]
     },
     "execution_count": 39,
     "metadata": {},
     "output_type": "execute_result"
    },
    {
     "data": {
      "image/png": "[encoded data removed]",
      "text/plain": [
       "<matplotlib.figure.Figure at 0x1cb889b1978>"
      ]
     },
     "metadata": {},
     "output_type": "display_data"
    }
   ],
   "source": [
    "voltage = [i*(10**5) for i in taxas]\n",
    "print(voltage)\n",
    "x = [0.4,0.8,1.2]\n",
    "\n",
    "plt.figure(figsize=(6,6))\n",
    "plt.grid()\n",
    "plt.xlabel('t(s)')\n",
    "plt.ylabel('V (V)')\n",
    "plt.title('Gráfico de tensão (V) vs. tempo (s)')\n",
    "plt.plot(x,voltage, color='black')"
   ]
  }
 ],
 "metadata": {
  "kernelspec": {
   "display_name": "Python 3",
   "language": "python",
   "name": "python3"
  },
  "language_info": {
   "codemirror_mode": {
    "name": "ipython",
    "version": 3
   },
   "file_extension": ".py",
   "mimetype": "text/x-python",
   "name": "python",
   "nbconvert_exporter": "python",
   "pygments_lexer": "ipython3",
   "version": "3.6.4"
  }
 },
 "nbformat": 4,
 "nbformat_minor": 2
}
