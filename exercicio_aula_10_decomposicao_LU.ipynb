{
 "cells": [
  {
   "cell_type": "markdown",
   "metadata": {},
   "source": [
    "# Exercício da aula 10."
   ]
  },
  {
   "cell_type": "markdown",
   "metadata": {},
   "source": [
    "Exercício 10.8"
   ]
  },
  {
   "cell_type": "code",
   "execution_count": 1,
   "metadata": {},
   "outputs": [],
   "source": [
    "import numpy as np\n",
    "np.set_printoptions(formatter={'float': lambda x: \"{0:0.9f}\".format(x)})"
   ]
  },
  {
   "cell_type": "code",
   "execution_count": 2,
   "metadata": {},
   "outputs": [
    {
     "name": "stdout",
     "output_type": "stream",
     "text": [
      "[[15.000000000 -3.000000000 -1.000000000]\n",
      " [-3.000000000 18.000000000 -6.000000000]\n",
      " [-4.000000000 -1.000000000 12.000000000]]\n"
     ]
    }
   ],
   "source": [
    "matrix = np.array([[15,-3,-1],[-3,18,-6],[-4,-1,12]])\n",
    "matrix = matrix.astype('float64')\n",
    "print(matrix)"
   ]
  },
  {
   "cell_type": "markdown",
   "metadata": {},
   "source": [
    "# a) Determinação da matriz inversa. "
   ]
  },
  {
   "cell_type": "markdown",
   "metadata": {},
   "source": [
    "Eliminação progressiva:"
   ]
  },
  {
   "cell_type": "markdown",
   "metadata": {},
   "source": [
    "No loop abaixo foram \"printados\" os fatores utilizados na eliminação, que serão empregados na montagem da matriz L."
   ]
  },
  {
   "cell_type": "code",
   "execution_count": 3,
   "metadata": {},
   "outputs": [],
   "source": [
    "U = np.array([[15,-3,-1],[-3,18,-6],[-4,-1,12]])\n",
    "U = U.astype('float64')"
   ]
  },
  {
   "cell_type": "code",
   "execution_count": 4,
   "metadata": {},
   "outputs": [
    {
     "name": "stdout",
     "output_type": "stream",
     "text": [
      "-0.2\n",
      "-0.26666666666666666\n",
      "-0.10344827586206898\n",
      "[[15.000000000 -3.000000000 -1.000000000]\n",
      " [0.000000000 17.400000000 -6.200000000]\n",
      " [0.000000000 0.000000000 11.091954023]]\n"
     ]
    }
   ],
   "source": [
    "for i in range(1,3):\n",
    "    for j in range(3):\n",
    "        if i > j:\n",
    "            if U[i][j] != 0:\n",
    "                temp = U[i][j]/U[j][j]\n",
    "                print(temp)\n",
    "                for k in range(3):\n",
    "                    U[i][k] -= temp*U[j][k]\n",
    "print(U)    "
   ]
  },
  {
   "cell_type": "markdown",
   "metadata": {},
   "source": [
    "Assim, é possível montar a matriz L:"
   ]
  },
  {
   "cell_type": "code",
   "execution_count": 5,
   "metadata": {},
   "outputs": [
    {
     "name": "stdout",
     "output_type": "stream",
     "text": [
      "[[1.000000000 0.000000000 0.000000000]\n",
      " [-0.200000000 1.000000000 0.000000000]\n",
      " [-0.266666667 -0.103448270 1.000000000]]\n"
     ]
    }
   ],
   "source": [
    "L = np.array([[1,          0,0],\n",
    "              [-0.2,       1,0],\n",
    "              [-0.266666666666,-0.10344827,1]])\n",
    "L = L.astype('float64')\n",
    "print(L)"
   ]
  },
  {
   "cell_type": "code",
   "execution_count": 6,
   "metadata": {},
   "outputs": [
    {
     "name": "stdout",
     "output_type": "stream",
     "text": [
      "[[15.000000000 -3.000000000 -1.000000000]\n",
      " [-3.000000000 18.000000000 -6.000000000]\n",
      " [-4.000000000 -0.999999898 11.999999964]]\n"
     ]
    }
   ],
   "source": [
    "A = np.matmul(L, U)\n",
    "print(A)"
   ]
  },
  {
   "cell_type": "markdown",
   "metadata": {},
   "source": [
    "# Cálculo da matriz D, primeira coluna:"
   ]
  },
  {
   "cell_type": "markdown",
   "metadata": {},
   "source": [
    "### Primeira coluna:"
   ]
  },
  {
   "cell_type": "code",
   "execution_count": 7,
   "metadata": {},
   "outputs": [
    {
     "name": "stdout",
     "output_type": "stream",
     "text": [
      "1\n",
      "0.2\n",
      "0.287356254\n"
     ]
    }
   ],
   "source": [
    "d1 = 1\n",
    "print(d1)\n",
    "d2 = d1*0.2\n",
    "print(d2)\n",
    "d3 = 0.2666666*d1 + 0.10344827*d2\n",
    "print(d3)"
   ]
  },
  {
   "cell_type": "markdown",
   "metadata": {},
   "source": [
    "# Cálculo da matriz X, primeira coluna:"
   ]
  },
  {
   "cell_type": "code",
   "execution_count": 8,
   "metadata": {},
   "outputs": [
    {
     "name": "stdout",
     "output_type": "stream",
     "text": [
      "0.025906729688925864\n",
      "0.020725386440881635\n",
      "0.025029276200771385\n"
     ]
    }
   ],
   "source": [
    "x3 = d3/11.0919540\n",
    "print(x3)\n",
    "\n",
    "x2 = (d2 + 6.2*x3)/17.4\n",
    "print(x2)\n",
    "\n",
    "x1 = (3*x2+d3+x3)/15\n",
    "print(x1)"
   ]
  },
  {
   "cell_type": "markdown",
   "metadata": {},
   "source": [
    "# Cálculo da matriz D, segunda coluna:"
   ]
  },
  {
   "cell_type": "code",
   "execution_count": 9,
   "metadata": {},
   "outputs": [
    {
     "name": "stdout",
     "output_type": "stream",
     "text": [
      "0\n",
      "1.0\n",
      "0.10344827\n"
     ]
    }
   ],
   "source": [
    "d1 = 0\n",
    "print(d1)\n",
    "d2 = 1 + 0.2*d1\n",
    "print(d2)\n",
    "d3 = 0.2666666*d1 + 0.10344827*d2\n",
    "print(d3)"
   ]
  },
  {
   "cell_type": "markdown",
   "metadata": {},
   "source": [
    "# Cálculo da matriz X, segunda coluna:"
   ]
  },
  {
   "cell_type": "code",
   "execution_count": 10,
   "metadata": {},
   "outputs": [
    {
     "name": "stdout",
     "output_type": "stream",
     "text": [
      "0.00932642436129829\n",
      "0.06079447304827871\n",
      "0.019677207567075628\n"
     ]
    }
   ],
   "source": [
    "x3 = d3/11.0919540\n",
    "print(x3)\n",
    "\n",
    "x2 = (d2 + 6.2*x3)/17.4\n",
    "print(x2)\n",
    "\n",
    "x1 = (3*x2+d3+x3)/15\n",
    "print(x1)"
   ]
  },
  {
   "cell_type": "markdown",
   "metadata": {},
   "source": [
    "# Cálculo da matriz D, terceira coluna:"
   ]
  },
  {
   "cell_type": "code",
   "execution_count": 11,
   "metadata": {},
   "outputs": [
    {
     "name": "stdout",
     "output_type": "stream",
     "text": [
      "0\n",
      "0.0\n",
      "1.0\n"
     ]
    }
   ],
   "source": [
    "d1 = 0\n",
    "print(d1)\n",
    "d2 = d1*0.2\n",
    "print(d2)\n",
    "d3 = 0.2666666*d1 + 0.10344827*d2 +1\n",
    "print(d3)"
   ]
  },
  {
   "cell_type": "markdown",
   "metadata": {},
   "source": [
    "# Cálculo da matriz X, terceira coluna:"
   ]
  },
  {
   "cell_type": "code",
   "execution_count": 12,
   "metadata": {},
   "outputs": [
    {
     "name": "stdout",
     "output_type": "stream",
     "text": [
      "0.09015544060135842\n",
      "0.03212435239818519\n",
      "0.07910189985306094\n"
     ]
    }
   ],
   "source": [
    "x3 = d3/11.0919540\n",
    "print(x3)\n",
    "\n",
    "x2 = (d2 + 6.2*x3)/17.4\n",
    "print(x2)\n",
    "\n",
    "x1 = (3*x2+d3+x3)/15\n",
    "print(x1)"
   ]
  },
  {
   "cell_type": "code",
   "execution_count": 13,
   "metadata": {},
   "outputs": [
    {
     "name": "stdout",
     "output_type": "stream",
     "text": [
      "[[0.025906730 0.009326424 0.090155441]\n",
      " [0.020725386 0.060794473 0.032124352]\n",
      " [0.025029276 0.019677208 0.079101900]]\n"
     ]
    }
   ],
   "source": [
    "INV = np.array([[0.025906729688925864, 0.00932642436129829, 0.09015544060135842],\n",
    "                [0.020725386440881635, 0.06079447304827871, 0.03212435239818519],\n",
    "                [0.025029276200771385, 0.019677207567075628, 0.07910189985306094]])\n",
    "INV = INV.astype('float64')\n",
    "print(INV)"
   ]
  },
  {
   "cell_type": "code",
   "execution_count": 14,
   "metadata": {},
   "outputs": [
    {
     "name": "stdout",
     "output_type": "stream",
     "text": [
      "[[-0.000000090 0.000000018 1.000000008]\n",
      " [-0.000000032 1.000000006 0.000000003]\n",
      " [-0.000000079 0.200000016 0.806130274]]\n"
     ]
    }
   ],
   "source": [
    "identidade = np.matmul(INV, A)\n",
    "print(identidade)"
   ]
  },
  {
   "cell_type": "markdown",
   "metadata": {},
   "source": [
    "# b) Utilizar a inversa para obter a solução."
   ]
  },
  {
   "cell_type": "code",
   "execution_count": null,
   "metadata": {},
   "outputs": [],
   "source": []
  },
  {
   "cell_type": "markdown",
   "metadata": {},
   "source": [
    "# c) Determinar quanto aumentar a taxa de massa no reator 3 para induzir a um aumento DE 10 na concentração do reator 1. "
   ]
  },
  {
   "cell_type": "code",
   "execution_count": null,
   "metadata": {},
   "outputs": [],
   "source": []
  },
  {
   "cell_type": "markdown",
   "metadata": {},
   "source": [
    "# d) Determinar de quanto diminuirá a concentração no reator 3 se a entrada de massa nos reatores 1 e 2 for reduzida DE 500 (no reator 1)\n",
    "# e de 250 (no reator 2)."
   ]
  },
  {
   "cell_type": "code",
   "execution_count": null,
   "metadata": {},
   "outputs": [],
   "source": []
  },
  {
   "cell_type": "code",
   "execution_count": null,
   "metadata": {},
   "outputs": [],
   "source": []
  },
  {
   "cell_type": "code",
   "execution_count": null,
   "metadata": {},
   "outputs": [],
   "source": []
  },
  {
   "cell_type": "code",
   "execution_count": null,
   "metadata": {},
   "outputs": [],
   "source": []
  },
  {
   "cell_type": "code",
   "execution_count": null,
   "metadata": {},
   "outputs": [],
   "source": []
  },
  {
   "cell_type": "code",
   "execution_count": null,
   "metadata": {},
   "outputs": [],
   "source": []
  },
  {
   "cell_type": "code",
   "execution_count": null,
   "metadata": {},
   "outputs": [],
   "source": []
  },
  {
   "cell_type": "code",
   "execution_count": null,
   "metadata": {},
   "outputs": [],
   "source": []
  },
  {
   "cell_type": "code",
   "execution_count": null,
   "metadata": {},
   "outputs": [],
   "source": []
  },
  {
   "cell_type": "code",
   "execution_count": null,
   "metadata": {},
   "outputs": [],
   "source": []
  },
  {
   "cell_type": "code",
   "execution_count": null,
   "metadata": {},
   "outputs": [],
   "source": []
  },
  {
   "cell_type": "code",
   "execution_count": null,
   "metadata": {},
   "outputs": [],
   "source": []
  },
  {
   "cell_type": "code",
   "execution_count": null,
   "metadata": {},
   "outputs": [],
   "source": []
  },
  {
   "cell_type": "code",
   "execution_count": null,
   "metadata": {},
   "outputs": [],
   "source": []
  },
  {
   "cell_type": "code",
   "execution_count": null,
   "metadata": {},
   "outputs": [],
   "source": []
  },
  {
   "cell_type": "code",
   "execution_count": null,
   "metadata": {},
   "outputs": [],
   "source": []
  },
  {
   "cell_type": "code",
   "execution_count": null,
   "metadata": {},
   "outputs": [],
   "source": []
  },
  {
   "cell_type": "code",
   "execution_count": null,
   "metadata": {},
   "outputs": [],
   "source": []
  },
  {
   "cell_type": "code",
   "execution_count": null,
   "metadata": {},
   "outputs": [],
   "source": []
  },
  {
   "cell_type": "code",
   "execution_count": null,
   "metadata": {},
   "outputs": [],
   "source": []
  },
  {
   "cell_type": "code",
   "execution_count": null,
   "metadata": {},
   "outputs": [],
   "source": []
  },
  {
   "cell_type": "code",
   "execution_count": null,
   "metadata": {},
   "outputs": [],
   "source": []
  }
 ],
 "metadata": {
  "kernelspec": {
   "display_name": "Python 3",
   "language": "python",
   "name": "python3"
  },
  "language_info": {
   "codemirror_mode": {
    "name": "ipython",
    "version": 3
   },
   "file_extension": ".py",
   "mimetype": "text/x-python",
   "name": "python",
   "nbconvert_exporter": "python",
   "pygments_lexer": "ipython3",
   "version": "3.6.4"
  }
 },
 "nbformat": 4,
 "nbformat_minor": 2
}
