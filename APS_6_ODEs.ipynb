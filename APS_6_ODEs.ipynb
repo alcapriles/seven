{
 "cells": [
  {
   "cell_type": "markdown",
   "metadata": {},
   "source": [
    "### APS 6"
   ]
  },
  {
   "cell_type": "code",
   "execution_count": 1,
   "metadata": {},
   "outputs": [],
   "source": [
    "import numpy as np\n",
    "import math\n",
    "import matplotlib.pyplot as plt\n",
    "np.set_printoptions(formatter={'float': lambda x: \"{0:0.3f}\".format(x)})\n",
    "\n",
    "%matplotlib inline"
   ]
  },
  {
   "cell_type": "markdown",
   "metadata": {},
   "source": [
    "## 28.40"
   ]
  },
  {
   "cell_type": "markdown",
   "metadata": {},
   "source": [
    "### Após implementado o método das diferenças finitas e montado o sistema, é implementado o método de Gauss-Seidel:"
   ]
  },
  {
   "cell_type": "code",
   "execution_count": 2,
   "metadata": {},
   "outputs": [],
   "source": [
    "#matrix declaration:\n",
    "\n",
    "m = np.array([    [-2,1,0,0,0,0,0,0,0,-1060],\n",
    "                  [1,-2,1,0,0,0,0,0,0,-60],\n",
    "                  [0,1,-2,1,0,0,0,0,0,-60],\n",
    "                  [0,0,1,-2,1,0,0,0,0,-60],\n",
    "                  [0,0,0,1,-2,1,0,0,0,-60],\n",
    "                  [0,0,0,0,1,-2,1,0,0,-60],\n",
    "                  [0,0,0,0,0,1,-2,1,0,-60],\n",
    "                  [0,0,0,0,0,0,1,-2,1,-60],\n",
    "                  [0,0,0,0,0,0,0,1,-2,-60]\n",
    "              \n",
    "                       ])\n",
    "\n",
    "m = m.astype('float64')"
   ]
  },
  {
   "cell_type": "code",
   "execution_count": 3,
   "metadata": {},
   "outputs": [
    {
     "name": "stdout",
     "output_type": "stream",
     "text": [
      "1169.9891270777798\n",
      "1279.9803306989252\n",
      "1329.9742525506256\n",
      "1319.971213476476\n",
      "1249.971213476476\n",
      "1119.973962344868\n",
      "929.9789350945045\n",
      "679.9854445082875\n",
      "369.99272225414376\n"
     ]
    }
   ],
   "source": [
    "x1 = 0\n",
    "x2 = 0\n",
    "x3 = 0\n",
    "x4 = 0\n",
    "x5 = 0\n",
    "x6 = 0\n",
    "x7 = 0\n",
    "x8 = 0\n",
    "x9 = 0\n",
    "\n",
    "i = 0\n",
    "\n",
    "respostas1 = [0]\n",
    "\n",
    "error = 5\n",
    "\n",
    "while error > 0.0001:\n",
    "    \n",
    "    i += 1\n",
    "    \n",
    "    x1 = (m[0][9] - m[0][1]*x2 - m[0][2]*x3 - m[0][3]*x4 - m[0][4]*x5 - m[0][5]*x6 - m[0][6]*x7\n",
    "         - m[0][7]*x8 - m[0][8]*x9) / m[0][0]\n",
    "    \n",
    "    respostas1.append(x1)\n",
    "    \n",
    "    x2 = (m[1][9] - m[1][0]*x1 - m[1][2]*x3 - m[1][3]*x4 - m[1][4]*x5 - m[1][5]*x6 - m[1][6]*x7\n",
    "         - m[1][7]*x8 - m[1][8]*x9) / m[1][1]\n",
    "    \n",
    "    x3 = (m[2][9] - m[2][0]*x1 - m[2][1]*x2 - m[2][3]*x4 - m[2][4]*x5 - m[2][5]*x6 - m[2][6]*x7\n",
    "         - m[2][7]*x8 - m[2][8]*x9) / m[2][2]\n",
    "    \n",
    "    x4 = (m[3][9] - m[3][0]*x1 - m[3][1]*x2 - m[3][2]*x3 - m[3][4]*x5 - m[3][5]*x6 - m[3][6]*x7\n",
    "         - m[3][7]*x8 - m[3][8]*x9) / m[3][3]\n",
    "    \n",
    "    x5 = (m[4][9] - m[4][0]*x1 - m[4][1]*x2 - m[4][2]*x3 - m[4][3]*x4 - m[4][5]*x6 - m[4][6]*x7\n",
    "         - m[4][7]*x8 - m[4][8]*x9) / m[4][4]\n",
    "    \n",
    "    x6 = (m[5][9] - m[5][0]*x1 - m[5][1]*x2 - m[5][2]*x3 - m[5][3]*x4 - m[5][4]*x5 - m[5][6]*x7\n",
    "         - m[5][7]*x8 - m[5][8]*x9) / m[5][5]\n",
    "    \n",
    "    x7 = (m[6][9] - m[6][0]*x1 - m[6][1]*x2 - m[6][2]*x3 - m[6][3]*x4 - m[6][4]*x5 - m[6][5]*x6\n",
    "         - m[6][7]*x8 - m[6][8]*x9) / m[6][6]\n",
    "    \n",
    "    x8 = (m[7][9] - m[7][0]*x1 - m[7][1]*x2 - m[7][2]*x3 - m[7][3]*x4 - m[7][4]*x5 - m[7][5]*x6 \n",
    "          - m[7][6]*x7 - m[7][8]*x9) / m[7][7]\n",
    "    \n",
    "    x9 = (m[8][9] - m[8][0]*x1 - m[8][1]*x2 - m[8][2]*x3 - m[8][3]*x4 - m[8][4]*x5 - m[8][5]*x6 \n",
    "          - m[8][6]*x7 - m[8][7]*x8) / m[8][8]\n",
    "    \n",
    "    error = math.fabs(100*(x1 - respostas1[i-1])/x1)\n",
    "\n",
    "\n",
    "print(x1)\n",
    "print(x2)\n",
    "print(x3)\n",
    "print(x4)\n",
    "print(x5)\n",
    "print(x6)\n",
    "print(x7)\n",
    "print(x8)\n",
    "print(x9)"
   ]
  },
  {
   "cell_type": "markdown",
   "metadata": {},
   "source": [
    "## 28.37"
   ]
  },
  {
   "cell_type": "markdown",
   "metadata": {},
   "source": [
    "### Gráfico da solução analítica:"
   ]
  },
  {
   "cell_type": "code",
   "execution_count": 16,
   "metadata": {},
   "outputs": [],
   "source": [
    "t = [0.1*i for i in range(0,200)]\n",
    "i = [0.5*math.e**(-1.5*T) for T in t]"
   ]
  },
  {
   "cell_type": "code",
   "execution_count": 17,
   "metadata": {},
   "outputs": [
    {
     "data": {
      "image/png": "[encoded data removed]",
      "text/plain": [
       "<matplotlib.figure.Figure at 0x22ffdd21320>"
      ]
     },
     "metadata": {},
     "output_type": "display_data"
    }
   ],
   "source": [
    "plt.figure(figsize=(8,8))\n",
    "plt.plot(t,i, color=\"black\", linewidth=0.8)\n",
    "plt.grid()"
   ]
  },
  {
   "cell_type": "markdown",
   "metadata": {},
   "source": [
    "### Implementando um método Runge-Kutta de quarta ordem com passo de 0.01, segue-se:"
   ]
  },
  {
   "cell_type": "code",
   "execution_count": 4,
   "metadata": {},
   "outputs": [],
   "source": [
    "def f(t,y):\n",
    "    return -1.5*y"
   ]
  },
  {
   "cell_type": "code",
   "execution_count": 4,
   "metadata": {},
   "outputs": [],
   "source": [
    "def ks(ti, yi, h):\n",
    "    \n",
    "    k1 = f(ti,yi)\n",
    "    \n",
    "    k2 = f(ti + 0.5*h, yi + 0.5*k1*h)\n",
    "    \n",
    "    k3 = f(ti + 0.5*h, yi + 0.5*k2*h)\n",
    "    \n",
    "    \n",
    "    k4 = f(ti + h, yi + k3*h)\n",
    "    \n",
    "    return k1, k2, k3, k4, h"
   ]
  },
  {
   "cell_type": "code",
   "execution_count": 11,
   "metadata": {
    "scrolled": false
   },
   "outputs": [
    {
     "data": {
      "image/png": "[encoded data removed]",
      "text/plain": [
       "<matplotlib.figure.Figure at 0x22ffe07d240>"
      ]
     },
     "metadata": {},
     "output_type": "display_data"
    }
   ],
   "source": [
    "tvals = [0.01*h for h in range(0,2000)]\n",
    "yvals = []\n",
    "y = 0.5\n",
    "#documentação da função: tempo inicial, corrente inicial, PASSO\n",
    "k1, k2, k3, k4, h = ks(0,0.5,0.01)\n",
    "\n",
    "\n",
    "for i in range(len(tvals)):\n",
    "    \n",
    "    y += (1/6)*(k1 + 2*k2 + 2*k3 + k4)*h\n",
    "    k1, k2, k3, k4, h = ks(tvals[i],y,h)\n",
    "    #print(tvals[i])\n",
    "    #print(k1, k2, k3, k4, h)\n",
    "    yvals.append(y)\n",
    "\n",
    "    \n",
    "#print(tvals)\n",
    "#print(yvals)\n",
    "\n",
    "plt.figure(figsize=(8,8))\n",
    "plt.plot(tvals,yvals, color='magenta')\n",
    "plt.grid()"
   ]
  },
  {
   "cell_type": "markdown",
   "metadata": {},
   "source": [
    "### Uma vez que este segundo gráfico está exatamente igual ao primeiro (o da solução analítica), pode-se afirmar que o método foi aplicado corretamente."
   ]
  },
  {
   "cell_type": "markdown",
   "metadata": {},
   "source": [
    "## 28.36"
   ]
  },
  {
   "cell_type": "code",
   "execution_count": null,
   "metadata": {},
   "outputs": [],
   "source": [
    "### Implementando um método Runge-Kutta de quarta ordem com passo de 0.001, obtém-se o seguinte"
   ]
  },
  {
   "cell_type": "code",
   "execution_count": 6,
   "metadata": {},
   "outputs": [],
   "source": [
    "def f(t,y):\n",
    "    return -50*y + math.sin(t*math.sqrt(3.5)) - 0.4"
   ]
  },
  {
   "cell_type": "code",
   "execution_count": 11,
   "metadata": {},
   "outputs": [
    {
     "data": {
      "image/png": "[encoded data removed]",
      "text/plain": [
       "<matplotlib.figure.Figure at 0x17fd91d0fd0>"
      ]
     },
     "metadata": {},
     "output_type": "display_data"
    }
   ],
   "source": [
    "tvals = [0.001*h for h in range(0,500)]\n",
    "yvals = []\n",
    "y = -3.231515 #valor inicial da corrente\n",
    "#documentação da função: tempo inicial, corrente inicial, PASSO\n",
    "k1, k2, k3, k4, h = ks(0,-3.231515,0.001)\n",
    "\n",
    "\n",
    "for i in range(len(tvals)):\n",
    "    \n",
    "    y += (1/6)*(k1 + 2*k2 + 2*k3 + k4)*h\n",
    "    k1, k2, k3, k4, h = ks(tvals[i],y,h)\n",
    "    #print(tvals[i])\n",
    "    #print(k1, k2, k3, k4, h)\n",
    "    yvals.append(y)\n",
    "\n",
    "    \n",
    "#print(tvals)\n",
    "#print(yvals)\n",
    "\n",
    "plt.figure(figsize=(8,8))\n",
    "plt.plot(tvals,yvals, color='magenta')\n",
    "plt.xlabel('t (s)')\n",
    "plt.ylabel('i (A)')\n",
    "plt.grid()"
   ]
  },
  {
   "cell_type": "code",
   "execution_count": null,
   "metadata": {},
   "outputs": [],
   "source": []
  },
  {
   "cell_type": "code",
   "execution_count": null,
   "metadata": {},
   "outputs": [],
   "source": []
  },
  {
   "cell_type": "code",
   "execution_count": null,
   "metadata": {},
   "outputs": [],
   "source": []
  }
 ],
 "metadata": {
  "kernelspec": {
   "display_name": "Python 3",
   "language": "python",
   "name": "python3"
  },
  "language_info": {
   "codemirror_mode": {
    "name": "ipython",
    "version": 3
   },
   "file_extension": ".py",
   "mimetype": "text/x-python",
   "name": "python",
   "nbconvert_exporter": "python",
   "pygments_lexer": "ipython3",
   "version": "3.6.4"
  }
 },
 "nbformat": 4,
 "nbformat_minor": 2
}
