{
 "cells": [
  {
   "cell_type": "markdown",
   "metadata": {},
   "source": [
    "### Exercício 9.13\n",
    "O sistema é bem ou mal condicionado?"
   ]
  },
  {
   "cell_type": "code",
   "execution_count": 1,
   "metadata": {},
   "outputs": [],
   "source": [
    "import numpy as np\n",
    "np.set_printoptions(formatter={'float': lambda x: \"{0:0.3f}\".format(x)})"
   ]
  },
  {
   "cell_type": "code",
   "execution_count": 2,
   "metadata": {},
   "outputs": [
    {
     "name": "stdout",
     "output_type": "stream",
     "text": [
      "[[1.000 1.000 -1.000 -3.000]\n",
      " [6.000 2.000 2.000 2.000]\n",
      " [-3.000 4.000 1.000 1.000]]\n"
     ]
    }
   ],
   "source": [
    "matrix = np.array([[1,1,-1,-3],[6,2,2,2],[-3,4,1,1]])\n",
    "matrix = matrix.astype('float64')\n",
    "print(matrix)"
   ]
  },
  {
   "cell_type": "markdown",
   "metadata": {},
   "source": [
    "## Eliminação de Gauss ingênuo"
   ]
  },
  {
   "cell_type": "markdown",
   "metadata": {},
   "source": [
    "### Eliminação progressiva:"
   ]
  },
  {
   "cell_type": "code",
   "execution_count": 3,
   "metadata": {},
   "outputs": [
    {
     "name": "stdout",
     "output_type": "stream",
     "text": [
      "[[1.000 1.000 -1.000 -3.000]\n",
      " [0.000 -4.000 8.000 20.000]\n",
      " [0.000 0.000 12.000 27.000]]\n"
     ]
    }
   ],
   "source": [
    "for i in range(1,3):\n",
    "    for j in range(4):\n",
    "        if i > j:\n",
    "            if matrix[i][j] != 0:\n",
    "                temp = matrix[i][j]/matrix[j][j]\n",
    "                for k in range(4):\n",
    "                    matrix[i][k] -= temp*matrix[j][k]\n",
    "print(matrix)    "
   ]
  },
  {
   "cell_type": "markdown",
   "metadata": {},
   "source": [
    "## Sendo assim, as raízes são iguais a:"
   ]
  },
  {
   "cell_type": "markdown",
   "metadata": {},
   "source": [
    "### Iniciando pela última linha 3:"
   ]
  },
  {
   "cell_type": "code",
   "execution_count": 4,
   "metadata": {},
   "outputs": [
    {
     "name": "stdout",
     "output_type": "stream",
     "text": [
      "2.25\n"
     ]
    }
   ],
   "source": [
    "x3 = 27/12\n",
    "print(x3)"
   ]
  },
  {
   "cell_type": "markdown",
   "metadata": {},
   "source": [
    "### Linha 2:"
   ]
  },
  {
   "cell_type": "code",
   "execution_count": 5,
   "metadata": {},
   "outputs": [
    {
     "name": "stdout",
     "output_type": "stream",
     "text": [
      "-0.5\n"
     ]
    }
   ],
   "source": [
    "x2 = (-8*x3 + 20)/-4\n",
    "print(x2)"
   ]
  },
  {
   "cell_type": "markdown",
   "metadata": {},
   "source": [
    "### Linha 1:"
   ]
  },
  {
   "cell_type": "code",
   "execution_count": 6,
   "metadata": {},
   "outputs": [
    {
     "name": "stdout",
     "output_type": "stream",
     "text": [
      "-0.25\n"
     ]
    }
   ],
   "source": [
    "x1 = -3 + x3 - x2\n",
    "print(x1)"
   ]
  },
  {
   "cell_type": "markdown",
   "metadata": {},
   "source": [
    "## Eliminação de Gauss com pivotamento parcial (pivotamento de linhas)"
   ]
  },
  {
   "cell_type": "markdown",
   "metadata": {},
   "source": [
    "### Fazendo o pivotamento manualmente:"
   ]
  },
  {
   "cell_type": "code",
   "execution_count": 22,
   "metadata": {},
   "outputs": [
    {
     "name": "stdout",
     "output_type": "stream",
     "text": [
      "[[1.000 1.000 -1.000 -3.000]\n",
      " [6.000 2.000 2.000 2.000]\n",
      " [-3.000 4.000 1.000 1.000]]\n"
     ]
    }
   ],
   "source": [
    "matrix = np.array([[1,1,-1,-3],[6,2,2,2],[-3,4,1,1]])\n",
    "matrix = matrix.astype('float64')\n",
    "print(matrix)"
   ]
  },
  {
   "cell_type": "code",
   "execution_count": 7,
   "metadata": {},
   "outputs": [
    {
     "name": "stdout",
     "output_type": "stream",
     "text": [
      "[[6.000 2.000 2.000 2.000]\n",
      " [-3.000 4.000 1.000 1.000]\n",
      " [1.000 1.000 -1.000 -3.000]]\n"
     ]
    }
   ],
   "source": [
    "matrix = np.array([[6,2,2,2],[-3,4,1,1],[1,1,-1,-3]])\n",
    "matrix = matrix.astype('float64')\n",
    "print(matrix)"
   ]
  },
  {
   "cell_type": "code",
   "execution_count": 8,
   "metadata": {},
   "outputs": [
    {
     "name": "stdout",
     "output_type": "stream",
     "text": [
      "[[6.000 2.000 2.000 2.000]\n",
      " [0.000 5.000 2.000 2.000]\n",
      " [0.000 0.000 -1.600 -3.600]]\n"
     ]
    }
   ],
   "source": [
    "for i in range(1,3):\n",
    "    for j in range(4):\n",
    "        if i > j:\n",
    "            if matrix[i][j] != 0:\n",
    "                temp = matrix[i][j]/matrix[j][j]\n",
    "                for k in range(4):\n",
    "                    matrix[i][k] -= temp*matrix[j][k]\n",
    "\n",
    "print(matrix)          "
   ]
  },
  {
   "cell_type": "markdown",
   "metadata": {},
   "source": [
    "## Sendo assim, as raízes são iguais a:"
   ]
  },
  {
   "cell_type": "code",
   "execution_count": 9,
   "metadata": {},
   "outputs": [
    {
     "name": "stdout",
     "output_type": "stream",
     "text": [
      "2.25\n",
      "-0.5\n",
      "-0.25\n"
     ]
    }
   ],
   "source": [
    "x3 = -3.6/-1.6\n",
    "print(x3)\n",
    "\n",
    "x2 = (-2*x3 + 2)/5\n",
    "print(x2)\n",
    "\n",
    "x1 = (2 - 2*x3 - 2*x2)/6\n",
    "print(x1)"
   ]
  },
  {
   "cell_type": "markdown",
   "metadata": {},
   "source": [
    "## Gauss-Jordan sem pivotamento"
   ]
  },
  {
   "cell_type": "code",
   "execution_count": 10,
   "metadata": {},
   "outputs": [
    {
     "name": "stdout",
     "output_type": "stream",
     "text": [
      "[[1.000 1.000 -1.000 -3.000]\n",
      " [6.000 2.000 2.000 2.000]\n",
      " [-3.000 4.000 1.000 1.000]]\n"
     ]
    }
   ],
   "source": [
    "matrix = np.array([[1,1,-1,-3],[6,2,2,2],[-3,4,1,1]])\n",
    "matrix = matrix.astype('float64')\n",
    "print(matrix)"
   ]
  },
  {
   "cell_type": "code",
   "execution_count": 11,
   "metadata": {},
   "outputs": [
    {
     "name": "stdout",
     "output_type": "stream",
     "text": [
      "[[1.000 0.000 0.000 -0.250]\n",
      " [0.000 -4.000 0.000 2.000]\n",
      " [0.000 0.000 12.000 27.000]]\n"
     ]
    }
   ],
   "source": [
    "for i in range(1,3):\n",
    "    for j in range(4):\n",
    "        if i > j:\n",
    "            if matrix[i][j] != 0:\n",
    "                temp = matrix[i][j]/matrix[j][j]\n",
    "                for k in range(4):\n",
    "                    matrix[i][k] -= temp*matrix[j][k]   \n",
    "    \n",
    "         \n",
    "for i in range(3):\n",
    "    for j in range(1,3):\n",
    "        if i < j:\n",
    "            if matrix[i][j] != 0:\n",
    "                temp = matrix[i][j]/matrix[j][j]\n",
    "                for k in range(4):\n",
    "                    matrix[i][k] -= temp*matrix[j][k]   \n",
    "\n",
    "                \n",
    "\"\"\"               \n",
    "for i in range(3):\n",
    "    for j in range(4):\n",
    "        for k in range(4):\n",
    "            matrix[i][k] /= matrix[i][i] \n",
    "\"\"\" \n",
    "            \n",
    "\n",
    "                                          \n",
    "print(matrix)  "
   ]
  },
  {
   "cell_type": "markdown",
   "metadata": {},
   "source": [
    "### Dividindo-se cada membro pelo termo da identidade, tem-se a seguinte matriz:"
   ]
  },
  {
   "cell_type": "code",
   "execution_count": 12,
   "metadata": {},
   "outputs": [
    {
     "name": "stdout",
     "output_type": "stream",
     "text": [
      "[[1.000 0.000 0.000 -0.250]\n",
      " [0.000 1.000 0.000 -0.500]\n",
      " [0.000 0.000 1.000 2.250]]\n"
     ]
    }
   ],
   "source": [
    "matrix = np.array([[1,0,0,-0.25],[0,1,0,-0.5],[0,0,1,2.25]])\n",
    "matrix = matrix.astype('float64')\n",
    "print(matrix)"
   ]
  },
  {
   "cell_type": "markdown",
   "metadata": {},
   "source": [
    "## Sendo assim, as raízes são iguais a:"
   ]
  },
  {
   "cell_type": "code",
   "execution_count": 13,
   "metadata": {},
   "outputs": [
    {
     "name": "stdout",
     "output_type": "stream",
     "text": [
      "-0.25\n"
     ]
    }
   ],
   "source": [
    "x3 = 27/12\n",
    "print(x1)"
   ]
  },
  {
   "cell_type": "code",
   "execution_count": 14,
   "metadata": {},
   "outputs": [
    {
     "name": "stdout",
     "output_type": "stream",
     "text": [
      "-0.5\n"
     ]
    }
   ],
   "source": [
    "x2 = 2/-4\n",
    "print(x2)"
   ]
  },
  {
   "cell_type": "code",
   "execution_count": 15,
   "metadata": {
    "scrolled": true
   },
   "outputs": [
    {
     "name": "stdout",
     "output_type": "stream",
     "text": [
      "-0.25\n"
     ]
    }
   ],
   "source": [
    "x3 = -0.25/1\n",
    "print(x3)"
   ]
  },
  {
   "cell_type": "markdown",
   "metadata": {},
   "source": [
    "## O determinante deste sistema é igual a -48 antes da mudança de escala, e após, é -2 o que é distante de zero. portanto o sistema é bem condicionado."
   ]
  },
  {
   "cell_type": "code",
   "execution_count": null,
   "metadata": {},
   "outputs": [],
   "source": []
  },
  {
   "cell_type": "code",
   "execution_count": 23,
   "metadata": {},
   "outputs": [
    {
     "name": "stdout",
     "output_type": "stream",
     "text": [
      "[[1.000 -45.000 -20.000 0.000 0.000 0.000 0.000]\n",
      " [0.000 1.000 0.250 0.050 0.000 0.000 475.000]\n",
      " [0.000 1.000 2.000 0.000 0.000 1.000 550.000]\n",
      " [0.000 0.040 0.120 0.000 1.000 0.000 40.000]]\n"
     ]
    }
   ],
   "source": [
    "matrix = np.array([[1,-45,-20,0,0,0,0],\n",
    "                   [0,1,0.25,0.05,0,0,475],\n",
    "                   [0,1,2,0,0,1,550],\n",
    "                   [0,0.04,0.12,0,1,0,40],\n",
    "                   ])\n",
    "matrix = matrix.astype('float64')\n",
    "print(matrix)"
   ]
  },
  {
   "cell_type": "code",
   "execution_count": 24,
   "metadata": {},
   "outputs": [
    {
     "name": "stdout",
     "output_type": "stream",
     "text": [
      "[[1.000 -45.000 -20.000 0.000 0.000 0.000 0.000]\n",
      " [0.000 1.000 0.250 0.050 0.000 0.000 475.000]\n",
      " [0.000 0.000 1.750 -0.050 0.000 1.000 75.000]\n",
      " [0.000 0.000 -0.000 0.001 1.000 -0.063 16.286]]\n"
     ]
    }
   ],
   "source": [
    "for i in range(1,4):\n",
    "    for j in range(7):\n",
    "        if i > j:\n",
    "            if matrix[i][j] != 0:\n",
    "                temp = matrix[i][j]/matrix[j][j]\n",
    "                for k in range(7):\n",
    "                    matrix[i][k] -= temp*matrix[j][k]\n",
    "\n",
    "print(matrix)     "
   ]
  }
 ],
 "metadata": {
  "kernelspec": {
   "display_name": "Python 3",
   "language": "python",
   "name": "python3"
  },
  "language_info": {
   "codemirror_mode": {
    "name": "ipython",
    "version": 3
   },
   "file_extension": ".py",
   "mimetype": "text/x-python",
   "name": "python",
   "nbconvert_exporter": "python",
   "pygments_lexer": "ipython3",
   "version": "3.6.4"
  }
 },
 "nbformat": 4,
 "nbformat_minor": 2
}
