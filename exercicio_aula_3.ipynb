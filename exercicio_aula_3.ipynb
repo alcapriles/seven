{
 "cells": [
  {
   "cell_type": "markdown",
   "metadata": {
    "collapsed": true
   },
   "source": [
    "## Exercício Aula 3: Erros (Parte 1)"
   ]
  },
  {
   "cell_type": "code",
   "execution_count": 15,
   "metadata": {},
   "outputs": [],
   "source": [
    "import math\n",
    "import matplotlib.pyplot as plt\n",
    "import numpy as np\n",
    "import pandas as pd\n",
    "%matplotlib inline"
   ]
  },
  {
   "cell_type": "markdown",
   "metadata": {},
   "source": [
    "Serão usadas duas séries matemáticas para calcular e^-5 e após, e^-15."
   ]
  },
  {
   "cell_type": "markdown",
   "metadata": {},
   "source": [
    "Itens a serem respondidos:\n",
    "- Usar 20 termos para calcular cada valor.\n",
    "- Quantos termos são necessários para que a primeira série tenha o mesmo erro real que a segunda série tem com 20 termos?\n",
    "- Se x = 15, qual o erro se obtém para cada série com o uso de 20 termos?\n",
    "- Quanto é o maior erro de x = 15 em cada série?\n",
    "- Quantos termos se deve usar para x = 15 ter o mesmo erro que para x = 5?\n",
    "- Compare os resultados."
   ]
  },
  {
   "cell_type": "markdown",
   "metadata": {},
   "source": [
    "O valor real que queremos calcular corresponde a:"
   ]
  },
  {
   "cell_type": "markdown",
   "metadata": {},
   "source": [
    "## Valor real:"
   ]
  },
  {
   "cell_type": "code",
   "execution_count": 16,
   "metadata": {},
   "outputs": [
    {
     "name": "stdout",
     "output_type": "stream",
     "text": [
      "0.006737946999085469\n"
     ]
    }
   ],
   "source": [
    "e_real = math.e**(-5)\n",
    "print(e_real)"
   ]
  },
  {
   "cell_type": "markdown",
   "metadata": {},
   "source": [
    "## Primeiro caso: x = 5."
   ]
  },
  {
   "cell_type": "markdown",
   "metadata": {},
   "source": [
    "## Segunda Série"
   ]
  },
  {
   "cell_type": "markdown",
   "metadata": {},
   "source": [
    "<img src=\"segunda.png\">"
   ]
  },
  {
   "cell_type": "code",
   "execution_count": 17,
   "metadata": {},
   "outputs": [
    {
     "name": "stdout",
     "output_type": "stream",
     "text": [
      "[1.0, 0.16666666666666666, 0.05405405405405406, 0.025423728813559324, 0.015296367112810707, 0.010938924339106653, 0.008840321689483701, 0.00777489818585709, 0.007230283266789742, 0.006959452863649537, 0.006831506312973185, 0.006774891102970596, 0.006751577432172176, 0.006742653303524142, 0.006739471829362351, 0.006738412005050836, 0.006738080878308424, 0.006737983494283331, 0.006737956443664812, 0.00673794932511709]\n"
     ]
    }
   ],
   "source": [
    "euler = []\n",
    "x = 5\n",
    "e = 0\n",
    "for n in range(20):\n",
    "    e += ((x**n)/(math.factorial(n)))\n",
    "    euler.append(1/e) \n",
    "print(euler)"
   ]
  },
  {
   "cell_type": "markdown",
   "metadata": {},
   "source": [
    "# Erro relativo aproximado:"
   ]
  },
  {
   "cell_type": "code",
   "execution_count": 18,
   "metadata": {},
   "outputs": [
    {
     "name": "stdout",
     "output_type": "stream",
     "text": [
      "[500.0000000000001, 208.33333333333331, 112.61261261261262, 66.20762711864408, 39.83428935627789, 23.738985110908523, 13.703375634740365, 7.532414692089345, 3.8915473449759306, 1.8728892987096952, 0.8356622880294621, 0.3453070194726347, 0.13235336663935116, 0.047206580016109514, 0.01572810197299871, 0.004914258946902831, 0.0014452992527470008, 0.0004014662122671457, 0.00010564857908971307]\n"
     ]
    }
   ],
   "source": [
    "erros = []\n",
    "for i in range(1,20):\n",
    "    erros.append(math.fabs(100*((euler[i] - euler[i-1])/euler[i])))\n",
    "print(erros)"
   ]
  },
  {
   "cell_type": "markdown",
   "metadata": {},
   "source": [
    "# Erro relativo real:"
   ]
  },
  {
   "cell_type": "code",
   "execution_count": 19,
   "metadata": {},
   "outputs": [
    {
     "name": "stdout",
     "output_type": "stream",
     "text": [
      "[14741.315910257657, 2373.552651709609, 702.2332924463599, 277.321590938754, 127.01821660049953, 62.3480318350883, 31.2020069419303, 15.38972014639422, 7.306918083076303, 3.287438511970083, 1.3885433337545523, 0.5482991167805563, 0.20229356343344462, 0.06984775094419694, 0.02263048784873308, 0.006901300432164935, 0.0019869438416965936, 0.0005416367606775383, 0.00014016998567526045, 3.452137011421034e-05]\n"
     ]
    }
   ],
   "source": [
    "erros2 = []\n",
    "for i in range(20):\n",
    "    erros2.append(math.fabs(100*((e_real - euler[i])/e_real)))\n",
    "print(erros2)"
   ]
  },
  {
   "cell_type": "code",
   "execution_count": 20,
   "metadata": {},
   "outputs": [
    {
     "data": {
      "text/html": [
       "<div>\n",
       "<style scoped>\n",
       "    .dataframe tbody tr th:only-of-type {\n",
       "        vertical-align: middle;\n",
       "    }\n",
       "\n",
       "    .dataframe tbody tr th {\n",
       "        vertical-align: top;\n",
       "    }\n",
       "\n",
       "    .dataframe thead th {\n",
       "        text-align: right;\n",
       "    }\n",
       "</style>\n",
       "<table border=\"1\" class=\"dataframe\">\n",
       "  <thead>\n",
       "    <tr style=\"text-align: right;\">\n",
       "      <th></th>\n",
       "      <th>Erro Real da Segunda Série</th>\n",
       "    </tr>\n",
       "  </thead>\n",
       "  <tbody>\n",
       "    <tr>\n",
       "      <th>0</th>\n",
       "      <td>14741.315910</td>\n",
       "    </tr>\n",
       "    <tr>\n",
       "      <th>1</th>\n",
       "      <td>2373.552652</td>\n",
       "    </tr>\n",
       "    <tr>\n",
       "      <th>2</th>\n",
       "      <td>702.233292</td>\n",
       "    </tr>\n",
       "    <tr>\n",
       "      <th>3</th>\n",
       "      <td>277.321591</td>\n",
       "    </tr>\n",
       "    <tr>\n",
       "      <th>4</th>\n",
       "      <td>127.018217</td>\n",
       "    </tr>\n",
       "    <tr>\n",
       "      <th>5</th>\n",
       "      <td>62.348032</td>\n",
       "    </tr>\n",
       "    <tr>\n",
       "      <th>6</th>\n",
       "      <td>31.202007</td>\n",
       "    </tr>\n",
       "    <tr>\n",
       "      <th>7</th>\n",
       "      <td>15.389720</td>\n",
       "    </tr>\n",
       "    <tr>\n",
       "      <th>8</th>\n",
       "      <td>7.306918</td>\n",
       "    </tr>\n",
       "    <tr>\n",
       "      <th>9</th>\n",
       "      <td>3.287439</td>\n",
       "    </tr>\n",
       "    <tr>\n",
       "      <th>10</th>\n",
       "      <td>1.388543</td>\n",
       "    </tr>\n",
       "    <tr>\n",
       "      <th>11</th>\n",
       "      <td>0.548299</td>\n",
       "    </tr>\n",
       "    <tr>\n",
       "      <th>12</th>\n",
       "      <td>0.202294</td>\n",
       "    </tr>\n",
       "    <tr>\n",
       "      <th>13</th>\n",
       "      <td>0.069848</td>\n",
       "    </tr>\n",
       "    <tr>\n",
       "      <th>14</th>\n",
       "      <td>0.022630</td>\n",
       "    </tr>\n",
       "    <tr>\n",
       "      <th>15</th>\n",
       "      <td>0.006901</td>\n",
       "    </tr>\n",
       "    <tr>\n",
       "      <th>16</th>\n",
       "      <td>0.001987</td>\n",
       "    </tr>\n",
       "    <tr>\n",
       "      <th>17</th>\n",
       "      <td>0.000542</td>\n",
       "    </tr>\n",
       "    <tr>\n",
       "      <th>18</th>\n",
       "      <td>0.000140</td>\n",
       "    </tr>\n",
       "    <tr>\n",
       "      <th>19</th>\n",
       "      <td>0.000035</td>\n",
       "    </tr>\n",
       "  </tbody>\n",
       "</table>\n",
       "</div>"
      ],
      "text/plain": [
       "    Erro Real da Segunda Série\n",
       "0                 14741.315910\n",
       "1                  2373.552652\n",
       "2                   702.233292\n",
       "3                   277.321591\n",
       "4                   127.018217\n",
       "5                    62.348032\n",
       "6                    31.202007\n",
       "7                    15.389720\n",
       "8                     7.306918\n",
       "9                     3.287439\n",
       "10                    1.388543\n",
       "11                    0.548299\n",
       "12                    0.202294\n",
       "13                    0.069848\n",
       "14                    0.022630\n",
       "15                    0.006901\n",
       "16                    0.001987\n",
       "17                    0.000542\n",
       "18                    0.000140\n",
       "19                    0.000035"
      ]
     },
     "execution_count": 20,
     "metadata": {},
     "output_type": "execute_result"
    }
   ],
   "source": [
    "tabela = pd.DataFrame(erros2)\n",
    "tabela.index = [i for i in range(20)]\n",
    "tabela.columns = ['Erro Real da Segunda Série']\n",
    "tabela"
   ]
  },
  {
   "cell_type": "markdown",
   "metadata": {},
   "source": [
    "## Primeira Série"
   ]
  },
  {
   "cell_type": "markdown",
   "metadata": {},
   "source": [
    "<img src=\"primeira.png\">"
   ]
  },
  {
   "cell_type": "code",
   "execution_count": 21,
   "metadata": {},
   "outputs": [
    {
     "name": "stdout",
     "output_type": "stream",
     "text": [
      "[1.0, -4.0, 8.5, -12.333333333333332, 13.708333333333336, -12.333333333333332, 9.368055555555557, -6.132936507936506, 3.5551835317460334, -1.827105379188711, 0.8640390762786612, -0.3592084034792353, 0.15047804641988816, -0.045555203541313205, 0.02445667144483013, 0.0011193797827823496, 0.00841228342717228, 0.006267311767057594, 0.006863137228200562, 0.00670634105421557, 0.006745540097711817, 0.006736206992117472, 0.006738328152479823, 0.006737867030661921, 0.006737963097707317, 0.006737943884298238, 0.006737947579184599, 0.006737946894946384, 0.00673794701713178, 0.0067379469960653325, 0.006737946999576407, 0.0067379469990101045, 0.006737946999098589, 0.0067379469990851825, 0.006737946999087154, 0.006737946999086872, 0.006737946999086911, 0.006737946999086906, 0.006737946999086907, 0.006737946999086907, 0.006737946999086907, 0.006737946999086907, 0.006737946999086907, 0.006737946999086907, 0.006737946999086907, 0.006737946999086907, 0.006737946999086907, 0.006737946999086907, 0.006737946999086907, 0.006737946999086907]\n"
     ]
    }
   ],
   "source": [
    "euler2 = []\n",
    "x = 5\n",
    "e2 = 0\n",
    "for n in range(50):\n",
    "    e2 += ((-1)**n)*((x**n)/(math.factorial(n)))\n",
    "    euler2.append(e2)\n",
    "print(euler2)"
   ]
  },
  {
   "cell_type": "markdown",
   "metadata": {},
   "source": [
    "## Erro relativo aproximado:"
   ]
  },
  {
   "cell_type": "code",
   "execution_count": 22,
   "metadata": {},
   "outputs": [
    {
     "name": "stdout",
     "output_type": "stream",
     "text": [
      "[125.0, 147.05882352941177, 168.91891891891893, 189.96960486322186, 211.14864864864867, 231.65307635285393, 252.74991912002594, 272.5068889741531, 294.58010316430904, 311.4609662167005, 340.5397724300758, 338.71150112948305, 430.32021530410304, 286.26902538261425, 2084.8412684424416, 86.69350845732716, 34.224748023373294, 8.68153209431289, 2.3380286316698853]\n"
     ]
    }
   ],
   "source": [
    "erros3 = []\n",
    "for i in range(1,20):\n",
    "    erros3.append(math.fabs(100*((euler2[i] - euler2[i-1])/euler2[i])))\n",
    "print(erros3)"
   ]
  },
  {
   "cell_type": "markdown",
   "metadata": {},
   "source": [
    "## Erro relativo real:"
   ]
  },
  {
   "cell_type": "code",
   "execution_count": 23,
   "metadata": {},
   "outputs": [
    {
     "name": "stdout",
     "output_type": "stream",
     "text": [
      "[14741.315910257657, 59465.26364103063, 126051.18523719009, 183142.89622651107, 203349.70560311544, 183142.89622651107, 138934.27196484435, 91120.8481718381, 52663.60191358841, 27216.648133870764, 12723.476889858823, 5431.125393654627, 2133.292224475976, 776.0991671127176, 262.96918702610157, 83.38693102017155, 24.849355869288765, 6.984846157023103, 1.857987739174632, 0.46907381245635826, 0.1126915754513829, 0.025823993098086636, 0.005656817935879615, 0.0011868366367211842, 0.00023892473256474905, 4.6227541289863006e-05, 8.609434450418332e-06, 1.5455610517967051e-06, 2.678310021702658e-07, 4.482279579893965e-08, 7.286166238331416e-09, 1.1185038122487972e-09, 1.947266877037088e-10, 4.2480205554454885e-12, 2.5011830118880558e-11, 2.082817351124485e-11, 2.1407449041532872e-11, 2.1330212304161134e-11, 2.1343085093723093e-11, 2.1343085093723093e-11, 2.1343085093723093e-11, 2.1343085093723093e-11, 2.1343085093723093e-11, 2.1343085093723093e-11, 2.1343085093723093e-11, 2.1343085093723093e-11, 2.1343085093723093e-11, 2.1343085093723093e-11, 2.1343085093723093e-11, 2.1343085093723093e-11]\n"
     ]
    }
   ],
   "source": [
    "erros4 = []\n",
    "for i in range(50):\n",
    "    erros4.append(math.fabs(100*((e_real - euler2[i])/e_real)))\n",
    "print(erros4)"
   ]
  },
  {
   "cell_type": "markdown",
   "metadata": {},
   "source": [
    "Continuação do cálculo do erro relativo real:"
   ]
  },
  {
   "cell_type": "code",
   "execution_count": 24,
   "metadata": {},
   "outputs": [
    {
     "data": {
      "text/html": [
       "<div>\n",
       "<style scoped>\n",
       "    .dataframe tbody tr th:only-of-type {\n",
       "        vertical-align: middle;\n",
       "    }\n",
       "\n",
       "    .dataframe tbody tr th {\n",
       "        vertical-align: top;\n",
       "    }\n",
       "\n",
       "    .dataframe thead th {\n",
       "        text-align: right;\n",
       "    }\n",
       "</style>\n",
       "<table border=\"1\" class=\"dataframe\">\n",
       "  <thead>\n",
       "    <tr style=\"text-align: right;\">\n",
       "      <th></th>\n",
       "      <th>Erro Real, Primeira Série</th>\n",
       "    </tr>\n",
       "  </thead>\n",
       "  <tbody>\n",
       "    <tr>\n",
       "      <th>0</th>\n",
       "      <td>1.474132e+04</td>\n",
       "    </tr>\n",
       "    <tr>\n",
       "      <th>1</th>\n",
       "      <td>5.946526e+04</td>\n",
       "    </tr>\n",
       "    <tr>\n",
       "      <th>2</th>\n",
       "      <td>1.260512e+05</td>\n",
       "    </tr>\n",
       "    <tr>\n",
       "      <th>3</th>\n",
       "      <td>1.831429e+05</td>\n",
       "    </tr>\n",
       "    <tr>\n",
       "      <th>4</th>\n",
       "      <td>2.033497e+05</td>\n",
       "    </tr>\n",
       "    <tr>\n",
       "      <th>5</th>\n",
       "      <td>1.831429e+05</td>\n",
       "    </tr>\n",
       "    <tr>\n",
       "      <th>6</th>\n",
       "      <td>1.389343e+05</td>\n",
       "    </tr>\n",
       "    <tr>\n",
       "      <th>7</th>\n",
       "      <td>9.112085e+04</td>\n",
       "    </tr>\n",
       "    <tr>\n",
       "      <th>8</th>\n",
       "      <td>5.266360e+04</td>\n",
       "    </tr>\n",
       "    <tr>\n",
       "      <th>9</th>\n",
       "      <td>2.721665e+04</td>\n",
       "    </tr>\n",
       "    <tr>\n",
       "      <th>10</th>\n",
       "      <td>1.272348e+04</td>\n",
       "    </tr>\n",
       "    <tr>\n",
       "      <th>11</th>\n",
       "      <td>5.431125e+03</td>\n",
       "    </tr>\n",
       "    <tr>\n",
       "      <th>12</th>\n",
       "      <td>2.133292e+03</td>\n",
       "    </tr>\n",
       "    <tr>\n",
       "      <th>13</th>\n",
       "      <td>7.760992e+02</td>\n",
       "    </tr>\n",
       "    <tr>\n",
       "      <th>14</th>\n",
       "      <td>2.629692e+02</td>\n",
       "    </tr>\n",
       "    <tr>\n",
       "      <th>15</th>\n",
       "      <td>8.338693e+01</td>\n",
       "    </tr>\n",
       "    <tr>\n",
       "      <th>16</th>\n",
       "      <td>2.484936e+01</td>\n",
       "    </tr>\n",
       "    <tr>\n",
       "      <th>17</th>\n",
       "      <td>6.984846e+00</td>\n",
       "    </tr>\n",
       "    <tr>\n",
       "      <th>18</th>\n",
       "      <td>1.857988e+00</td>\n",
       "    </tr>\n",
       "    <tr>\n",
       "      <th>19</th>\n",
       "      <td>4.690738e-01</td>\n",
       "    </tr>\n",
       "    <tr>\n",
       "      <th>20</th>\n",
       "      <td>1.126916e-01</td>\n",
       "    </tr>\n",
       "    <tr>\n",
       "      <th>21</th>\n",
       "      <td>2.582399e-02</td>\n",
       "    </tr>\n",
       "    <tr>\n",
       "      <th>22</th>\n",
       "      <td>5.656818e-03</td>\n",
       "    </tr>\n",
       "    <tr>\n",
       "      <th>23</th>\n",
       "      <td>1.186837e-03</td>\n",
       "    </tr>\n",
       "    <tr>\n",
       "      <th>24</th>\n",
       "      <td>2.389247e-04</td>\n",
       "    </tr>\n",
       "    <tr>\n",
       "      <th>25</th>\n",
       "      <td>4.622754e-05</td>\n",
       "    </tr>\n",
       "    <tr>\n",
       "      <th>26</th>\n",
       "      <td>8.609434e-06</td>\n",
       "    </tr>\n",
       "    <tr>\n",
       "      <th>27</th>\n",
       "      <td>1.545561e-06</td>\n",
       "    </tr>\n",
       "    <tr>\n",
       "      <th>28</th>\n",
       "      <td>2.678310e-07</td>\n",
       "    </tr>\n",
       "    <tr>\n",
       "      <th>29</th>\n",
       "      <td>4.482280e-08</td>\n",
       "    </tr>\n",
       "    <tr>\n",
       "      <th>30</th>\n",
       "      <td>7.286166e-09</td>\n",
       "    </tr>\n",
       "    <tr>\n",
       "      <th>31</th>\n",
       "      <td>1.118504e-09</td>\n",
       "    </tr>\n",
       "    <tr>\n",
       "      <th>32</th>\n",
       "      <td>1.947267e-10</td>\n",
       "    </tr>\n",
       "    <tr>\n",
       "      <th>33</th>\n",
       "      <td>4.248021e-12</td>\n",
       "    </tr>\n",
       "    <tr>\n",
       "      <th>34</th>\n",
       "      <td>2.501183e-11</td>\n",
       "    </tr>\n",
       "    <tr>\n",
       "      <th>35</th>\n",
       "      <td>2.082817e-11</td>\n",
       "    </tr>\n",
       "    <tr>\n",
       "      <th>36</th>\n",
       "      <td>2.140745e-11</td>\n",
       "    </tr>\n",
       "    <tr>\n",
       "      <th>37</th>\n",
       "      <td>2.133021e-11</td>\n",
       "    </tr>\n",
       "    <tr>\n",
       "      <th>38</th>\n",
       "      <td>2.134309e-11</td>\n",
       "    </tr>\n",
       "    <tr>\n",
       "      <th>39</th>\n",
       "      <td>2.134309e-11</td>\n",
       "    </tr>\n",
       "    <tr>\n",
       "      <th>40</th>\n",
       "      <td>2.134309e-11</td>\n",
       "    </tr>\n",
       "    <tr>\n",
       "      <th>41</th>\n",
       "      <td>2.134309e-11</td>\n",
       "    </tr>\n",
       "    <tr>\n",
       "      <th>42</th>\n",
       "      <td>2.134309e-11</td>\n",
       "    </tr>\n",
       "    <tr>\n",
       "      <th>43</th>\n",
       "      <td>2.134309e-11</td>\n",
       "    </tr>\n",
       "    <tr>\n",
       "      <th>44</th>\n",
       "      <td>2.134309e-11</td>\n",
       "    </tr>\n",
       "    <tr>\n",
       "      <th>45</th>\n",
       "      <td>2.134309e-11</td>\n",
       "    </tr>\n",
       "    <tr>\n",
       "      <th>46</th>\n",
       "      <td>2.134309e-11</td>\n",
       "    </tr>\n",
       "    <tr>\n",
       "      <th>47</th>\n",
       "      <td>2.134309e-11</td>\n",
       "    </tr>\n",
       "    <tr>\n",
       "      <th>48</th>\n",
       "      <td>2.134309e-11</td>\n",
       "    </tr>\n",
       "    <tr>\n",
       "      <th>49</th>\n",
       "      <td>2.134309e-11</td>\n",
       "    </tr>\n",
       "  </tbody>\n",
       "</table>\n",
       "</div>"
      ],
      "text/plain": [
       "    Erro Real, Primeira Série\n",
       "0                1.474132e+04\n",
       "1                5.946526e+04\n",
       "2                1.260512e+05\n",
       "3                1.831429e+05\n",
       "4                2.033497e+05\n",
       "5                1.831429e+05\n",
       "6                1.389343e+05\n",
       "7                9.112085e+04\n",
       "8                5.266360e+04\n",
       "9                2.721665e+04\n",
       "10               1.272348e+04\n",
       "11               5.431125e+03\n",
       "12               2.133292e+03\n",
       "13               7.760992e+02\n",
       "14               2.629692e+02\n",
       "15               8.338693e+01\n",
       "16               2.484936e+01\n",
       "17               6.984846e+00\n",
       "18               1.857988e+00\n",
       "19               4.690738e-01\n",
       "20               1.126916e-01\n",
       "21               2.582399e-02\n",
       "22               5.656818e-03\n",
       "23               1.186837e-03\n",
       "24               2.389247e-04\n",
       "25               4.622754e-05\n",
       "26               8.609434e-06\n",
       "27               1.545561e-06\n",
       "28               2.678310e-07\n",
       "29               4.482280e-08\n",
       "30               7.286166e-09\n",
       "31               1.118504e-09\n",
       "32               1.947267e-10\n",
       "33               4.248021e-12\n",
       "34               2.501183e-11\n",
       "35               2.082817e-11\n",
       "36               2.140745e-11\n",
       "37               2.133021e-11\n",
       "38               2.134309e-11\n",
       "39               2.134309e-11\n",
       "40               2.134309e-11\n",
       "41               2.134309e-11\n",
       "42               2.134309e-11\n",
       "43               2.134309e-11\n",
       "44               2.134309e-11\n",
       "45               2.134309e-11\n",
       "46               2.134309e-11\n",
       "47               2.134309e-11\n",
       "48               2.134309e-11\n",
       "49               2.134309e-11"
      ]
     },
     "execution_count": 24,
     "metadata": {},
     "output_type": "execute_result"
    }
   ],
   "source": [
    "tabela2 = pd.DataFrame(erros4)\n",
    "tabela2.index = [i for i in range(50)]\n",
    "tabela2.columns = ['Erro Real, Primeira Série']\n",
    "tabela2"
   ]
  },
  {
   "cell_type": "markdown",
   "metadata": {},
   "source": [
    "## Segundo caso: x = 15."
   ]
  },
  {
   "cell_type": "markdown",
   "metadata": {},
   "source": [
    "## Valor real:"
   ]
  },
  {
   "cell_type": "code",
   "execution_count": 25,
   "metadata": {},
   "outputs": [
    {
     "name": "stdout",
     "output_type": "stream",
     "text": [
      "3269017.372472108\n"
     ]
    }
   ],
   "source": [
    "e_real = math.e**(15)\n",
    "print(e_real)"
   ]
  },
  {
   "cell_type": "markdown",
   "metadata": {},
   "source": [
    "## Segunda série"
   ]
  },
  {
   "cell_type": "markdown",
   "metadata": {},
   "source": [
    "<img src=\"segunda.png\">"
   ]
  },
  {
   "cell_type": "code",
   "execution_count": 26,
   "metadata": {},
   "outputs": [
    {
     "name": "stdout",
     "output_type": "stream",
     "text": [
      "[1.0, 6.0, 18.5, 39.33333333333333, 65.375, 91.41666666666667, 113.11805555555556, 128.61904761904762, 138.30716765873015, 143.68945656966488, 146.38060102513225, 147.60384850489015, 148.1135349547893, 148.3095682047505, 148.37958007973663, 148.40291737139867, 148.41021027504306, 148.41235524670316, 148.4129510721643, 148.4131078683383]\n"
     ]
    }
   ],
   "source": [
    "euler = []\n",
    "x = 5\n",
    "e = 0\n",
    "for n in range(20):\n",
    "    e += ((x**n)/(math.factorial(n)))\n",
    "    euler.append(e) \n",
    "print(euler)"
   ]
  },
  {
   "cell_type": "markdown",
   "metadata": {},
   "source": [
    "# Erro relativo aproximado:"
   ]
  },
  {
   "cell_type": "code",
   "execution_count": 27,
   "metadata": {},
   "outputs": [
    {
     "name": "stdout",
     "output_type": "stream",
     "text": [
      "[83.33333333333334, 67.56756756756756, 52.966101694915245, 39.83428935627789, 28.486782133090248, 19.1847258886365, 12.05186350734296, 7.0047852209566965, 3.7457785974193873, 1.8384570336648098, 0.8287368467343011, 0.3441187532622955, 0.13217842404514837, 0.04718430591899024, 0.015725628630089913, 0.004914017459356858, 0.0014452783641467344, 0.000401464600523576, 0.00010564846747610228]\n"
     ]
    }
   ],
   "source": [
    "erros = []\n",
    "for i in range(1,20):\n",
    "    erros.append(math.fabs(100*((euler[i] - euler[i-1])/euler[i])))\n",
    "print(erros)"
   ]
  },
  {
   "cell_type": "markdown",
   "metadata": {},
   "source": [
    "# Erro relativo real:"
   ]
  },
  {
   "cell_type": "code",
   "execution_count": 28,
   "metadata": {},
   "outputs": [
    {
     "name": "stdout",
     "output_type": "stream",
     "text": [
      "[83.33333333333334, 67.56756756756756, 52.966101694915245, 39.83428935627789, 28.486782133090248, 19.1847258886365, 12.05186350734296, 7.0047852209566965, 3.7457785974193873, 1.8384570336648098, 0.8287368467343011, 0.3441187532622955, 0.13217842404514837, 0.04718430591899024, 0.015725628630089913, 0.004914017459356858, 0.0014452783641467344, 0.000401464600523576, 0.00010564846747610228]\n"
     ]
    }
   ],
   "source": [
    "erros = []\n",
    "for i in range(1,20):\n",
    "    erros.append(math.fabs(100*((euler[i] - euler[i-1])/euler[i])))\n",
    "print(erros)"
   ]
  },
  {
   "cell_type": "code",
   "execution_count": 29,
   "metadata": {},
   "outputs": [
    {
     "name": "stdout",
     "output_type": "stream",
     "text": [
      "[99.99996940976796, 99.99981645860771, 99.99943408070708, 99.99879678420602, 99.99800016357972, 99.99720354295341, 99.9965396924315, 99.99606551348727, 99.99576915164712, 99.99560450618038, 99.995522183447, 99.99548476402273, 99.99546917259596, 99.99546317589335, 99.99546103421386, 99.99546032032069, 99.99546009722907, 99.99546003161389, 99.99546001338744, 99.99546000859102]\n"
     ]
    }
   ],
   "source": [
    "erros2 = []\n",
    "for i in range(20):\n",
    "    erros2.append(math.fabs(100*((e_real - euler[i])/e_real)))\n",
    "print(erros2)"
   ]
  },
  {
   "cell_type": "code",
   "execution_count": 30,
   "metadata": {},
   "outputs": [
    {
     "data": {
      "text/html": [
       "<div>\n",
       "<style scoped>\n",
       "    .dataframe tbody tr th:only-of-type {\n",
       "        vertical-align: middle;\n",
       "    }\n",
       "\n",
       "    .dataframe tbody tr th {\n",
       "        vertical-align: top;\n",
       "    }\n",
       "\n",
       "    .dataframe thead th {\n",
       "        text-align: right;\n",
       "    }\n",
       "</style>\n",
       "<table border=\"1\" class=\"dataframe\">\n",
       "  <thead>\n",
       "    <tr style=\"text-align: right;\">\n",
       "      <th></th>\n",
       "      <th>Erro Real da Segunda Série</th>\n",
       "    </tr>\n",
       "  </thead>\n",
       "  <tbody>\n",
       "    <tr>\n",
       "      <th>0</th>\n",
       "      <td>99.999969</td>\n",
       "    </tr>\n",
       "    <tr>\n",
       "      <th>1</th>\n",
       "      <td>99.999816</td>\n",
       "    </tr>\n",
       "    <tr>\n",
       "      <th>2</th>\n",
       "      <td>99.999434</td>\n",
       "    </tr>\n",
       "    <tr>\n",
       "      <th>3</th>\n",
       "      <td>99.998797</td>\n",
       "    </tr>\n",
       "    <tr>\n",
       "      <th>4</th>\n",
       "      <td>99.998000</td>\n",
       "    </tr>\n",
       "    <tr>\n",
       "      <th>5</th>\n",
       "      <td>99.997204</td>\n",
       "    </tr>\n",
       "    <tr>\n",
       "      <th>6</th>\n",
       "      <td>99.996540</td>\n",
       "    </tr>\n",
       "    <tr>\n",
       "      <th>7</th>\n",
       "      <td>99.996066</td>\n",
       "    </tr>\n",
       "    <tr>\n",
       "      <th>8</th>\n",
       "      <td>99.995769</td>\n",
       "    </tr>\n",
       "    <tr>\n",
       "      <th>9</th>\n",
       "      <td>99.995605</td>\n",
       "    </tr>\n",
       "    <tr>\n",
       "      <th>10</th>\n",
       "      <td>99.995522</td>\n",
       "    </tr>\n",
       "    <tr>\n",
       "      <th>11</th>\n",
       "      <td>99.995485</td>\n",
       "    </tr>\n",
       "    <tr>\n",
       "      <th>12</th>\n",
       "      <td>99.995469</td>\n",
       "    </tr>\n",
       "    <tr>\n",
       "      <th>13</th>\n",
       "      <td>99.995463</td>\n",
       "    </tr>\n",
       "    <tr>\n",
       "      <th>14</th>\n",
       "      <td>99.995461</td>\n",
       "    </tr>\n",
       "    <tr>\n",
       "      <th>15</th>\n",
       "      <td>99.995460</td>\n",
       "    </tr>\n",
       "    <tr>\n",
       "      <th>16</th>\n",
       "      <td>99.995460</td>\n",
       "    </tr>\n",
       "    <tr>\n",
       "      <th>17</th>\n",
       "      <td>99.995460</td>\n",
       "    </tr>\n",
       "    <tr>\n",
       "      <th>18</th>\n",
       "      <td>99.995460</td>\n",
       "    </tr>\n",
       "    <tr>\n",
       "      <th>19</th>\n",
       "      <td>99.995460</td>\n",
       "    </tr>\n",
       "  </tbody>\n",
       "</table>\n",
       "</div>"
      ],
      "text/plain": [
       "    Erro Real da Segunda Série\n",
       "0                    99.999969\n",
       "1                    99.999816\n",
       "2                    99.999434\n",
       "3                    99.998797\n",
       "4                    99.998000\n",
       "5                    99.997204\n",
       "6                    99.996540\n",
       "7                    99.996066\n",
       "8                    99.995769\n",
       "9                    99.995605\n",
       "10                   99.995522\n",
       "11                   99.995485\n",
       "12                   99.995469\n",
       "13                   99.995463\n",
       "14                   99.995461\n",
       "15                   99.995460\n",
       "16                   99.995460\n",
       "17                   99.995460\n",
       "18                   99.995460\n",
       "19                   99.995460"
      ]
     },
     "execution_count": 30,
     "metadata": {},
     "output_type": "execute_result"
    }
   ],
   "source": [
    "tabela = pd.DataFrame(erros2)\n",
    "tabela.index = [i for i in range(20)]\n",
    "tabela.columns = ['Erro Real da Segunda Série']\n",
    "tabela"
   ]
  },
  {
   "cell_type": "markdown",
   "metadata": {},
   "source": [
    "## Primeira série"
   ]
  },
  {
   "cell_type": "markdown",
   "metadata": {},
   "source": [
    "<img src=\"primeira.png\">"
   ]
  },
  {
   "cell_type": "markdown",
   "metadata": {},
   "source": [
    "# Erro relativo aproximado:"
   ]
  },
  {
   "cell_type": "code",
   "execution_count": 31,
   "metadata": {},
   "outputs": [
    {
     "name": "stdout",
     "output_type": "stream",
     "text": [
      "[1.0, -0.07142857142857142, 0.01015228426395939, -0.0021551724137931034, 0.0006077641874952519, -0.00021354973039346538, 8.978625260239841e-05, -4.393073378446013e-05, 2.4509414391583468e-05, -1.5351799331970567e-05, 1.0664341015108507e-05, -8.135096187987362e-06, 6.7593097627313285e-06, -6.0754736984386485e-06, 5.873080087334929e-06, -6.0754736984386485e-06, 6.6961579138911e-06, -7.833146432533822e-06, 9.692517383751013e-06, -1.264769661734982e-05, 1.735724392355375e-05, -2.4990786060280394e-05, 3.766547568879938e-05, -5.9305080625794536e-05, 9.736899842002272e-05, -0.00016641445749580942, 0.0002956120449809867, -0.0005449849306455009, 0.0010413447024339244, -0.00205972617542684, 0.004212340852866535, -0.008897414236295302, 0.01939043833790497, -0.04355915299821315, 0.10077397808019978, -0.23989793183799832, 0.5871729972833171, -1.4765196345131009, 3.811831127190681, -10.096202577031667, 27.417201782233036, -76.29363919587861, 217.3845940223324, -634.1732702351898, 1890.5782670027018, -5780.583749252461, 17889.78179661256, -58300.86138797002, 176186.81558851723, -761945.0889553917]\n"
     ]
    }
   ],
   "source": [
    "euler2 = []\n",
    "x = 15\n",
    "e2 = 0\n",
    "for n in range(50):\n",
    "    e2 += ((-1)**n)*((x**n)/(math.factorial(n)))\n",
    "    euler2.append(1/e2) \n",
    "print(euler2)"
   ]
  },
  {
   "cell_type": "markdown",
   "metadata": {},
   "source": [
    "# Erro relativo real:"
   ]
  },
  {
   "cell_type": "code",
   "execution_count": 32,
   "metadata": {},
   "outputs": [
    {
     "name": "stdout",
     "output_type": "stream",
     "text": [
      "[1500.0, 803.5714285714287, 571.0659898477157, 454.60668103448273, 384.60077489933906, 337.84234691153705, 304.3814087944031, 279.24024247411614, 259.6517376340499, 243.9545051140168, 231.09053376475055, 220.35394845849027, 211.25568306662936, 203.44612380716848, 196.66867768424817, 190.73074106922047, 185.48490662806444, 180.81642902870286, 176.63464484477782]\n"
     ]
    }
   ],
   "source": [
    "erros3 = []\n",
    "for i in range(1,20):\n",
    "    erros3.append(math.fabs(100*((euler2[i] - euler2[i-1])/euler2[i])))\n",
    "print(erros3)"
   ]
  },
  {
   "cell_type": "code",
   "execution_count": 33,
   "metadata": {},
   "outputs": [
    {
     "name": "stdout",
     "output_type": "stream",
     "text": [
      "[99.99996940976796, 100.00000218501657, 99.99999968943928, 100.00000006592724, 99.99999998140835, 100.00000000653256, 99.99999999725341, 100.00000000134386, 99.99999999925025, 100.00000000046963, 99.99999999967379, 100.00000000024885, 99.99999999979322, 100.00000000018585, 99.99999999982035, 100.00000000018585, 99.99999999979516, 100.00000000023962, 99.99999999970349, 100.00000000038689, 99.99999999946905, 100.00000000076447, 99.9999999988478, 100.00000000181417, 99.99999999702146, 100.00000000509066, 99.99999999095715, 100.00000001667122, 99.99999996814502, 100.00000006300749, 99.99999987114352, 100.00000027217398, 99.999999406842, 100.00000133248462, 99.99999691730062, 100.00000733853341, 99.99998203824177, 100.00004516707826, 99.99988339520127, 100.00030884517966, 99.99916130143531, 100.00233384012695, 99.99335015482472, 100.01939950749652, 99.94216677210336, 100.17682939827515, 99.45274742351448, 101.78343687858353, 94.61040442696454, 123.30807708064246]\n"
     ]
    }
   ],
   "source": [
    "erros4 = []\n",
    "for i in range(50):\n",
    "    erros4.append(math.fabs(100*((e_real - euler2[i])/e_real)))\n",
    "print(erros4)"
   ]
  },
  {
   "cell_type": "code",
   "execution_count": 34,
   "metadata": {
    "scrolled": false
   },
   "outputs": [
    {
     "data": {
      "text/html": [
       "<div>\n",
       "<style scoped>\n",
       "    .dataframe tbody tr th:only-of-type {\n",
       "        vertical-align: middle;\n",
       "    }\n",
       "\n",
       "    .dataframe tbody tr th {\n",
       "        vertical-align: top;\n",
       "    }\n",
       "\n",
       "    .dataframe thead th {\n",
       "        text-align: right;\n",
       "    }\n",
       "</style>\n",
       "<table border=\"1\" class=\"dataframe\">\n",
       "  <thead>\n",
       "    <tr style=\"text-align: right;\">\n",
       "      <th></th>\n",
       "      <th>Erro Real, Primeira Série</th>\n",
       "    </tr>\n",
       "  </thead>\n",
       "  <tbody>\n",
       "    <tr>\n",
       "      <th>0</th>\n",
       "      <td>99.999969</td>\n",
       "    </tr>\n",
       "    <tr>\n",
       "      <th>1</th>\n",
       "      <td>100.000002</td>\n",
       "    </tr>\n",
       "    <tr>\n",
       "      <th>2</th>\n",
       "      <td>100.000000</td>\n",
       "    </tr>\n",
       "    <tr>\n",
       "      <th>3</th>\n",
       "      <td>100.000000</td>\n",
       "    </tr>\n",
       "    <tr>\n",
       "      <th>4</th>\n",
       "      <td>100.000000</td>\n",
       "    </tr>\n",
       "    <tr>\n",
       "      <th>5</th>\n",
       "      <td>100.000000</td>\n",
       "    </tr>\n",
       "    <tr>\n",
       "      <th>6</th>\n",
       "      <td>100.000000</td>\n",
       "    </tr>\n",
       "    <tr>\n",
       "      <th>7</th>\n",
       "      <td>100.000000</td>\n",
       "    </tr>\n",
       "    <tr>\n",
       "      <th>8</th>\n",
       "      <td>100.000000</td>\n",
       "    </tr>\n",
       "    <tr>\n",
       "      <th>9</th>\n",
       "      <td>100.000000</td>\n",
       "    </tr>\n",
       "    <tr>\n",
       "      <th>10</th>\n",
       "      <td>100.000000</td>\n",
       "    </tr>\n",
       "    <tr>\n",
       "      <th>11</th>\n",
       "      <td>100.000000</td>\n",
       "    </tr>\n",
       "    <tr>\n",
       "      <th>12</th>\n",
       "      <td>100.000000</td>\n",
       "    </tr>\n",
       "    <tr>\n",
       "      <th>13</th>\n",
       "      <td>100.000000</td>\n",
       "    </tr>\n",
       "    <tr>\n",
       "      <th>14</th>\n",
       "      <td>100.000000</td>\n",
       "    </tr>\n",
       "    <tr>\n",
       "      <th>15</th>\n",
       "      <td>100.000000</td>\n",
       "    </tr>\n",
       "    <tr>\n",
       "      <th>16</th>\n",
       "      <td>100.000000</td>\n",
       "    </tr>\n",
       "    <tr>\n",
       "      <th>17</th>\n",
       "      <td>100.000000</td>\n",
       "    </tr>\n",
       "    <tr>\n",
       "      <th>18</th>\n",
       "      <td>100.000000</td>\n",
       "    </tr>\n",
       "    <tr>\n",
       "      <th>19</th>\n",
       "      <td>100.000000</td>\n",
       "    </tr>\n",
       "    <tr>\n",
       "      <th>20</th>\n",
       "      <td>100.000000</td>\n",
       "    </tr>\n",
       "    <tr>\n",
       "      <th>21</th>\n",
       "      <td>100.000000</td>\n",
       "    </tr>\n",
       "    <tr>\n",
       "      <th>22</th>\n",
       "      <td>100.000000</td>\n",
       "    </tr>\n",
       "    <tr>\n",
       "      <th>23</th>\n",
       "      <td>100.000000</td>\n",
       "    </tr>\n",
       "    <tr>\n",
       "      <th>24</th>\n",
       "      <td>100.000000</td>\n",
       "    </tr>\n",
       "    <tr>\n",
       "      <th>25</th>\n",
       "      <td>100.000000</td>\n",
       "    </tr>\n",
       "    <tr>\n",
       "      <th>26</th>\n",
       "      <td>100.000000</td>\n",
       "    </tr>\n",
       "    <tr>\n",
       "      <th>27</th>\n",
       "      <td>100.000000</td>\n",
       "    </tr>\n",
       "    <tr>\n",
       "      <th>28</th>\n",
       "      <td>100.000000</td>\n",
       "    </tr>\n",
       "    <tr>\n",
       "      <th>29</th>\n",
       "      <td>100.000000</td>\n",
       "    </tr>\n",
       "    <tr>\n",
       "      <th>30</th>\n",
       "      <td>100.000000</td>\n",
       "    </tr>\n",
       "    <tr>\n",
       "      <th>31</th>\n",
       "      <td>100.000000</td>\n",
       "    </tr>\n",
       "    <tr>\n",
       "      <th>32</th>\n",
       "      <td>99.999999</td>\n",
       "    </tr>\n",
       "    <tr>\n",
       "      <th>33</th>\n",
       "      <td>100.000001</td>\n",
       "    </tr>\n",
       "    <tr>\n",
       "      <th>34</th>\n",
       "      <td>99.999997</td>\n",
       "    </tr>\n",
       "    <tr>\n",
       "      <th>35</th>\n",
       "      <td>100.000007</td>\n",
       "    </tr>\n",
       "    <tr>\n",
       "      <th>36</th>\n",
       "      <td>99.999982</td>\n",
       "    </tr>\n",
       "    <tr>\n",
       "      <th>37</th>\n",
       "      <td>100.000045</td>\n",
       "    </tr>\n",
       "    <tr>\n",
       "      <th>38</th>\n",
       "      <td>99.999883</td>\n",
       "    </tr>\n",
       "    <tr>\n",
       "      <th>39</th>\n",
       "      <td>100.000309</td>\n",
       "    </tr>\n",
       "    <tr>\n",
       "      <th>40</th>\n",
       "      <td>99.999161</td>\n",
       "    </tr>\n",
       "    <tr>\n",
       "      <th>41</th>\n",
       "      <td>100.002334</td>\n",
       "    </tr>\n",
       "    <tr>\n",
       "      <th>42</th>\n",
       "      <td>99.993350</td>\n",
       "    </tr>\n",
       "    <tr>\n",
       "      <th>43</th>\n",
       "      <td>100.019400</td>\n",
       "    </tr>\n",
       "    <tr>\n",
       "      <th>44</th>\n",
       "      <td>99.942167</td>\n",
       "    </tr>\n",
       "    <tr>\n",
       "      <th>45</th>\n",
       "      <td>100.176829</td>\n",
       "    </tr>\n",
       "    <tr>\n",
       "      <th>46</th>\n",
       "      <td>99.452747</td>\n",
       "    </tr>\n",
       "    <tr>\n",
       "      <th>47</th>\n",
       "      <td>101.783437</td>\n",
       "    </tr>\n",
       "    <tr>\n",
       "      <th>48</th>\n",
       "      <td>94.610404</td>\n",
       "    </tr>\n",
       "    <tr>\n",
       "      <th>49</th>\n",
       "      <td>123.308077</td>\n",
       "    </tr>\n",
       "  </tbody>\n",
       "</table>\n",
       "</div>"
      ],
      "text/plain": [
       "    Erro Real, Primeira Série\n",
       "0                   99.999969\n",
       "1                  100.000002\n",
       "2                  100.000000\n",
       "3                  100.000000\n",
       "4                  100.000000\n",
       "5                  100.000000\n",
       "6                  100.000000\n",
       "7                  100.000000\n",
       "8                  100.000000\n",
       "9                  100.000000\n",
       "10                 100.000000\n",
       "11                 100.000000\n",
       "12                 100.000000\n",
       "13                 100.000000\n",
       "14                 100.000000\n",
       "15                 100.000000\n",
       "16                 100.000000\n",
       "17                 100.000000\n",
       "18                 100.000000\n",
       "19                 100.000000\n",
       "20                 100.000000\n",
       "21                 100.000000\n",
       "22                 100.000000\n",
       "23                 100.000000\n",
       "24                 100.000000\n",
       "25                 100.000000\n",
       "26                 100.000000\n",
       "27                 100.000000\n",
       "28                 100.000000\n",
       "29                 100.000000\n",
       "30                 100.000000\n",
       "31                 100.000000\n",
       "32                  99.999999\n",
       "33                 100.000001\n",
       "34                  99.999997\n",
       "35                 100.000007\n",
       "36                  99.999982\n",
       "37                 100.000045\n",
       "38                  99.999883\n",
       "39                 100.000309\n",
       "40                  99.999161\n",
       "41                 100.002334\n",
       "42                  99.993350\n",
       "43                 100.019400\n",
       "44                  99.942167\n",
       "45                 100.176829\n",
       "46                  99.452747\n",
       "47                 101.783437\n",
       "48                  94.610404\n",
       "49                 123.308077"
      ]
     },
     "execution_count": 34,
     "metadata": {},
     "output_type": "execute_result"
    }
   ],
   "source": [
    "tabela2 = pd.DataFrame(erros4)\n",
    "tabela2.index = [i for i in range(50)]\n",
    "tabela2.columns = ['Erro Real, Primeira Série']\n",
    "tabela2"
   ]
  },
  {
   "cell_type": "markdown",
   "metadata": {},
   "source": [
    "## Itens"
   ]
  },
  {
   "cell_type": "markdown",
   "metadata": {},
   "source": [
    "- Se x = 15, qual o erro se obtém para cada série com o uso de 20 termos?\n",
    "\n",
    "Para a PRIMEIRA SÉRIE, o erro relativo real é de 100.01947 e o erro relativo aproximado é de 230.4892.\n",
    "\n",
    "Para a SEGUNDA SÉRIE, o erro relativo real é de e o erro relativo aproximado é de 6.8028.\n",
    "\n",
    "\n",
    "\n",
    "- Quanto é o maior erro de x = 15 em cada série?\n",
    "\n",
    "\n",
    "\n",
    "- Quantos termos se deve usar para x = 15 ter o mesmo erro que para x = 5?\n",
    "\n",
    "\n"
   ]
  },
  {
   "cell_type": "markdown",
   "metadata": {},
   "source": [
    "## Comentário\n"
   ]
  },
  {
   "cell_type": "markdown",
   "metadata": {},
   "source": [
    "Na solução de problemas de engenharia, é necessário sempre escolher o método mais apropriado para minimizar os erros."
   ]
  },
  {
   "cell_type": "markdown",
   "metadata": {},
   "source": [
    "Observando a tabela, é possível concluir que a primeira série precisa de 27 iterações para que seu erro seja menor que o erro \n",
    "do vigésimo termo da segunda série."
   ]
  },
  {
   "cell_type": "markdown",
   "metadata": {},
   "source": [
    "Assim, a resposta da segunda pergunta é que o número de termos é 27 (pois zero é um termo), no vigésimo sexto termo o erro se torna \n",
    "menor que 0,000035."
   ]
  },
  {
   "cell_type": "markdown",
   "metadata": {},
   "source": [
    "Conforme observado na leitura do capítulo 3, já era esperado que o erro da primeira série fosse maior, pois a subtração\n",
    "de números parecidos acarreta mais erros que a soma de números parecidos."
   ]
  },
  {
   "cell_type": "markdown",
   "metadata": {},
   "source": [
    "Sendo assim, a segunda série é mais adequada do ponto de vista dos erros."
   ]
  }
 ],
 "metadata": {
  "kernelspec": {
   "display_name": "Python 3",
   "language": "python",
   "name": "python3"
  },
  "language_info": {
   "codemirror_mode": {
    "name": "ipython",
    "version": 3
   },
   "file_extension": ".py",
   "mimetype": "text/x-python",
   "name": "python",
   "nbconvert_exporter": "python",
   "pygments_lexer": "ipython3",
   "version": "3.6.4"
  }
 },
 "nbformat": 4,
 "nbformat_minor": 1
}
