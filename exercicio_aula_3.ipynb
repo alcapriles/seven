{
 "cells": [
  {
   "cell_type": "markdown",
   "metadata": {
    "collapsed": true
   },
   "source": [
    "## Exercício Aula 3: Erros (Parte 1)"
   ]
  },
  {
   "cell_type": "code",
   "execution_count": 1,
   "metadata": {},
   "outputs": [],
   "source": [
    "import math\n",
    "import matplotlib.pyplot as plt\n",
    "import numpy as np\n",
    "import pandas as pd\n",
    "%matplotlib inline"
   ]
  },
  {
   "cell_type": "markdown",
   "metadata": {},
   "source": [
    "## Serão usadas duas séries matemáticas para calcular e^-5 e após, e^-15."
   ]
  },
  {
   "cell_type": "markdown",
   "metadata": {},
   "source": [
    "## Abaixo estão calculados os erros para x = 5 e para x = 15, com 20 termos para cada cálculo."
   ]
  },
  {
   "cell_type": "markdown",
   "metadata": {},
   "source": [
    "- Quantos termos são necessários para que a primeira série tenha o mesmo erro real que a segunda série tem com 20 termos?\n",
    "- Se x = 15, qual o erro se obtém para cada série com o uso de 20 termos?\n",
    "- Quanto é o maior erro de x = 15 em cada série?\n",
    "- Quantos termos se deve usar para x = 15 ter o mesmo erro que para x = 5?"
   ]
  },
  {
   "cell_type": "markdown",
   "metadata": {},
   "source": [
    "O valor real que queremos calcular corresponde a:"
   ]
  },
  {
   "cell_type": "markdown",
   "metadata": {},
   "source": [
    "## Valor real:"
   ]
  },
  {
   "cell_type": "code",
   "execution_count": 2,
   "metadata": {},
   "outputs": [
    {
     "name": "stdout",
     "output_type": "stream",
     "text": [
      "0.006737946999085469\n"
     ]
    }
   ],
   "source": [
    "e_real = math.e**(-5)\n",
    "print(e_real)"
   ]
  },
  {
   "cell_type": "markdown",
   "metadata": {},
   "source": [
    "# Primeiro caso: x = 5."
   ]
  },
  {
   "cell_type": "markdown",
   "metadata": {},
   "source": [
    "## Segunda Série"
   ]
  },
  {
   "cell_type": "markdown",
   "metadata": {},
   "source": [
    "<img src=\"segunda.png\">"
   ]
  },
  {
   "cell_type": "code",
   "execution_count": 3,
   "metadata": {},
   "outputs": [
    {
     "name": "stdout",
     "output_type": "stream",
     "text": [
      "[1.0, 0.16666666666666666, 0.05405405405405406, 0.025423728813559324, 0.015296367112810707, 0.010938924339106653, 0.008840321689483701, 0.00777489818585709, 0.007230283266789742, 0.006959452863649537, 0.006831506312973185, 0.006774891102970596, 0.006751577432172176, 0.006742653303524142, 0.006739471829362351, 0.006738412005050836, 0.006738080878308424, 0.006737983494283331, 0.006737956443664812, 0.00673794932511709]\n"
     ]
    }
   ],
   "source": [
    "euler = []\n",
    "x = 5\n",
    "e = 0\n",
    "for n in range(20):\n",
    "    e += ((x**n)/(math.factorial(n)))\n",
    "    euler.append(1/e) \n",
    "print(euler)"
   ]
  },
  {
   "cell_type": "markdown",
   "metadata": {},
   "source": [
    "# Valor final: 0.00673794"
   ]
  },
  {
   "cell_type": "markdown",
   "metadata": {},
   "source": [
    "# Erro relativo aproximado:"
   ]
  },
  {
   "cell_type": "code",
   "execution_count": 4,
   "metadata": {},
   "outputs": [
    {
     "name": "stdout",
     "output_type": "stream",
     "text": [
      "[500.0000000000001, 208.33333333333331, 112.61261261261262, 66.20762711864408, 39.83428935627789, 23.738985110908523, 13.703375634740365, 7.532414692089345, 3.8915473449759306, 1.8728892987096952, 0.8356622880294621, 0.3453070194726347, 0.13235336663935116, 0.047206580016109514, 0.01572810197299871, 0.004914258946902831, 0.0014452992527470008, 0.0004014662122671457, 0.00010564857908971307]\n"
     ]
    }
   ],
   "source": [
    "erros = []\n",
    "for i in range(1,20):\n",
    "    erros.append(math.fabs(100*((euler[i] - euler[i-1])/euler[i])))\n",
    "print(erros)"
   ]
  },
  {
   "cell_type": "markdown",
   "metadata": {},
   "source": [
    "# Valor final, erro relativo aproximado: 0.000105648 %"
   ]
  },
  {
   "cell_type": "markdown",
   "metadata": {},
   "source": [
    "# Erro relativo real:"
   ]
  },
  {
   "cell_type": "code",
   "execution_count": 5,
   "metadata": {},
   "outputs": [
    {
     "name": "stdout",
     "output_type": "stream",
     "text": [
      "[14741.315910257657, 2373.552651709609, 702.2332924463599, 277.321590938754, 127.01821660049953, 62.3480318350883, 31.2020069419303, 15.38972014639422, 7.306918083076303, 3.287438511970083, 1.3885433337545523, 0.5482991167805563, 0.20229356343344462, 0.06984775094419694, 0.02263048784873308, 0.006901300432164935, 0.0019869438416965936, 0.0005416367606775383, 0.00014016998567526045, 3.452137011421034e-05]\n"
     ]
    }
   ],
   "source": [
    "erros2 = []\n",
    "for i in range(20):\n",
    "    erros2.append(math.fabs(100*((e_real - euler[i])/e_real)))\n",
    "print(erros2)"
   ]
  },
  {
   "cell_type": "markdown",
   "metadata": {},
   "source": [
    "# Valor final, erro relativo real: 3.45213  *   10^(-5) %"
   ]
  },
  {
   "cell_type": "code",
   "execution_count": 6,
   "metadata": {
    "scrolled": true
   },
   "outputs": [
    {
     "data": {
      "text/html": [
       "<div>\n",
       "<style scoped>\n",
       "    .dataframe tbody tr th:only-of-type {\n",
       "        vertical-align: middle;\n",
       "    }\n",
       "\n",
       "    .dataframe tbody tr th {\n",
       "        vertical-align: top;\n",
       "    }\n",
       "\n",
       "    .dataframe thead th {\n",
       "        text-align: right;\n",
       "    }\n",
       "</style>\n",
       "<table border=\"1\" class=\"dataframe\">\n",
       "  <thead>\n",
       "    <tr style=\"text-align: right;\">\n",
       "      <th></th>\n",
       "      <th>Erro Real da Segunda Série</th>\n",
       "    </tr>\n",
       "  </thead>\n",
       "  <tbody>\n",
       "    <tr>\n",
       "      <th>0</th>\n",
       "      <td>14741.315910</td>\n",
       "    </tr>\n",
       "    <tr>\n",
       "      <th>1</th>\n",
       "      <td>2373.552652</td>\n",
       "    </tr>\n",
       "    <tr>\n",
       "      <th>2</th>\n",
       "      <td>702.233292</td>\n",
       "    </tr>\n",
       "    <tr>\n",
       "      <th>3</th>\n",
       "      <td>277.321591</td>\n",
       "    </tr>\n",
       "    <tr>\n",
       "      <th>4</th>\n",
       "      <td>127.018217</td>\n",
       "    </tr>\n",
       "    <tr>\n",
       "      <th>5</th>\n",
       "      <td>62.348032</td>\n",
       "    </tr>\n",
       "    <tr>\n",
       "      <th>6</th>\n",
       "      <td>31.202007</td>\n",
       "    </tr>\n",
       "    <tr>\n",
       "      <th>7</th>\n",
       "      <td>15.389720</td>\n",
       "    </tr>\n",
       "    <tr>\n",
       "      <th>8</th>\n",
       "      <td>7.306918</td>\n",
       "    </tr>\n",
       "    <tr>\n",
       "      <th>9</th>\n",
       "      <td>3.287439</td>\n",
       "    </tr>\n",
       "    <tr>\n",
       "      <th>10</th>\n",
       "      <td>1.388543</td>\n",
       "    </tr>\n",
       "    <tr>\n",
       "      <th>11</th>\n",
       "      <td>0.548299</td>\n",
       "    </tr>\n",
       "    <tr>\n",
       "      <th>12</th>\n",
       "      <td>0.202294</td>\n",
       "    </tr>\n",
       "    <tr>\n",
       "      <th>13</th>\n",
       "      <td>0.069848</td>\n",
       "    </tr>\n",
       "    <tr>\n",
       "      <th>14</th>\n",
       "      <td>0.022630</td>\n",
       "    </tr>\n",
       "    <tr>\n",
       "      <th>15</th>\n",
       "      <td>0.006901</td>\n",
       "    </tr>\n",
       "    <tr>\n",
       "      <th>16</th>\n",
       "      <td>0.001987</td>\n",
       "    </tr>\n",
       "    <tr>\n",
       "      <th>17</th>\n",
       "      <td>0.000542</td>\n",
       "    </tr>\n",
       "    <tr>\n",
       "      <th>18</th>\n",
       "      <td>0.000140</td>\n",
       "    </tr>\n",
       "    <tr>\n",
       "      <th>19</th>\n",
       "      <td>0.000035</td>\n",
       "    </tr>\n",
       "  </tbody>\n",
       "</table>\n",
       "</div>"
      ],
      "text/plain": [
       "    Erro Real da Segunda Série\n",
       "0                 14741.315910\n",
       "1                  2373.552652\n",
       "2                   702.233292\n",
       "3                   277.321591\n",
       "4                   127.018217\n",
       "5                    62.348032\n",
       "6                    31.202007\n",
       "7                    15.389720\n",
       "8                     7.306918\n",
       "9                     3.287439\n",
       "10                    1.388543\n",
       "11                    0.548299\n",
       "12                    0.202294\n",
       "13                    0.069848\n",
       "14                    0.022630\n",
       "15                    0.006901\n",
       "16                    0.001987\n",
       "17                    0.000542\n",
       "18                    0.000140\n",
       "19                    0.000035"
      ]
     },
     "execution_count": 6,
     "metadata": {},
     "output_type": "execute_result"
    }
   ],
   "source": [
    "tabela = pd.DataFrame(erros2)\n",
    "tabela.index = [i for i in range(20)]\n",
    "tabela.columns = ['Erro Real da Segunda Série']\n",
    "tabela"
   ]
  },
  {
   "cell_type": "markdown",
   "metadata": {},
   "source": [
    "## Primeira Série"
   ]
  },
  {
   "cell_type": "markdown",
   "metadata": {},
   "source": [
    "<img src=\"primeira.png\">"
   ]
  },
  {
   "cell_type": "code",
   "execution_count": 7,
   "metadata": {},
   "outputs": [
    {
     "name": "stdout",
     "output_type": "stream",
     "text": [
      "[1.0, -4.0, 8.5, -12.333333333333332, 13.708333333333336, -12.333333333333332, 9.368055555555557, -6.132936507936506, 3.5551835317460334, -1.827105379188711, 0.8640390762786612, -0.3592084034792353, 0.15047804641988816, -0.045555203541313205, 0.02445667144483013, 0.0011193797827823496, 0.00841228342717228, 0.006267311767057594, 0.006863137228200562, 0.00670634105421557]\n"
     ]
    }
   ],
   "source": [
    "euler2 = []\n",
    "x = 5\n",
    "e2 = 0\n",
    "for n in range(20):\n",
    "    e2 += ((-1)**n)*((x**n)/(math.factorial(n)))\n",
    "    euler2.append(e2)\n",
    "print(euler2)"
   ]
  },
  {
   "cell_type": "markdown",
   "metadata": {},
   "source": [
    "# Valor final: 0.00670634"
   ]
  },
  {
   "cell_type": "markdown",
   "metadata": {},
   "source": [
    "## Erro relativo aproximado:"
   ]
  },
  {
   "cell_type": "code",
   "execution_count": 8,
   "metadata": {},
   "outputs": [
    {
     "name": "stdout",
     "output_type": "stream",
     "text": [
      "[125.0, 147.05882352941177, 168.91891891891893, 189.96960486322186, 211.14864864864867, 231.65307635285393, 252.74991912002594, 272.5068889741531, 294.58010316430904, 311.4609662167005, 340.5397724300758, 338.71150112948305, 430.32021530410304, 286.26902538261425, 2084.8412684424416, 86.69350845732716, 34.224748023373294, 8.68153209431289, 2.3380286316698853]\n"
     ]
    }
   ],
   "source": [
    "erros3 = []\n",
    "for i in range(1,20):\n",
    "    erros3.append(math.fabs(100*((euler2[i] - euler2[i-1])/euler2[i])))\n",
    "print(erros3)"
   ]
  },
  {
   "cell_type": "markdown",
   "metadata": {},
   "source": [
    "# Valor final, erro relativo aproximado: 2.33802 %"
   ]
  },
  {
   "cell_type": "markdown",
   "metadata": {},
   "source": [
    "## Erro relativo real:"
   ]
  },
  {
   "cell_type": "code",
   "execution_count": 9,
   "metadata": {},
   "outputs": [
    {
     "name": "stdout",
     "output_type": "stream",
     "text": [
      "[14741.315910257657, 59465.26364103063, 126051.18523719009, 183142.89622651107, 203349.70560311544, 183142.89622651107, 138934.27196484435, 91120.8481718381, 52663.60191358841, 27216.648133870764, 12723.476889858823, 5431.125393654627, 2133.292224475976, 776.0991671127176, 262.96918702610157, 83.38693102017155, 24.849355869288765, 6.984846157023103, 1.857987739174632, 0.46907381245635826]\n"
     ]
    }
   ],
   "source": [
    "erros4 = []\n",
    "for i in range(20):\n",
    "    erros4.append(math.fabs(100*((e_real - euler2[i])/e_real)))\n",
    "print(erros4)"
   ]
  },
  {
   "cell_type": "markdown",
   "metadata": {},
   "source": [
    "# Valor final, erro relativo real: 0.469073 %"
   ]
  },
  {
   "cell_type": "markdown",
   "metadata": {},
   "source": [
    "Tabela:"
   ]
  },
  {
   "cell_type": "code",
   "execution_count": 10,
   "metadata": {
    "scrolled": true
   },
   "outputs": [
    {
     "data": {
      "text/html": [
       "<div>\n",
       "<style scoped>\n",
       "    .dataframe tbody tr th:only-of-type {\n",
       "        vertical-align: middle;\n",
       "    }\n",
       "\n",
       "    .dataframe tbody tr th {\n",
       "        vertical-align: top;\n",
       "    }\n",
       "\n",
       "    .dataframe thead th {\n",
       "        text-align: right;\n",
       "    }\n",
       "</style>\n",
       "<table border=\"1\" class=\"dataframe\">\n",
       "  <thead>\n",
       "    <tr style=\"text-align: right;\">\n",
       "      <th></th>\n",
       "      <th>Erro Real, Primeira Série</th>\n",
       "    </tr>\n",
       "  </thead>\n",
       "  <tbody>\n",
       "    <tr>\n",
       "      <th>0</th>\n",
       "      <td>14741.315910</td>\n",
       "    </tr>\n",
       "    <tr>\n",
       "      <th>1</th>\n",
       "      <td>59465.263641</td>\n",
       "    </tr>\n",
       "    <tr>\n",
       "      <th>2</th>\n",
       "      <td>126051.185237</td>\n",
       "    </tr>\n",
       "    <tr>\n",
       "      <th>3</th>\n",
       "      <td>183142.896227</td>\n",
       "    </tr>\n",
       "    <tr>\n",
       "      <th>4</th>\n",
       "      <td>203349.705603</td>\n",
       "    </tr>\n",
       "    <tr>\n",
       "      <th>5</th>\n",
       "      <td>183142.896227</td>\n",
       "    </tr>\n",
       "    <tr>\n",
       "      <th>6</th>\n",
       "      <td>138934.271965</td>\n",
       "    </tr>\n",
       "    <tr>\n",
       "      <th>7</th>\n",
       "      <td>91120.848172</td>\n",
       "    </tr>\n",
       "    <tr>\n",
       "      <th>8</th>\n",
       "      <td>52663.601914</td>\n",
       "    </tr>\n",
       "    <tr>\n",
       "      <th>9</th>\n",
       "      <td>27216.648134</td>\n",
       "    </tr>\n",
       "    <tr>\n",
       "      <th>10</th>\n",
       "      <td>12723.476890</td>\n",
       "    </tr>\n",
       "    <tr>\n",
       "      <th>11</th>\n",
       "      <td>5431.125394</td>\n",
       "    </tr>\n",
       "    <tr>\n",
       "      <th>12</th>\n",
       "      <td>2133.292224</td>\n",
       "    </tr>\n",
       "    <tr>\n",
       "      <th>13</th>\n",
       "      <td>776.099167</td>\n",
       "    </tr>\n",
       "    <tr>\n",
       "      <th>14</th>\n",
       "      <td>262.969187</td>\n",
       "    </tr>\n",
       "    <tr>\n",
       "      <th>15</th>\n",
       "      <td>83.386931</td>\n",
       "    </tr>\n",
       "    <tr>\n",
       "      <th>16</th>\n",
       "      <td>24.849356</td>\n",
       "    </tr>\n",
       "    <tr>\n",
       "      <th>17</th>\n",
       "      <td>6.984846</td>\n",
       "    </tr>\n",
       "    <tr>\n",
       "      <th>18</th>\n",
       "      <td>1.857988</td>\n",
       "    </tr>\n",
       "    <tr>\n",
       "      <th>19</th>\n",
       "      <td>0.469074</td>\n",
       "    </tr>\n",
       "  </tbody>\n",
       "</table>\n",
       "</div>"
      ],
      "text/plain": [
       "    Erro Real, Primeira Série\n",
       "0                14741.315910\n",
       "1                59465.263641\n",
       "2               126051.185237\n",
       "3               183142.896227\n",
       "4               203349.705603\n",
       "5               183142.896227\n",
       "6               138934.271965\n",
       "7                91120.848172\n",
       "8                52663.601914\n",
       "9                27216.648134\n",
       "10               12723.476890\n",
       "11                5431.125394\n",
       "12                2133.292224\n",
       "13                 776.099167\n",
       "14                 262.969187\n",
       "15                  83.386931\n",
       "16                  24.849356\n",
       "17                   6.984846\n",
       "18                   1.857988\n",
       "19                   0.469074"
      ]
     },
     "execution_count": 10,
     "metadata": {},
     "output_type": "execute_result"
    }
   ],
   "source": [
    "tabela2 = pd.DataFrame(erros4)\n",
    "tabela2.index = [i for i in range(20)]\n",
    "tabela2.columns = ['Erro Real, Primeira Série']\n",
    "tabela2"
   ]
  },
  {
   "cell_type": "markdown",
   "metadata": {},
   "source": [
    "# Segundo caso: x = -15."
   ]
  },
  {
   "cell_type": "markdown",
   "metadata": {},
   "source": [
    "## Valor real:"
   ]
  },
  {
   "cell_type": "code",
   "execution_count": 21,
   "metadata": {},
   "outputs": [
    {
     "name": "stdout",
     "output_type": "stream",
     "text": [
      "3.0590232050182605e-07\n"
     ]
    }
   ],
   "source": [
    "e_real = math.e**(-15)\n",
    "print(e_real)"
   ]
  },
  {
   "cell_type": "markdown",
   "metadata": {},
   "source": [
    "## Segunda série"
   ]
  },
  {
   "cell_type": "markdown",
   "metadata": {},
   "source": [
    "<img src=\"segunda.png\">"
   ]
  },
  {
   "cell_type": "code",
   "execution_count": 12,
   "metadata": {},
   "outputs": [
    {
     "name": "stdout",
     "output_type": "stream",
     "text": [
      "[1.0, 0.0625, 0.007782101167315175, 0.001447178002894356, 0.0003570950319153685, 0.00010954702305964835, 4.008206803430023e-05, 1.6992502968377863e-05, 8.169051146748333e-06, 4.379188111818033e-06, 2.5822296886766046e-06, 1.655747452084087e-06, 1.1430856068369827e-06, 8.422006985726527e-07, 6.56930922327535e-07, 5.384755039275977e-07, 4.6061080266800617e-07, 4.08491347205405e-07, 3.7329210533984565e-07, 3.495152592196633e-07]\n"
     ]
    }
   ],
   "source": [
    "euler = []\n",
    "x = 15\n",
    "e = 0\n",
    "for n in range(20):\n",
    "    e += ((x**n)/(math.factorial(n)))\n",
    "    euler.append(1/e) \n",
    "print(euler)"
   ]
  },
  {
   "cell_type": "markdown",
   "metadata": {},
   "source": [
    "# Valor final: 3.49515 * 10^(-7)"
   ]
  },
  {
   "cell_type": "markdown",
   "metadata": {},
   "source": [
    "# Erro relativo aproximado:"
   ]
  },
  {
   "cell_type": "code",
   "execution_count": 13,
   "metadata": {},
   "outputs": [
    {
     "name": "stdout",
     "output_type": "stream",
     "text": [
      "[1500.0, 703.125, 437.74319066147865, 305.26410998552814, 225.97419988394415, 173.30681382483428, 135.88089470333364, 108.01073053804637, 86.54259506922453, 69.5894106950018, 55.955528448880045, 44.84894588653637, 35.72603404084853, 28.202322336829383, 21.998292872365187, 16.904662419677116, 12.75901088705155, 9.429409666597133, 6.802806313311509]\n"
     ]
    }
   ],
   "source": [
    "erros = []\n",
    "for i in range(1,20):\n",
    "    erros.append(math.fabs(100*((euler[i] - euler[i-1])/euler[i])))\n",
    "print(erros)"
   ]
  },
  {
   "cell_type": "markdown",
   "metadata": {},
   "source": [
    "# Valor final, erro relativo aproximado: 6.80280 %"
   ]
  },
  {
   "cell_type": "markdown",
   "metadata": {},
   "source": [
    "# Erro relativo real:"
   ]
  },
  {
   "cell_type": "code",
   "execution_count": 14,
   "metadata": {},
   "outputs": [
    {
     "name": "stdout",
     "output_type": "stream",
     "text": [
      "[326901637.2472108, 20431258.577950675, 2543882.3910288773, 472985.003252114, 116634.98629548214, 35711.11214845931, 13002.897672873642, 5454.878740541109, 2570.4770115333495, 1331.5642014856478, 744.1353711997062, 441.26671852893094, 273.6766706972918, 175.31687147421468, 114.75185976028368, 76.02857769899897, 50.57447158700341, 33.53653105190046, 22.02983773626435, 14.257145433317142]\n"
     ]
    }
   ],
   "source": [
    "erros2 = []\n",
    "for i in range(20):\n",
    "    erros2.append(math.fabs(100*((e_real - euler[i])/e_real)))\n",
    "print(erros2)"
   ]
  },
  {
   "cell_type": "markdown",
   "metadata": {},
   "source": [
    "# Valor final, erro relativo real: 14.2571 %"
   ]
  },
  {
   "cell_type": "code",
   "execution_count": 15,
   "metadata": {
    "scrolled": true
   },
   "outputs": [
    {
     "data": {
      "text/html": [
       "<div>\n",
       "<style scoped>\n",
       "    .dataframe tbody tr th:only-of-type {\n",
       "        vertical-align: middle;\n",
       "    }\n",
       "\n",
       "    .dataframe tbody tr th {\n",
       "        vertical-align: top;\n",
       "    }\n",
       "\n",
       "    .dataframe thead th {\n",
       "        text-align: right;\n",
       "    }\n",
       "</style>\n",
       "<table border=\"1\" class=\"dataframe\">\n",
       "  <thead>\n",
       "    <tr style=\"text-align: right;\">\n",
       "      <th></th>\n",
       "      <th>Erro Real da Segunda Série</th>\n",
       "    </tr>\n",
       "  </thead>\n",
       "  <tbody>\n",
       "    <tr>\n",
       "      <th>0</th>\n",
       "      <td>3.269016e+08</td>\n",
       "    </tr>\n",
       "    <tr>\n",
       "      <th>1</th>\n",
       "      <td>2.043126e+07</td>\n",
       "    </tr>\n",
       "    <tr>\n",
       "      <th>2</th>\n",
       "      <td>2.543882e+06</td>\n",
       "    </tr>\n",
       "    <tr>\n",
       "      <th>3</th>\n",
       "      <td>4.729850e+05</td>\n",
       "    </tr>\n",
       "    <tr>\n",
       "      <th>4</th>\n",
       "      <td>1.166350e+05</td>\n",
       "    </tr>\n",
       "    <tr>\n",
       "      <th>5</th>\n",
       "      <td>3.571111e+04</td>\n",
       "    </tr>\n",
       "    <tr>\n",
       "      <th>6</th>\n",
       "      <td>1.300290e+04</td>\n",
       "    </tr>\n",
       "    <tr>\n",
       "      <th>7</th>\n",
       "      <td>5.454879e+03</td>\n",
       "    </tr>\n",
       "    <tr>\n",
       "      <th>8</th>\n",
       "      <td>2.570477e+03</td>\n",
       "    </tr>\n",
       "    <tr>\n",
       "      <th>9</th>\n",
       "      <td>1.331564e+03</td>\n",
       "    </tr>\n",
       "    <tr>\n",
       "      <th>10</th>\n",
       "      <td>7.441354e+02</td>\n",
       "    </tr>\n",
       "    <tr>\n",
       "      <th>11</th>\n",
       "      <td>4.412667e+02</td>\n",
       "    </tr>\n",
       "    <tr>\n",
       "      <th>12</th>\n",
       "      <td>2.736767e+02</td>\n",
       "    </tr>\n",
       "    <tr>\n",
       "      <th>13</th>\n",
       "      <td>1.753169e+02</td>\n",
       "    </tr>\n",
       "    <tr>\n",
       "      <th>14</th>\n",
       "      <td>1.147519e+02</td>\n",
       "    </tr>\n",
       "    <tr>\n",
       "      <th>15</th>\n",
       "      <td>7.602858e+01</td>\n",
       "    </tr>\n",
       "    <tr>\n",
       "      <th>16</th>\n",
       "      <td>5.057447e+01</td>\n",
       "    </tr>\n",
       "    <tr>\n",
       "      <th>17</th>\n",
       "      <td>3.353653e+01</td>\n",
       "    </tr>\n",
       "    <tr>\n",
       "      <th>18</th>\n",
       "      <td>2.202984e+01</td>\n",
       "    </tr>\n",
       "    <tr>\n",
       "      <th>19</th>\n",
       "      <td>1.425715e+01</td>\n",
       "    </tr>\n",
       "  </tbody>\n",
       "</table>\n",
       "</div>"
      ],
      "text/plain": [
       "    Erro Real da Segunda Série\n",
       "0                 3.269016e+08\n",
       "1                 2.043126e+07\n",
       "2                 2.543882e+06\n",
       "3                 4.729850e+05\n",
       "4                 1.166350e+05\n",
       "5                 3.571111e+04\n",
       "6                 1.300290e+04\n",
       "7                 5.454879e+03\n",
       "8                 2.570477e+03\n",
       "9                 1.331564e+03\n",
       "10                7.441354e+02\n",
       "11                4.412667e+02\n",
       "12                2.736767e+02\n",
       "13                1.753169e+02\n",
       "14                1.147519e+02\n",
       "15                7.602858e+01\n",
       "16                5.057447e+01\n",
       "17                3.353653e+01\n",
       "18                2.202984e+01\n",
       "19                1.425715e+01"
      ]
     },
     "execution_count": 15,
     "metadata": {},
     "output_type": "execute_result"
    }
   ],
   "source": [
    "tabela = pd.DataFrame(erros2)\n",
    "tabela.index = [i for i in range(20)]\n",
    "tabela.columns = ['Erro Real da Segunda Série']\n",
    "tabela"
   ]
  },
  {
   "cell_type": "markdown",
   "metadata": {},
   "source": [
    "## Primeira série"
   ]
  },
  {
   "cell_type": "markdown",
   "metadata": {},
   "source": [
    "<img src=\"primeira.png\">"
   ]
  },
  {
   "cell_type": "code",
   "execution_count": 26,
   "metadata": {},
   "outputs": [
    {
     "name": "stdout",
     "output_type": "stream",
     "text": [
      "[1.0, -14.0, 98.5, -464.0, 1645.375, -4682.75, 11137.5625, -22763.107142857145, 40800.6484375, -65138.944196428565, 93770.4447544643, -122924.17654220779, 147944.1000786323, -164596.2190992601, 170268.4085913389, -164596.2190992601, 149339.3693606765, -127662.62045691459, 103172.37105774466, -79065.78013803897]\n"
     ]
    }
   ],
   "source": [
    "euler2 = []\n",
    "x = 15\n",
    "e2 = 0\n",
    "for n in range(20):\n",
    "    e2 += ((-1)**n)*((x**n)/(math.factorial(n)))\n",
    "    euler2.append(e2)\n",
    "print(euler2)"
   ]
  },
  {
   "cell_type": "markdown",
   "metadata": {},
   "source": [
    "# Valor final: -79065.7"
   ]
  },
  {
   "cell_type": "markdown",
   "metadata": {},
   "source": [
    "# Erro relativo aproximado:"
   ]
  },
  {
   "cell_type": "code",
   "execution_count": 17,
   "metadata": {},
   "outputs": [
    {
     "name": "stdout",
     "output_type": "stream",
     "text": [
      "[1.0, -14.0, 98.5, -464.0, 1645.375, -4682.75, 11137.5625, -22763.107142857145, 40800.6484375, -65138.944196428565, 93770.4447544643, -122924.17654220779, 147944.1000786323, -164596.2190992601, 170268.4085913389, -164596.2190992601, 149339.3693606765, -127662.62045691459, 103172.37105774466, -79065.78013803897]\n"
     ]
    }
   ],
   "source": [
    "euler2 = []\n",
    "x = 15\n",
    "e2 = 0\n",
    "for n in range(20):\n",
    "    e2 += ((-1)**n)*((x**n)/(math.factorial(n)))\n",
    "    euler2.append(e2)\n",
    "print(euler2)"
   ]
  },
  {
   "cell_type": "markdown",
   "metadata": {},
   "source": [
    "# Valor final, erro relativo aproximado: -79065.7 %"
   ]
  },
  {
   "cell_type": "markdown",
   "metadata": {},
   "source": [
    "# Erro relativo real:"
   ]
  },
  {
   "cell_type": "code",
   "execution_count": 18,
   "metadata": {},
   "outputs": [
    {
     "name": "stdout",
     "output_type": "stream",
     "text": [
      "[107.14285714285714, 114.21319796954315, 121.22844827586208, 128.20025829977968, 135.1369387646148, 142.0446574373881, 148.9281293195286, 155.79104258042992, 162.63633674267783, 169.46639142748376, 176.28315876679218, 183.08825865774543, 189.88304888669057, 196.66867768424817, 203.44612380716848, 210.2162275118064, 216.9797148344434, 223.73721680338522, 230.48928484309977]\n"
     ]
    }
   ],
   "source": [
    "erros3 = []\n",
    "for i in range(1,20):\n",
    "    erros3.append(math.fabs(100*((euler2[i] - euler2[i-1])/euler2[i])))\n",
    "print(erros3)"
   ]
  },
  {
   "cell_type": "markdown",
   "metadata": {},
   "source": [
    "# Valor final, erro relativo real: 230.489 %"
   ]
  },
  {
   "cell_type": "code",
   "execution_count": 19,
   "metadata": {},
   "outputs": [
    {
     "name": "stdout",
     "output_type": "stream",
     "text": [
      "[326901637.2472108, 4576624421.460951, 32199821018.85026, 151682406182.7058, 537875945823.12946, 1530799110194.3762, 3640888529849.388, 7441299270244.394, 13337802854931.445, 21294034020361.617, 30653721292577.984, 40184126861430.56, 48363183331080.11, 53806789967970.664, 55661038566726.6, 53806789967970.664, 48819299283308.02, 41733132408996.69, 33727227334590.582, 25846740884030.95]\n"
     ]
    }
   ],
   "source": [
    "erros4 = []\n",
    "for i in range(20):\n",
    "    erros4.append(math.fabs(100*((e_real - euler2[i])/e_real)))\n",
    "print(erros4)"
   ]
  },
  {
   "cell_type": "code",
   "execution_count": 20,
   "metadata": {
    "scrolled": true
   },
   "outputs": [
    {
     "data": {
      "text/html": [
       "<div>\n",
       "<style scoped>\n",
       "    .dataframe tbody tr th:only-of-type {\n",
       "        vertical-align: middle;\n",
       "    }\n",
       "\n",
       "    .dataframe tbody tr th {\n",
       "        vertical-align: top;\n",
       "    }\n",
       "\n",
       "    .dataframe thead th {\n",
       "        text-align: right;\n",
       "    }\n",
       "</style>\n",
       "<table border=\"1\" class=\"dataframe\">\n",
       "  <thead>\n",
       "    <tr style=\"text-align: right;\">\n",
       "      <th></th>\n",
       "      <th>Erro Real, Primeira Série</th>\n",
       "    </tr>\n",
       "  </thead>\n",
       "  <tbody>\n",
       "    <tr>\n",
       "      <th>0</th>\n",
       "      <td>3.269016e+08</td>\n",
       "    </tr>\n",
       "    <tr>\n",
       "      <th>1</th>\n",
       "      <td>4.576624e+09</td>\n",
       "    </tr>\n",
       "    <tr>\n",
       "      <th>2</th>\n",
       "      <td>3.219982e+10</td>\n",
       "    </tr>\n",
       "    <tr>\n",
       "      <th>3</th>\n",
       "      <td>1.516824e+11</td>\n",
       "    </tr>\n",
       "    <tr>\n",
       "      <th>4</th>\n",
       "      <td>5.378759e+11</td>\n",
       "    </tr>\n",
       "    <tr>\n",
       "      <th>5</th>\n",
       "      <td>1.530799e+12</td>\n",
       "    </tr>\n",
       "    <tr>\n",
       "      <th>6</th>\n",
       "      <td>3.640889e+12</td>\n",
       "    </tr>\n",
       "    <tr>\n",
       "      <th>7</th>\n",
       "      <td>7.441299e+12</td>\n",
       "    </tr>\n",
       "    <tr>\n",
       "      <th>8</th>\n",
       "      <td>1.333780e+13</td>\n",
       "    </tr>\n",
       "    <tr>\n",
       "      <th>9</th>\n",
       "      <td>2.129403e+13</td>\n",
       "    </tr>\n",
       "    <tr>\n",
       "      <th>10</th>\n",
       "      <td>3.065372e+13</td>\n",
       "    </tr>\n",
       "    <tr>\n",
       "      <th>11</th>\n",
       "      <td>4.018413e+13</td>\n",
       "    </tr>\n",
       "    <tr>\n",
       "      <th>12</th>\n",
       "      <td>4.836318e+13</td>\n",
       "    </tr>\n",
       "    <tr>\n",
       "      <th>13</th>\n",
       "      <td>5.380679e+13</td>\n",
       "    </tr>\n",
       "    <tr>\n",
       "      <th>14</th>\n",
       "      <td>5.566104e+13</td>\n",
       "    </tr>\n",
       "    <tr>\n",
       "      <th>15</th>\n",
       "      <td>5.380679e+13</td>\n",
       "    </tr>\n",
       "    <tr>\n",
       "      <th>16</th>\n",
       "      <td>4.881930e+13</td>\n",
       "    </tr>\n",
       "    <tr>\n",
       "      <th>17</th>\n",
       "      <td>4.173313e+13</td>\n",
       "    </tr>\n",
       "    <tr>\n",
       "      <th>18</th>\n",
       "      <td>3.372723e+13</td>\n",
       "    </tr>\n",
       "    <tr>\n",
       "      <th>19</th>\n",
       "      <td>2.584674e+13</td>\n",
       "    </tr>\n",
       "  </tbody>\n",
       "</table>\n",
       "</div>"
      ],
      "text/plain": [
       "    Erro Real, Primeira Série\n",
       "0                3.269016e+08\n",
       "1                4.576624e+09\n",
       "2                3.219982e+10\n",
       "3                1.516824e+11\n",
       "4                5.378759e+11\n",
       "5                1.530799e+12\n",
       "6                3.640889e+12\n",
       "7                7.441299e+12\n",
       "8                1.333780e+13\n",
       "9                2.129403e+13\n",
       "10               3.065372e+13\n",
       "11               4.018413e+13\n",
       "12               4.836318e+13\n",
       "13               5.380679e+13\n",
       "14               5.566104e+13\n",
       "15               5.380679e+13\n",
       "16               4.881930e+13\n",
       "17               4.173313e+13\n",
       "18               3.372723e+13\n",
       "19               2.584674e+13"
      ]
     },
     "execution_count": 20,
     "metadata": {},
     "output_type": "execute_result"
    }
   ],
   "source": [
    "tabela2 = pd.DataFrame(erros4)\n",
    "tabela2.index = [i for i in range(20)]\n",
    "tabela2.columns = ['Erro Real, Primeira Série']\n",
    "tabela2"
   ]
  },
  {
   "cell_type": "markdown",
   "metadata": {},
   "source": [
    "## Comparativo"
   ]
  },
  {
   "cell_type": "code",
   "execution_count": null,
   "metadata": {},
   "outputs": [],
   "source": []
  },
  {
   "cell_type": "code",
   "execution_count": null,
   "metadata": {},
   "outputs": [],
   "source": []
  },
  {
   "cell_type": "code",
   "execution_count": null,
   "metadata": {},
   "outputs": [],
   "source": []
  },
  {
   "cell_type": "code",
   "execution_count": null,
   "metadata": {},
   "outputs": [],
   "source": []
  },
  {
   "cell_type": "code",
   "execution_count": null,
   "metadata": {},
   "outputs": [],
   "source": []
  },
  {
   "cell_type": "markdown",
   "metadata": {},
   "source": [
    "## Itens"
   ]
  },
  {
   "cell_type": "code",
   "execution_count": null,
   "metadata": {},
   "outputs": [],
   "source": [
    "- Quanto é o maior erro de x = 15 em cada série?\n",
    "\n",
    "\n",
    "\n",
    "- Quantos termos se deve usar para x = 15 ter o mesmo erro que para x = 5?\n"
   ]
  },
  {
   "cell_type": "markdown",
   "metadata": {},
   "source": [
    "## Comentário\n"
   ]
  },
  {
   "cell_type": "markdown",
   "metadata": {},
   "source": [
    "Na solução de problemas de engenharia, é necessário sempre escolher o método mais apropriado para minimizar os erros."
   ]
  },
  {
   "cell_type": "markdown",
   "metadata": {},
   "source": [
    "Observando a tabela, é possível concluir que a primeira série precisa de 27 iterações para que seu erro seja menor que o erro \n",
    "do vigésimo termo da segunda série."
   ]
  },
  {
   "cell_type": "markdown",
   "metadata": {},
   "source": [
    "Assim, a resposta da segunda pergunta é que o número de termos é 27 (pois zero é um termo), no vigésimo sexto termo o erro se torna \n",
    "menor que 0,000035."
   ]
  },
  {
   "cell_type": "markdown",
   "metadata": {},
   "source": [
    "Conforme observado na leitura do capítulo 3, já era esperado que o erro da primeira série fosse maior, pois a subtração\n",
    "de números parecidos acarreta mais erros que a soma de números parecidos."
   ]
  },
  {
   "cell_type": "markdown",
   "metadata": {},
   "source": [
    "Sendo assim, a segunda série é mais adequada do ponto de vista dos erros."
   ]
  }
 ],
 "metadata": {
  "kernelspec": {
   "display_name": "Python 3",
   "language": "python",
   "name": "python3"
  },
  "language_info": {
   "codemirror_mode": {
    "name": "ipython",
    "version": 3
   },
   "file_extension": ".py",
   "mimetype": "text/x-python",
   "name": "python",
   "nbconvert_exporter": "python",
   "pygments_lexer": "ipython3",
   "version": "3.6.4"
  }
 },
 "nbformat": 4,
 "nbformat_minor": 1
}
